{
  "nbformat": 4,
  "nbformat_minor": 0,
  "metadata": {
    "anaconda-cloud": {},
    "kernelspec": {
      "display_name": "Python 3",
      "language": "python",
      "name": "python3"
    },
    "language_info": {
      "codemirror_mode": {
        "name": "ipython",
        "version": 3
      },
      "file_extension": ".py",
      "mimetype": "text/x-python",
      "name": "python",
      "nbconvert_exporter": "python",
      "pygments_lexer": "ipython3",
      "version": "3.7.3"
    },
    "colab": {
      "name": "Sesion_4.ipynb",
      "provenance": [],
      "collapsed_sections": []
    }
  },
  "cells": [
    {
      "cell_type": "markdown",
      "metadata": {
        "id": "P6U3Ap3lOCaK",
        "colab_type": "text"
      },
      "source": [
        "# Programación científica en Python: Pandas"
      ]
    },
    {
      "cell_type": "markdown",
      "metadata": {
        "id": "kmPrtGoHOCaL",
        "colab_type": "text"
      },
      "source": [
        "## Contenidos"
      ]
    },
    {
      "cell_type": "markdown",
      "metadata": {
        "id": "VsUUf4EBOCaN",
        "colab_type": "text"
      },
      "source": [
        "* [4. El paquete Pandas para análisis de datos en Python](#4.-El-paquete-Pandas-para-an%C3%A1lisis-de-datos-en-Python).\n",
        "    + [4.1 La clase `Series`](#4.1-La-clase-Series).\n",
        "        * [4.1.1 Creación de objetos de tipo `Series`](#4.1.1-Creación-de-objetos-de-tipo-Series).\n",
        "        * [4.1.2 Indexación de objetos `Series`](#4.1.2-Indexación-de-objetos-Series).\n",
        "        * [4.1.3 Operaciones con objetos `Series`](#4.1.3-Operaciones-con-objetos-Series).\n",
        "    + [4.2 La clase `DataFrame`](#4.2-La-clase-DataFrame).\n",
        "        * [4.2.1 Creación de objetos de tipo `DataFrame`](#4.2.1-Creación-de-objetos-de-tipo-DataFrame).\n",
        "        * [4.2.2 Indexación de objetos `DataFrame`](#4.2.2-Indexación-de-objetos-DataFrame).\n",
        "    + [4.3 La clase `Panel`](#4.3-La-clase-Panel).\n",
        "        * [4.3.1 Creación de objetos de tipo `Panel`](#4.3.1-Creación-de-objetos-de-tipo-Panel).\n",
        "        * [4.3.2 Indexación de objetos `Panel`](#4.3.2-Indexación-de-objetos-Panel).\n",
        "    + [4.4 Importación de datos](#4.4-Importaci%C3%B3n-de-datos).\n",
        "    + [4.5 Gestión de datos de series temporales: fechas y marcas de tiempo](#4.5-Gesti%C3%B3n-de-datos-de-series-temporales:-fechas-y-marcas-de-tiempo).\n",
        "    + [4.6 Soporte para concatenación de operaciones](#4.6-Soporte-para-concatenaci%C3%B3n-de-operaciones).\n",
        "    + [4.7 Ejemplo: Análisis de datos de servicios de taxis en NYC](#4.7-Ejemplo:-An%C3%A1lisis-de-datos-de-servicios-de-taxi-en-NYC).\n",
        "    + [4.8 Referencias](#4.8-Referencias)."
      ]
    },
    {
      "cell_type": "markdown",
      "metadata": {
        "id": "8EInl5xcOCaO",
        "colab_type": "text"
      },
      "source": [
        "# 4. El paquete Pandas para análisis de datos en Python"
      ]
    },
    {
      "cell_type": "markdown",
      "metadata": {
        "id": "psWnCNeOOCae",
        "colab_type": "text"
      },
      "source": [
        "Mientras que NumPy y SciPy proporcionan soporte para operaciones de programación científica a bajo nivel, la biblioteca [**Pandas**](http://pandas.pydata.org/pandas-docs/stable/) se sitúa en la cima del *stack* de programación científica en Python. Proporciona todas las operaciones principales para preparación de datos y limpieza, así como estructuras de datos y clases familiares para el científico de datos, tales como la clase **Series**, para **series de valores**, o la clase **DataFrame**.\n",
        "\n",
        "El nombre de la biblioteca Pandas deriva en parte de los llamados **datos de panel** (pan(el)-da(ta)-s). Esta denominación se suele utilizar con frecuencia en econometría y ciencias sociales para denominar a los datos organizados en tablas similares a las de una base de datos relacional, con un caso por cada fila y tantas columnas como variables estamos midiendo para cada caso."
      ]
    },
    {
      "cell_type": "markdown",
      "metadata": {
        "id": "376_MP2oOCag",
        "colab_type": "text"
      },
      "source": [
        "Las principales ventajas del empleo de Pandas para limpieza, preparación y análisis de datos radica en la gran flexibilidad que otorga para trabajar con **datos estructurados**, incluyendo datos procedentes de bases de datos relacionales, así como datos etiquetados.\n",
        "\n",
        "Principales aplicaciones de Pandas:\n",
        "\n",
        "* Trabajo con tablas de datos con columnas de tipos heterogéneos (pero homogéneos dentro de la misma columna), similares a los objetos `data.frame` en R.\n",
        "* Trabajo con datos de series temporales, regulares o irregulares y no necesariamente ordenadas.\n",
        "* Datos en formato matricial, con filas y columnas que pueden estar etiquetadas (de nuevo, similar a R).\n",
        "* En general, es adecuado para tratar la mayoría de conjuntos de datos que encontramos en estudios y análisis de ciencia de datos."
      ]
    },
    {
      "cell_type": "markdown",
      "metadata": {
        "id": "2sawh500OCai",
        "colab_type": "text"
      },
      "source": [
        "Entre sus **características clave** podemos destacar:\n",
        "\n",
        "* Capacidad para manejo de datos faltantes (*missing data*).\n",
        "* El tamaño de los objetos es mutable, pudiendo añadir o eliminar columnas o filas de colecciones de objetos en múltiples dimensiones.\n",
        "* Alineamiento de datos explícito, de acuerdo con una serie de etiquetas, o completamente automático.\n",
        "* Posibilidad de aplicar operaciones de tipo *split-apply-combine*, similares a la filosofía de trabajo con las bibliotecas `dplyr` y `tidyr` en el lenguaje R.\n",
        "* Potentes capacidades de indexado y creación de subconjuntos, que puede estar basado en etiquetas o categorías.\n",
        "* Capacidad de unir e integrar conjuntos de datos (operaciones tipo *join* y *union*).\n",
        "* Capacidad para cambiar tablas de datos de formato *long* a formato *wide* y viceversa (lo que se denomina *reshaping* y *pivoting* en el argot de Pandas).\n",
        "* Etiquetado jerárquico de los ejes dimensionales.\n",
        "* Gran variedad de funciones de E/S, que facilitan la lectura/escritura de ficheros de datos en diferentes formatos, tales como datos en texto plano (CSV/TSV), archivos MS Excel, bases de datos o HDF5.\n",
        "* Soprte para operaciones con series temporales, como generación de datos en intervalos, conversión de frecuencia, estadísticas o regresión lineal aplicadas sobre ventanas deslizantes, desplazamiento y retardo de los datos, etc. (muchas funciones similares a las que econtramos en el paquete `xts` de R)."
      ]
    },
    {
      "cell_type": "markdown",
      "metadata": {
        "id": "bMs1JPbyOCal",
        "colab_type": "text"
      },
      "source": [
        "La documentación de la biblioteca Pandas ofrece un [paseo introductorio de 10 mins.](http://pandas.pydata.org/pandas-docs/stable/10min.html), con ejemplos que muestran algunas de sus funciones básicas.\n",
        "\n",
        "Para comenzar a trabajar con Pandas, solo hay que importar la biblioteca siguiendo una convención similar a la de NumPy para acortar su identificador."
      ]
    },
    {
      "cell_type": "code",
      "metadata": {
        "id": "CysUVLPZOCao",
        "colab_type": "code",
        "colab": {}
      },
      "source": [
        "import numpy as np\n",
        "import pandas as pd"
      ],
      "execution_count": 0,
      "outputs": []
    },
    {
      "cell_type": "markdown",
      "metadata": {
        "id": "SwXQMaWEOCa-",
        "colab_type": "text"
      },
      "source": [
        "En una primera aproximación podemos ver los objetos de Pandas como una versión mejorada de los arrays de NumPy, en los que las filas y columnas se identifican con etiquetas en lugar de simples índices enteros.  Como veremos a lo largo del presente NoteBook, Pandas ofrece una gran cantidad de herramientas, métodos y funciones útiles para trabajar con estructuras de datos. A continuación presentemos estas tres estructuras de datos fundamentales de Pandas: **Serie**, **DataFrame** e **Index**."
      ]
    },
    {
      "cell_type": "markdown",
      "metadata": {
        "id": "RSRdIPZNOCa_",
        "colab_type": "text"
      },
      "source": [
        "## 4.1 La clase `Series`"
      ]
    },
    {
      "cell_type": "markdown",
      "metadata": {
        "id": "JVbBPzQbOCbA",
        "colab_type": "text"
      },
      "source": [
        "Los objetos de tipo `Series` contienen un **vector unidimensional de datos** (similar a un array de NumPy), pero además añaden **etiquetas que identifican a cada elemento** del vector, en lugar de usar exclusivamente un índice numérico para marcar el orden. Esto supone una gran ventaja, puesto que nos permite reordenar los valores de la serie de forma eficiente (usando las etiquetas), o encontrar valores dentro de la serie (para una etiqueta unívoca). Además, este tipo de estructura es ideal, como veremos más adelante, para gestionar **datos de series temporales**, en los que junto a cada valor tenemos la marca de fecha y hora en la que fue recogido."
      ]
    },
    {
      "cell_type": "markdown",
      "metadata": {
        "id": "GnuNxRDHOCbB",
        "colab_type": "text"
      },
      "source": [
        "### 4.1.1 Creación de objetos de tipo `Series`\n",
        "\n",
        "Los objetos de [tipo `Series`](http://pandas.pydata.org/pandas-docs/stable/dsintro.html#series) se pueden crear a partir de diversos tipos de datos de entrada, recogidos por el argumento `data`, tales como un diccionario Python, un `ndarray` de NumPy o un valor escalar.\n",
        "\n",
        "```python\n",
        "mi_serie = pd.Series(data, index=my_index)\n",
        "```\n",
        "Además, debemos proporcionar un índice con un vector de etiquetas que identifican a cada uno de los valores de la serie, recogidos por el argumento `index`. Los índices pueden ser cualquier tipo de dato: int, string, ... Esto da lugar a diferentes casos.\n",
        "Veamos como podemos definir una serie a partir de un **array unidimensional**:"
      ]
    },
    {
      "cell_type": "code",
      "metadata": {
        "id": "eqmksBd_OCbB",
        "colab_type": "code",
        "outputId": "3cfe4d29-918c-462c-b5a9-cd12afb58399",
        "colab": {
          "base_uri": "https://localhost:8080/",
          "height": 119
        }
      },
      "source": [
        "# Si data es un ndarray entonces el vector de índices debe tener\n",
        "# la misma longitud que el array de entrada, si no dará error. \n",
        "serie_1 = pd.Series(np.random.randn(5), index=['a', 'b', 'c', 'd', 'e'])\n",
        "serie_1"
      ],
      "execution_count": 0,
      "outputs": [
        {
          "output_type": "execute_result",
          "data": {
            "text/plain": [
              "a   -1.483034\n",
              "b    0.453253\n",
              "c   -1.047157\n",
              "d    1.549264\n",
              "e    1.003559\n",
              "dtype: float64"
            ]
          },
          "metadata": {
            "tags": []
          },
          "execution_count": 4
        }
      ]
    },
    {
      "cell_type": "markdown",
      "metadata": {
        "id": "FgX3LZx9OCbj",
        "colab_type": "text"
      },
      "source": [
        "El tamaño del ndarray debe coincidir con el del vector de índices. En caso de que no coincida nos dará un error."
      ]
    },
    {
      "cell_type": "code",
      "metadata": {
        "id": "EpICu5dwOCbk",
        "colab_type": "code",
        "colab": {}
      },
      "source": [
        "# El atributo index guarda el vector de etiquetas para cada\n",
        "# valor de la serie\n",
        "serie_1.index"
      ],
      "execution_count": 0,
      "outputs": []
    },
    {
      "cell_type": "code",
      "metadata": {
        "id": "TAB3VUIWOCbw",
        "colab_type": "code",
        "outputId": "95d4bedb-ed55-4b82-dcfd-a878621a700e",
        "colab": {}
      },
      "source": [
        "serie_1.keys()"
      ],
      "execution_count": 0,
      "outputs": [
        {
          "output_type": "execute_result",
          "data": {
            "text/plain": [
              "Index(['a', 'b', 'c', 'd', 'e'], dtype='object')"
            ]
          },
          "metadata": {
            "tags": []
          },
          "execution_count": 4
        }
      ]
    },
    {
      "cell_type": "code",
      "metadata": {
        "id": "P5-zr-99OCby",
        "colab_type": "code",
        "outputId": "14938a46-594a-47e8-f81c-8864e23defc8",
        "colab": {}
      },
      "source": [
        "# El vector de valores está en el atributo values\n",
        "serie_1.values"
      ],
      "execution_count": 0,
      "outputs": [
        {
          "output_type": "execute_result",
          "data": {
            "text/plain": [
              "array([-0.1138011 ,  1.94758033, -0.07803558, -0.09637585, -0.69814674])"
            ]
          },
          "metadata": {
            "tags": []
          },
          "execution_count": 5
        }
      ]
    },
    {
      "cell_type": "code",
      "metadata": {
        "id": "0cXjvGPTOCb0",
        "colab_type": "code",
        "outputId": "1cb27696-d894-49f4-ba91-e18e2338f60b",
        "colab": {}
      },
      "source": [
        "# Si no se proporciona un vector de índices, entonces se crea \n",
        "# uno automáticamente con los índices numéricos\n",
        "serie_2 = pd.Series(np.random.rand(5))\n",
        "serie_2"
      ],
      "execution_count": 0,
      "outputs": [
        {
          "output_type": "execute_result",
          "data": {
            "text/plain": [
              "0    0.258389\n",
              "1    0.509930\n",
              "2    0.173399\n",
              "3    0.575052\n",
              "4    0.983090\n",
              "dtype: float64"
            ]
          },
          "metadata": {
            "tags": []
          },
          "execution_count": 6
        }
      ]
    },
    {
      "cell_type": "markdown",
      "metadata": {
        "id": "TUIDCqeZOCb1",
        "colab_type": "text"
      },
      "source": [
        "De acuerdo a esta forma de definir una serie, la podemos ver como una generalización de un array unidimensional. La diferencia entre un array de la clase ndarray y una serie de la clase `Seire` es que en los objetos de clase `Seire` podemos definir de forma explícita el índice de cada elemento, que además puede ser no secuenciales o no contiguos."
      ]
    },
    {
      "cell_type": "code",
      "metadata": {
        "id": "nvqOzlv0OCb2",
        "colab_type": "code",
        "outputId": "aa674189-7259-4704-a780-2b85c6afe512",
        "colab": {}
      },
      "source": [
        "serie_3 = pd.Series([0.25, 0.5, 0.75, 1.0], index=[2, 5, 3, 7]) \n",
        "serie_3"
      ],
      "execution_count": 0,
      "outputs": [
        {
          "output_type": "execute_result",
          "data": {
            "text/plain": [
              "2    0.25\n",
              "5    0.50\n",
              "3    0.75\n",
              "7    1.00\n",
              "dtype: float64"
            ]
          },
          "metadata": {
            "tags": []
          },
          "execution_count": 7
        }
      ]
    },
    {
      "cell_type": "markdown",
      "metadata": {
        "id": "K29Z51AEOCb5",
        "colab_type": "text"
      },
      "source": [
        "Otra forma típica de definir una serie es a partir de un **diccionario**:"
      ]
    },
    {
      "cell_type": "code",
      "metadata": {
        "id": "mGRJKOUSOCb6",
        "colab_type": "code",
        "outputId": "560a64ea-3c0f-49f3-8de4-941c0e3f72c6",
        "colab": {}
      },
      "source": [
        "# Definición de una serie a partir de un diccionario\n",
        "d = {'a': 1., 'b': 2., 'c': 3.0, 'd': 4. }\n",
        "pd.Series(d)"
      ],
      "execution_count": 0,
      "outputs": [
        {
          "output_type": "execute_result",
          "data": {
            "text/plain": [
              "a    1.0\n",
              "b    2.0\n",
              "c    3.0\n",
              "d    4.0\n",
              "dtype: float64"
            ]
          },
          "metadata": {
            "tags": []
          },
          "execution_count": 8
        }
      ]
    },
    {
      "cell_type": "code",
      "metadata": {
        "id": "81Vgd0jYOCb8",
        "colab_type": "code",
        "outputId": "a21f6ce3-f11f-4fc1-a685-b21169d43b4b",
        "colab": {}
      },
      "source": [
        "# Si data es un diccionario, entonces si pasamos un vector de\n",
        "# índices se usará para tomar los elementos del diccionario de\n",
        "# datos que se correspondan con las etiquetas proporcionadas,\n",
        "# en el mismo orden que indique el vector de índices\n",
        "# En caso de que algún índice no tenga valor, pondrá NaN\n",
        "pd.Series(d, index = ['e', 'd', 'c', 'f', 'b', 'a'])"
      ],
      "execution_count": 0,
      "outputs": [
        {
          "output_type": "execute_result",
          "data": {
            "text/plain": [
              "e    NaN\n",
              "d    4.0\n",
              "c    3.0\n",
              "f    NaN\n",
              "b    2.0\n",
              "a    1.0\n",
              "dtype: float64"
            ]
          },
          "metadata": {
            "tags": []
          },
          "execution_count": 9
        }
      ]
    },
    {
      "cell_type": "markdown",
      "metadata": {
        "id": "fru-LLZsOCcN",
        "colab_type": "text"
      },
      "source": [
        "Como decíamos al principio, también podemos construir una `Serie` a partir de un **valor escalar**. En este caso debe especificarse un array de índices y el valor escalar se repetirá tantas veces como índices haya."
      ]
    },
    {
      "cell_type": "code",
      "metadata": {
        "id": "KByS5EoXOCcZ",
        "colab_type": "code",
        "outputId": "d3d6c491-52f5-4cb7-ed16-a9ee375c892f",
        "colab": {}
      },
      "source": [
        "pd.Series(3.5, index=['a', 'b', 'c', 'd'])"
      ],
      "execution_count": 0,
      "outputs": [
        {
          "output_type": "execute_result",
          "data": {
            "text/plain": [
              "a    3.5\n",
              "b    3.5\n",
              "c    3.5\n",
              "d    3.5\n",
              "dtype: float64"
            ]
          },
          "metadata": {
            "tags": []
          },
          "execution_count": 10
        }
      ]
    },
    {
      "cell_type": "code",
      "metadata": {
        "id": "QEVwVGzmOCca",
        "colab_type": "code",
        "outputId": "2fd89c44-86fa-41e5-94d1-61debf85577f",
        "colab": {}
      },
      "source": [
        "# Finalmente, también podemos poner un nombre a la serie de valores\n",
        "# y de índices con los argumentos name e index.name\n",
        "serie_2.name = \"Serie 2\"\n",
        "serie_2.index.name = \"Ordinal\"\n",
        "serie_2"
      ],
      "execution_count": 0,
      "outputs": [
        {
          "output_type": "execute_result",
          "data": {
            "text/plain": [
              "Ordinal\n",
              "0    0.258389\n",
              "1    0.509930\n",
              "2    0.173399\n",
              "3    0.575052\n",
              "4    0.983090\n",
              "Name: Serie 2, dtype: float64"
            ]
          },
          "metadata": {
            "tags": []
          },
          "execution_count": 11
        }
      ]
    },
    {
      "cell_type": "markdown",
      "metadata": {
        "id": "USH9fEBdOCcm",
        "colab_type": "text"
      },
      "source": [
        "### 4.1.2 Indexación de objetos `Series`"
      ]
    },
    {
      "cell_type": "markdown",
      "metadata": {
        "id": "XeEMJssROCcm",
        "colab_type": "text"
      },
      "source": [
        "Las operaciones de indexación sobre el contenido de objetos de tipo `Series` son similares a las que podemos aplicar en arrays de NumPy: usando índices numéricos (individuales o *slicing* para intervalos), filtros con expresiones booleanas, etc. Adicionalmente, puesto que tenemos un vector de etiquetas análogo a los valores de la serie, que identifica a cada valor, también podemos usar estas etiquetas para indexar el contenido de estos objetos como si se tratase de un diccionario Python. Además, esta opción tiene la ventaja añadida de ser rápida (baja complejidad computacional) y el código queda muy legible, al usar identificadores con sentido para acceder a los valores."
      ]
    },
    {
      "cell_type": "code",
      "metadata": {
        "id": "UExY7sUiOCcn",
        "colab_type": "code",
        "outputId": "bd78cf4d-e816-4c48-afe8-95587f7def9e",
        "colab": {}
      },
      "source": [
        "# Indexamos empleando posiciones numércias individuales \n",
        "# Accedemos a un úncio elemento\n",
        "serie_1[0]"
      ],
      "execution_count": 0,
      "outputs": [
        {
          "output_type": "execute_result",
          "data": {
            "text/plain": [
              "-0.11380109993004527"
            ]
          },
          "metadata": {
            "tags": []
          },
          "execution_count": 12
        }
      ]
    },
    {
      "cell_type": "code",
      "metadata": {
        "id": "07-e5NHlOCcq",
        "colab_type": "code",
        "outputId": "05d49cb2-66e5-4ad2-b95a-4e4d972857c2",
        "colab": {}
      },
      "source": [
        "# Indexamos empleando slicing\n",
        "# Accedemos a un subconjunto mediante posiciones numéricas\n",
        "# OJO: el último índice NO se incluye\n",
        "serie_1[2:5]"
      ],
      "execution_count": 0,
      "outputs": [
        {
          "output_type": "execute_result",
          "data": {
            "text/plain": [
              "c   -0.078036\n",
              "d   -0.096376\n",
              "e   -0.698147\n",
              "dtype: float64"
            ]
          },
          "metadata": {
            "tags": []
          },
          "execution_count": 13
        }
      ]
    },
    {
      "cell_type": "code",
      "metadata": {
        "id": "vvQyl8E6OCcr",
        "colab_type": "code",
        "outputId": "6006002f-8efe-46ec-b05b-49c535be133d",
        "colab": {}
      },
      "source": [
        "# Indexación directa mediante etiquetas de índices\n",
        "# Accedemos a dos elementos concretos\n",
        "serie_1[['a', 'b']]"
      ],
      "execution_count": 0,
      "outputs": [
        {
          "output_type": "execute_result",
          "data": {
            "text/plain": [
              "a   -0.113801\n",
              "b    1.947580\n",
              "dtype: float64"
            ]
          },
          "metadata": {
            "tags": []
          },
          "execution_count": 14
        }
      ]
    },
    {
      "cell_type": "code",
      "metadata": {
        "id": "SJA7nKueOCcu",
        "colab_type": "code",
        "outputId": "7aa23034-9204-439f-8683-553ec58bf5c7",
        "colab": {}
      },
      "source": [
        "# Slicing mediante etiquetas\n",
        "# OJO: el último índice SI se incluye\n",
        "serie_1['a':'c']"
      ],
      "execution_count": 0,
      "outputs": [
        {
          "output_type": "execute_result",
          "data": {
            "text/plain": [
              "a   -0.113801\n",
              "b    1.947580\n",
              "c   -0.078036\n",
              "dtype: float64"
            ]
          },
          "metadata": {
            "tags": []
          },
          "execution_count": 15
        }
      ]
    },
    {
      "cell_type": "code",
      "metadata": {
        "id": "PoFTssnbOCcw",
        "colab_type": "code",
        "outputId": "fc91bd2b-4680-4966-8993-8d77e075bbf4",
        "colab": {}
      },
      "source": [
        "# Ejemplo de Funcy Indexing\n",
        "serie_1[['a','e']]"
      ],
      "execution_count": 0,
      "outputs": [
        {
          "output_type": "execute_result",
          "data": {
            "text/plain": [
              "a   -0.113801\n",
              "e   -0.698147\n",
              "dtype: float64"
            ]
          },
          "metadata": {
            "tags": []
          },
          "execution_count": 16
        }
      ]
    },
    {
      "cell_type": "markdown",
      "metadata": {
        "id": "8B5f8u79OCdK",
        "colab_type": "text"
      },
      "source": [
        "Resultan intersantes los atributos `loc` e `iloc` ya que nos permiten realizar indexación y slicing bien indicándoles las etiquetas de las filas o bien mediante el uso de offset numérico."
      ]
    },
    {
      "cell_type": "code",
      "metadata": {
        "id": "1HhtYwtkOCdL",
        "colab_type": "code",
        "outputId": "e15de433-50ea-4409-fe64-b7252ed9e2b3",
        "colab": {
          "base_uri": "https://localhost:8080/",
          "height": 34
        }
      },
      "source": [
        "# Obtenemos el elemento etiquetado por 'a'\n",
        "serie_1.loc['a']"
      ],
      "execution_count": 0,
      "outputs": [
        {
          "output_type": "execute_result",
          "data": {
            "text/plain": [
              "-1.4830342807166128"
            ]
          },
          "metadata": {
            "tags": []
          },
          "execution_count": 6
        }
      ]
    },
    {
      "cell_type": "code",
      "metadata": {
        "id": "yeTHpcDiOCdM",
        "colab_type": "code",
        "outputId": "4fe9b79c-7176-4f90-daf4-eb491bfa8627",
        "colab": {}
      },
      "source": [
        "# Obtenemos el elemento que se encuentra en la posición 0\n",
        "serie_1.iloc[0]"
      ],
      "execution_count": 0,
      "outputs": [
        {
          "output_type": "execute_result",
          "data": {
            "text/plain": [
              "-0.11380109993004527"
            ]
          },
          "metadata": {
            "tags": []
          },
          "execution_count": 18
        }
      ]
    },
    {
      "cell_type": "code",
      "metadata": {
        "id": "YyORBCBBOCdg",
        "colab_type": "code",
        "outputId": "6775ba51-c1a1-46e9-9a4f-004f15f61290",
        "colab": {}
      },
      "source": [
        "# Obtenemos los elementos con las etiquetas dentro\n",
        "# del rango indicando\n",
        "serie_1.loc['a':'c']"
      ],
      "execution_count": 0,
      "outputs": [
        {
          "output_type": "execute_result",
          "data": {
            "text/plain": [
              "a   -0.113801\n",
              "b    1.947580\n",
              "c   -0.078036\n",
              "dtype: float64"
            ]
          },
          "metadata": {
            "tags": []
          },
          "execution_count": 19
        }
      ]
    },
    {
      "cell_type": "code",
      "metadata": {
        "id": "kYMaVEyeOCdr",
        "colab_type": "code",
        "outputId": "20e532ab-c34c-4719-db14-d1bbf6dc22d2",
        "colab": {}
      },
      "source": [
        "# Obtenemos los elementos que se encuentran en el offset\n",
        "# dentro del rango especificado\n",
        "serie_1.iloc[0:3]"
      ],
      "execution_count": 0,
      "outputs": [
        {
          "output_type": "execute_result",
          "data": {
            "text/plain": [
              "a   -0.113801\n",
              "b    1.947580\n",
              "c   -0.078036\n",
              "dtype: float64"
            ]
          },
          "metadata": {
            "tags": []
          },
          "execution_count": 20
        }
      ]
    },
    {
      "cell_type": "markdown",
      "metadata": {
        "id": "KDGdDr7cOCds",
        "colab_type": "text"
      },
      "source": [
        "También se pueden utilizar **máscaras** para seleccionar un determinado conjunto de valores."
      ]
    },
    {
      "cell_type": "code",
      "metadata": {
        "id": "z-bZ8QQmOCdt",
        "colab_type": "code",
        "outputId": "4c6c3c2f-2c90-4726-b322-321445d64661",
        "colab": {}
      },
      "source": [
        "# Ejemplo de máscara\n",
        "# Indexación empleando una expresión booleana\n",
        "serie_1[serie_1 < 0]"
      ],
      "execution_count": 0,
      "outputs": [
        {
          "output_type": "execute_result",
          "data": {
            "text/plain": [
              "a   -0.113801\n",
              "c   -0.078036\n",
              "d   -0.096376\n",
              "e   -0.698147\n",
              "dtype: float64"
            ]
          },
          "metadata": {
            "tags": []
          },
          "execution_count": 21
        }
      ]
    },
    {
      "cell_type": "code",
      "metadata": {
        "id": "xzJ6ch0dOCdu",
        "colab_type": "code",
        "outputId": "6a5b593b-4abf-4abe-f46c-5b8b8a33e439",
        "colab": {}
      },
      "source": [
        "# Ejemplo de máscara\n",
        "# También podemos usar expresiones más complejas\n",
        "serie_2[serie_2 > serie_2.median()]"
      ],
      "execution_count": 0,
      "outputs": [
        {
          "output_type": "execute_result",
          "data": {
            "text/plain": [
              "Ordinal\n",
              "3    0.575052\n",
              "4    0.983090\n",
              "Name: Serie 2, dtype: float64"
            ]
          },
          "metadata": {
            "tags": []
          },
          "execution_count": 22
        }
      ]
    },
    {
      "cell_type": "markdown",
      "metadata": {
        "id": "L5BpleqlOCdv",
        "colab_type": "text"
      },
      "source": [
        "Además, si nos fijamos bien en los resultados de los ejemplos anteriores podemos comprobar cómo no solo obtenemos un subconjunto de los valores, sino también del vector de índices. Es decir, el *slicing* de la indexación se aplica a ambos arrays (valores e índices) dentro del objeto `Series`. De esta forma, indexamos sin perder ninguna de las propiedades del objeto (que sigue siendo de tipo `Series`)."
      ]
    },
    {
      "cell_type": "markdown",
      "metadata": {
        "id": "JS-XmXvWOCdx",
        "colab_type": "text"
      },
      "source": [
        "Una `Serie` también puede ser modificada **añadiendo** nuevos elementos:"
      ]
    },
    {
      "cell_type": "code",
      "metadata": {
        "id": "iNFj-_7JOCdy",
        "colab_type": "code",
        "outputId": "591b7f51-f1ff-466e-f53e-e52c41edd1ea",
        "colab": {}
      },
      "source": [
        "serie_1['f'] = 1.25893\n",
        "serie_1"
      ],
      "execution_count": 0,
      "outputs": [
        {
          "output_type": "execute_result",
          "data": {
            "text/plain": [
              "a   -0.113801\n",
              "b    1.947580\n",
              "c   -0.078036\n",
              "d   -0.096376\n",
              "e   -0.698147\n",
              "f    1.258930\n",
              "dtype: float64"
            ]
          },
          "metadata": {
            "tags": []
          },
          "execution_count": 23
        }
      ]
    },
    {
      "cell_type": "markdown",
      "metadata": {
        "id": "IiNxQ41aOCdz",
        "colab_type": "text"
      },
      "source": [
        "También podemos preguntar si un determinado índice se encuentra dentro de la `Serie`."
      ]
    },
    {
      "cell_type": "code",
      "metadata": {
        "id": "TaJokBe1OCdz",
        "colab_type": "code",
        "outputId": "b1e43a18-c236-4fc4-e5f0-372a081d0d92",
        "colab": {}
      },
      "source": [
        "'f' in serie_1"
      ],
      "execution_count": 0,
      "outputs": [
        {
          "output_type": "execute_result",
          "data": {
            "text/plain": [
              "True"
            ]
          },
          "metadata": {
            "tags": []
          },
          "execution_count": 24
        }
      ]
    },
    {
      "cell_type": "markdown",
      "metadata": {
        "id": "aXj6I6KZOCd0",
        "colab_type": "text"
      },
      "source": [
        "### 4.1.3 Operaciones con objetos `Series`\n",
        "\n",
        "Es posible efectuar operaciones aritméticas o aplicar funciones a los valores almacenados en objetos de tipo `Series`, al igual que también podemos hacer con arrays de NumPy. Veamos algunos ejemplos:"
      ]
    },
    {
      "cell_type": "code",
      "metadata": {
        "id": "QWISUv8TOCd1",
        "colab_type": "code",
        "outputId": "07cf9937-2db5-46cd-d1d5-661c25027a10",
        "colab": {}
      },
      "source": [
        "np.log10(serie_2)"
      ],
      "execution_count": 0,
      "outputs": [
        {
          "output_type": "execute_result",
          "data": {
            "text/plain": [
              "Ordinal\n",
              "0   -0.587725\n",
              "1   -0.292489\n",
              "2   -0.760953\n",
              "3   -0.240293\n",
              "4   -0.007407\n",
              "Name: Serie 2, dtype: float64"
            ]
          },
          "metadata": {
            "tags": []
          },
          "execution_count": 25
        }
      ]
    },
    {
      "cell_type": "code",
      "metadata": {
        "id": "h5qyVfU5OCd2",
        "colab_type": "code",
        "outputId": "772bf0fe-07cf-4315-f8fe-39ebcb720094",
        "colab": {}
      },
      "source": [
        "# Suma elemento a elemento, fijándonos en las etiquetas\n",
        "# para efectuar el emparejamiento\n",
        "serie_1 + serie_1"
      ],
      "execution_count": 0,
      "outputs": [
        {
          "output_type": "execute_result",
          "data": {
            "text/plain": [
              "a   -0.227602\n",
              "b    3.895161\n",
              "c   -0.156071\n",
              "d   -0.192752\n",
              "e   -1.396293\n",
              "f    2.517860\n",
              "dtype: float64"
            ]
          },
          "metadata": {
            "tags": []
          },
          "execution_count": 26
        }
      ]
    },
    {
      "cell_type": "markdown",
      "metadata": {
        "id": "2TyHZpzDOCd3",
        "colab_type": "text"
      },
      "source": [
        "Una diferencia fundamental entre Series y ndarray es que las operaciones entre series realizan una **alineación automáticamente** de los datos en función de su etiqueta. Por lo tanto, podremos realizar cálculos sin tener en cuenta si las Series involucradas tienen las mismas etiquetas. Veamos un ejemplo:"
      ]
    },
    {
      "cell_type": "code",
      "metadata": {
        "id": "LhRZfhCMOCd3",
        "colab_type": "code",
        "outputId": "ac774270-d39a-4d08-96b2-5f753f6a5581",
        "colab": {}
      },
      "source": [
        "serie_A = pd.Series({'a':0.1, 'c':0.3, 'd':0.5, 'f':0.7})\n",
        "print(serie_A)\n",
        "serie_B = pd.Series({'a':0.8, 'b':0.4, 'd':0.6, 'e':0.1})\n",
        "print(serie_B)\n",
        "print(serie_A + serie_B)"
      ],
      "execution_count": 0,
      "outputs": [
        {
          "output_type": "stream",
          "text": [
            "a    0.1\n",
            "c    0.3\n",
            "d    0.5\n",
            "f    0.7\n",
            "dtype: float64\n",
            "a    0.8\n",
            "b    0.4\n",
            "d    0.6\n",
            "e    0.1\n",
            "dtype: float64\n",
            "a    0.9\n",
            "b    NaN\n",
            "c    NaN\n",
            "d    1.1\n",
            "e    NaN\n",
            "f    NaN\n",
            "dtype: float64\n"
          ],
          "name": "stdout"
        }
      ]
    },
    {
      "cell_type": "markdown",
      "metadata": {
        "id": "lg8s5TihOCd_",
        "colab_type": "text"
      },
      "source": [
        "## 4.2 La clase `DataFrame`"
      ]
    },
    {
      "cell_type": "markdown",
      "metadata": {
        "id": "0SamroWAOCd_",
        "colab_type": "text"
      },
      "source": [
        "La [clase `DataFrame`](http://pandas.pydata.org/pandas-docs/stable/dsintro.html#dataframe) de Pandas define una estructura de almacenamiento y tratamiento de datos completamente análoga a la ofrecida por los objetos `data.frame` en R. Se trata de una tabla de valores organizados por filas y columnas que están etiquetadas. También podemos ver los `DataFrame` como un **array 2-D con etiquetas**, que pueden ser de cualquier tipo, tomando valores enteros por defecto. Los nombres de las columnas corresponden a cada una de las variables disponibles, mientras que cada fila corresponde a un caso. Al igual que ocurría en R, si no tenemos valores para alguna de estas celdas tenemos un **dato faltante** y el hueco queda marcado explícitamente. Por tanto, se trata de un tipo de datos estructurado."
      ]
    },
    {
      "cell_type": "markdown",
      "metadata": {
        "id": "CE6FvhOaOCd_",
        "colab_type": "text"
      },
      "source": [
        "### 4.2.1 Creación de objetos de tipo `DataFrame`"
      ]
    },
    {
      "cell_type": "markdown",
      "metadata": {
        "id": "lvgS-ba_OCeA",
        "colab_type": "text"
      },
      "source": [
        "Podemos crear objetos `DataFrame` a partir de diversos tipos de datos de entrada, incluyendo listas y diccionarios Python, objetos de tipo `ndarray` de NumPy, o también a partir de otros objetos `Series` o `DataFrame` de Pandas. Tanto las filas como las columnas suelen estar etiquetadas, especialmente las columnas, ya que identifican las variables que estamos midiendo en el análisis.\n",
        "Como un `DataFrame`se puede construir de diversas maneras, veamos algunos ejemplos:"
      ]
    },
    {
      "cell_type": "markdown",
      "metadata": {
        "id": "vXM-_tTNOCeA",
        "colab_type": "text"
      },
      "source": [
        "Construcción de un `DataFrame` a partir de un **diccionario**:"
      ]
    },
    {
      "cell_type": "code",
      "metadata": {
        "id": "_iwRz2ghOCeA",
        "colab_type": "code",
        "outputId": "7262ecd6-1e59-43cd-b485-706209b3c6fd",
        "colab": {}
      },
      "source": [
        "# Definimos los datos de entrada de formas diferentes para ilustrar\n",
        "# algunos de los posibles formatos admitidos\n",
        "\n",
        "# En caso de introducir un solo valor para alguna columna, el valor\n",
        "# se replica tantas veces como sea preciso para rellenar la columna\n",
        "data_1 = {\n",
        "    'year': [2010, 2011, 2012, 2013, 2014] * 2,\n",
        "    'group': ['A'] * 5 + ['B'] * 5,\n",
        "    'intake': (55.3, 55.4, 55.3, 55.5, 54.4, 56.6, 57.7, 55.4, 57.9, 56),\n",
        "    'output': 1.1,\n",
        "    'collate': np.array([15, 5, 10, 40, 20, 12, 12, 12, 12, 12]),\n",
        "    'gender': \"M\"\n",
        "}\n",
        "df_1 = pd.DataFrame(data_1)\n",
        "df_1"
      ],
      "execution_count": 0,
      "outputs": [
        {
          "output_type": "execute_result",
          "data": {
            "text/html": [
              "<div>\n",
              "<style scoped>\n",
              "    .dataframe tbody tr th:only-of-type {\n",
              "        vertical-align: middle;\n",
              "    }\n",
              "\n",
              "    .dataframe tbody tr th {\n",
              "        vertical-align: top;\n",
              "    }\n",
              "\n",
              "    .dataframe thead th {\n",
              "        text-align: right;\n",
              "    }\n",
              "</style>\n",
              "<table border=\"1\" class=\"dataframe\">\n",
              "  <thead>\n",
              "    <tr style=\"text-align: right;\">\n",
              "      <th></th>\n",
              "      <th>year</th>\n",
              "      <th>group</th>\n",
              "      <th>intake</th>\n",
              "      <th>output</th>\n",
              "      <th>collate</th>\n",
              "      <th>gender</th>\n",
              "    </tr>\n",
              "  </thead>\n",
              "  <tbody>\n",
              "    <tr>\n",
              "      <th>0</th>\n",
              "      <td>2010</td>\n",
              "      <td>A</td>\n",
              "      <td>55.3</td>\n",
              "      <td>1.1</td>\n",
              "      <td>15</td>\n",
              "      <td>M</td>\n",
              "    </tr>\n",
              "    <tr>\n",
              "      <th>1</th>\n",
              "      <td>2011</td>\n",
              "      <td>A</td>\n",
              "      <td>55.4</td>\n",
              "      <td>1.1</td>\n",
              "      <td>5</td>\n",
              "      <td>M</td>\n",
              "    </tr>\n",
              "    <tr>\n",
              "      <th>2</th>\n",
              "      <td>2012</td>\n",
              "      <td>A</td>\n",
              "      <td>55.3</td>\n",
              "      <td>1.1</td>\n",
              "      <td>10</td>\n",
              "      <td>M</td>\n",
              "    </tr>\n",
              "    <tr>\n",
              "      <th>3</th>\n",
              "      <td>2013</td>\n",
              "      <td>A</td>\n",
              "      <td>55.5</td>\n",
              "      <td>1.1</td>\n",
              "      <td>40</td>\n",
              "      <td>M</td>\n",
              "    </tr>\n",
              "    <tr>\n",
              "      <th>4</th>\n",
              "      <td>2014</td>\n",
              "      <td>A</td>\n",
              "      <td>54.4</td>\n",
              "      <td>1.1</td>\n",
              "      <td>20</td>\n",
              "      <td>M</td>\n",
              "    </tr>\n",
              "    <tr>\n",
              "      <th>5</th>\n",
              "      <td>2010</td>\n",
              "      <td>B</td>\n",
              "      <td>56.6</td>\n",
              "      <td>1.1</td>\n",
              "      <td>12</td>\n",
              "      <td>M</td>\n",
              "    </tr>\n",
              "    <tr>\n",
              "      <th>6</th>\n",
              "      <td>2011</td>\n",
              "      <td>B</td>\n",
              "      <td>57.7</td>\n",
              "      <td>1.1</td>\n",
              "      <td>12</td>\n",
              "      <td>M</td>\n",
              "    </tr>\n",
              "    <tr>\n",
              "      <th>7</th>\n",
              "      <td>2012</td>\n",
              "      <td>B</td>\n",
              "      <td>55.4</td>\n",
              "      <td>1.1</td>\n",
              "      <td>12</td>\n",
              "      <td>M</td>\n",
              "    </tr>\n",
              "    <tr>\n",
              "      <th>8</th>\n",
              "      <td>2013</td>\n",
              "      <td>B</td>\n",
              "      <td>57.9</td>\n",
              "      <td>1.1</td>\n",
              "      <td>12</td>\n",
              "      <td>M</td>\n",
              "    </tr>\n",
              "    <tr>\n",
              "      <th>9</th>\n",
              "      <td>2014</td>\n",
              "      <td>B</td>\n",
              "      <td>56.0</td>\n",
              "      <td>1.1</td>\n",
              "      <td>12</td>\n",
              "      <td>M</td>\n",
              "    </tr>\n",
              "  </tbody>\n",
              "</table>\n",
              "</div>"
            ],
            "text/plain": [
              "   year group  intake  output  collate gender\n",
              "0  2010     A    55.3     1.1       15      M\n",
              "1  2011     A    55.4     1.1        5      M\n",
              "2  2012     A    55.3     1.1       10      M\n",
              "3  2013     A    55.5     1.1       40      M\n",
              "4  2014     A    54.4     1.1       20      M\n",
              "5  2010     B    56.6     1.1       12      M\n",
              "6  2011     B    57.7     1.1       12      M\n",
              "7  2012     B    55.4     1.1       12      M\n",
              "8  2013     B    57.9     1.1       12      M\n",
              "9  2014     B    56.0     1.1       12      M"
            ]
          },
          "metadata": {
            "tags": []
          },
          "execution_count": 28
        }
      ]
    },
    {
      "cell_type": "code",
      "metadata": {
        "id": "3LHyHv5COCeC",
        "colab_type": "code",
        "outputId": "e82afea3-10a8-4986-d9be-0a450d26e686",
        "colab": {}
      },
      "source": [
        "# Listado de columnas en el DataFrame\n",
        "df_1.columns"
      ],
      "execution_count": 0,
      "outputs": [
        {
          "output_type": "execute_result",
          "data": {
            "text/plain": [
              "Index(['year', 'group', 'intake', 'output', 'collate', 'gender'], dtype='object')"
            ]
          },
          "metadata": {
            "tags": []
          },
          "execution_count": 29
        }
      ]
    },
    {
      "cell_type": "code",
      "metadata": {
        "id": "FWApfhcLOCeQ",
        "colab_type": "code",
        "outputId": "41343ccc-2906-44bd-c5df-31d2824d4586",
        "colab": {}
      },
      "source": [
        "# Listado de índices de las filas\n",
        "df_1.index"
      ],
      "execution_count": 0,
      "outputs": [
        {
          "output_type": "execute_result",
          "data": {
            "text/plain": [
              "RangeIndex(start=0, stop=10, step=1)"
            ]
          },
          "metadata": {
            "tags": []
          },
          "execution_count": 30
        }
      ]
    },
    {
      "cell_type": "markdown",
      "metadata": {
        "id": "McVA5b9xOCeR",
        "colab_type": "text"
      },
      "source": [
        "Construcción de un `DataFrame` a partir de un **subconjunto** de columnas de otro **`DataFrame`**:"
      ]
    },
    {
      "cell_type": "code",
      "metadata": {
        "id": "hjMzptjHOCeR",
        "colab_type": "code",
        "outputId": "2ecb4e9a-b531-45d0-ee8b-d29a5f6af818",
        "colab": {}
      },
      "source": [
        "# En caso de que haya columnas que no existan\n",
        "# se rellena con marca de dato faltante 'NaN'\n",
        "df_2 = pd.DataFrame(df_1, columns=['collate', 'group', 'intake', 'genotype'])\n",
        "df_2"
      ],
      "execution_count": 0,
      "outputs": [
        {
          "output_type": "execute_result",
          "data": {
            "text/html": [
              "<div>\n",
              "<style scoped>\n",
              "    .dataframe tbody tr th:only-of-type {\n",
              "        vertical-align: middle;\n",
              "    }\n",
              "\n",
              "    .dataframe tbody tr th {\n",
              "        vertical-align: top;\n",
              "    }\n",
              "\n",
              "    .dataframe thead th {\n",
              "        text-align: right;\n",
              "    }\n",
              "</style>\n",
              "<table border=\"1\" class=\"dataframe\">\n",
              "  <thead>\n",
              "    <tr style=\"text-align: right;\">\n",
              "      <th></th>\n",
              "      <th>collate</th>\n",
              "      <th>group</th>\n",
              "      <th>intake</th>\n",
              "      <th>genotype</th>\n",
              "    </tr>\n",
              "  </thead>\n",
              "  <tbody>\n",
              "    <tr>\n",
              "      <th>0</th>\n",
              "      <td>15</td>\n",
              "      <td>A</td>\n",
              "      <td>55.3</td>\n",
              "      <td>NaN</td>\n",
              "    </tr>\n",
              "    <tr>\n",
              "      <th>1</th>\n",
              "      <td>5</td>\n",
              "      <td>A</td>\n",
              "      <td>55.4</td>\n",
              "      <td>NaN</td>\n",
              "    </tr>\n",
              "    <tr>\n",
              "      <th>2</th>\n",
              "      <td>10</td>\n",
              "      <td>A</td>\n",
              "      <td>55.3</td>\n",
              "      <td>NaN</td>\n",
              "    </tr>\n",
              "    <tr>\n",
              "      <th>3</th>\n",
              "      <td>40</td>\n",
              "      <td>A</td>\n",
              "      <td>55.5</td>\n",
              "      <td>NaN</td>\n",
              "    </tr>\n",
              "    <tr>\n",
              "      <th>4</th>\n",
              "      <td>20</td>\n",
              "      <td>A</td>\n",
              "      <td>54.4</td>\n",
              "      <td>NaN</td>\n",
              "    </tr>\n",
              "    <tr>\n",
              "      <th>5</th>\n",
              "      <td>12</td>\n",
              "      <td>B</td>\n",
              "      <td>56.6</td>\n",
              "      <td>NaN</td>\n",
              "    </tr>\n",
              "    <tr>\n",
              "      <th>6</th>\n",
              "      <td>12</td>\n",
              "      <td>B</td>\n",
              "      <td>57.7</td>\n",
              "      <td>NaN</td>\n",
              "    </tr>\n",
              "    <tr>\n",
              "      <th>7</th>\n",
              "      <td>12</td>\n",
              "      <td>B</td>\n",
              "      <td>55.4</td>\n",
              "      <td>NaN</td>\n",
              "    </tr>\n",
              "    <tr>\n",
              "      <th>8</th>\n",
              "      <td>12</td>\n",
              "      <td>B</td>\n",
              "      <td>57.9</td>\n",
              "      <td>NaN</td>\n",
              "    </tr>\n",
              "    <tr>\n",
              "      <th>9</th>\n",
              "      <td>12</td>\n",
              "      <td>B</td>\n",
              "      <td>56.0</td>\n",
              "      <td>NaN</td>\n",
              "    </tr>\n",
              "  </tbody>\n",
              "</table>\n",
              "</div>"
            ],
            "text/plain": [
              "   collate group  intake  genotype\n",
              "0       15     A    55.3       NaN\n",
              "1        5     A    55.4       NaN\n",
              "2       10     A    55.3       NaN\n",
              "3       40     A    55.5       NaN\n",
              "4       20     A    54.4       NaN\n",
              "5       12     B    56.6       NaN\n",
              "6       12     B    57.7       NaN\n",
              "7       12     B    55.4       NaN\n",
              "8       12     B    57.9       NaN\n",
              "9       12     B    56.0       NaN"
            ]
          },
          "metadata": {
            "tags": []
          },
          "execution_count": 31
        }
      ]
    },
    {
      "cell_type": "markdown",
      "metadata": {
        "id": "j9XAtdBYOCeS",
        "colab_type": "text"
      },
      "source": [
        "Construcción de un `DataFrame` a partir de una **`Serie`**:"
      ]
    },
    {
      "cell_type": "code",
      "metadata": {
        "id": "JQDmS4psOCed",
        "colab_type": "code",
        "outputId": "18aa2381-69a2-4c69-a38c-e54e6de7778d",
        "colab": {}
      },
      "source": [
        "# A partir de un solo Serie\n",
        "population_dict = {'California':36332521,'Texas':26448193,\n",
        "                   'New York':19651127,'Florida':19552860,\n",
        "                   'Illinois':12882135}\n",
        "population = pd.Series(population_dict)\n",
        "df_population = pd.DataFrame(population, columns=['population'])\n",
        "df_population"
      ],
      "execution_count": 0,
      "outputs": [
        {
          "output_type": "execute_result",
          "data": {
            "text/html": [
              "<div>\n",
              "<style scoped>\n",
              "    .dataframe tbody tr th:only-of-type {\n",
              "        vertical-align: middle;\n",
              "    }\n",
              "\n",
              "    .dataframe tbody tr th {\n",
              "        vertical-align: top;\n",
              "    }\n",
              "\n",
              "    .dataframe thead th {\n",
              "        text-align: right;\n",
              "    }\n",
              "</style>\n",
              "<table border=\"1\" class=\"dataframe\">\n",
              "  <thead>\n",
              "    <tr style=\"text-align: right;\">\n",
              "      <th></th>\n",
              "      <th>population</th>\n",
              "    </tr>\n",
              "  </thead>\n",
              "  <tbody>\n",
              "    <tr>\n",
              "      <th>California</th>\n",
              "      <td>36332521</td>\n",
              "    </tr>\n",
              "    <tr>\n",
              "      <th>Texas</th>\n",
              "      <td>26448193</td>\n",
              "    </tr>\n",
              "    <tr>\n",
              "      <th>New York</th>\n",
              "      <td>19651127</td>\n",
              "    </tr>\n",
              "    <tr>\n",
              "      <th>Florida</th>\n",
              "      <td>19552860</td>\n",
              "    </tr>\n",
              "    <tr>\n",
              "      <th>Illinois</th>\n",
              "      <td>12882135</td>\n",
              "    </tr>\n",
              "  </tbody>\n",
              "</table>\n",
              "</div>"
            ],
            "text/plain": [
              "            population\n",
              "California    36332521\n",
              "Texas         26448193\n",
              "New York      19651127\n",
              "Florida       19552860\n",
              "Illinois      12882135"
            ]
          },
          "metadata": {
            "tags": []
          },
          "execution_count": 32
        }
      ]
    },
    {
      "cell_type": "code",
      "metadata": {
        "id": "FTc8kds2OCee",
        "colab_type": "code",
        "outputId": "7384bb82-a553-45e7-dc19-1d4455e623ec",
        "colab": {}
      },
      "source": [
        "# A partir de dos Series, es decir, a partir de un diccionario de objetos Series\n",
        "# Los datos faltantes siempre los marca como NaN\n",
        "area_dict = {'California':423967,'Texas':695662,\n",
        "             'New York':141297,'Illinois':149995}\n",
        "area = pd.Series(area_dict)\n",
        "df_states = pd.DataFrame({'population':population, 'area':area})\n",
        "df_states"
      ],
      "execution_count": 0,
      "outputs": [
        {
          "output_type": "execute_result",
          "data": {
            "text/html": [
              "<div>\n",
              "<style scoped>\n",
              "    .dataframe tbody tr th:only-of-type {\n",
              "        vertical-align: middle;\n",
              "    }\n",
              "\n",
              "    .dataframe tbody tr th {\n",
              "        vertical-align: top;\n",
              "    }\n",
              "\n",
              "    .dataframe thead th {\n",
              "        text-align: right;\n",
              "    }\n",
              "</style>\n",
              "<table border=\"1\" class=\"dataframe\">\n",
              "  <thead>\n",
              "    <tr style=\"text-align: right;\">\n",
              "      <th></th>\n",
              "      <th>population</th>\n",
              "      <th>area</th>\n",
              "    </tr>\n",
              "  </thead>\n",
              "  <tbody>\n",
              "    <tr>\n",
              "      <th>California</th>\n",
              "      <td>36332521</td>\n",
              "      <td>423967.0</td>\n",
              "    </tr>\n",
              "    <tr>\n",
              "      <th>Florida</th>\n",
              "      <td>19552860</td>\n",
              "      <td>NaN</td>\n",
              "    </tr>\n",
              "    <tr>\n",
              "      <th>Illinois</th>\n",
              "      <td>12882135</td>\n",
              "      <td>149995.0</td>\n",
              "    </tr>\n",
              "    <tr>\n",
              "      <th>New York</th>\n",
              "      <td>19651127</td>\n",
              "      <td>141297.0</td>\n",
              "    </tr>\n",
              "    <tr>\n",
              "      <th>Texas</th>\n",
              "      <td>26448193</td>\n",
              "      <td>695662.0</td>\n",
              "    </tr>\n",
              "  </tbody>\n",
              "</table>\n",
              "</div>"
            ],
            "text/plain": [
              "            population      area\n",
              "California    36332521  423967.0\n",
              "Florida       19552860       NaN\n",
              "Illinois      12882135  149995.0\n",
              "New York      19651127  141297.0\n",
              "Texas         26448193  695662.0"
            ]
          },
          "metadata": {
            "tags": []
          },
          "execution_count": 33
        }
      ]
    },
    {
      "cell_type": "markdown",
      "metadata": {
        "id": "aVowLsfYOCef",
        "colab_type": "text"
      },
      "source": [
        "Atendiendo a esta forma de definir un `DataFrame` podemos verlo como un contenedor de objetos `Series`."
      ]
    },
    {
      "cell_type": "markdown",
      "metadata": {
        "id": "MrF6RfnBOCef",
        "colab_type": "text"
      },
      "source": [
        "Construcción de un DataFrame a partir de un **array 2-D de `NumPy`**:"
      ]
    },
    {
      "cell_type": "code",
      "metadata": {
        "id": "e85jG6m9OCef",
        "colab_type": "code",
        "outputId": "4236a98b-eced-43d9-d867-ee6a2b025c10",
        "colab": {}
      },
      "source": [
        "# Array multidimensional de 3 filas y 2 columnas\n",
        "pd.DataFrame(np.random.rand(3,2), columns=['col1', 'col2'], index=['a', 'b', 'c'])"
      ],
      "execution_count": 0,
      "outputs": [
        {
          "output_type": "execute_result",
          "data": {
            "text/html": [
              "<div>\n",
              "<style scoped>\n",
              "    .dataframe tbody tr th:only-of-type {\n",
              "        vertical-align: middle;\n",
              "    }\n",
              "\n",
              "    .dataframe tbody tr th {\n",
              "        vertical-align: top;\n",
              "    }\n",
              "\n",
              "    .dataframe thead th {\n",
              "        text-align: right;\n",
              "    }\n",
              "</style>\n",
              "<table border=\"1\" class=\"dataframe\">\n",
              "  <thead>\n",
              "    <tr style=\"text-align: right;\">\n",
              "      <th></th>\n",
              "      <th>col1</th>\n",
              "      <th>col2</th>\n",
              "    </tr>\n",
              "  </thead>\n",
              "  <tbody>\n",
              "    <tr>\n",
              "      <th>a</th>\n",
              "      <td>0.325236</td>\n",
              "      <td>0.158458</td>\n",
              "    </tr>\n",
              "    <tr>\n",
              "      <th>b</th>\n",
              "      <td>0.175766</td>\n",
              "      <td>0.013471</td>\n",
              "    </tr>\n",
              "    <tr>\n",
              "      <th>c</th>\n",
              "      <td>0.091110</td>\n",
              "      <td>0.076466</td>\n",
              "    </tr>\n",
              "  </tbody>\n",
              "</table>\n",
              "</div>"
            ],
            "text/plain": [
              "       col1      col2\n",
              "a  0.325236  0.158458\n",
              "b  0.175766  0.013471\n",
              "c  0.091110  0.076466"
            ]
          },
          "metadata": {
            "tags": []
          },
          "execution_count": 34
        }
      ]
    },
    {
      "cell_type": "markdown",
      "metadata": {
        "id": "ZFuOwpiTOCeg",
        "colab_type": "text"
      },
      "source": [
        "### 4.2.2 Indexación de objetos `DataFrame`"
      ]
    },
    {
      "cell_type": "markdown",
      "metadata": {
        "id": "JhS3lndMOCeg",
        "colab_type": "text"
      },
      "source": [
        "Es posible indexar tanto subconjuntos de filas como de columnas. Para ello, podemos usar la sintáxis típica de *slicing* en Python (con índices numéricos) o bien utilizar los nombres de filas o columnas (si se han asignado). Resulta obvio pensar que si se selecciona una fila o una columna (ya sea por su etiqueta o por su índice), el resultado será otro objeto de la clase `Series`. Si se selecciona un subconjunto del `DataFrame` el resultado será otro `DataFrame`. "
      ]
    },
    {
      "cell_type": "code",
      "metadata": {
        "id": "hSCnZjuZOCeg",
        "colab_type": "code",
        "outputId": "09795e22-7165-47e0-d779-35c4b6a62881",
        "colab": {}
      },
      "source": [
        "# Indexación por nombre de columna\n",
        "df_1['collate']"
      ],
      "execution_count": 0,
      "outputs": [
        {
          "output_type": "execute_result",
          "data": {
            "text/plain": [
              "0    15\n",
              "1     5\n",
              "2    10\n",
              "3    40\n",
              "4    20\n",
              "5    12\n",
              "6    12\n",
              "7    12\n",
              "8    12\n",
              "9    12\n",
              "Name: collate, dtype: int32"
            ]
          },
          "metadata": {
            "tags": []
          },
          "execution_count": 35
        }
      ]
    },
    {
      "cell_type": "code",
      "metadata": {
        "id": "bWQLEK40OCej",
        "colab_type": "code",
        "outputId": "5017d8a5-ba9c-4e10-bc62-52f13f79aeca",
        "colab": {}
      },
      "source": [
        "# El resultado de la indexación es un objeto de tipo Series\n",
        "type(df_1['collate'])"
      ],
      "execution_count": 0,
      "outputs": [
        {
          "output_type": "execute_result",
          "data": {
            "text/plain": [
              "pandas.core.series.Series"
            ]
          },
          "metadata": {
            "tags": []
          },
          "execution_count": 36
        }
      ]
    },
    {
      "cell_type": "markdown",
      "metadata": {
        "id": "_izxqUq-OCek",
        "colab_type": "text"
      },
      "source": [
        "Puede que de una columna solo nos interesen algunas filas. Para realizar esta operación, además de indicar el nombre de la columna tendremos que indicar las filas como se muestra en el siguiente ejemplo:"
      ]
    },
    {
      "cell_type": "code",
      "metadata": {
        "id": "cDlCjrLnOCek",
        "colab_type": "code",
        "outputId": "3a331e91-4b29-4ae0-cf1c-381d69960e49",
        "colab": {}
      },
      "source": [
        "df_1['group'][:4]"
      ],
      "execution_count": 0,
      "outputs": [
        {
          "output_type": "execute_result",
          "data": {
            "text/plain": [
              "0    A\n",
              "1    A\n",
              "2    A\n",
              "3    A\n",
              "Name: group, dtype: object"
            ]
          },
          "metadata": {
            "tags": []
          },
          "execution_count": 37
        }
      ]
    },
    {
      "cell_type": "markdown",
      "metadata": {
        "id": "aH79P2V9OCel",
        "colab_type": "text"
      },
      "source": [
        "Si interpretamos un `DataFrame` como un array 2-D, nos puede resultar interesante obtener la matriz de datos subyacente mediante el uso del atributo `values`."
      ]
    },
    {
      "cell_type": "code",
      "metadata": {
        "id": "mVtWwzNQOCel",
        "colab_type": "code",
        "outputId": "1a68a99a-f6fc-4963-b697-8280911c0f3a",
        "colab": {}
      },
      "source": [
        "# Podemos obtener un array con todos los valores del DataFrame\n",
        "df_2.values"
      ],
      "execution_count": 0,
      "outputs": [
        {
          "output_type": "execute_result",
          "data": {
            "text/plain": [
              "array([[15, 'A', 55.3, nan],\n",
              "       [5, 'A', 55.4, nan],\n",
              "       [10, 'A', 55.3, nan],\n",
              "       [40, 'A', 55.5, nan],\n",
              "       [20, 'A', 54.4, nan],\n",
              "       [12, 'B', 56.6, nan],\n",
              "       [12, 'B', 57.7, nan],\n",
              "       [12, 'B', 55.4, nan],\n",
              "       [12, 'B', 57.9, nan],\n",
              "       [12, 'B', 56.0, nan]], dtype=object)"
            ]
          },
          "metadata": {
            "tags": []
          },
          "execution_count": 38
        }
      ]
    },
    {
      "cell_type": "code",
      "metadata": {
        "id": "tt3ZkhC-OCem",
        "colab_type": "code",
        "outputId": "1b0b0dbb-d486-46ac-de3d-cba36e24ee78",
        "colab": {}
      },
      "source": [
        "# Podemos obtener los arrays que forman las filas\n",
        "df_2.values[0]"
      ],
      "execution_count": 0,
      "outputs": [
        {
          "output_type": "execute_result",
          "data": {
            "text/plain": [
              "array([15, 'A', 55.3, nan], dtype=object)"
            ]
          },
          "metadata": {
            "tags": []
          },
          "execution_count": 39
        }
      ]
    },
    {
      "cell_type": "code",
      "metadata": {
        "scrolled": true,
        "id": "QKRxunI3OCen",
        "colab_type": "code",
        "outputId": "478c01bf-6012-4876-ead7-09cdfdf4f29e",
        "colab": {}
      },
      "source": [
        "# La reindexación consiste en crear un nuevo objeto con sus índices\n",
        "# siguiendo una nueva ordenación. También permite añadir o eliminar columnas\n",
        "df_3 = df_2.reindex(columns=['intake', 'collate', 'group', 'genotype'])\n",
        "df_3"
      ],
      "execution_count": 0,
      "outputs": [
        {
          "output_type": "execute_result",
          "data": {
            "text/html": [
              "<div>\n",
              "<style scoped>\n",
              "    .dataframe tbody tr th:only-of-type {\n",
              "        vertical-align: middle;\n",
              "    }\n",
              "\n",
              "    .dataframe tbody tr th {\n",
              "        vertical-align: top;\n",
              "    }\n",
              "\n",
              "    .dataframe thead th {\n",
              "        text-align: right;\n",
              "    }\n",
              "</style>\n",
              "<table border=\"1\" class=\"dataframe\">\n",
              "  <thead>\n",
              "    <tr style=\"text-align: right;\">\n",
              "      <th></th>\n",
              "      <th>intake</th>\n",
              "      <th>collate</th>\n",
              "      <th>group</th>\n",
              "      <th>genotype</th>\n",
              "    </tr>\n",
              "  </thead>\n",
              "  <tbody>\n",
              "    <tr>\n",
              "      <th>0</th>\n",
              "      <td>55.3</td>\n",
              "      <td>15</td>\n",
              "      <td>A</td>\n",
              "      <td>NaN</td>\n",
              "    </tr>\n",
              "    <tr>\n",
              "      <th>1</th>\n",
              "      <td>55.4</td>\n",
              "      <td>5</td>\n",
              "      <td>A</td>\n",
              "      <td>NaN</td>\n",
              "    </tr>\n",
              "    <tr>\n",
              "      <th>2</th>\n",
              "      <td>55.3</td>\n",
              "      <td>10</td>\n",
              "      <td>A</td>\n",
              "      <td>NaN</td>\n",
              "    </tr>\n",
              "    <tr>\n",
              "      <th>3</th>\n",
              "      <td>55.5</td>\n",
              "      <td>40</td>\n",
              "      <td>A</td>\n",
              "      <td>NaN</td>\n",
              "    </tr>\n",
              "    <tr>\n",
              "      <th>4</th>\n",
              "      <td>54.4</td>\n",
              "      <td>20</td>\n",
              "      <td>A</td>\n",
              "      <td>NaN</td>\n",
              "    </tr>\n",
              "    <tr>\n",
              "      <th>5</th>\n",
              "      <td>56.6</td>\n",
              "      <td>12</td>\n",
              "      <td>B</td>\n",
              "      <td>NaN</td>\n",
              "    </tr>\n",
              "    <tr>\n",
              "      <th>6</th>\n",
              "      <td>57.7</td>\n",
              "      <td>12</td>\n",
              "      <td>B</td>\n",
              "      <td>NaN</td>\n",
              "    </tr>\n",
              "    <tr>\n",
              "      <th>7</th>\n",
              "      <td>55.4</td>\n",
              "      <td>12</td>\n",
              "      <td>B</td>\n",
              "      <td>NaN</td>\n",
              "    </tr>\n",
              "    <tr>\n",
              "      <th>8</th>\n",
              "      <td>57.9</td>\n",
              "      <td>12</td>\n",
              "      <td>B</td>\n",
              "      <td>NaN</td>\n",
              "    </tr>\n",
              "    <tr>\n",
              "      <th>9</th>\n",
              "      <td>56.0</td>\n",
              "      <td>12</td>\n",
              "      <td>B</td>\n",
              "      <td>NaN</td>\n",
              "    </tr>\n",
              "  </tbody>\n",
              "</table>\n",
              "</div>"
            ],
            "text/plain": [
              "   intake  collate group  genotype\n",
              "0    55.3       15     A       NaN\n",
              "1    55.4        5     A       NaN\n",
              "2    55.3       10     A       NaN\n",
              "3    55.5       40     A       NaN\n",
              "4    54.4       20     A       NaN\n",
              "5    56.6       12     B       NaN\n",
              "6    57.7       12     B       NaN\n",
              "7    55.4       12     B       NaN\n",
              "8    57.9       12     B       NaN\n",
              "9    56.0       12     B       NaN"
            ]
          },
          "metadata": {
            "tags": []
          },
          "execution_count": 40
        }
      ]
    },
    {
      "cell_type": "markdown",
      "metadata": {
        "id": "k3KXcbeOOCen",
        "colab_type": "text"
      },
      "source": [
        "Resultan intersantes los atributos `loc` e `iloc` ya que nos permiten realizar slicing bien indicándoles el nombre de las filas y las columnas o bien indicáncoles los índices de las filas y las columnas."
      ]
    },
    {
      "cell_type": "code",
      "metadata": {
        "id": "8GtxPi5GOCeo",
        "colab_type": "code",
        "outputId": "26a8fe8d-b012-4503-cc2a-2d89044867f5",
        "colab": {}
      },
      "source": [
        "# Ejemplo de uso del atributo loc\n",
        "df_states.loc[:'Illinois', :'population']"
      ],
      "execution_count": 0,
      "outputs": [
        {
          "output_type": "execute_result",
          "data": {
            "text/html": [
              "<div>\n",
              "<style scoped>\n",
              "    .dataframe tbody tr th:only-of-type {\n",
              "        vertical-align: middle;\n",
              "    }\n",
              "\n",
              "    .dataframe tbody tr th {\n",
              "        vertical-align: top;\n",
              "    }\n",
              "\n",
              "    .dataframe thead th {\n",
              "        text-align: right;\n",
              "    }\n",
              "</style>\n",
              "<table border=\"1\" class=\"dataframe\">\n",
              "  <thead>\n",
              "    <tr style=\"text-align: right;\">\n",
              "      <th></th>\n",
              "      <th>population</th>\n",
              "    </tr>\n",
              "  </thead>\n",
              "  <tbody>\n",
              "    <tr>\n",
              "      <th>California</th>\n",
              "      <td>36332521</td>\n",
              "    </tr>\n",
              "    <tr>\n",
              "      <th>Florida</th>\n",
              "      <td>19552860</td>\n",
              "    </tr>\n",
              "    <tr>\n",
              "      <th>Illinois</th>\n",
              "      <td>12882135</td>\n",
              "    </tr>\n",
              "  </tbody>\n",
              "</table>\n",
              "</div>"
            ],
            "text/plain": [
              "            population\n",
              "California    36332521\n",
              "Florida       19552860\n",
              "Illinois      12882135"
            ]
          },
          "metadata": {
            "tags": []
          },
          "execution_count": 41
        }
      ]
    },
    {
      "cell_type": "code",
      "metadata": {
        "id": "TS4rDUHzOCex",
        "colab_type": "code",
        "outputId": "bd2d6d79-b01d-4355-9672-4999717a3c10",
        "colab": {}
      },
      "source": [
        "# Ejemplo de uso del atributo iloc\n",
        "df_states.iloc[:3, :2]"
      ],
      "execution_count": 0,
      "outputs": [
        {
          "output_type": "execute_result",
          "data": {
            "text/html": [
              "<div>\n",
              "<style scoped>\n",
              "    .dataframe tbody tr th:only-of-type {\n",
              "        vertical-align: middle;\n",
              "    }\n",
              "\n",
              "    .dataframe tbody tr th {\n",
              "        vertical-align: top;\n",
              "    }\n",
              "\n",
              "    .dataframe thead th {\n",
              "        text-align: right;\n",
              "    }\n",
              "</style>\n",
              "<table border=\"1\" class=\"dataframe\">\n",
              "  <thead>\n",
              "    <tr style=\"text-align: right;\">\n",
              "      <th></th>\n",
              "      <th>population</th>\n",
              "      <th>area</th>\n",
              "    </tr>\n",
              "  </thead>\n",
              "  <tbody>\n",
              "    <tr>\n",
              "      <th>California</th>\n",
              "      <td>36332521</td>\n",
              "      <td>423967.0</td>\n",
              "    </tr>\n",
              "    <tr>\n",
              "      <th>Florida</th>\n",
              "      <td>19552860</td>\n",
              "      <td>NaN</td>\n",
              "    </tr>\n",
              "    <tr>\n",
              "      <th>Illinois</th>\n",
              "      <td>12882135</td>\n",
              "      <td>149995.0</td>\n",
              "    </tr>\n",
              "  </tbody>\n",
              "</table>\n",
              "</div>"
            ],
            "text/plain": [
              "            population      area\n",
              "California    36332521  423967.0\n",
              "Florida       19552860       NaN\n",
              "Illinois      12882135  149995.0"
            ]
          },
          "metadata": {
            "tags": []
          },
          "execution_count": 42
        }
      ]
    },
    {
      "cell_type": "markdown",
      "metadata": {
        "id": "jVO2zTRgOCfO",
        "colab_type": "text"
      },
      "source": [
        "Los `DataFrame` se pueden modificar añadiendo o eliminando filas o columnas."
      ]
    },
    {
      "cell_type": "code",
      "metadata": {
        "id": "QZCEPiYdOCfO",
        "colab_type": "code",
        "outputId": "c7ae2432-d1d1-476a-fdf6-36479ef559f8",
        "colab": {}
      },
      "source": [
        "# También podemos eliminar filas o columnas\n",
        "# Ejemplo de eliminación de una columna\n",
        "df_3 = df_3.drop('genotype', axis=1)\n",
        "df_3"
      ],
      "execution_count": 0,
      "outputs": [
        {
          "output_type": "execute_result",
          "data": {
            "text/html": [
              "<div>\n",
              "<style scoped>\n",
              "    .dataframe tbody tr th:only-of-type {\n",
              "        vertical-align: middle;\n",
              "    }\n",
              "\n",
              "    .dataframe tbody tr th {\n",
              "        vertical-align: top;\n",
              "    }\n",
              "\n",
              "    .dataframe thead th {\n",
              "        text-align: right;\n",
              "    }\n",
              "</style>\n",
              "<table border=\"1\" class=\"dataframe\">\n",
              "  <thead>\n",
              "    <tr style=\"text-align: right;\">\n",
              "      <th></th>\n",
              "      <th>intake</th>\n",
              "      <th>collate</th>\n",
              "      <th>group</th>\n",
              "    </tr>\n",
              "  </thead>\n",
              "  <tbody>\n",
              "    <tr>\n",
              "      <th>0</th>\n",
              "      <td>55.3</td>\n",
              "      <td>15</td>\n",
              "      <td>A</td>\n",
              "    </tr>\n",
              "    <tr>\n",
              "      <th>1</th>\n",
              "      <td>55.4</td>\n",
              "      <td>5</td>\n",
              "      <td>A</td>\n",
              "    </tr>\n",
              "    <tr>\n",
              "      <th>2</th>\n",
              "      <td>55.3</td>\n",
              "      <td>10</td>\n",
              "      <td>A</td>\n",
              "    </tr>\n",
              "    <tr>\n",
              "      <th>3</th>\n",
              "      <td>55.5</td>\n",
              "      <td>40</td>\n",
              "      <td>A</td>\n",
              "    </tr>\n",
              "    <tr>\n",
              "      <th>4</th>\n",
              "      <td>54.4</td>\n",
              "      <td>20</td>\n",
              "      <td>A</td>\n",
              "    </tr>\n",
              "    <tr>\n",
              "      <th>5</th>\n",
              "      <td>56.6</td>\n",
              "      <td>12</td>\n",
              "      <td>B</td>\n",
              "    </tr>\n",
              "    <tr>\n",
              "      <th>6</th>\n",
              "      <td>57.7</td>\n",
              "      <td>12</td>\n",
              "      <td>B</td>\n",
              "    </tr>\n",
              "    <tr>\n",
              "      <th>7</th>\n",
              "      <td>55.4</td>\n",
              "      <td>12</td>\n",
              "      <td>B</td>\n",
              "    </tr>\n",
              "    <tr>\n",
              "      <th>8</th>\n",
              "      <td>57.9</td>\n",
              "      <td>12</td>\n",
              "      <td>B</td>\n",
              "    </tr>\n",
              "    <tr>\n",
              "      <th>9</th>\n",
              "      <td>56.0</td>\n",
              "      <td>12</td>\n",
              "      <td>B</td>\n",
              "    </tr>\n",
              "  </tbody>\n",
              "</table>\n",
              "</div>"
            ],
            "text/plain": [
              "   intake  collate group\n",
              "0    55.3       15     A\n",
              "1    55.4        5     A\n",
              "2    55.3       10     A\n",
              "3    55.5       40     A\n",
              "4    54.4       20     A\n",
              "5    56.6       12     B\n",
              "6    57.7       12     B\n",
              "7    55.4       12     B\n",
              "8    57.9       12     B\n",
              "9    56.0       12     B"
            ]
          },
          "metadata": {
            "tags": []
          },
          "execution_count": 43
        }
      ]
    },
    {
      "cell_type": "code",
      "metadata": {
        "id": "lNTKQIoFOCfP",
        "colab_type": "code",
        "outputId": "baea6cde-7684-456a-aad3-cc0397d50e3c",
        "colab": {}
      },
      "source": [
        "# Ejemplo de eliminación de una fila\n",
        "df_3 = df_3.drop(2, axis=0)\n",
        "df_3"
      ],
      "execution_count": 0,
      "outputs": [
        {
          "output_type": "execute_result",
          "data": {
            "text/html": [
              "<div>\n",
              "<style scoped>\n",
              "    .dataframe tbody tr th:only-of-type {\n",
              "        vertical-align: middle;\n",
              "    }\n",
              "\n",
              "    .dataframe tbody tr th {\n",
              "        vertical-align: top;\n",
              "    }\n",
              "\n",
              "    .dataframe thead th {\n",
              "        text-align: right;\n",
              "    }\n",
              "</style>\n",
              "<table border=\"1\" class=\"dataframe\">\n",
              "  <thead>\n",
              "    <tr style=\"text-align: right;\">\n",
              "      <th></th>\n",
              "      <th>intake</th>\n",
              "      <th>collate</th>\n",
              "      <th>group</th>\n",
              "    </tr>\n",
              "  </thead>\n",
              "  <tbody>\n",
              "    <tr>\n",
              "      <th>0</th>\n",
              "      <td>55.3</td>\n",
              "      <td>15</td>\n",
              "      <td>A</td>\n",
              "    </tr>\n",
              "    <tr>\n",
              "      <th>1</th>\n",
              "      <td>55.4</td>\n",
              "      <td>5</td>\n",
              "      <td>A</td>\n",
              "    </tr>\n",
              "    <tr>\n",
              "      <th>3</th>\n",
              "      <td>55.5</td>\n",
              "      <td>40</td>\n",
              "      <td>A</td>\n",
              "    </tr>\n",
              "    <tr>\n",
              "      <th>4</th>\n",
              "      <td>54.4</td>\n",
              "      <td>20</td>\n",
              "      <td>A</td>\n",
              "    </tr>\n",
              "    <tr>\n",
              "      <th>5</th>\n",
              "      <td>56.6</td>\n",
              "      <td>12</td>\n",
              "      <td>B</td>\n",
              "    </tr>\n",
              "    <tr>\n",
              "      <th>6</th>\n",
              "      <td>57.7</td>\n",
              "      <td>12</td>\n",
              "      <td>B</td>\n",
              "    </tr>\n",
              "    <tr>\n",
              "      <th>7</th>\n",
              "      <td>55.4</td>\n",
              "      <td>12</td>\n",
              "      <td>B</td>\n",
              "    </tr>\n",
              "    <tr>\n",
              "      <th>8</th>\n",
              "      <td>57.9</td>\n",
              "      <td>12</td>\n",
              "      <td>B</td>\n",
              "    </tr>\n",
              "    <tr>\n",
              "      <th>9</th>\n",
              "      <td>56.0</td>\n",
              "      <td>12</td>\n",
              "      <td>B</td>\n",
              "    </tr>\n",
              "  </tbody>\n",
              "</table>\n",
              "</div>"
            ],
            "text/plain": [
              "   intake  collate group\n",
              "0    55.3       15     A\n",
              "1    55.4        5     A\n",
              "3    55.5       40     A\n",
              "4    54.4       20     A\n",
              "5    56.6       12     B\n",
              "6    57.7       12     B\n",
              "7    55.4       12     B\n",
              "8    57.9       12     B\n",
              "9    56.0       12     B"
            ]
          },
          "metadata": {
            "tags": []
          },
          "execution_count": 44
        }
      ]
    },
    {
      "cell_type": "code",
      "metadata": {
        "id": "6xZB3Yb2OCfQ",
        "colab_type": "code",
        "outputId": "01c566a3-3572-406f-d2d5-2beaa81c5c0b",
        "colab": {}
      },
      "source": [
        "# Ejemplo de añadir una columna\n",
        "df_3['genotype'] = df_3['intake']/df_3['collate']\n",
        "df_3"
      ],
      "execution_count": 0,
      "outputs": [
        {
          "output_type": "execute_result",
          "data": {
            "text/html": [
              "<div>\n",
              "<style scoped>\n",
              "    .dataframe tbody tr th:only-of-type {\n",
              "        vertical-align: middle;\n",
              "    }\n",
              "\n",
              "    .dataframe tbody tr th {\n",
              "        vertical-align: top;\n",
              "    }\n",
              "\n",
              "    .dataframe thead th {\n",
              "        text-align: right;\n",
              "    }\n",
              "</style>\n",
              "<table border=\"1\" class=\"dataframe\">\n",
              "  <thead>\n",
              "    <tr style=\"text-align: right;\">\n",
              "      <th></th>\n",
              "      <th>intake</th>\n",
              "      <th>collate</th>\n",
              "      <th>group</th>\n",
              "      <th>genotype</th>\n",
              "    </tr>\n",
              "  </thead>\n",
              "  <tbody>\n",
              "    <tr>\n",
              "      <th>0</th>\n",
              "      <td>55.3</td>\n",
              "      <td>15</td>\n",
              "      <td>A</td>\n",
              "      <td>3.686667</td>\n",
              "    </tr>\n",
              "    <tr>\n",
              "      <th>1</th>\n",
              "      <td>55.4</td>\n",
              "      <td>5</td>\n",
              "      <td>A</td>\n",
              "      <td>11.080000</td>\n",
              "    </tr>\n",
              "    <tr>\n",
              "      <th>3</th>\n",
              "      <td>55.5</td>\n",
              "      <td>40</td>\n",
              "      <td>A</td>\n",
              "      <td>1.387500</td>\n",
              "    </tr>\n",
              "    <tr>\n",
              "      <th>4</th>\n",
              "      <td>54.4</td>\n",
              "      <td>20</td>\n",
              "      <td>A</td>\n",
              "      <td>2.720000</td>\n",
              "    </tr>\n",
              "    <tr>\n",
              "      <th>5</th>\n",
              "      <td>56.6</td>\n",
              "      <td>12</td>\n",
              "      <td>B</td>\n",
              "      <td>4.716667</td>\n",
              "    </tr>\n",
              "    <tr>\n",
              "      <th>6</th>\n",
              "      <td>57.7</td>\n",
              "      <td>12</td>\n",
              "      <td>B</td>\n",
              "      <td>4.808333</td>\n",
              "    </tr>\n",
              "    <tr>\n",
              "      <th>7</th>\n",
              "      <td>55.4</td>\n",
              "      <td>12</td>\n",
              "      <td>B</td>\n",
              "      <td>4.616667</td>\n",
              "    </tr>\n",
              "    <tr>\n",
              "      <th>8</th>\n",
              "      <td>57.9</td>\n",
              "      <td>12</td>\n",
              "      <td>B</td>\n",
              "      <td>4.825000</td>\n",
              "    </tr>\n",
              "    <tr>\n",
              "      <th>9</th>\n",
              "      <td>56.0</td>\n",
              "      <td>12</td>\n",
              "      <td>B</td>\n",
              "      <td>4.666667</td>\n",
              "    </tr>\n",
              "  </tbody>\n",
              "</table>\n",
              "</div>"
            ],
            "text/plain": [
              "   intake  collate group   genotype\n",
              "0    55.3       15     A   3.686667\n",
              "1    55.4        5     A  11.080000\n",
              "3    55.5       40     A   1.387500\n",
              "4    54.4       20     A   2.720000\n",
              "5    56.6       12     B   4.716667\n",
              "6    57.7       12     B   4.808333\n",
              "7    55.4       12     B   4.616667\n",
              "8    57.9       12     B   4.825000\n",
              "9    56.0       12     B   4.666667"
            ]
          },
          "metadata": {
            "tags": []
          },
          "execution_count": 45
        }
      ]
    },
    {
      "cell_type": "code",
      "metadata": {
        "id": "X6XX7yrlOCfR",
        "colab_type": "code",
        "outputId": "41b5edd0-1636-4143-aa02-0fbc28146e0d",
        "colab": {}
      },
      "source": [
        "# Ejemplo de añadir una fila\n",
        "df_3.loc[10] = {'intake':56.3, 'collate':11, 'group':'C', 'genotype':5.1181}\n",
        "df_3"
      ],
      "execution_count": 0,
      "outputs": [
        {
          "output_type": "execute_result",
          "data": {
            "text/html": [
              "<div>\n",
              "<style scoped>\n",
              "    .dataframe tbody tr th:only-of-type {\n",
              "        vertical-align: middle;\n",
              "    }\n",
              "\n",
              "    .dataframe tbody tr th {\n",
              "        vertical-align: top;\n",
              "    }\n",
              "\n",
              "    .dataframe thead th {\n",
              "        text-align: right;\n",
              "    }\n",
              "</style>\n",
              "<table border=\"1\" class=\"dataframe\">\n",
              "  <thead>\n",
              "    <tr style=\"text-align: right;\">\n",
              "      <th></th>\n",
              "      <th>intake</th>\n",
              "      <th>collate</th>\n",
              "      <th>group</th>\n",
              "      <th>genotype</th>\n",
              "    </tr>\n",
              "  </thead>\n",
              "  <tbody>\n",
              "    <tr>\n",
              "      <th>0</th>\n",
              "      <td>55.3</td>\n",
              "      <td>15</td>\n",
              "      <td>A</td>\n",
              "      <td>3.686667</td>\n",
              "    </tr>\n",
              "    <tr>\n",
              "      <th>1</th>\n",
              "      <td>55.4</td>\n",
              "      <td>5</td>\n",
              "      <td>A</td>\n",
              "      <td>11.080000</td>\n",
              "    </tr>\n",
              "    <tr>\n",
              "      <th>3</th>\n",
              "      <td>55.5</td>\n",
              "      <td>40</td>\n",
              "      <td>A</td>\n",
              "      <td>1.387500</td>\n",
              "    </tr>\n",
              "    <tr>\n",
              "      <th>4</th>\n",
              "      <td>54.4</td>\n",
              "      <td>20</td>\n",
              "      <td>A</td>\n",
              "      <td>2.720000</td>\n",
              "    </tr>\n",
              "    <tr>\n",
              "      <th>5</th>\n",
              "      <td>56.6</td>\n",
              "      <td>12</td>\n",
              "      <td>B</td>\n",
              "      <td>4.716667</td>\n",
              "    </tr>\n",
              "    <tr>\n",
              "      <th>6</th>\n",
              "      <td>57.7</td>\n",
              "      <td>12</td>\n",
              "      <td>B</td>\n",
              "      <td>4.808333</td>\n",
              "    </tr>\n",
              "    <tr>\n",
              "      <th>7</th>\n",
              "      <td>55.4</td>\n",
              "      <td>12</td>\n",
              "      <td>B</td>\n",
              "      <td>4.616667</td>\n",
              "    </tr>\n",
              "    <tr>\n",
              "      <th>8</th>\n",
              "      <td>57.9</td>\n",
              "      <td>12</td>\n",
              "      <td>B</td>\n",
              "      <td>4.825000</td>\n",
              "    </tr>\n",
              "    <tr>\n",
              "      <th>9</th>\n",
              "      <td>56.0</td>\n",
              "      <td>12</td>\n",
              "      <td>B</td>\n",
              "      <td>4.666667</td>\n",
              "    </tr>\n",
              "    <tr>\n",
              "      <th>10</th>\n",
              "      <td>56.3</td>\n",
              "      <td>11</td>\n",
              "      <td>C</td>\n",
              "      <td>5.118100</td>\n",
              "    </tr>\n",
              "  </tbody>\n",
              "</table>\n",
              "</div>"
            ],
            "text/plain": [
              "    intake  collate group   genotype\n",
              "0     55.3       15     A   3.686667\n",
              "1     55.4        5     A  11.080000\n",
              "3     55.5       40     A   1.387500\n",
              "4     54.4       20     A   2.720000\n",
              "5     56.6       12     B   4.716667\n",
              "6     57.7       12     B   4.808333\n",
              "7     55.4       12     B   4.616667\n",
              "8     57.9       12     B   4.825000\n",
              "9     56.0       12     B   4.666667\n",
              "10    56.3       11     C   5.118100"
            ]
          },
          "metadata": {
            "tags": []
          },
          "execution_count": 46
        }
      ]
    },
    {
      "cell_type": "markdown",
      "metadata": {
        "id": "Hq6BrYS1OCfS",
        "colab_type": "text"
      },
      "source": [
        "También es posible el uso de **máscaras** para seleccionar los datos que cumplan con una determinada condición, la cual se indica mediante una expresión lógica."
      ]
    },
    {
      "cell_type": "code",
      "metadata": {
        "id": "KH-wmys5OCfS",
        "colab_type": "code",
        "outputId": "2e7d520f-a541-4825-bb27-06527c38f5da",
        "colab": {}
      },
      "source": [
        "# Mostramos solo los valores de las columnas intake y collate\n",
        "# cuyas filas cumplen la condición que indica la máscara\n",
        "df_4 = df_3.loc[df_3.intake>=56.0, ['intake', 'collate']]\n",
        "df_4"
      ],
      "execution_count": 0,
      "outputs": [
        {
          "output_type": "execute_result",
          "data": {
            "text/html": [
              "<div>\n",
              "<style scoped>\n",
              "    .dataframe tbody tr th:only-of-type {\n",
              "        vertical-align: middle;\n",
              "    }\n",
              "\n",
              "    .dataframe tbody tr th {\n",
              "        vertical-align: top;\n",
              "    }\n",
              "\n",
              "    .dataframe thead th {\n",
              "        text-align: right;\n",
              "    }\n",
              "</style>\n",
              "<table border=\"1\" class=\"dataframe\">\n",
              "  <thead>\n",
              "    <tr style=\"text-align: right;\">\n",
              "      <th></th>\n",
              "      <th>intake</th>\n",
              "      <th>collate</th>\n",
              "    </tr>\n",
              "  </thead>\n",
              "  <tbody>\n",
              "    <tr>\n",
              "      <th>5</th>\n",
              "      <td>56.6</td>\n",
              "      <td>12</td>\n",
              "    </tr>\n",
              "    <tr>\n",
              "      <th>6</th>\n",
              "      <td>57.7</td>\n",
              "      <td>12</td>\n",
              "    </tr>\n",
              "    <tr>\n",
              "      <th>8</th>\n",
              "      <td>57.9</td>\n",
              "      <td>12</td>\n",
              "    </tr>\n",
              "    <tr>\n",
              "      <th>9</th>\n",
              "      <td>56.0</td>\n",
              "      <td>12</td>\n",
              "    </tr>\n",
              "    <tr>\n",
              "      <th>10</th>\n",
              "      <td>56.3</td>\n",
              "      <td>11</td>\n",
              "    </tr>\n",
              "  </tbody>\n",
              "</table>\n",
              "</div>"
            ],
            "text/plain": [
              "    intake  collate\n",
              "5     56.6       12\n",
              "6     57.7       12\n",
              "8     57.9       12\n",
              "9     56.0       12\n",
              "10    56.3       11"
            ]
          },
          "metadata": {
            "tags": []
          },
          "execution_count": 47
        }
      ]
    },
    {
      "cell_type": "code",
      "metadata": {
        "id": "fbxWlfgtOCfT",
        "colab_type": "code",
        "outputId": "c9991155-1f25-4f32-c0a7-7d7b03aef757",
        "colab": {}
      },
      "source": [
        "# Mostramos todas las filas que cumplen la condición\n",
        "# expresada en la máscara\n",
        "df_4 = df_3[df_3.group=='B']\n",
        "df_4"
      ],
      "execution_count": 0,
      "outputs": [
        {
          "output_type": "execute_result",
          "data": {
            "text/html": [
              "<div>\n",
              "<style scoped>\n",
              "    .dataframe tbody tr th:only-of-type {\n",
              "        vertical-align: middle;\n",
              "    }\n",
              "\n",
              "    .dataframe tbody tr th {\n",
              "        vertical-align: top;\n",
              "    }\n",
              "\n",
              "    .dataframe thead th {\n",
              "        text-align: right;\n",
              "    }\n",
              "</style>\n",
              "<table border=\"1\" class=\"dataframe\">\n",
              "  <thead>\n",
              "    <tr style=\"text-align: right;\">\n",
              "      <th></th>\n",
              "      <th>intake</th>\n",
              "      <th>collate</th>\n",
              "      <th>group</th>\n",
              "      <th>genotype</th>\n",
              "    </tr>\n",
              "  </thead>\n",
              "  <tbody>\n",
              "    <tr>\n",
              "      <th>5</th>\n",
              "      <td>56.6</td>\n",
              "      <td>12</td>\n",
              "      <td>B</td>\n",
              "      <td>4.716667</td>\n",
              "    </tr>\n",
              "    <tr>\n",
              "      <th>6</th>\n",
              "      <td>57.7</td>\n",
              "      <td>12</td>\n",
              "      <td>B</td>\n",
              "      <td>4.808333</td>\n",
              "    </tr>\n",
              "    <tr>\n",
              "      <th>7</th>\n",
              "      <td>55.4</td>\n",
              "      <td>12</td>\n",
              "      <td>B</td>\n",
              "      <td>4.616667</td>\n",
              "    </tr>\n",
              "    <tr>\n",
              "      <th>8</th>\n",
              "      <td>57.9</td>\n",
              "      <td>12</td>\n",
              "      <td>B</td>\n",
              "      <td>4.825000</td>\n",
              "    </tr>\n",
              "    <tr>\n",
              "      <th>9</th>\n",
              "      <td>56.0</td>\n",
              "      <td>12</td>\n",
              "      <td>B</td>\n",
              "      <td>4.666667</td>\n",
              "    </tr>\n",
              "  </tbody>\n",
              "</table>\n",
              "</div>"
            ],
            "text/plain": [
              "   intake  collate group  genotype\n",
              "5    56.6       12     B  4.716667\n",
              "6    57.7       12     B  4.808333\n",
              "7    55.4       12     B  4.616667\n",
              "8    57.9       12     B  4.825000\n",
              "9    56.0       12     B  4.666667"
            ]
          },
          "metadata": {
            "tags": []
          },
          "execution_count": 48
        }
      ]
    },
    {
      "cell_type": "markdown",
      "metadata": {
        "id": "d_8fUCrPOCfV",
        "colab_type": "text"
      },
      "source": [
        "Para encontrar más ejemplos y ampliar la información sobre esta clase tan importante, se puede consultar la [documentación de `DataFrame`](http://pandas.pydata.org/pandas-docs/stable/dsintro.html#dataframe) en el proyecto Pandas, así como el [notebook de introducción a Pandas](https://github.com/fonnesbeck/Bios8366/blob/master/notebooks/Section2_1-Introduction-to-Pandas.ipynb) creado por C. Fonnesbeck (Vanderbilt Univ.)."
      ]
    },
    {
      "cell_type": "markdown",
      "metadata": {
        "id": "e352dS7rOCfg",
        "colab_type": "text"
      },
      "source": [
        "## 4.3 La clase `Panel`"
      ]
    },
    {
      "cell_type": "markdown",
      "metadata": {
        "id": "Cg4v67DwOCfg",
        "colab_type": "text"
      },
      "source": [
        "La clase `Panel` proporciona en Pandas una estructura de datos para el almacenamiento de arrays en 3 dimensiones. Cada uno de los tres ejes del objeto recibe un nombre particular:\n",
        "\n",
        "* *items*: corresponde al eje 0 (`axis=0`); cada elemento a lo largo de este eje corresponde a un DataFrame, es decir, una tabla de datos en las dos dimensiones restantes.\n",
        "* *major_axis*: corresponde al eje 1 (`axis=1`); para cada DataFrame, recorre cada una de sus filas, es decir, es el índice que marca el número de fila.\n",
        "* *minor_axis*: corresponde al eje 2 (`axis=2`); para cada DataFrame, recorre las columnas de dicho DataFrame.\n",
        "\n",
        "Por ejemplo, el índice `[0, 1, 2]` corresponde al elemento que está en el primer `DataFrame` del panel, y dentro de éste, en la segunda fila y tercera columna."
      ]
    },
    {
      "cell_type": "markdown",
      "metadata": {
        "id": "YDFMzzV9OCfg",
        "colab_type": "text"
      },
      "source": [
        "### 4.3.1 Creación de objetos de tipo `Panel`"
      ]
    },
    {
      "cell_type": "code",
      "metadata": {
        "id": "RiYldirnOCfh",
        "colab_type": "code",
        "outputId": "b0d29f75-189a-438d-8f24-7f24f64d1f95",
        "colab": {}
      },
      "source": [
        "# Panel que contiene dos DataFrame de dimensiones 5x4, ambas rellenas\n",
        "# con valores extraidos de una distribución Gaussiana (o Normal), de\n",
        "# media 0 y desviación típica 1, generando una malla de valores de\n",
        "# dimensiones 2x5x4\n",
        "wp = pd.Panel(np.random.randn(2, 5, 4), items=['Item1', 'Item2'],\n",
        "              major_axis=pd.date_range('1/1/2000', periods=5),\n",
        "              minor_axis=['A', 'B', 'C', 'D'])\n",
        "wp"
      ],
      "execution_count": 0,
      "outputs": [
        {
          "output_type": "stream",
          "text": [
            "C:\\Users\\chus_\\Anaconda3\\lib\\site-packages\\IPython\\core\\interactiveshell.py:3325: FutureWarning: \n",
            "Panel is deprecated and will be removed in a future version.\n",
            "The recommended way to represent these types of 3-dimensional data are with a MultiIndex on a DataFrame, via the Panel.to_frame() method\n",
            "Alternatively, you can use the xarray package http://xarray.pydata.org/en/stable/.\n",
            "Pandas provides a `.to_xarray()` method to help automate this conversion.\n",
            "\n",
            "  exec(code_obj, self.user_global_ns, self.user_ns)\n"
          ],
          "name": "stderr"
        },
        {
          "output_type": "execute_result",
          "data": {
            "text/plain": [
              "<class 'pandas.core.panel.Panel'>\n",
              "Dimensions: 2 (items) x 5 (major_axis) x 4 (minor_axis)\n",
              "Items axis: Item1 to Item2\n",
              "Major_axis axis: 2000-01-01 00:00:00 to 2000-01-05 00:00:00\n",
              "Minor_axis axis: A to D"
            ]
          },
          "metadata": {
            "tags": []
          },
          "execution_count": 49
        }
      ]
    },
    {
      "cell_type": "code",
      "metadata": {
        "id": "uCX7nunoOCfi",
        "colab_type": "code",
        "outputId": "c5370e1c-c879-417d-db71-0a0141db39d9",
        "colab": {}
      },
      "source": [
        "# Mostramos el primer DataFrame del Panel\n",
        "wp['Item1']"
      ],
      "execution_count": 0,
      "outputs": [
        {
          "output_type": "execute_result",
          "data": {
            "text/html": [
              "<div>\n",
              "<style scoped>\n",
              "    .dataframe tbody tr th:only-of-type {\n",
              "        vertical-align: middle;\n",
              "    }\n",
              "\n",
              "    .dataframe tbody tr th {\n",
              "        vertical-align: top;\n",
              "    }\n",
              "\n",
              "    .dataframe thead th {\n",
              "        text-align: right;\n",
              "    }\n",
              "</style>\n",
              "<table border=\"1\" class=\"dataframe\">\n",
              "  <thead>\n",
              "    <tr style=\"text-align: right;\">\n",
              "      <th></th>\n",
              "      <th>A</th>\n",
              "      <th>B</th>\n",
              "      <th>C</th>\n",
              "      <th>D</th>\n",
              "    </tr>\n",
              "  </thead>\n",
              "  <tbody>\n",
              "    <tr>\n",
              "      <th>2000-01-01</th>\n",
              "      <td>0.457383</td>\n",
              "      <td>0.553293</td>\n",
              "      <td>0.752688</td>\n",
              "      <td>-2.239233</td>\n",
              "    </tr>\n",
              "    <tr>\n",
              "      <th>2000-01-02</th>\n",
              "      <td>0.159402</td>\n",
              "      <td>-1.063356</td>\n",
              "      <td>1.011540</td>\n",
              "      <td>0.373947</td>\n",
              "    </tr>\n",
              "    <tr>\n",
              "      <th>2000-01-03</th>\n",
              "      <td>-0.747486</td>\n",
              "      <td>-0.296938</td>\n",
              "      <td>-0.010814</td>\n",
              "      <td>-0.016658</td>\n",
              "    </tr>\n",
              "    <tr>\n",
              "      <th>2000-01-04</th>\n",
              "      <td>0.661866</td>\n",
              "      <td>-0.462540</td>\n",
              "      <td>0.594857</td>\n",
              "      <td>1.630225</td>\n",
              "    </tr>\n",
              "    <tr>\n",
              "      <th>2000-01-05</th>\n",
              "      <td>0.211140</td>\n",
              "      <td>-0.193902</td>\n",
              "      <td>-1.517626</td>\n",
              "      <td>-0.187323</td>\n",
              "    </tr>\n",
              "  </tbody>\n",
              "</table>\n",
              "</div>"
            ],
            "text/plain": [
              "                   A         B         C         D\n",
              "2000-01-01  0.457383  0.553293  0.752688 -2.239233\n",
              "2000-01-02  0.159402 -1.063356  1.011540  0.373947\n",
              "2000-01-03 -0.747486 -0.296938 -0.010814 -0.016658\n",
              "2000-01-04  0.661866 -0.462540  0.594857  1.630225\n",
              "2000-01-05  0.211140 -0.193902 -1.517626 -0.187323"
            ]
          },
          "metadata": {
            "tags": []
          },
          "execution_count": 50
        }
      ]
    },
    {
      "cell_type": "code",
      "metadata": {
        "id": "hUTyQFcvOCfj",
        "colab_type": "code",
        "outputId": "61580ee2-ae61-4a08-b1e5-c9f3adc4eab8",
        "colab": {}
      },
      "source": [
        "# Mostramos el segundo DataFrame del Panel\n",
        "wp['Item2']"
      ],
      "execution_count": 0,
      "outputs": [
        {
          "output_type": "execute_result",
          "data": {
            "text/html": [
              "<div>\n",
              "<style scoped>\n",
              "    .dataframe tbody tr th:only-of-type {\n",
              "        vertical-align: middle;\n",
              "    }\n",
              "\n",
              "    .dataframe tbody tr th {\n",
              "        vertical-align: top;\n",
              "    }\n",
              "\n",
              "    .dataframe thead th {\n",
              "        text-align: right;\n",
              "    }\n",
              "</style>\n",
              "<table border=\"1\" class=\"dataframe\">\n",
              "  <thead>\n",
              "    <tr style=\"text-align: right;\">\n",
              "      <th></th>\n",
              "      <th>A</th>\n",
              "      <th>B</th>\n",
              "      <th>C</th>\n",
              "      <th>D</th>\n",
              "    </tr>\n",
              "  </thead>\n",
              "  <tbody>\n",
              "    <tr>\n",
              "      <th>2000-01-01</th>\n",
              "      <td>0.163438</td>\n",
              "      <td>-0.624466</td>\n",
              "      <td>-0.913512</td>\n",
              "      <td>0.141143</td>\n",
              "    </tr>\n",
              "    <tr>\n",
              "      <th>2000-01-02</th>\n",
              "      <td>0.067781</td>\n",
              "      <td>-0.742772</td>\n",
              "      <td>-0.520530</td>\n",
              "      <td>0.620743</td>\n",
              "    </tr>\n",
              "    <tr>\n",
              "      <th>2000-01-03</th>\n",
              "      <td>0.406436</td>\n",
              "      <td>-0.097600</td>\n",
              "      <td>0.240411</td>\n",
              "      <td>-1.144974</td>\n",
              "    </tr>\n",
              "    <tr>\n",
              "      <th>2000-01-04</th>\n",
              "      <td>1.053334</td>\n",
              "      <td>-0.465703</td>\n",
              "      <td>0.340933</td>\n",
              "      <td>0.380113</td>\n",
              "    </tr>\n",
              "    <tr>\n",
              "      <th>2000-01-05</th>\n",
              "      <td>1.026223</td>\n",
              "      <td>0.780204</td>\n",
              "      <td>0.584655</td>\n",
              "      <td>-0.735382</td>\n",
              "    </tr>\n",
              "  </tbody>\n",
              "</table>\n",
              "</div>"
            ],
            "text/plain": [
              "                   A         B         C         D\n",
              "2000-01-01  0.163438 -0.624466 -0.913512  0.141143\n",
              "2000-01-02  0.067781 -0.742772 -0.520530  0.620743\n",
              "2000-01-03  0.406436 -0.097600  0.240411 -1.144974\n",
              "2000-01-04  1.053334 -0.465703  0.340933  0.380113\n",
              "2000-01-05  1.026223  0.780204  0.584655 -0.735382"
            ]
          },
          "metadata": {
            "tags": []
          },
          "execution_count": 51
        }
      ]
    },
    {
      "cell_type": "markdown",
      "metadata": {
        "id": "1JuTxnKZOCfk",
        "colab_type": "text"
      },
      "source": [
        "### 4.3.2 Indexación de objetos `Panel`"
      ]
    },
    {
      "cell_type": "markdown",
      "metadata": {
        "id": "Ri_0r6auOCfk",
        "colab_type": "text"
      },
      "source": [
        "La indexación de determinados elementos en un `Panel` funciona siguiendo el mismo esquema visto hasta ahora. Veamos algunos ejemplos:"
      ]
    },
    {
      "cell_type": "code",
      "metadata": {
        "id": "JeMeLKZOOCfk",
        "colab_type": "code",
        "outputId": "c29f5cf9-b492-41d3-b247-e347540b1d3e",
        "colab": {}
      },
      "source": [
        "# Indexación mediante etiquetas\n",
        "wp['Item1',:,'A':'C']"
      ],
      "execution_count": 0,
      "outputs": [
        {
          "output_type": "execute_result",
          "data": {
            "text/html": [
              "<div>\n",
              "<style scoped>\n",
              "    .dataframe tbody tr th:only-of-type {\n",
              "        vertical-align: middle;\n",
              "    }\n",
              "\n",
              "    .dataframe tbody tr th {\n",
              "        vertical-align: top;\n",
              "    }\n",
              "\n",
              "    .dataframe thead th {\n",
              "        text-align: right;\n",
              "    }\n",
              "</style>\n",
              "<table border=\"1\" class=\"dataframe\">\n",
              "  <thead>\n",
              "    <tr style=\"text-align: right;\">\n",
              "      <th></th>\n",
              "      <th>A</th>\n",
              "      <th>B</th>\n",
              "      <th>C</th>\n",
              "    </tr>\n",
              "  </thead>\n",
              "  <tbody>\n",
              "    <tr>\n",
              "      <th>2000-01-01</th>\n",
              "      <td>0.457383</td>\n",
              "      <td>0.553293</td>\n",
              "      <td>0.752688</td>\n",
              "    </tr>\n",
              "    <tr>\n",
              "      <th>2000-01-02</th>\n",
              "      <td>0.159402</td>\n",
              "      <td>-1.063356</td>\n",
              "      <td>1.011540</td>\n",
              "    </tr>\n",
              "    <tr>\n",
              "      <th>2000-01-03</th>\n",
              "      <td>-0.747486</td>\n",
              "      <td>-0.296938</td>\n",
              "      <td>-0.010814</td>\n",
              "    </tr>\n",
              "    <tr>\n",
              "      <th>2000-01-04</th>\n",
              "      <td>0.661866</td>\n",
              "      <td>-0.462540</td>\n",
              "      <td>0.594857</td>\n",
              "    </tr>\n",
              "    <tr>\n",
              "      <th>2000-01-05</th>\n",
              "      <td>0.211140</td>\n",
              "      <td>-0.193902</td>\n",
              "      <td>-1.517626</td>\n",
              "    </tr>\n",
              "  </tbody>\n",
              "</table>\n",
              "</div>"
            ],
            "text/plain": [
              "                   A         B         C\n",
              "2000-01-01  0.457383  0.553293  0.752688\n",
              "2000-01-02  0.159402 -1.063356  1.011540\n",
              "2000-01-03 -0.747486 -0.296938 -0.010814\n",
              "2000-01-04  0.661866 -0.462540  0.594857\n",
              "2000-01-05  0.211140 -0.193902 -1.517626"
            ]
          },
          "metadata": {
            "tags": []
          },
          "execution_count": 52
        }
      ]
    },
    {
      "cell_type": "code",
      "metadata": {
        "id": "7M20UL2UOCfl",
        "colab_type": "code",
        "outputId": "60026a8e-f46c-4650-eee2-6581c4ea1ccc",
        "colab": {}
      },
      "source": [
        "wp['Item2',:,:]"
      ],
      "execution_count": 0,
      "outputs": [
        {
          "output_type": "execute_result",
          "data": {
            "text/html": [
              "<div>\n",
              "<style scoped>\n",
              "    .dataframe tbody tr th:only-of-type {\n",
              "        vertical-align: middle;\n",
              "    }\n",
              "\n",
              "    .dataframe tbody tr th {\n",
              "        vertical-align: top;\n",
              "    }\n",
              "\n",
              "    .dataframe thead th {\n",
              "        text-align: right;\n",
              "    }\n",
              "</style>\n",
              "<table border=\"1\" class=\"dataframe\">\n",
              "  <thead>\n",
              "    <tr style=\"text-align: right;\">\n",
              "      <th></th>\n",
              "      <th>A</th>\n",
              "      <th>B</th>\n",
              "      <th>C</th>\n",
              "      <th>D</th>\n",
              "    </tr>\n",
              "  </thead>\n",
              "  <tbody>\n",
              "    <tr>\n",
              "      <th>2000-01-01</th>\n",
              "      <td>0.163438</td>\n",
              "      <td>-0.624466</td>\n",
              "      <td>-0.913512</td>\n",
              "      <td>0.141143</td>\n",
              "    </tr>\n",
              "    <tr>\n",
              "      <th>2000-01-02</th>\n",
              "      <td>0.067781</td>\n",
              "      <td>-0.742772</td>\n",
              "      <td>-0.520530</td>\n",
              "      <td>0.620743</td>\n",
              "    </tr>\n",
              "    <tr>\n",
              "      <th>2000-01-03</th>\n",
              "      <td>0.406436</td>\n",
              "      <td>-0.097600</td>\n",
              "      <td>0.240411</td>\n",
              "      <td>-1.144974</td>\n",
              "    </tr>\n",
              "    <tr>\n",
              "      <th>2000-01-04</th>\n",
              "      <td>1.053334</td>\n",
              "      <td>-0.465703</td>\n",
              "      <td>0.340933</td>\n",
              "      <td>0.380113</td>\n",
              "    </tr>\n",
              "    <tr>\n",
              "      <th>2000-01-05</th>\n",
              "      <td>1.026223</td>\n",
              "      <td>0.780204</td>\n",
              "      <td>0.584655</td>\n",
              "      <td>-0.735382</td>\n",
              "    </tr>\n",
              "  </tbody>\n",
              "</table>\n",
              "</div>"
            ],
            "text/plain": [
              "                   A         B         C         D\n",
              "2000-01-01  0.163438 -0.624466 -0.913512  0.141143\n",
              "2000-01-02  0.067781 -0.742772 -0.520530  0.620743\n",
              "2000-01-03  0.406436 -0.097600  0.240411 -1.144974\n",
              "2000-01-04  1.053334 -0.465703  0.340933  0.380113\n",
              "2000-01-05  1.026223  0.780204  0.584655 -0.735382"
            ]
          },
          "metadata": {
            "tags": []
          },
          "execution_count": 53
        }
      ]
    },
    {
      "cell_type": "code",
      "metadata": {
        "id": "s41UMPKHOCfx",
        "colab_type": "code",
        "outputId": "33e0c8ee-b009-41f7-9c48-73308468983c",
        "colab": {}
      },
      "source": [
        "# Otra forma de indexación mediante etiquetas\n",
        "wp.loc['Item2','1/3/2000','C':'D']"
      ],
      "execution_count": 0,
      "outputs": [
        {
          "output_type": "execute_result",
          "data": {
            "text/plain": [
              "C    0.240411\n",
              "D   -1.144974\n",
              "Name: 2000-01-03 00:00:00, dtype: float64"
            ]
          },
          "metadata": {
            "tags": []
          },
          "execution_count": 54
        }
      ]
    },
    {
      "cell_type": "code",
      "metadata": {
        "id": "qdsZ06ixOCfx",
        "colab_type": "code",
        "outputId": "14c9b262-8c85-4df2-9949-c79df34eeb1b",
        "colab": {}
      },
      "source": [
        "# Indexación mediante posiciones\n",
        "wp.iloc[0,:,1:3]"
      ],
      "execution_count": 0,
      "outputs": [
        {
          "output_type": "execute_result",
          "data": {
            "text/html": [
              "<div>\n",
              "<style scoped>\n",
              "    .dataframe tbody tr th:only-of-type {\n",
              "        vertical-align: middle;\n",
              "    }\n",
              "\n",
              "    .dataframe tbody tr th {\n",
              "        vertical-align: top;\n",
              "    }\n",
              "\n",
              "    .dataframe thead th {\n",
              "        text-align: right;\n",
              "    }\n",
              "</style>\n",
              "<table border=\"1\" class=\"dataframe\">\n",
              "  <thead>\n",
              "    <tr style=\"text-align: right;\">\n",
              "      <th></th>\n",
              "      <th>B</th>\n",
              "      <th>C</th>\n",
              "    </tr>\n",
              "  </thead>\n",
              "  <tbody>\n",
              "    <tr>\n",
              "      <th>2000-01-01</th>\n",
              "      <td>0.553293</td>\n",
              "      <td>0.752688</td>\n",
              "    </tr>\n",
              "    <tr>\n",
              "      <th>2000-01-02</th>\n",
              "      <td>-1.063356</td>\n",
              "      <td>1.011540</td>\n",
              "    </tr>\n",
              "    <tr>\n",
              "      <th>2000-01-03</th>\n",
              "      <td>-0.296938</td>\n",
              "      <td>-0.010814</td>\n",
              "    </tr>\n",
              "    <tr>\n",
              "      <th>2000-01-04</th>\n",
              "      <td>-0.462540</td>\n",
              "      <td>0.594857</td>\n",
              "    </tr>\n",
              "    <tr>\n",
              "      <th>2000-01-05</th>\n",
              "      <td>-0.193902</td>\n",
              "      <td>-1.517626</td>\n",
              "    </tr>\n",
              "  </tbody>\n",
              "</table>\n",
              "</div>"
            ],
            "text/plain": [
              "                   B         C\n",
              "2000-01-01  0.553293  0.752688\n",
              "2000-01-02 -1.063356  1.011540\n",
              "2000-01-03 -0.296938 -0.010814\n",
              "2000-01-04 -0.462540  0.594857\n",
              "2000-01-05 -0.193902 -1.517626"
            ]
          },
          "metadata": {
            "tags": []
          },
          "execution_count": 55
        }
      ]
    },
    {
      "cell_type": "markdown",
      "metadata": {
        "id": "avGhYN2ZOCfy",
        "colab_type": "text"
      },
      "source": [
        "Para más información sobre estos objetos, se recomienda consultar la [documentación sobre la estructura de datos `Panel`](http://pandas.pydata.org/pandas-docs/stable/dsintro.html#panel) en la documentación oficial de Pandas."
      ]
    },
    {
      "cell_type": "markdown",
      "metadata": {
        "id": "YwitpyNiOCfy",
        "colab_type": "text"
      },
      "source": [
        "## 4.4 Importación de datos"
      ]
    },
    {
      "cell_type": "markdown",
      "metadata": {
        "id": "uiLgNvXSOCfz",
        "colab_type": "text"
      },
      "source": [
        "La biblioteca Pandas también incluye diversas funciones que facilitan la importación de archivos de datos desde otros programas, o utilizando diferentes estándares de representación."
      ]
    },
    {
      "cell_type": "code",
      "metadata": {
        "id": "MvFal8IyOCfz",
        "colab_type": "code",
        "outputId": "075fb090-9e76-47a1-9e96-44211a90dfea",
        "colab": {}
      },
      "source": [
        "# Carga de un archivo en formato CSV\n",
        "air_data = pd.read_csv('data/Air_Quality.csv')\n",
        "air_data.head()"
      ],
      "execution_count": 0,
      "outputs": [
        {
          "output_type": "execute_result",
          "data": {
            "text/html": [
              "<div>\n",
              "<style scoped>\n",
              "    .dataframe tbody tr th:only-of-type {\n",
              "        vertical-align: middle;\n",
              "    }\n",
              "\n",
              "    .dataframe tbody tr th {\n",
              "        vertical-align: top;\n",
              "    }\n",
              "\n",
              "    .dataframe thead th {\n",
              "        text-align: right;\n",
              "    }\n",
              "</style>\n",
              "<table border=\"1\" class=\"dataframe\">\n",
              "  <thead>\n",
              "    <tr style=\"text-align: right;\">\n",
              "      <th></th>\n",
              "      <th>indicator_data_id</th>\n",
              "      <th>indicator_id</th>\n",
              "      <th>name</th>\n",
              "      <th>Measure</th>\n",
              "      <th>geo_type_name</th>\n",
              "      <th>geo_entity_id</th>\n",
              "      <th>geo_entity_name</th>\n",
              "      <th>year_description</th>\n",
              "      <th>data_valuemessage</th>\n",
              "    </tr>\n",
              "  </thead>\n",
              "  <tbody>\n",
              "    <tr>\n",
              "      <th>0</th>\n",
              "      <td>130728</td>\n",
              "      <td>646</td>\n",
              "      <td>Air Toxics Concentrations- Average Benzene Con...</td>\n",
              "      <td>Average Concentration</td>\n",
              "      <td>Borough</td>\n",
              "      <td>1</td>\n",
              "      <td>Bronx</td>\n",
              "      <td>2005</td>\n",
              "      <td>2.8</td>\n",
              "    </tr>\n",
              "    <tr>\n",
              "      <th>1</th>\n",
              "      <td>130729</td>\n",
              "      <td>646</td>\n",
              "      <td>Air Toxics Concentrations- Average Benzene Con...</td>\n",
              "      <td>Average Concentration</td>\n",
              "      <td>Borough</td>\n",
              "      <td>2</td>\n",
              "      <td>Brooklyn</td>\n",
              "      <td>2005</td>\n",
              "      <td>2.8</td>\n",
              "    </tr>\n",
              "    <tr>\n",
              "      <th>2</th>\n",
              "      <td>130730</td>\n",
              "      <td>646</td>\n",
              "      <td>Air Toxics Concentrations- Average Benzene Con...</td>\n",
              "      <td>Average Concentration</td>\n",
              "      <td>Borough</td>\n",
              "      <td>3</td>\n",
              "      <td>Manhattan</td>\n",
              "      <td>2005</td>\n",
              "      <td>4.7</td>\n",
              "    </tr>\n",
              "    <tr>\n",
              "      <th>3</th>\n",
              "      <td>130731</td>\n",
              "      <td>646</td>\n",
              "      <td>Air Toxics Concentrations- Average Benzene Con...</td>\n",
              "      <td>Average Concentration</td>\n",
              "      <td>Borough</td>\n",
              "      <td>4</td>\n",
              "      <td>Queens</td>\n",
              "      <td>2005</td>\n",
              "      <td>1.9</td>\n",
              "    </tr>\n",
              "    <tr>\n",
              "      <th>4</th>\n",
              "      <td>130732</td>\n",
              "      <td>646</td>\n",
              "      <td>Air Toxics Concentrations- Average Benzene Con...</td>\n",
              "      <td>Average Concentration</td>\n",
              "      <td>Borough</td>\n",
              "      <td>5</td>\n",
              "      <td>Staten Island</td>\n",
              "      <td>2005</td>\n",
              "      <td>1.6</td>\n",
              "    </tr>\n",
              "  </tbody>\n",
              "</table>\n",
              "</div>"
            ],
            "text/plain": [
              "   indicator_data_id  indicator_id  \\\n",
              "0             130728           646   \n",
              "1             130729           646   \n",
              "2             130730           646   \n",
              "3             130731           646   \n",
              "4             130732           646   \n",
              "\n",
              "                                                name                Measure  \\\n",
              "0  Air Toxics Concentrations- Average Benzene Con...  Average Concentration   \n",
              "1  Air Toxics Concentrations- Average Benzene Con...  Average Concentration   \n",
              "2  Air Toxics Concentrations- Average Benzene Con...  Average Concentration   \n",
              "3  Air Toxics Concentrations- Average Benzene Con...  Average Concentration   \n",
              "4  Air Toxics Concentrations- Average Benzene Con...  Average Concentration   \n",
              "\n",
              "  geo_type_name  geo_entity_id geo_entity_name year_description  \\\n",
              "0       Borough              1           Bronx             2005   \n",
              "1       Borough              2        Brooklyn             2005   \n",
              "2       Borough              3       Manhattan             2005   \n",
              "3       Borough              4          Queens             2005   \n",
              "4       Borough              5   Staten Island             2005   \n",
              "\n",
              "   data_valuemessage  \n",
              "0                2.8  \n",
              "1                2.8  \n",
              "2                4.7  \n",
              "3                1.9  \n",
              "4                1.6  "
            ]
          },
          "metadata": {
            "tags": []
          },
          "execution_count": 57
        }
      ]
    },
    {
      "cell_type": "markdown",
      "metadata": {
        "id": "0iNi4m44OCf-",
        "colab_type": "text"
      },
      "source": [
        "Algunas otras funciones de lectura de datos incluidas en Pandas son:\n",
        "* `read_excel()` (para ficheros en formato MS Excel).\n",
        "* `read_html()` (lectura de ficheros de datos en HTML).\n",
        "* `read_json()` (lectura de ficheros de datos en JSON).\n",
        "* `read_hdf()` (lecutra de ficheros de datos en HDF5).\n",
        "* `read_pickle()` (lectura de ficheros de datos con objetos Python, serializados utilizando `cPickle`)."
      ]
    },
    {
      "cell_type": "markdown",
      "metadata": {
        "id": "x3kzoodhOCf-",
        "colab_type": "text"
      },
      "source": [
        "Análogamente, existen funciones similares para escritura de datos en disco. Se puede consultar más información sobre todas estas funcionalidades y métodos en la [documentación sobre E/S](http://pandas.pydata.org/pandas-docs/stable/io.html) de la biblioteca Pandas."
      ]
    },
    {
      "cell_type": "markdown",
      "metadata": {
        "id": "s3nYg8HCOCf_",
        "colab_type": "text"
      },
      "source": [
        "## 4.5 Gestión de datos de series temporales: fechas y marcas de tiempo\n",
        "\n",
        "Un tipo de datos muy relevante son las **series temporales**, donde cada valor tiene asociada la información de la fecha (a veces fecha y hora) de su recogida. Con esta información podemos construir series de valores a lo largo del tiempo, ordenándolos de manera cronológica.\n",
        "\n",
        "La biblioteca Pandas ofrece una [extensa colección de herramientas y operaciones para manejo de series temporales](http://pandas.pydata.org/pandas-docs/stable/timeseries.html), incluyendo muchas funciones ya presentes en otros paquetes y que se han consolidado en Pandas como herramienta multiusos para este propósito."
      ]
    },
    {
      "cell_type": "markdown",
      "metadata": {
        "id": "xgvXMmdUOCf_",
        "colab_type": "text"
      },
      "source": [
        "Esencialmente, existen dos tipos de formas básicas para definir en Pandas un vector de valores a lo largo del tiempo:\n",
        "\n",
        "* *Timestamps*: son datos que marcan exactamente la fecha y hora asociada a cada punto. Se generan mediante la clase `Timestamp`. Sus índices asociados son de la clase `DatetimeIndex`.\n",
        "* *Time spans*: representan un solo intervalo temporal, en el que indicamos el inicio y la frecuencia entre cada uno de los puntos que lo componen. Sus índices asociados son de tipo `PeriodIndex`.\n",
        "\n",
        "Veamos algunos ejemplos:"
      ]
    },
    {
      "cell_type": "code",
      "metadata": {
        "scrolled": true,
        "id": "KoHQy1J8OCf_",
        "colab_type": "code",
        "outputId": "ab05bfd8-e31c-4b7b-b61b-5d60c87f4144",
        "colab": {}
      },
      "source": [
        "from datetime import datetime\n",
        "ts_1 = pd.Timestamp(datetime(2015, 1, 1))\n",
        "ts_2 = pd.Timestamp(np.datetime64('2016-06-01'))\n",
        "print(type(ts_1))"
      ],
      "execution_count": 0,
      "outputs": [
        {
          "output_type": "stream",
          "text": [
            "<class 'pandas._libs.tslibs.timestamps.Timestamp'>\n"
          ],
          "name": "stdout"
        }
      ]
    },
    {
      "cell_type": "code",
      "metadata": {
        "id": "R2Na0ewhOCgA",
        "colab_type": "code",
        "outputId": "c4296000-09dc-47e6-f393-ecd35ee5f0a1",
        "colab": {}
      },
      "source": [
        "ts_1"
      ],
      "execution_count": 0,
      "outputs": [
        {
          "output_type": "execute_result",
          "data": {
            "text/plain": [
              "Timestamp('2015-01-01 00:00:00')"
            ]
          },
          "metadata": {
            "tags": []
          },
          "execution_count": 61
        }
      ]
    },
    {
      "cell_type": "code",
      "metadata": {
        "id": "TYAqRcbKOCgA",
        "colab_type": "code",
        "outputId": "4188dc81-9714-40cb-e318-2826be9562ff",
        "colab": {}
      },
      "source": [
        "ts_2"
      ],
      "execution_count": 0,
      "outputs": [
        {
          "output_type": "execute_result",
          "data": {
            "text/plain": [
              "Timestamp('2016-06-01 00:00:00')"
            ]
          },
          "metadata": {
            "tags": []
          },
          "execution_count": 62
        }
      ]
    },
    {
      "cell_type": "code",
      "metadata": {
        "id": "tFTnQrAUOCgB",
        "colab_type": "code",
        "outputId": "ee85e9d3-4f71-4aa9-fbb5-651be85a285b",
        "colab": {}
      },
      "source": [
        "# Podemos realizar directamente operaciones aritméticas\n",
        "# como resta de Timestamps, que da como resultado un\n",
        "# objeto Timedelta\n",
        "ts_2 - ts_1"
      ],
      "execution_count": 0,
      "outputs": [
        {
          "output_type": "execute_result",
          "data": {
            "text/plain": [
              "Timedelta('517 days 00:00:00')"
            ]
          },
          "metadata": {
            "tags": []
          },
          "execution_count": 63
        }
      ]
    },
    {
      "cell_type": "markdown",
      "metadata": {
        "id": "lYPOQSNIOCgN",
        "colab_type": "text"
      },
      "source": [
        "En muchas ocasiones resulta más conveniente asociar determinados eventos, como pueden ser cambios de variables, a intervalos de tiempo. Para ello utilizaremos `Period`, donde se puede especificar el periodo explícitamente o se deduce a partir del formato de la cadena que recibe como parámetro."
      ]
    },
    {
      "cell_type": "code",
      "metadata": {
        "id": "AeFtugTBOCgN",
        "colab_type": "code",
        "outputId": "33e92d3e-e9ed-42ce-9142-93d34aa6c0a3",
        "colab": {}
      },
      "source": [
        "periodo_1 = pd.Period('2011-01')\n",
        "periodo_2 = pd.Period('2011-01-01')\n",
        "periodo_1"
      ],
      "execution_count": 0,
      "outputs": [
        {
          "output_type": "execute_result",
          "data": {
            "text/plain": [
              "Period('2011-01', 'M')"
            ]
          },
          "metadata": {
            "tags": []
          },
          "execution_count": 64
        }
      ]
    },
    {
      "cell_type": "code",
      "metadata": {
        "id": "Sd7lHr_VOCgO",
        "colab_type": "code",
        "outputId": "052e09f3-95c5-4a78-c9b7-eed4391d0279",
        "colab": {}
      },
      "source": [
        "periodo_2"
      ],
      "execution_count": 0,
      "outputs": [
        {
          "output_type": "execute_result",
          "data": {
            "text/plain": [
              "Period('2011-01-01', 'D')"
            ]
          },
          "metadata": {
            "tags": []
          },
          "execution_count": 65
        }
      ]
    },
    {
      "cell_type": "code",
      "metadata": {
        "id": "K-KtsLe7OCgO",
        "colab_type": "code",
        "outputId": "6d4b8fb0-919e-492d-dfad-7264d4ee5282",
        "colab": {}
      },
      "source": [
        "# Utilización con el tipo Series para crear series temporales\n",
        "dates = [pd.Timestamp('2016-05-01'), pd.Timestamp('2016-05-02'), pd.Timestamp('2016-05-03')]\n",
        "serie_temporal_1 = pd.Series(np.random.randn(3), index=dates)\n",
        "serie_temporal_1"
      ],
      "execution_count": 0,
      "outputs": [
        {
          "output_type": "execute_result",
          "data": {
            "text/plain": [
              "2016-05-01   -0.521525\n",
              "2016-05-02    1.641397\n",
              "2016-05-03   -0.486863\n",
              "dtype: float64"
            ]
          },
          "metadata": {
            "tags": []
          },
          "execution_count": 66
        }
      ]
    },
    {
      "cell_type": "code",
      "metadata": {
        "id": "EkSw4afnOCgP",
        "colab_type": "code",
        "outputId": "ab8cab80-9a0f-423a-b661-052c748081de",
        "colab": {}
      },
      "source": [
        "type(serie_temporal_1.index)"
      ],
      "execution_count": 0,
      "outputs": [
        {
          "output_type": "execute_result",
          "data": {
            "text/plain": [
              "pandas.core.indexes.datetimes.DatetimeIndex"
            ]
          },
          "metadata": {
            "tags": []
          },
          "execution_count": 67
        }
      ]
    },
    {
      "cell_type": "code",
      "metadata": {
        "id": "l3FJ3GmPOCgQ",
        "colab_type": "code",
        "outputId": "f617c947-99e4-4bf8-cda3-622a3bb4de32",
        "colab": {}
      },
      "source": [
        "serie_temporal_1.index"
      ],
      "execution_count": 0,
      "outputs": [
        {
          "output_type": "execute_result",
          "data": {
            "text/plain": [
              "DatetimeIndex(['2016-05-01', '2016-05-02', '2016-05-03'], dtype='datetime64[ns]', freq=None)"
            ]
          },
          "metadata": {
            "tags": []
          },
          "execution_count": 68
        }
      ]
    },
    {
      "cell_type": "markdown",
      "metadata": {
        "id": "pXJ6fJbkOCgR",
        "colab_type": "text"
      },
      "source": [
        "Una forma sencilla de generar un `DatetimeIndex` es mediante `date_range`. Esta función genera rangos de etiquetas en el tiempo a partir de una marca temporal de inicio, especificando la frecuencia de equiespaciado entre los puntos y el número de puntos:"
      ]
    },
    {
      "cell_type": "code",
      "metadata": {
        "id": "1GuUEFhtOCgR",
        "colab_type": "code",
        "outputId": "6d66e52e-5eea-46a5-8ce7-b96f5445de5b",
        "colab": {}
      },
      "source": [
        "# Generamos 48 horas a partir de las 00:00:00 del día 1 de enero de 2016\n",
        "# freq -> 'H' horas, 'D' días, 'Min' minutos, 's' segundos, 'ms' mili segundos...\n",
        "# freq por defecto -> 'D'\n",
        "rng = pd.date_range('01/01/2016', periods=48, freq='H')\n",
        "rng[:5]"
      ],
      "execution_count": 0,
      "outputs": [
        {
          "output_type": "execute_result",
          "data": {
            "text/plain": [
              "DatetimeIndex(['2016-01-01 00:00:00', '2016-01-01 01:00:00',\n",
              "               '2016-01-01 02:00:00', '2016-01-01 03:00:00',\n",
              "               '2016-01-01 04:00:00'],\n",
              "              dtype='datetime64[ns]', freq='H')"
            ]
          },
          "metadata": {
            "tags": []
          },
          "execution_count": 58
        }
      ]
    },
    {
      "cell_type": "code",
      "metadata": {
        "id": "AdH_jR1LOCgR",
        "colab_type": "code",
        "outputId": "72f2166d-d90f-4dd0-f074-9c0b54baf3cf",
        "colab": {}
      },
      "source": [
        "# Utilización de rangos temporales para indexar objetos Series, convirtiéndolos\n",
        "# en series temporales (marca de tiempo/valor)\n",
        "serie_4 = pd.Series(np.random.randn(len(rng)), index=rng)\n",
        "serie_4.head()"
      ],
      "execution_count": 0,
      "outputs": [
        {
          "output_type": "execute_result",
          "data": {
            "text/plain": [
              "2016-01-01 00:00:00   -0.573056\n",
              "2016-01-01 01:00:00    0.687449\n",
              "2016-01-01 02:00:00   -0.812299\n",
              "2016-01-01 03:00:00   -1.368658\n",
              "2016-01-01 04:00:00    0.493801\n",
              "Freq: H, dtype: float64"
            ]
          },
          "metadata": {
            "tags": []
          },
          "execution_count": 59
        }
      ]
    },
    {
      "cell_type": "markdown",
      "metadata": {
        "id": "AQKJ38xGOCgS",
        "colab_type": "text"
      },
      "source": [
        "Pandas ofrece una colección bastante completa de alias para poder definir diferentes frecuencias. Si la frecuencia que queremos utilizar no se ajusta a ninguna de estas opciones, podemos modificarla introduciendo un factor."
      ]
    },
    {
      "cell_type": "code",
      "metadata": {
        "id": "85kjxFcCp7FP",
        "colab_type": "code",
        "colab": {}
      },
      "source": [
        ""
      ],
      "execution_count": 0,
      "outputs": []
    },
    {
      "cell_type": "code",
      "metadata": {
        "id": "UWcokISNOCgS",
        "colab_type": "code",
        "outputId": "16d02514-083f-488b-b89a-ac148fd595ca",
        "colab": {}
      },
      "source": [
        "rng_4H = pd.date_range('01/01/2016', periods=4, freq='12H')\n",
        "rng_4H[:]"
      ],
      "execution_count": 0,
      "outputs": [
        {
          "output_type": "execute_result",
          "data": {
            "text/plain": [
              "DatetimeIndex(['2016-01-01 00:00:00', '2016-01-01 12:00:00',\n",
              "               '2016-01-02 00:00:00', '2016-01-02 12:00:00'],\n",
              "              dtype='datetime64[ns]', freq='12H')"
            ]
          },
          "metadata": {
            "tags": []
          },
          "execution_count": 61
        }
      ]
    },
    {
      "cell_type": "markdown",
      "metadata": {
        "id": "2S9U6v3-OCgT",
        "colab_type": "text"
      },
      "source": [
        "Otra opción para definir la frecuencia deseada es utiizar offsets y combinarlos entre ellos."
      ]
    },
    {
      "cell_type": "code",
      "metadata": {
        "id": "HUVReigsOCgT",
        "colab_type": "code",
        "outputId": "10c60508-acbf-4b23-c054-5899a1f830b2",
        "colab": {}
      },
      "source": [
        "from pandas.tseries.offsets import Hour, Minute\n",
        "offset = Hour(2)+Minute(30)\n",
        "rng_offset = pd.date_range('01/01/2016', periods=10, freq=offset)\n",
        "rng_offset[:]"
      ],
      "execution_count": 0,
      "outputs": [
        {
          "output_type": "execute_result",
          "data": {
            "text/plain": [
              "DatetimeIndex(['2016-01-01 00:00:00', '2016-01-01 02:30:00',\n",
              "               '2016-01-01 05:00:00', '2016-01-01 07:30:00',\n",
              "               '2016-01-01 10:00:00', '2016-01-01 12:30:00',\n",
              "               '2016-01-01 15:00:00', '2016-01-01 17:30:00',\n",
              "               '2016-01-01 20:00:00', '2016-01-01 22:30:00'],\n",
              "              dtype='datetime64[ns]', freq='150T')"
            ]
          },
          "metadata": {
            "tags": []
          },
          "execution_count": 65
        }
      ]
    },
    {
      "cell_type": "code",
      "metadata": {
        "id": "_AnniUVjOCgU",
        "colab_type": "code",
        "outputId": "b59c141f-81cf-4024-b34b-df4b15c1276b",
        "colab": {}
      },
      "source": [
        "# utilizando strings del tipo a '2h30min'\n",
        "rng_offset2 = pd.date_range('01/01/2016', periods=10, freq='2h30min')\n",
        "rng_offset2[:]"
      ],
      "execution_count": 0,
      "outputs": [
        {
          "output_type": "execute_result",
          "data": {
            "text/plain": [
              "DatetimeIndex(['2016-01-01 00:00:00', '2016-01-01 02:30:00',\n",
              "               '2016-01-01 05:00:00', '2016-01-01 07:30:00',\n",
              "               '2016-01-01 10:00:00', '2016-01-01 12:30:00',\n",
              "               '2016-01-01 15:00:00', '2016-01-01 17:30:00',\n",
              "               '2016-01-01 20:00:00', '2016-01-01 22:30:00'],\n",
              "              dtype='datetime64[ns]', freq='150T')"
            ]
          },
          "metadata": {
            "tags": []
          },
          "execution_count": 66
        }
      ]
    },
    {
      "cell_type": "markdown",
      "metadata": {
        "id": "JZVE8Q0fOCgU",
        "colab_type": "text"
      },
      "source": [
        "Una vez generada una serie temporal, podemos modificar su frecuencia mediante la función `resample`."
      ]
    },
    {
      "cell_type": "code",
      "metadata": {
        "id": "4EhykOZYOCgU",
        "colab_type": "code",
        "outputId": "5ee5e200-03f4-4430-cdff-6aeb5cce05d8",
        "colab": {}
      },
      "source": [
        "dates = pd.date_range('01/01/2016', periods=10, freq='2D')\n",
        "ts = pd.Series(np.random.randn(10), index=dates)\n",
        "print(ts)\n",
        "print(\"Aparecen NaN porque no tenemos valores\")\n",
        "ts.resample('D').asfreq()"
      ],
      "execution_count": 0,
      "outputs": [
        {
          "output_type": "stream",
          "text": [
            "2016-01-01   -0.015755\n",
            "2016-01-03    0.013214\n",
            "2016-01-05    0.969068\n",
            "2016-01-07    0.453170\n",
            "2016-01-09    0.667492\n",
            "2016-01-11    0.416042\n",
            "2016-01-13   -0.253666\n",
            "2016-01-15   -0.838830\n",
            "2016-01-17   -1.155258\n",
            "2016-01-19    1.089449\n",
            "Freq: 2D, dtype: float64\n",
            "Aparecen NaN porque no tenemos valores\n"
          ],
          "name": "stdout"
        },
        {
          "output_type": "execute_result",
          "data": {
            "text/plain": [
              "2016-01-01   -0.015755\n",
              "2016-01-02         NaN\n",
              "2016-01-03    0.013214\n",
              "2016-01-04         NaN\n",
              "2016-01-05    0.969068\n",
              "2016-01-06         NaN\n",
              "2016-01-07    0.453170\n",
              "2016-01-08         NaN\n",
              "2016-01-09    0.667492\n",
              "2016-01-10         NaN\n",
              "2016-01-11    0.416042\n",
              "2016-01-12         NaN\n",
              "2016-01-13   -0.253666\n",
              "2016-01-14         NaN\n",
              "2016-01-15   -0.838830\n",
              "2016-01-16         NaN\n",
              "2016-01-17   -1.155258\n",
              "2016-01-18         NaN\n",
              "2016-01-19    1.089449\n",
              "Freq: D, dtype: float64"
            ]
          },
          "metadata": {
            "tags": []
          },
          "execution_count": 3
        }
      ]
    },
    {
      "cell_type": "code",
      "metadata": {
        "id": "HpzN9J-0OCgV",
        "colab_type": "code",
        "outputId": "314ae6b1-a6eb-421a-f9b2-7aee87963b91",
        "colab": {}
      },
      "source": [
        "ts1 = ts.resample('D').sum()\n",
        "ts1"
      ],
      "execution_count": 0,
      "outputs": [
        {
          "output_type": "execute_result",
          "data": {
            "text/plain": [
              "2016-01-01   -0.777941\n",
              "2016-01-02    0.000000\n",
              "2016-01-03    0.511966\n",
              "2016-01-04    0.000000\n",
              "2016-01-05    0.324801\n",
              "2016-01-06    0.000000\n",
              "2016-01-07    0.268071\n",
              "2016-01-08    0.000000\n",
              "2016-01-09    1.526135\n",
              "2016-01-10    0.000000\n",
              "2016-01-11    0.298451\n",
              "2016-01-12    0.000000\n",
              "2016-01-13   -1.415181\n",
              "2016-01-14    0.000000\n",
              "2016-01-15   -0.161969\n",
              "2016-01-16    0.000000\n",
              "2016-01-17   -0.932666\n",
              "2016-01-18    0.000000\n",
              "2016-01-19   -0.706003\n",
              "Freq: D, dtype: float64"
            ]
          },
          "metadata": {
            "tags": []
          },
          "execution_count": 88
        }
      ]
    },
    {
      "cell_type": "markdown",
      "metadata": {
        "id": "wQG4O33nOCgW",
        "colab_type": "text"
      },
      "source": [
        "Con una serie temporal puede resultarnos muy útil hacer slicing utilizando el time stamp. A la hora de especificarle el índice, puede recibir un string, un datetime o un timestamp, veamos algunos ejemplos:"
      ]
    },
    {
      "cell_type": "code",
      "metadata": {
        "id": "cKSA2_sHOCgW",
        "colab_type": "code",
        "outputId": "ce6dca68-0625-4a26-ee8b-0678cc7d0bf7",
        "colab": {}
      },
      "source": [
        "ts[datetime(2016, 1, 15)]"
      ],
      "execution_count": 0,
      "outputs": [
        {
          "output_type": "execute_result",
          "data": {
            "text/plain": [
              "-0.16196896765504962"
            ]
          },
          "metadata": {
            "tags": []
          },
          "execution_count": 86
        }
      ]
    },
    {
      "cell_type": "code",
      "metadata": {
        "id": "pZB-fjtlOCgX",
        "colab_type": "code",
        "outputId": "a0f40c17-ee69-43a0-9db4-f6f7e24d1797",
        "colab": {}
      },
      "source": [
        "# No muestra los 0.0 introducidos por el resample\n",
        "ts['15/01/2016':]"
      ],
      "execution_count": 0,
      "outputs": [
        {
          "output_type": "execute_result",
          "data": {
            "text/plain": [
              "2016-01-15   -0.161969\n",
              "2016-01-17   -0.932666\n",
              "2016-01-19   -0.706003\n",
              "Freq: 2D, dtype: float64"
            ]
          },
          "metadata": {
            "tags": []
          },
          "execution_count": 87
        }
      ]
    },
    {
      "cell_type": "markdown",
      "metadata": {
        "id": "z34TLw5wOCgY",
        "colab_type": "text"
      },
      "source": [
        "El manejo de las zonas horarias es una tarea un tanto desagradable. En Python, la información de la zona horaria viene proporcionada por la librería `pytz`."
      ]
    },
    {
      "cell_type": "code",
      "metadata": {
        "id": "X6ANP7YgOCgY",
        "colab_type": "code",
        "outputId": "90dd8ae5-57e8-468d-bad4-ee04c6997acc",
        "colab": {}
      },
      "source": [
        "import pytz\n",
        "rng = pd.date_range('3/9/2012', periods=6, freq='D')\n",
        "ts2 = pd.Series(np.random.randn(len(rng)), index=rng)\n",
        "ts2"
      ],
      "execution_count": 0,
      "outputs": [
        {
          "output_type": "execute_result",
          "data": {
            "text/plain": [
              "2012-03-09   -0.273156\n",
              "2012-03-10    0.556900\n",
              "2012-03-11    0.891750\n",
              "2012-03-12    1.436739\n",
              "2012-03-13    2.461707\n",
              "2012-03-14   -0.354499\n",
              "Freq: D, dtype: float64"
            ]
          },
          "metadata": {
            "tags": []
          },
          "execution_count": 99
        }
      ]
    },
    {
      "cell_type": "code",
      "metadata": {
        "id": "Sl51sbE3OCgZ",
        "colab_type": "code",
        "outputId": "fa15bb4e-2238-4897-a378-9fa554ff4bce",
        "colab": {}
      },
      "source": [
        "ts2 = ts2.tz_localize('UTC')\n",
        "ts3 = ts2.tz_convert('America/New_York')\n",
        "ts3"
      ],
      "execution_count": 0,
      "outputs": [
        {
          "output_type": "execute_result",
          "data": {
            "text/plain": [
              "2012-03-08 19:00:00-05:00   -0.273156\n",
              "2012-03-09 19:00:00-05:00    0.556900\n",
              "2012-03-10 19:00:00-05:00    0.891750\n",
              "2012-03-11 20:00:00-04:00    1.436739\n",
              "2012-03-12 20:00:00-04:00    2.461707\n",
              "2012-03-13 20:00:00-04:00   -0.354499\n",
              "Freq: D, dtype: float64"
            ]
          },
          "metadata": {
            "tags": []
          },
          "execution_count": 100
        }
      ]
    },
    {
      "cell_type": "markdown",
      "metadata": {
        "id": "15ILXODLOCga",
        "colab_type": "text"
      },
      "source": [
        "Se pueden consultar detalles adicionales sobre el soporte para datos de series temporales e intervalos temporales en la correspondiente [página de documentación](http://pandas.pydata.org/pandas-docs/stable/timeseries.html) de la biblioteca Pandas. En particular, el soporte para series irregulares y con puntos de comienzo y fin arbitrarios todavía es muy limitado y se espera que mejore sustancialmente en futuras versiones. En este sentido, el soporte que proporcionan en otros lenguajes como R paquetes tales como `xts` es mucho más completo y robusto, actualmente."
      ]
    },
    {
      "cell_type": "markdown",
      "metadata": {
        "id": "mGhsaEgwOCga",
        "colab_type": "text"
      },
      "source": [
        "## 4.6 Soporte para concatenación de operaciones"
      ]
    },
    {
      "cell_type": "markdown",
      "metadata": {
        "id": "vX05MmWXOCga",
        "colab_type": "text"
      },
      "source": [
        "En el lenguaje de programación R la introducción de los paquetes `dplyr` y `tidyr` han supuesto una verdadera revolución a la hora de permitirnos definir flujos de procesado y transformación de datos explícitamente, mediante el código programado. Aprovechándonos de otros paquetes adicionales, como `magrittr` que proporciona el operador `%>%` (*forward pipe*), la sintaxis que define flujos de tratamiento de datos se vuelve todavía más explícita y legible para el programador.\n",
        "\n",
        "En Python, la biblioteca Pandas no es ajena a esta influencia que comienza a imponerse en el mundo de la ciencia de datos. Así, operaciones como [group by](http://pandas.pydata.org/pandas-docs/stable/groupby.html) (con el paradigma *split-apply-combine*), [*merge*, *join* y concatenación](http://pandas.pydata.org/pandas-docs/stable/merging.html), así como las [transformaciones entre formato de datos *long* y *wide*](http://pandas.pydata.org/pandas-docs/stable/reshaping.html) también estan soportadas por una amplia colección de herramientas y métodos."
      ]
    },
    {
      "cell_type": "code",
      "metadata": {
        "id": "K4BmTHipOCga",
        "colab_type": "code",
        "outputId": "ab4ee7da-5ac9-4f9d-98db-f9eaef162c08",
        "colab": {}
      },
      "source": [
        "# Concatenación simple de Series con la función pd.concat()\n",
        "ser_1 = pd.Series(['A','B','C'], index=[1,2,3])\n",
        "ser_2 = pd.Series(['D','E','F'], index=[4,5,6])\n",
        "ser_1"
      ],
      "execution_count": 0,
      "outputs": [
        {
          "output_type": "execute_result",
          "data": {
            "text/plain": [
              "1    A\n",
              "2    B\n",
              "3    C\n",
              "dtype: object"
            ]
          },
          "metadata": {
            "tags": []
          },
          "execution_count": 69
        }
      ]
    },
    {
      "cell_type": "code",
      "metadata": {
        "id": "qYHXmJzGOCgb",
        "colab_type": "code",
        "outputId": "52ac1346-1de9-43ec-83bb-3ab14852c563",
        "colab": {}
      },
      "source": [
        "ser_2"
      ],
      "execution_count": 0,
      "outputs": [
        {
          "output_type": "execute_result",
          "data": {
            "text/plain": [
              "4    D\n",
              "5    E\n",
              "6    F\n",
              "dtype: object"
            ]
          },
          "metadata": {
            "tags": []
          },
          "execution_count": 70
        }
      ]
    },
    {
      "cell_type": "code",
      "metadata": {
        "id": "ryT9uryWOCgb",
        "colab_type": "code",
        "outputId": "feadb44b-8f1d-41bf-9b7f-83b3497bde21",
        "colab": {}
      },
      "source": [
        "ser_1_2 = pd.concat([ser_1, ser_2])\n",
        "ser_1_2"
      ],
      "execution_count": 0,
      "outputs": [
        {
          "output_type": "execute_result",
          "data": {
            "text/plain": [
              "1    A\n",
              "2    B\n",
              "3    C\n",
              "4    D\n",
              "5    E\n",
              "6    F\n",
              "dtype: object"
            ]
          },
          "metadata": {
            "tags": []
          },
          "execution_count": 71
        }
      ]
    },
    {
      "cell_type": "code",
      "metadata": {
        "id": "S5oGp_kbOCgc",
        "colab_type": "code",
        "outputId": "c36f71dc-b187-4504-a09a-43bee8a906ff",
        "colab": {}
      },
      "source": [
        "# Concatenación simple de DataFrame con pd.concat()\n",
        "dict_1 = {'A': ['A0', 'A1'],\n",
        "     'B': ['B0', 'B1']}\n",
        "df_1 = pd.DataFrame(dict_1)\n",
        "df_1"
      ],
      "execution_count": 0,
      "outputs": [
        {
          "output_type": "execute_result",
          "data": {
            "text/html": [
              "<div>\n",
              "<style>\n",
              "    .dataframe thead tr:only-child th {\n",
              "        text-align: right;\n",
              "    }\n",
              "\n",
              "    .dataframe thead th {\n",
              "        text-align: left;\n",
              "    }\n",
              "\n",
              "    .dataframe tbody tr th {\n",
              "        vertical-align: top;\n",
              "    }\n",
              "</style>\n",
              "<table border=\"1\" class=\"dataframe\">\n",
              "  <thead>\n",
              "    <tr style=\"text-align: right;\">\n",
              "      <th></th>\n",
              "      <th>A</th>\n",
              "      <th>B</th>\n",
              "    </tr>\n",
              "  </thead>\n",
              "  <tbody>\n",
              "    <tr>\n",
              "      <th>0</th>\n",
              "      <td>A0</td>\n",
              "      <td>B0</td>\n",
              "    </tr>\n",
              "    <tr>\n",
              "      <th>1</th>\n",
              "      <td>A1</td>\n",
              "      <td>B1</td>\n",
              "    </tr>\n",
              "  </tbody>\n",
              "</table>\n",
              "</div>"
            ],
            "text/plain": [
              "    A   B\n",
              "0  A0  B0\n",
              "1  A1  B1"
            ]
          },
          "metadata": {
            "tags": []
          },
          "execution_count": 72
        }
      ]
    },
    {
      "cell_type": "code",
      "metadata": {
        "id": "Ea-DNPOTOCgd",
        "colab_type": "code",
        "outputId": "c365e96c-4c0c-4bab-9637-ba25581a544a",
        "colab": {}
      },
      "source": [
        "dict_2 = {'C': ['C0', 'C1'],\n",
        "     'D': ['D0', 'D1']}\n",
        "df_2 = pd.DataFrame(dict_2)\n",
        "df_2"
      ],
      "execution_count": 0,
      "outputs": [
        {
          "output_type": "execute_result",
          "data": {
            "text/html": [
              "<div>\n",
              "<style>\n",
              "    .dataframe thead tr:only-child th {\n",
              "        text-align: right;\n",
              "    }\n",
              "\n",
              "    .dataframe thead th {\n",
              "        text-align: left;\n",
              "    }\n",
              "\n",
              "    .dataframe tbody tr th {\n",
              "        vertical-align: top;\n",
              "    }\n",
              "</style>\n",
              "<table border=\"1\" class=\"dataframe\">\n",
              "  <thead>\n",
              "    <tr style=\"text-align: right;\">\n",
              "      <th></th>\n",
              "      <th>C</th>\n",
              "      <th>D</th>\n",
              "    </tr>\n",
              "  </thead>\n",
              "  <tbody>\n",
              "    <tr>\n",
              "      <th>0</th>\n",
              "      <td>C0</td>\n",
              "      <td>D0</td>\n",
              "    </tr>\n",
              "    <tr>\n",
              "      <th>1</th>\n",
              "      <td>C1</td>\n",
              "      <td>D1</td>\n",
              "    </tr>\n",
              "  </tbody>\n",
              "</table>\n",
              "</div>"
            ],
            "text/plain": [
              "    C   D\n",
              "0  C0  D0\n",
              "1  C1  D1"
            ]
          },
          "metadata": {
            "tags": []
          },
          "execution_count": 73
        }
      ]
    },
    {
      "cell_type": "code",
      "metadata": {
        "id": "2WExNuJXOCgd",
        "colab_type": "code",
        "outputId": "8576c72b-327c-4161-e3fb-89cdab1b374e",
        "colab": {}
      },
      "source": [
        "df_1_2 = pd.concat([df_1, df_2], axis=0)\n",
        "df_1_2"
      ],
      "execution_count": 0,
      "outputs": [
        {
          "output_type": "execute_result",
          "data": {
            "text/html": [
              "<div>\n",
              "<style>\n",
              "    .dataframe thead tr:only-child th {\n",
              "        text-align: right;\n",
              "    }\n",
              "\n",
              "    .dataframe thead th {\n",
              "        text-align: left;\n",
              "    }\n",
              "\n",
              "    .dataframe tbody tr th {\n",
              "        vertical-align: top;\n",
              "    }\n",
              "</style>\n",
              "<table border=\"1\" class=\"dataframe\">\n",
              "  <thead>\n",
              "    <tr style=\"text-align: right;\">\n",
              "      <th></th>\n",
              "      <th>A</th>\n",
              "      <th>B</th>\n",
              "      <th>C</th>\n",
              "      <th>D</th>\n",
              "    </tr>\n",
              "  </thead>\n",
              "  <tbody>\n",
              "    <tr>\n",
              "      <th>0</th>\n",
              "      <td>A0</td>\n",
              "      <td>B0</td>\n",
              "      <td>NaN</td>\n",
              "      <td>NaN</td>\n",
              "    </tr>\n",
              "    <tr>\n",
              "      <th>1</th>\n",
              "      <td>A1</td>\n",
              "      <td>B1</td>\n",
              "      <td>NaN</td>\n",
              "      <td>NaN</td>\n",
              "    </tr>\n",
              "    <tr>\n",
              "      <th>0</th>\n",
              "      <td>NaN</td>\n",
              "      <td>NaN</td>\n",
              "      <td>C0</td>\n",
              "      <td>D0</td>\n",
              "    </tr>\n",
              "    <tr>\n",
              "      <th>1</th>\n",
              "      <td>NaN</td>\n",
              "      <td>NaN</td>\n",
              "      <td>C1</td>\n",
              "      <td>D1</td>\n",
              "    </tr>\n",
              "  </tbody>\n",
              "</table>\n",
              "</div>"
            ],
            "text/plain": [
              "     A    B    C    D\n",
              "0   A0   B0  NaN  NaN\n",
              "1   A1   B1  NaN  NaN\n",
              "0  NaN  NaN   C0   D0\n",
              "1  NaN  NaN   C1   D1"
            ]
          },
          "metadata": {
            "tags": []
          },
          "execution_count": 74
        }
      ]
    },
    {
      "cell_type": "code",
      "metadata": {
        "id": "bpdB5M0gOCge",
        "colab_type": "code",
        "outputId": "6c90a590-efb0-452c-e918-f56a3415bbb5",
        "colab": {}
      },
      "source": [
        "df_1_2 = pd.concat([df_1, df_2], axis=1)\n",
        "df_1_2"
      ],
      "execution_count": 0,
      "outputs": [
        {
          "output_type": "execute_result",
          "data": {
            "text/html": [
              "<div>\n",
              "<style>\n",
              "    .dataframe thead tr:only-child th {\n",
              "        text-align: right;\n",
              "    }\n",
              "\n",
              "    .dataframe thead th {\n",
              "        text-align: left;\n",
              "    }\n",
              "\n",
              "    .dataframe tbody tr th {\n",
              "        vertical-align: top;\n",
              "    }\n",
              "</style>\n",
              "<table border=\"1\" class=\"dataframe\">\n",
              "  <thead>\n",
              "    <tr style=\"text-align: right;\">\n",
              "      <th></th>\n",
              "      <th>A</th>\n",
              "      <th>B</th>\n",
              "      <th>C</th>\n",
              "      <th>D</th>\n",
              "    </tr>\n",
              "  </thead>\n",
              "  <tbody>\n",
              "    <tr>\n",
              "      <th>0</th>\n",
              "      <td>A0</td>\n",
              "      <td>B0</td>\n",
              "      <td>C0</td>\n",
              "      <td>D0</td>\n",
              "    </tr>\n",
              "    <tr>\n",
              "      <th>1</th>\n",
              "      <td>A1</td>\n",
              "      <td>B1</td>\n",
              "      <td>C1</td>\n",
              "      <td>D1</td>\n",
              "    </tr>\n",
              "  </tbody>\n",
              "</table>\n",
              "</div>"
            ],
            "text/plain": [
              "    A   B   C   D\n",
              "0  A0  B0  C0  D0\n",
              "1  A1  B1  C1  D1"
            ]
          },
          "metadata": {
            "tags": []
          },
          "execution_count": 75
        }
      ]
    },
    {
      "cell_type": "code",
      "metadata": {
        "id": "V_QGoevFOCgf",
        "colab_type": "code",
        "outputId": "72a27754-53b9-44db-c9d7-c8fc6dbfc662",
        "colab": {}
      },
      "source": [
        "# Ejemplo de pd.merge() con dos DataFrame\n",
        "dict_1 = {'empleado': ['Ana', 'Juan', 'María', 'Carlos'],\n",
        "       'dpto.': ['Contabilidad', 'RRHH', 'Marketing', 'RRHH']}\n",
        "df_1 = pd.DataFrame(dict_1)\n",
        "dict_2 = {'empleado': ['Ana', 'Juan', 'María', 'Carlos'],\n",
        "       'ext.': [6895, 6745, 6855, 6746]}\n",
        "df_2 = pd.DataFrame(dict_2)\n",
        "df_1_2 = pd.merge(df_1, df_2)\n",
        "df_1_2"
      ],
      "execution_count": 0,
      "outputs": [
        {
          "output_type": "execute_result",
          "data": {
            "text/html": [
              "<div>\n",
              "<style>\n",
              "    .dataframe thead tr:only-child th {\n",
              "        text-align: right;\n",
              "    }\n",
              "\n",
              "    .dataframe thead th {\n",
              "        text-align: left;\n",
              "    }\n",
              "\n",
              "    .dataframe tbody tr th {\n",
              "        vertical-align: top;\n",
              "    }\n",
              "</style>\n",
              "<table border=\"1\" class=\"dataframe\">\n",
              "  <thead>\n",
              "    <tr style=\"text-align: right;\">\n",
              "      <th></th>\n",
              "      <th>dpto.</th>\n",
              "      <th>empleado</th>\n",
              "      <th>ext.</th>\n",
              "    </tr>\n",
              "  </thead>\n",
              "  <tbody>\n",
              "    <tr>\n",
              "      <th>0</th>\n",
              "      <td>Contabilidad</td>\n",
              "      <td>Ana</td>\n",
              "      <td>6895</td>\n",
              "    </tr>\n",
              "    <tr>\n",
              "      <th>1</th>\n",
              "      <td>RRHH</td>\n",
              "      <td>Juan</td>\n",
              "      <td>6745</td>\n",
              "    </tr>\n",
              "    <tr>\n",
              "      <th>2</th>\n",
              "      <td>Marketing</td>\n",
              "      <td>María</td>\n",
              "      <td>6855</td>\n",
              "    </tr>\n",
              "    <tr>\n",
              "      <th>3</th>\n",
              "      <td>RRHH</td>\n",
              "      <td>Carlos</td>\n",
              "      <td>6746</td>\n",
              "    </tr>\n",
              "  </tbody>\n",
              "</table>\n",
              "</div>"
            ],
            "text/plain": [
              "          dpto. empleado  ext.\n",
              "0  Contabilidad      Ana  6895\n",
              "1          RRHH     Juan  6745\n",
              "2     Marketing    María  6855\n",
              "3          RRHH   Carlos  6746"
            ]
          },
          "metadata": {
            "tags": []
          },
          "execution_count": 76
        }
      ]
    },
    {
      "cell_type": "code",
      "metadata": {
        "id": "O7D12oYXOCgf",
        "colab_type": "code",
        "outputId": "982478b0-903b-487d-a2d0-96ff799a14f4",
        "colab": {}
      },
      "source": [
        "# Ejemplo de join() con dos DataFrame\n",
        "dict_1 = {'dpto.': ['Contabilidad', 'RRHH', 'Marketing', 'RRHH']}\n",
        "dict_2 = {'ext.': [6895, 6745, 6855, 6746]}\n",
        "df_1 = pd.DataFrame(dict_1, index=['Ana', 'Juan', 'María', 'Carlos'])\n",
        "df_2 = pd.DataFrame(dict_2, index=['Ana', 'Juan', 'María', 'Carlos'])\n",
        "df_1.join(df_2)"
      ],
      "execution_count": 0,
      "outputs": [
        {
          "output_type": "execute_result",
          "data": {
            "text/html": [
              "<div>\n",
              "<style>\n",
              "    .dataframe thead tr:only-child th {\n",
              "        text-align: right;\n",
              "    }\n",
              "\n",
              "    .dataframe thead th {\n",
              "        text-align: left;\n",
              "    }\n",
              "\n",
              "    .dataframe tbody tr th {\n",
              "        vertical-align: top;\n",
              "    }\n",
              "</style>\n",
              "<table border=\"1\" class=\"dataframe\">\n",
              "  <thead>\n",
              "    <tr style=\"text-align: right;\">\n",
              "      <th></th>\n",
              "      <th>dpto.</th>\n",
              "      <th>ext.</th>\n",
              "    </tr>\n",
              "  </thead>\n",
              "  <tbody>\n",
              "    <tr>\n",
              "      <th>Ana</th>\n",
              "      <td>Contabilidad</td>\n",
              "      <td>6895</td>\n",
              "    </tr>\n",
              "    <tr>\n",
              "      <th>Juan</th>\n",
              "      <td>RRHH</td>\n",
              "      <td>6745</td>\n",
              "    </tr>\n",
              "    <tr>\n",
              "      <th>María</th>\n",
              "      <td>Marketing</td>\n",
              "      <td>6855</td>\n",
              "    </tr>\n",
              "    <tr>\n",
              "      <th>Carlos</th>\n",
              "      <td>RRHH</td>\n",
              "      <td>6746</td>\n",
              "    </tr>\n",
              "  </tbody>\n",
              "</table>\n",
              "</div>"
            ],
            "text/plain": [
              "               dpto.  ext.\n",
              "Ana     Contabilidad  6895\n",
              "Juan            RRHH  6745\n",
              "María      Marketing  6855\n",
              "Carlos          RRHH  6746"
            ]
          },
          "metadata": {
            "tags": []
          },
          "execution_count": 77
        }
      ]
    },
    {
      "cell_type": "markdown",
      "metadata": {
        "id": "DOuINyYEOCgg",
        "colab_type": "text"
      },
      "source": [
        "Notablemente, la **concatenación de operaciones y métodos** (similar a la que conseguimos en R con el operador `%>%`) se puede conseguir también en Pandas mediante la [**función `pipe()`**](http://pandas.pydata.org/pandas-docs/stable/basics.html?highlight=pipe#function-application):"
      ]
    },
    {
      "cell_type": "markdown",
      "metadata": {
        "id": "sQlcK5lAOCgg",
        "colab_type": "text"
      },
      "source": [
        "```python\n",
        "# f, g, y h son funciones que devuelven ``DataFrames``\n",
        ">>> f(g(h(df), arg1=1), arg2=2, arg3=3)\n",
        "```\n",
        "```python\n",
        "# Versión con operadores concatenados mediante pipe()\n",
        "(df.pipe(h)\n",
        "       .pipe(g, arg1=1)\n",
        "       .pipe(f, arg2=2, arg3=3)\n",
        "    )\n",
        "```"
      ]
    },
    {
      "cell_type": "markdown",
      "metadata": {
        "id": "auI0-r7eOCgg",
        "colab_type": "text"
      },
      "source": [
        "## 4.7 Ejemplo: Análisis de datos de servicios de taxi en NYC"
      ]
    },
    {
      "cell_type": "markdown",
      "metadata": {
        "id": "r3W7mggJOCgh",
        "colab_type": "text"
      },
      "source": [
        "En este ejemplo, realizamos un análisis básico de datos públicos sobre el servicio de Yellow taxis en NYC, EE.UU., durante el mes de enero de 2015. Este ejemplo es similar al que presenta C. Doig (Senior Data Scientist en Continuum Analytics), en su [primer notebook del tutorial DSS](https://github.com/chdoig/dss-scaling-tutorial/blob/master/1-Scaling%20Data%20Analysis/1-pandas.ipynb) disponible en GitHub.\n",
        "\n",
        "Nosotros usaremos una muestra del primer millón de filas (aprox. 150 MB) del archivo completo para dicho mes. En el apartado [4.8 Referencias](), ofrecemos la URL para descargar el dataset completo de ese mes, para que los alumnos que lo deseen descarguen el archivo completo y repliquen el análisis sobre todos los datos."
      ]
    },
    {
      "cell_type": "code",
      "metadata": {
        "id": "-vFfG0OLOCgh",
        "colab_type": "code",
        "outputId": "14770426-319a-4f49-ff71-790dc94f4c42",
        "colab": {}
      },
      "source": [
        "# Comprobar versión de Pandas que tenemos cargada\n",
        "pd.__version__"
      ],
      "execution_count": 0,
      "outputs": [
        {
          "output_type": "execute_result",
          "data": {
            "text/plain": [
              "'0.20.1'"
            ]
          },
          "metadata": {
            "tags": []
          },
          "execution_count": 78
        }
      ]
    },
    {
      "cell_type": "code",
      "metadata": {
        "id": "K3tJveaROCgh",
        "colab_type": "code",
        "colab": {}
      },
      "source": [
        "df = pd.read_csv('data/yellow_tripdata_2015-01-excerpt.csv')"
      ],
      "execution_count": 0,
      "outputs": []
    },
    {
      "cell_type": "code",
      "metadata": {
        "id": "oGu6Yj3hOCgi",
        "colab_type": "code",
        "outputId": "b5ff85a5-1d5a-4658-a259-11e7e90c2c65",
        "colab": {}
      },
      "source": [
        "df.head()"
      ],
      "execution_count": 0,
      "outputs": [
        {
          "output_type": "execute_result",
          "data": {
            "text/html": [
              "<div>\n",
              "<style>\n",
              "    .dataframe thead tr:only-child th {\n",
              "        text-align: right;\n",
              "    }\n",
              "\n",
              "    .dataframe thead th {\n",
              "        text-align: left;\n",
              "    }\n",
              "\n",
              "    .dataframe tbody tr th {\n",
              "        vertical-align: top;\n",
              "    }\n",
              "</style>\n",
              "<table border=\"1\" class=\"dataframe\">\n",
              "  <thead>\n",
              "    <tr style=\"text-align: right;\">\n",
              "      <th></th>\n",
              "      <th>VendorID</th>\n",
              "      <th>tpep_pickup_datetime</th>\n",
              "      <th>tpep_dropoff_datetime</th>\n",
              "      <th>passenger_count</th>\n",
              "      <th>trip_distance</th>\n",
              "      <th>pickup_longitude</th>\n",
              "      <th>pickup_latitude</th>\n",
              "      <th>RateCodeID</th>\n",
              "      <th>store_and_fwd_flag</th>\n",
              "      <th>dropoff_longitude</th>\n",
              "      <th>dropoff_latitude</th>\n",
              "      <th>payment_type</th>\n",
              "      <th>fare_amount</th>\n",
              "      <th>extra</th>\n",
              "      <th>mta_tax</th>\n",
              "      <th>tip_amount</th>\n",
              "      <th>tolls_amount</th>\n",
              "      <th>improvement_surcharge</th>\n",
              "      <th>total_amount</th>\n",
              "    </tr>\n",
              "  </thead>\n",
              "  <tbody>\n",
              "    <tr>\n",
              "      <th>0</th>\n",
              "      <td>2</td>\n",
              "      <td>2015-01-15 19:05:39</td>\n",
              "      <td>2015-01-15 19:23:42</td>\n",
              "      <td>1</td>\n",
              "      <td>1.59</td>\n",
              "      <td>-73.993896</td>\n",
              "      <td>40.750111</td>\n",
              "      <td>1</td>\n",
              "      <td>N</td>\n",
              "      <td>-73.974785</td>\n",
              "      <td>40.750618</td>\n",
              "      <td>1</td>\n",
              "      <td>12.0</td>\n",
              "      <td>1.0</td>\n",
              "      <td>0.5</td>\n",
              "      <td>3.25</td>\n",
              "      <td>0.0</td>\n",
              "      <td>0.3</td>\n",
              "      <td>17.05</td>\n",
              "    </tr>\n",
              "    <tr>\n",
              "      <th>1</th>\n",
              "      <td>1</td>\n",
              "      <td>2015-01-10 20:33:38</td>\n",
              "      <td>2015-01-10 20:53:28</td>\n",
              "      <td>1</td>\n",
              "      <td>3.30</td>\n",
              "      <td>-74.001648</td>\n",
              "      <td>40.724243</td>\n",
              "      <td>1</td>\n",
              "      <td>N</td>\n",
              "      <td>-73.994415</td>\n",
              "      <td>40.759109</td>\n",
              "      <td>1</td>\n",
              "      <td>14.5</td>\n",
              "      <td>0.5</td>\n",
              "      <td>0.5</td>\n",
              "      <td>2.00</td>\n",
              "      <td>0.0</td>\n",
              "      <td>0.3</td>\n",
              "      <td>17.80</td>\n",
              "    </tr>\n",
              "    <tr>\n",
              "      <th>2</th>\n",
              "      <td>1</td>\n",
              "      <td>2015-01-10 20:33:38</td>\n",
              "      <td>2015-01-10 20:43:41</td>\n",
              "      <td>1</td>\n",
              "      <td>1.80</td>\n",
              "      <td>-73.963341</td>\n",
              "      <td>40.802788</td>\n",
              "      <td>1</td>\n",
              "      <td>N</td>\n",
              "      <td>-73.951820</td>\n",
              "      <td>40.824413</td>\n",
              "      <td>2</td>\n",
              "      <td>9.5</td>\n",
              "      <td>0.5</td>\n",
              "      <td>0.5</td>\n",
              "      <td>0.00</td>\n",
              "      <td>0.0</td>\n",
              "      <td>0.3</td>\n",
              "      <td>10.80</td>\n",
              "    </tr>\n",
              "    <tr>\n",
              "      <th>3</th>\n",
              "      <td>1</td>\n",
              "      <td>2015-01-10 20:33:39</td>\n",
              "      <td>2015-01-10 20:35:31</td>\n",
              "      <td>1</td>\n",
              "      <td>0.50</td>\n",
              "      <td>-74.009087</td>\n",
              "      <td>40.713818</td>\n",
              "      <td>1</td>\n",
              "      <td>N</td>\n",
              "      <td>-74.004326</td>\n",
              "      <td>40.719986</td>\n",
              "      <td>2</td>\n",
              "      <td>3.5</td>\n",
              "      <td>0.5</td>\n",
              "      <td>0.5</td>\n",
              "      <td>0.00</td>\n",
              "      <td>0.0</td>\n",
              "      <td>0.3</td>\n",
              "      <td>4.80</td>\n",
              "    </tr>\n",
              "    <tr>\n",
              "      <th>4</th>\n",
              "      <td>1</td>\n",
              "      <td>2015-01-10 20:33:39</td>\n",
              "      <td>2015-01-10 20:52:58</td>\n",
              "      <td>1</td>\n",
              "      <td>3.00</td>\n",
              "      <td>-73.971176</td>\n",
              "      <td>40.762428</td>\n",
              "      <td>1</td>\n",
              "      <td>N</td>\n",
              "      <td>-74.004181</td>\n",
              "      <td>40.742653</td>\n",
              "      <td>2</td>\n",
              "      <td>15.0</td>\n",
              "      <td>0.5</td>\n",
              "      <td>0.5</td>\n",
              "      <td>0.00</td>\n",
              "      <td>0.0</td>\n",
              "      <td>0.3</td>\n",
              "      <td>16.30</td>\n",
              "    </tr>\n",
              "  </tbody>\n",
              "</table>\n",
              "</div>"
            ],
            "text/plain": [
              "   VendorID tpep_pickup_datetime tpep_dropoff_datetime  passenger_count  \\\n",
              "0         2  2015-01-15 19:05:39   2015-01-15 19:23:42                1   \n",
              "1         1  2015-01-10 20:33:38   2015-01-10 20:53:28                1   \n",
              "2         1  2015-01-10 20:33:38   2015-01-10 20:43:41                1   \n",
              "3         1  2015-01-10 20:33:39   2015-01-10 20:35:31                1   \n",
              "4         1  2015-01-10 20:33:39   2015-01-10 20:52:58                1   \n",
              "\n",
              "   trip_distance  pickup_longitude  pickup_latitude  RateCodeID  \\\n",
              "0           1.59        -73.993896        40.750111           1   \n",
              "1           3.30        -74.001648        40.724243           1   \n",
              "2           1.80        -73.963341        40.802788           1   \n",
              "3           0.50        -74.009087        40.713818           1   \n",
              "4           3.00        -73.971176        40.762428           1   \n",
              "\n",
              "  store_and_fwd_flag  dropoff_longitude  dropoff_latitude  payment_type  \\\n",
              "0                  N         -73.974785         40.750618             1   \n",
              "1                  N         -73.994415         40.759109             1   \n",
              "2                  N         -73.951820         40.824413             2   \n",
              "3                  N         -74.004326         40.719986             2   \n",
              "4                  N         -74.004181         40.742653             2   \n",
              "\n",
              "   fare_amount  extra  mta_tax  tip_amount  tolls_amount  \\\n",
              "0         12.0    1.0      0.5        3.25           0.0   \n",
              "1         14.5    0.5      0.5        2.00           0.0   \n",
              "2          9.5    0.5      0.5        0.00           0.0   \n",
              "3          3.5    0.5      0.5        0.00           0.0   \n",
              "4         15.0    0.5      0.5        0.00           0.0   \n",
              "\n",
              "   improvement_surcharge  total_amount  \n",
              "0                    0.3         17.05  \n",
              "1                    0.3         17.80  \n",
              "2                    0.3         10.80  \n",
              "3                    0.3          4.80  \n",
              "4                    0.3         16.30  "
            ]
          },
          "metadata": {
            "tags": []
          },
          "execution_count": 80
        }
      ]
    },
    {
      "cell_type": "code",
      "metadata": {
        "id": "nTu9HdWTOCgj",
        "colab_type": "code",
        "outputId": "2a8a2fbb-fa2a-45b4-8478-460c0d6497d2",
        "colab": {}
      },
      "source": [
        "# Información sobre todos los tipos de datos de cada columna\n",
        "df.info()"
      ],
      "execution_count": 0,
      "outputs": [
        {
          "output_type": "stream",
          "text": [
            "<class 'pandas.core.frame.DataFrame'>\n",
            "RangeIndex: 1000000 entries, 0 to 999999\n",
            "Data columns (total 19 columns):\n",
            "VendorID                 1000000 non-null int64\n",
            "tpep_pickup_datetime     1000000 non-null object\n",
            "tpep_dropoff_datetime    1000000 non-null object\n",
            "passenger_count          1000000 non-null int64\n",
            "trip_distance            1000000 non-null float64\n",
            "pickup_longitude         1000000 non-null float64\n",
            "pickup_latitude          1000000 non-null float64\n",
            "RateCodeID               1000000 non-null int64\n",
            "store_and_fwd_flag       1000000 non-null object\n",
            "dropoff_longitude        1000000 non-null float64\n",
            "dropoff_latitude         1000000 non-null float64\n",
            "payment_type             1000000 non-null int64\n",
            "fare_amount              1000000 non-null float64\n",
            "extra                    1000000 non-null float64\n",
            "mta_tax                  1000000 non-null float64\n",
            "tip_amount               1000000 non-null float64\n",
            "tolls_amount             1000000 non-null float64\n",
            "improvement_surcharge    1000000 non-null float64\n",
            "total_amount             1000000 non-null float64\n",
            "dtypes: float64(12), int64(4), object(3)\n",
            "memory usage: 145.0+ MB\n"
          ],
          "name": "stdout"
        }
      ]
    },
    {
      "cell_type": "markdown",
      "metadata": {
        "collapsed": true,
        "id": "callU0iNOCgj",
        "colab_type": "text"
      },
      "source": [
        "### Nombres de las columnas en el dataset"
      ]
    },
    {
      "cell_type": "code",
      "metadata": {
        "id": "-jcv_mwZOCgj",
        "colab_type": "code",
        "outputId": "509886a4-e016-4aab-8a8a-22742428a8ae",
        "colab": {}
      },
      "source": [
        "df.columns"
      ],
      "execution_count": 0,
      "outputs": [
        {
          "output_type": "execute_result",
          "data": {
            "text/plain": [
              "Index(['VendorID', 'tpep_pickup_datetime', 'tpep_dropoff_datetime',\n",
              "       'passenger_count', 'trip_distance', 'pickup_longitude',\n",
              "       'pickup_latitude', 'RateCodeID', 'store_and_fwd_flag',\n",
              "       'dropoff_longitude', 'dropoff_latitude', 'payment_type', 'fare_amount',\n",
              "       'extra', 'mta_tax', 'tip_amount', 'tolls_amount',\n",
              "       'improvement_surcharge', 'total_amount'],\n",
              "      dtype='object')"
            ]
          },
          "metadata": {
            "tags": []
          },
          "execution_count": 82
        }
      ]
    },
    {
      "cell_type": "markdown",
      "metadata": {
        "collapsed": true,
        "id": "jTrxCMO4OCgk",
        "colab_type": "text"
      },
      "source": [
        "### Número total de pasajeros ese mes"
      ]
    },
    {
      "cell_type": "code",
      "metadata": {
        "id": "0BVaus_COCgk",
        "colab_type": "code",
        "outputId": "a555b12b-68e6-41cd-d132-6fdfeeba25d5",
        "colab": {}
      },
      "source": [
        "df.passenger_count.sum()\n",
        "# Alternativamente\n",
        "df['passenger_count'].sum()"
      ],
      "execution_count": 0,
      "outputs": [
        {
          "output_type": "execute_result",
          "data": {
            "text/plain": [
              "1680560"
            ]
          },
          "metadata": {
            "tags": []
          },
          "execution_count": 83
        }
      ]
    },
    {
      "cell_type": "markdown",
      "metadata": {
        "collapsed": true,
        "id": "gw12D1-JOCgl",
        "colab_type": "text"
      },
      "source": [
        "### Diferentes métodos de pago, número de clientes que usó cada método"
      ]
    },
    {
      "cell_type": "code",
      "metadata": {
        "id": "rWO3YSHpOCgl",
        "colab_type": "code",
        "outputId": "96b3dbbd-882b-4429-932e-40de60d7095c",
        "colab": {}
      },
      "source": [
        "df.payment_type.unique()"
      ],
      "execution_count": 0,
      "outputs": [
        {
          "output_type": "execute_result",
          "data": {
            "text/plain": [
              "array([1, 2, 3, 4], dtype=int64)"
            ]
          },
          "metadata": {
            "tags": []
          },
          "execution_count": 84
        }
      ]
    },
    {
      "cell_type": "code",
      "metadata": {
        "id": "ofokTBqyOCgm",
        "colab_type": "code",
        "outputId": "3ff61286-585c-42e3-c2f3-d7023a6d80d1",
        "colab": {}
      },
      "source": [
        "df.payment_type.value_counts()"
      ],
      "execution_count": 0,
      "outputs": [
        {
          "output_type": "execute_result",
          "data": {
            "text/plain": [
              "1    617588\n",
              "2    378448\n",
              "3      3049\n",
              "4       915\n",
              "Name: payment_type, dtype: int64"
            ]
          },
          "metadata": {
            "tags": []
          },
          "execution_count": 85
        }
      ]
    },
    {
      "cell_type": "markdown",
      "metadata": {
        "id": "ErJa9YUgOCgm",
        "colab_type": "text"
      },
      "source": [
        "### % de propina promedio, según la hora del día"
      ]
    },
    {
      "cell_type": "code",
      "metadata": {
        "id": "_rYdmmqhOCgm",
        "colab_type": "code",
        "outputId": "8aba0c4c-2055-4cc0-dd83-f188837bd830",
        "colab": {}
      },
      "source": [
        "# Ratio propina/valor de la carrera\n",
        "# El tipo de pago 2 no tiene propina en muchos casos, así que lo filtramos\n",
        "df2 = df[(df.payment_type != 2) & (df.fare_amount > 0)]\n",
        "df2 = df2.assign(tip_fraction=df2.tip_amount / df2.fare_amount)  # ratio of tip to fare\n",
        "\n",
        "df2.tpep_pickup_datetime = df2.tpep_pickup_datetime.astype('datetime64[ns]')\n",
        "hour = df2.groupby(df2.tpep_pickup_datetime.dt.hour).tip_fraction.mean()\n",
        "\n",
        "hour.head()"
      ],
      "execution_count": 0,
      "outputs": [
        {
          "output_type": "execute_result",
          "data": {
            "text/plain": [
              "tpep_pickup_datetime\n",
              "0    0.210879\n",
              "1    0.330759\n",
              "2    0.209751\n",
              "3    0.212536\n",
              "4    0.214229\n",
              "Name: tip_fraction, dtype: float64"
            ]
          },
          "metadata": {
            "tags": []
          },
          "execution_count": 86
        }
      ]
    },
    {
      "cell_type": "markdown",
      "metadata": {
        "id": "Eqy16TWzOCgn",
        "colab_type": "text"
      },
      "source": [
        "### Representación gŕafica con Bokeh"
      ]
    },
    {
      "cell_type": "code",
      "metadata": {
        "id": "0YlMr3KxOCgo",
        "colab_type": "code",
        "outputId": "e7f42542-3ced-45b1-9042-8fd452f00dba",
        "colab": {}
      },
      "source": [
        "from bokeh.plotting import figure, output_notebook, show\n",
        "output_notebook()\n",
        "\n",
        "fig = figure(title='Tip Fraction', \n",
        "             x_axis_label='Hour of day', \n",
        "             y_axis_label='Tip Fraction')\n",
        "fig.line(x=hour.index, y=hour, line_width=3)\n",
        "fig.y_range.start = 0\n",
        "\n",
        "show(fig)"
      ],
      "execution_count": 0,
      "outputs": [
        {
          "output_type": "display_data",
          "data": {
            "text/html": [
              "\n",
              "    <div class=\"bk-root\">\n",
              "        <a href=\"https://bokeh.pydata.org\" target=\"_blank\" class=\"bk-logo bk-logo-small bk-logo-notebook\"></a>\n",
              "        <span id=\"1201be2c-6adf-41b6-bf74-f4c23099721e\">Loading BokehJS ...</span>\n",
              "    </div>"
            ]
          },
          "metadata": {
            "tags": []
          }
        },
        {
          "output_type": "display_data",
          "data": {
            "application/javascript": [
              "\n",
              "(function(root) {\n",
              "  function now() {\n",
              "    return new Date();\n",
              "  }\n",
              "\n",
              "  var force = true;\n",
              "\n",
              "  if (typeof (root._bokeh_onload_callbacks) === \"undefined\" || force === true) {\n",
              "    root._bokeh_onload_callbacks = [];\n",
              "    root._bokeh_is_loading = undefined;\n",
              "  }\n",
              "\n",
              "\n",
              "  \n",
              "  if (typeof (root._bokeh_timeout) === \"undefined\" || force === true) {\n",
              "    root._bokeh_timeout = Date.now() + 5000;\n",
              "    root._bokeh_failed_load = false;\n",
              "  }\n",
              "\n",
              "  var NB_LOAD_WARNING = {'data': {'text/html':\n",
              "     \"<div style='background-color: #fdd'>\\n\"+\n",
              "     \"<p>\\n\"+\n",
              "     \"BokehJS does not appear to have successfully loaded. If loading BokehJS from CDN, this \\n\"+\n",
              "     \"may be due to a slow or bad network connection. Possible fixes:\\n\"+\n",
              "     \"</p>\\n\"+\n",
              "     \"<ul>\\n\"+\n",
              "     \"<li>re-rerun `output_notebook()` to attempt to load from CDN again, or</li>\\n\"+\n",
              "     \"<li>use INLINE resources instead, as so:</li>\\n\"+\n",
              "     \"</ul>\\n\"+\n",
              "     \"<code>\\n\"+\n",
              "     \"from bokeh.resources import INLINE\\n\"+\n",
              "     \"output_notebook(resources=INLINE)\\n\"+\n",
              "     \"</code>\\n\"+\n",
              "     \"</div>\"}};\n",
              "\n",
              "  function display_loaded() {\n",
              "    if (root.Bokeh !== undefined) {\n",
              "      var el = document.getElementById(\"1201be2c-6adf-41b6-bf74-f4c23099721e\");\n",
              "      if (el != null) {\n",
              "        el.textContent = \"BokehJS \" + Bokeh.version + \" successfully loaded.\";\n",
              "      }\n",
              "    } else if (Date.now() < root._bokeh_timeout) {\n",
              "      setTimeout(display_loaded, 100)\n",
              "    }\n",
              "  }\n",
              "\n",
              "\n",
              "  function run_callbacks() {\n",
              "    try {\n",
              "      root._bokeh_onload_callbacks.forEach(function(callback) { callback() });\n",
              "    }\n",
              "    finally {\n",
              "      delete root._bokeh_onload_callbacks\n",
              "    }\n",
              "    console.info(\"Bokeh: all callbacks have finished\");\n",
              "  }\n",
              "\n",
              "  function load_libs(js_urls, callback) {\n",
              "    root._bokeh_onload_callbacks.push(callback);\n",
              "    if (root._bokeh_is_loading > 0) {\n",
              "      console.log(\"Bokeh: BokehJS is being loaded, scheduling callback at\", now());\n",
              "      return null;\n",
              "    }\n",
              "    if (js_urls == null || js_urls.length === 0) {\n",
              "      run_callbacks();\n",
              "      return null;\n",
              "    }\n",
              "    console.log(\"Bokeh: BokehJS not loaded, scheduling load and callback at\", now());\n",
              "    root._bokeh_is_loading = js_urls.length;\n",
              "    for (var i = 0; i < js_urls.length; i++) {\n",
              "      var url = js_urls[i];\n",
              "      var s = document.createElement('script');\n",
              "      s.src = url;\n",
              "      s.async = false;\n",
              "      s.onreadystatechange = s.onload = function() {\n",
              "        root._bokeh_is_loading--;\n",
              "        if (root._bokeh_is_loading === 0) {\n",
              "          console.log(\"Bokeh: all BokehJS libraries loaded\");\n",
              "          run_callbacks()\n",
              "        }\n",
              "      };\n",
              "      s.onerror = function() {\n",
              "        console.warn(\"failed to load library \" + url);\n",
              "      };\n",
              "      console.log(\"Bokeh: injecting script tag for BokehJS library: \", url);\n",
              "      document.getElementsByTagName(\"head\")[0].appendChild(s);\n",
              "    }\n",
              "  };var element = document.getElementById(\"1201be2c-6adf-41b6-bf74-f4c23099721e\");\n",
              "  if (element == null) {\n",
              "    console.log(\"Bokeh: ERROR: autoload.js configured with elementid '1201be2c-6adf-41b6-bf74-f4c23099721e' but no matching script tag was found. \")\n",
              "    return false;\n",
              "  }\n",
              "\n",
              "  var js_urls = [\"https://cdn.pydata.org/bokeh/release/bokeh-0.12.7.min.js\", \"https://cdn.pydata.org/bokeh/release/bokeh-widgets-0.12.7.min.js\", \"https://cdn.pydata.org/bokeh/release/bokeh-tables-0.12.7.min.js\", \"https://cdn.pydata.org/bokeh/release/bokeh-gl-0.12.7.min.js\"];\n",
              "\n",
              "  var inline_js = [\n",
              "    function(Bokeh) {\n",
              "      Bokeh.set_log_level(\"info\");\n",
              "    },\n",
              "    \n",
              "    function(Bokeh) {\n",
              "      \n",
              "    },\n",
              "    \n",
              "    function(Bokeh) {\n",
              "      \n",
              "      document.getElementById(\"1201be2c-6adf-41b6-bf74-f4c23099721e\").textContent = \"BokehJS is loading...\";\n",
              "    },\n",
              "    function(Bokeh) {\n",
              "      console.log(\"Bokeh: injecting CSS: https://cdn.pydata.org/bokeh/release/bokeh-0.12.7.min.css\");\n",
              "      Bokeh.embed.inject_css(\"https://cdn.pydata.org/bokeh/release/bokeh-0.12.7.min.css\");\n",
              "      console.log(\"Bokeh: injecting CSS: https://cdn.pydata.org/bokeh/release/bokeh-widgets-0.12.7.min.css\");\n",
              "      Bokeh.embed.inject_css(\"https://cdn.pydata.org/bokeh/release/bokeh-widgets-0.12.7.min.css\");\n",
              "      console.log(\"Bokeh: injecting CSS: https://cdn.pydata.org/bokeh/release/bokeh-tables-0.12.7.min.css\");\n",
              "      Bokeh.embed.inject_css(\"https://cdn.pydata.org/bokeh/release/bokeh-tables-0.12.7.min.css\");\n",
              "    }\n",
              "  ];\n",
              "\n",
              "  function run_inline_js() {\n",
              "    \n",
              "    if ((root.Bokeh !== undefined) || (force === true)) {\n",
              "      for (var i = 0; i < inline_js.length; i++) {\n",
              "        inline_js[i].call(root, root.Bokeh);\n",
              "      }if (force === true) {\n",
              "        display_loaded();\n",
              "      }} else if (Date.now() < root._bokeh_timeout) {\n",
              "      setTimeout(run_inline_js, 100);\n",
              "    } else if (!root._bokeh_failed_load) {\n",
              "      console.log(\"Bokeh: BokehJS failed to load within specified timeout.\");\n",
              "      root._bokeh_failed_load = true;\n",
              "    } else if (force !== true) {\n",
              "      var cell = $(document.getElementById(\"1201be2c-6adf-41b6-bf74-f4c23099721e\")).parents('.cell').data().cell;\n",
              "      cell.output_area.append_execute_result(NB_LOAD_WARNING)\n",
              "    }\n",
              "\n",
              "  }\n",
              "\n",
              "  if (root._bokeh_is_loading === 0) {\n",
              "    console.log(\"Bokeh: BokehJS loaded, going straight to plotting\");\n",
              "    run_inline_js();\n",
              "  } else {\n",
              "    load_libs(js_urls, function() {\n",
              "      console.log(\"Bokeh: BokehJS plotting callback run at\", now());\n",
              "      run_inline_js();\n",
              "    });\n",
              "  }\n",
              "}(window));"
            ]
          },
          "metadata": {
            "tags": []
          }
        },
        {
          "output_type": "display_data",
          "data": {
            "text/html": [
              "\n",
              "\n",
              "    <div class=\"bk-root\">\n",
              "        <div class=\"bk-plotdiv\" id=\"b6570b08-2b8e-43e0-8058-87cd7b933a7a\"></div>\n",
              "    </div>\n",
              "<script type=\"text/javascript\">\n",
              "  \n",
              "  (function(root) {\n",
              "    function now() {\n",
              "      return new Date();\n",
              "    }\n",
              "  \n",
              "    var force = false;\n",
              "  \n",
              "    if (typeof (root._bokeh_onload_callbacks) === \"undefined\" || force === true) {\n",
              "      root._bokeh_onload_callbacks = [];\n",
              "      root._bokeh_is_loading = undefined;\n",
              "    }\n",
              "  \n",
              "  \n",
              "    \n",
              "    if (typeof (root._bokeh_timeout) === \"undefined\" || force === true) {\n",
              "      root._bokeh_timeout = Date.now() + 0;\n",
              "      root._bokeh_failed_load = false;\n",
              "    }\n",
              "  \n",
              "    var NB_LOAD_WARNING = {'data': {'text/html':\n",
              "       \"<div style='background-color: #fdd'>\\n\"+\n",
              "       \"<p>\\n\"+\n",
              "       \"BokehJS does not appear to have successfully loaded. If loading BokehJS from CDN, this \\n\"+\n",
              "       \"may be due to a slow or bad network connection. Possible fixes:\\n\"+\n",
              "       \"</p>\\n\"+\n",
              "       \"<ul>\\n\"+\n",
              "       \"<li>re-rerun `output_notebook()` to attempt to load from CDN again, or</li>\\n\"+\n",
              "       \"<li>use INLINE resources instead, as so:</li>\\n\"+\n",
              "       \"</ul>\\n\"+\n",
              "       \"<code>\\n\"+\n",
              "       \"from bokeh.resources import INLINE\\n\"+\n",
              "       \"output_notebook(resources=INLINE)\\n\"+\n",
              "       \"</code>\\n\"+\n",
              "       \"</div>\"}};\n",
              "  \n",
              "    function display_loaded() {\n",
              "      if (root.Bokeh !== undefined) {\n",
              "        var el = document.getElementById(\"b6570b08-2b8e-43e0-8058-87cd7b933a7a\");\n",
              "        if (el != null) {\n",
              "          el.textContent = \"BokehJS \" + Bokeh.version + \" successfully loaded.\";\n",
              "        }\n",
              "      } else if (Date.now() < root._bokeh_timeout) {\n",
              "        setTimeout(display_loaded, 100)\n",
              "      }\n",
              "    }\n",
              "  \n",
              "  \n",
              "    function run_callbacks() {\n",
              "      try {\n",
              "        root._bokeh_onload_callbacks.forEach(function(callback) { callback() });\n",
              "      }\n",
              "      finally {\n",
              "        delete root._bokeh_onload_callbacks\n",
              "      }\n",
              "      console.info(\"Bokeh: all callbacks have finished\");\n",
              "    }\n",
              "  \n",
              "    function load_libs(js_urls, callback) {\n",
              "      root._bokeh_onload_callbacks.push(callback);\n",
              "      if (root._bokeh_is_loading > 0) {\n",
              "        console.log(\"Bokeh: BokehJS is being loaded, scheduling callback at\", now());\n",
              "        return null;\n",
              "      }\n",
              "      if (js_urls == null || js_urls.length === 0) {\n",
              "        run_callbacks();\n",
              "        return null;\n",
              "      }\n",
              "      console.log(\"Bokeh: BokehJS not loaded, scheduling load and callback at\", now());\n",
              "      root._bokeh_is_loading = js_urls.length;\n",
              "      for (var i = 0; i < js_urls.length; i++) {\n",
              "        var url = js_urls[i];\n",
              "        var s = document.createElement('script');\n",
              "        s.src = url;\n",
              "        s.async = false;\n",
              "        s.onreadystatechange = s.onload = function() {\n",
              "          root._bokeh_is_loading--;\n",
              "          if (root._bokeh_is_loading === 0) {\n",
              "            console.log(\"Bokeh: all BokehJS libraries loaded\");\n",
              "            run_callbacks()\n",
              "          }\n",
              "        };\n",
              "        s.onerror = function() {\n",
              "          console.warn(\"failed to load library \" + url);\n",
              "        };\n",
              "        console.log(\"Bokeh: injecting script tag for BokehJS library: \", url);\n",
              "        document.getElementsByTagName(\"head\")[0].appendChild(s);\n",
              "      }\n",
              "    };var element = document.getElementById(\"b6570b08-2b8e-43e0-8058-87cd7b933a7a\");\n",
              "    if (element == null) {\n",
              "      console.log(\"Bokeh: ERROR: autoload.js configured with elementid 'b6570b08-2b8e-43e0-8058-87cd7b933a7a' but no matching script tag was found. \")\n",
              "      return false;\n",
              "    }\n",
              "  \n",
              "    var js_urls = [];\n",
              "  \n",
              "    var inline_js = [\n",
              "      function(Bokeh) {\n",
              "        (function() {\n",
              "          var fn = function() {\n",
              "            var docs_json = {\"bdf5ad0c-dde1-44a0-814d-cd931c3d1f0d\":{\"roots\":{\"references\":[{\"attributes\":{\"source\":{\"id\":\"eede8b93-a104-4358-ae5b-43d6e647dbc1\",\"type\":\"ColumnDataSource\"}},\"id\":\"55b56a1f-d74f-4b6c-9e93-b288ec9941c2\",\"type\":\"CDSView\"},{\"attributes\":{\"bottom_units\":\"screen\",\"fill_alpha\":{\"value\":0.5},\"fill_color\":{\"value\":\"lightgrey\"},\"left_units\":\"screen\",\"level\":\"overlay\",\"line_alpha\":{\"value\":1.0},\"line_color\":{\"value\":\"black\"},\"line_dash\":[4,4],\"line_width\":{\"value\":2},\"plot\":null,\"render_mode\":\"css\",\"right_units\":\"screen\",\"top_units\":\"screen\"},\"id\":\"330701dd-a336-45d5-ad8d-7195b69d91a8\",\"type\":\"BoxAnnotation\"},{\"attributes\":{\"plot\":null,\"text\":\"Tip Fraction\"},\"id\":\"f97b5059-74fb-47c5-87a8-753ce259c5e1\",\"type\":\"Title\"},{\"attributes\":{},\"id\":\"16e727f1-d5ea-4f68-b682-b5d29725de7f\",\"type\":\"PanTool\"},{\"attributes\":{},\"id\":\"58fbf969-21b6-4f62-b3b2-0a7610a97d18\",\"type\":\"WheelZoomTool\"},{\"attributes\":{},\"id\":\"3fdd113e-f54a-4478-98a8-2ef432647914\",\"type\":\"BasicTickFormatter\"},{\"attributes\":{\"line_alpha\":{\"value\":0.1},\"line_color\":{\"value\":\"#1f77b4\"},\"line_width\":{\"value\":3},\"x\":{\"field\":\"x\"},\"y\":{\"field\":\"y\"}},\"id\":\"145dd53e-a476-4caa-95f8-a90a26e5e2bb\",\"type\":\"Line\"},{\"attributes\":{\"overlay\":{\"id\":\"330701dd-a336-45d5-ad8d-7195b69d91a8\",\"type\":\"BoxAnnotation\"}},\"id\":\"dceaa7db-9776-4552-8cc3-9a5544557441\",\"type\":\"BoxZoomTool\"},{\"attributes\":{},\"id\":\"3a65c74a-f0f3-4e0f-ab78-dd61e254b7e2\",\"type\":\"SaveTool\"},{\"attributes\":{},\"id\":\"ad0dbd5b-5dc7-47d1-b310-0c341c2c1b75\",\"type\":\"ResetTool\"},{\"attributes\":{\"data_source\":{\"id\":\"eede8b93-a104-4358-ae5b-43d6e647dbc1\",\"type\":\"ColumnDataSource\"},\"glyph\":{\"id\":\"18cc34e0-8094-45b8-b8c2-e89c2e258844\",\"type\":\"Line\"},\"hover_glyph\":null,\"muted_glyph\":null,\"nonselection_glyph\":{\"id\":\"145dd53e-a476-4caa-95f8-a90a26e5e2bb\",\"type\":\"Line\"},\"selection_glyph\":null,\"view\":{\"id\":\"55b56a1f-d74f-4b6c-9e93-b288ec9941c2\",\"type\":\"CDSView\"}},\"id\":\"62066ace-972f-40ff-ac05-17e9a508a6ea\",\"type\":\"GlyphRenderer\"},{\"attributes\":{},\"id\":\"1ed3fb23-6bed-44bc-bcf9-5cfc5a579ac8\",\"type\":\"HelpTool\"},{\"attributes\":{\"line_color\":{\"value\":\"#1f77b4\"},\"line_width\":{\"value\":3},\"x\":{\"field\":\"x\"},\"y\":{\"field\":\"y\"}},\"id\":\"18cc34e0-8094-45b8-b8c2-e89c2e258844\",\"type\":\"Line\"},{\"attributes\":{},\"id\":\"21391557-4d03-44af-97ec-620ba8c9cacf\",\"type\":\"BasicTickFormatter\"},{\"attributes\":{\"active_drag\":\"auto\",\"active_inspect\":\"auto\",\"active_scroll\":\"auto\",\"active_tap\":\"auto\",\"tools\":[{\"id\":\"16e727f1-d5ea-4f68-b682-b5d29725de7f\",\"type\":\"PanTool\"},{\"id\":\"58fbf969-21b6-4f62-b3b2-0a7610a97d18\",\"type\":\"WheelZoomTool\"},{\"id\":\"dceaa7db-9776-4552-8cc3-9a5544557441\",\"type\":\"BoxZoomTool\"},{\"id\":\"3a65c74a-f0f3-4e0f-ab78-dd61e254b7e2\",\"type\":\"SaveTool\"},{\"id\":\"ad0dbd5b-5dc7-47d1-b310-0c341c2c1b75\",\"type\":\"ResetTool\"},{\"id\":\"1ed3fb23-6bed-44bc-bcf9-5cfc5a579ac8\",\"type\":\"HelpTool\"}]},\"id\":\"a0538166-a108-43ea-afe6-c17d36a649cc\",\"type\":\"Toolbar\"},{\"attributes\":{\"callback\":null},\"id\":\"9f179c9c-6a17-4bcd-8352-d023e041eac6\",\"type\":\"DataRange1d\"},{\"attributes\":{\"callback\":null,\"column_names\":[\"x\",\"y\"],\"data\":{\"x\":[0,1,2,3,4,5,6,7,8,9,10,11,12,13,14,15,16,17,18,19,20,21,22,23],\"y\":{\"__ndarray__\":\"HtY+chn+yj9RJDrsJyvVP4VCuJMd2co/OjP6JWU0yz+tGskz3mvLP6QXmoO4ess/Hlc7zghqyT/tuz0e49jJP05w/S17mtI/KzFNaMoFyj/e4SXEZD3KP/F2AISMfco/KT6K3qz/zz9Mt+2uLSDSPyzBbROeFt0/g319Af9Ryj8tD9F2xb7LPxMaUaGYcMw/nyKGxUOByz82ww4EMxXNP0J3PtG0TMs/lD1Vnc90zj9zXFPsHkPLP/G25zKtAMs/\",\"dtype\":\"float64\",\"shape\":[24]}}},\"id\":\"eede8b93-a104-4358-ae5b-43d6e647dbc1\",\"type\":\"ColumnDataSource\"},{\"attributes\":{},\"id\":\"36f39a33-bcb2-4a8b-8eb2-40ff5bd5e1b1\",\"type\":\"LinearScale\"},{\"attributes\":{\"callback\":null,\"start\":0},\"id\":\"146c1b7a-f994-4d5f-811d-cbb4a6100ed8\",\"type\":\"DataRange1d\"},{\"attributes\":{\"below\":[{\"id\":\"1b11ed1a-dc40-4beb-98e0-08d1c71c40c1\",\"type\":\"LinearAxis\"}],\"left\":[{\"id\":\"a3c12f50-d3ed-4ee3-8ecc-434d5c06fd2b\",\"type\":\"LinearAxis\"}],\"renderers\":[{\"id\":\"1b11ed1a-dc40-4beb-98e0-08d1c71c40c1\",\"type\":\"LinearAxis\"},{\"id\":\"f6eab860-5b53-4179-a5c7-48d1291c0272\",\"type\":\"Grid\"},{\"id\":\"a3c12f50-d3ed-4ee3-8ecc-434d5c06fd2b\",\"type\":\"LinearAxis\"},{\"id\":\"c75aa247-d2ce-4893-859d-b464d817c3f6\",\"type\":\"Grid\"},{\"id\":\"330701dd-a336-45d5-ad8d-7195b69d91a8\",\"type\":\"BoxAnnotation\"},{\"id\":\"62066ace-972f-40ff-ac05-17e9a508a6ea\",\"type\":\"GlyphRenderer\"}],\"title\":{\"id\":\"f97b5059-74fb-47c5-87a8-753ce259c5e1\",\"type\":\"Title\"},\"toolbar\":{\"id\":\"a0538166-a108-43ea-afe6-c17d36a649cc\",\"type\":\"Toolbar\"},\"x_range\":{\"id\":\"9f179c9c-6a17-4bcd-8352-d023e041eac6\",\"type\":\"DataRange1d\"},\"x_scale\":{\"id\":\"36f39a33-bcb2-4a8b-8eb2-40ff5bd5e1b1\",\"type\":\"LinearScale\"},\"y_range\":{\"id\":\"146c1b7a-f994-4d5f-811d-cbb4a6100ed8\",\"type\":\"DataRange1d\"},\"y_scale\":{\"id\":\"b3299fc7-4861-4131-a40d-b49d0eb86a31\",\"type\":\"LinearScale\"}},\"id\":\"edb503b5-e2c2-4a83-8107-defa4c6d6480\",\"subtype\":\"Figure\",\"type\":\"Plot\"},{\"attributes\":{},\"id\":\"b3299fc7-4861-4131-a40d-b49d0eb86a31\",\"type\":\"LinearScale\"},{\"attributes\":{\"axis_label\":\"Hour of day\",\"formatter\":{\"id\":\"21391557-4d03-44af-97ec-620ba8c9cacf\",\"type\":\"BasicTickFormatter\"},\"plot\":{\"id\":\"edb503b5-e2c2-4a83-8107-defa4c6d6480\",\"subtype\":\"Figure\",\"type\":\"Plot\"},\"ticker\":{\"id\":\"ba3ff03a-b994-4db0-b4c3-b9ed3e3bb376\",\"type\":\"BasicTicker\"}},\"id\":\"1b11ed1a-dc40-4beb-98e0-08d1c71c40c1\",\"type\":\"LinearAxis\"},{\"attributes\":{},\"id\":\"ba3ff03a-b994-4db0-b4c3-b9ed3e3bb376\",\"type\":\"BasicTicker\"},{\"attributes\":{\"plot\":{\"id\":\"edb503b5-e2c2-4a83-8107-defa4c6d6480\",\"subtype\":\"Figure\",\"type\":\"Plot\"},\"ticker\":{\"id\":\"ba3ff03a-b994-4db0-b4c3-b9ed3e3bb376\",\"type\":\"BasicTicker\"}},\"id\":\"f6eab860-5b53-4179-a5c7-48d1291c0272\",\"type\":\"Grid\"},{\"attributes\":{\"axis_label\":\"Tip Fraction\",\"formatter\":{\"id\":\"3fdd113e-f54a-4478-98a8-2ef432647914\",\"type\":\"BasicTickFormatter\"},\"plot\":{\"id\":\"edb503b5-e2c2-4a83-8107-defa4c6d6480\",\"subtype\":\"Figure\",\"type\":\"Plot\"},\"ticker\":{\"id\":\"1308efcc-2d33-407a-87e9-fd6e7b2ce124\",\"type\":\"BasicTicker\"}},\"id\":\"a3c12f50-d3ed-4ee3-8ecc-434d5c06fd2b\",\"type\":\"LinearAxis\"},{\"attributes\":{},\"id\":\"1308efcc-2d33-407a-87e9-fd6e7b2ce124\",\"type\":\"BasicTicker\"},{\"attributes\":{\"dimension\":1,\"plot\":{\"id\":\"edb503b5-e2c2-4a83-8107-defa4c6d6480\",\"subtype\":\"Figure\",\"type\":\"Plot\"},\"ticker\":{\"id\":\"1308efcc-2d33-407a-87e9-fd6e7b2ce124\",\"type\":\"BasicTicker\"}},\"id\":\"c75aa247-d2ce-4893-859d-b464d817c3f6\",\"type\":\"Grid\"}],\"root_ids\":[\"edb503b5-e2c2-4a83-8107-defa4c6d6480\"]},\"title\":\"Bokeh Application\",\"version\":\"0.12.7\"}};\n",
              "            var render_items = [{\"docid\":\"bdf5ad0c-dde1-44a0-814d-cd931c3d1f0d\",\"elementid\":\"b6570b08-2b8e-43e0-8058-87cd7b933a7a\",\"modelid\":\"edb503b5-e2c2-4a83-8107-defa4c6d6480\"}];\n",
              "            \n",
              "            Bokeh.embed.embed_items(docs_json, render_items);\n",
              "          };\n",
              "          if (document.readyState != \"loading\") fn();\n",
              "          else document.addEventListener(\"DOMContentLoaded\", fn);\n",
              "        })();\n",
              "      },\n",
              "      function(Bokeh) {\n",
              "      }\n",
              "    ];\n",
              "  \n",
              "    function run_inline_js() {\n",
              "      \n",
              "      if ((root.Bokeh !== undefined) || (force === true)) {\n",
              "        for (var i = 0; i < inline_js.length; i++) {\n",
              "          inline_js[i].call(root, root.Bokeh);\n",
              "        }if (force === true) {\n",
              "          display_loaded();\n",
              "        }} else if (Date.now() < root._bokeh_timeout) {\n",
              "        setTimeout(run_inline_js, 100);\n",
              "      } else if (!root._bokeh_failed_load) {\n",
              "        console.log(\"Bokeh: BokehJS failed to load within specified timeout.\");\n",
              "        root._bokeh_failed_load = true;\n",
              "      } else if (force !== true) {\n",
              "        var cell = $(document.getElementById(\"b6570b08-2b8e-43e0-8058-87cd7b933a7a\")).parents('.cell').data().cell;\n",
              "        cell.output_area.append_execute_result(NB_LOAD_WARNING)\n",
              "      }\n",
              "  \n",
              "    }\n",
              "  \n",
              "    if (root._bokeh_is_loading === 0) {\n",
              "      console.log(\"Bokeh: BokehJS loaded, going straight to plotting\");\n",
              "      run_inline_js();\n",
              "    } else {\n",
              "      load_libs(js_urls, function() {\n",
              "        console.log(\"Bokeh: BokehJS plotting callback run at\", now());\n",
              "        run_inline_js();\n",
              "      });\n",
              "    }\n",
              "  }(window));\n",
              "</script>"
            ]
          },
          "metadata": {
            "tags": []
          }
        }
      ]
    },
    {
      "cell_type": "markdown",
      "metadata": {
        "collapsed": true,
        "id": "aiSMpaDKOCgp",
        "colab_type": "text"
      },
      "source": [
        "## 4.8 Referencias"
      ]
    },
    {
      "cell_type": "markdown",
      "metadata": {
        "id": "VKIl8FzgOCgp",
        "colab_type": "text"
      },
      "source": [
        "* [VanderPlas, 2015]. VanderPlas, J. *Python Data Science Handbook: Essential Tools for Working with Data*. O'Reilly Media, Aug. 2015.\n",
        "* [McKinney, 2012] McKinney, W. *Python for Data Analysis: Data Wrangling with Pandas, NumPy, and IPython*. O'Reilly Media, Oct. 2012. **Se espera la publicación de la segunda edición actualizada para abril de 2017**.\n",
        "* [Fonnesbeck, 2014] Fonnesbeck, C. *Advanced Statistical Computing* (Bios8366) at Vanderbilt University's Department of Biostatistics. <https://github.com/fonnesbeck/Bios8366/tree/master/>\n",
        "* [Doig, 2016] Doig, C. *Scaling Data Science in Python Tutorial* (notebook 1). Disponible en GitHub: <https://github.com/chdoig/dss-scaling-tutorial/blob/master/1-Scaling%20Data%20Analysis/1-pandas.ipynb>.\n",
        "* [Schneider, 2016] Schneider, T. W. **Unified New York City Taxi and Uber data**: Colección de URLs para descargar los archivos de datos públicos sobre taxis de NYC. Nosotros nos concentramos en el archivo para el servicio Yellow Taxi, en el mes de enero de 2015, disponible en la URL: <https://s3.amazonaws.com/nyc-tlc/trip+data/yellow_tripdata_2015-01.csv> . Lista completa de URLs: <https://github.com/toddwschneider/nyc-taxi-data/blob/master/raw_data_urls.txt>."
      ]
    },
    {
      "cell_type": "code",
      "metadata": {
        "id": "aXMt8KWLOCgp",
        "colab_type": "code",
        "colab": {}
      },
      "source": [
        ""
      ],
      "execution_count": 0,
      "outputs": []
    }
  ]
}