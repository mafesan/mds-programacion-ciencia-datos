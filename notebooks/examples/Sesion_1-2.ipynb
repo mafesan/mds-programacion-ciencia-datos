{
 "cells": [
  {
   "cell_type": "markdown",
   "metadata": {
    "colab_type": "text",
    "id": "ozmmHDzhWi3v"
   },
   "source": [
    "# Programación científica en Python: sintaxis básica, normas de estilo y primer script"
   ]
  },
  {
   "cell_type": "markdown",
   "metadata": {
    "colab_type": "text",
    "id": "trlaxg73WsvD"
   },
   "source": [
    "## Contenidos"
   ]
  },
  {
   "cell_type": "markdown",
   "metadata": {
    "colab_type": "text",
    "id": "ARBBSIwVW8ON"
   },
   "source": [
    "* [1. Sintaxis y normas de estilo en Python](#1.-Sintaxis-y-normas-de-estilo-en-Python).\n",
    "    + [1.1 Normas de estilo obligatorias](##1.1-Normas-de-estilo-obligatorias).\n",
    "        + [1.1.1 Indentación](###1.1.1-Indentaci%C3%B3n)\n",
    "        + [1.1.2 Comentarios](###1.1.2-Comentarios)\n",
    "        + [1.1.3 Nombres de variables, métodos, funciones...](###1.1.3-Nombres-de-variables,-m%C3%A9todos,-funciones...)\n",
    "    + [1.2 Normas de estilo recomendadas](##1.2-Normas-de-estilo-recomendadas).\n",
    "        + [1.2.1 Nombres de variables](###1.2.1-Nombres-de-variables)\n",
    "        + [1.2.2 Longitud de las líneas de código](###1.2.2-Longitud-de-las-l%C3%ADneas-de-c%C3%B3digo)\n",
    "* [2. Desarrollo, organización de proyectos y buenas prácticas](#2.-Desarrollo,-organizaci%C3%B3n-de-proyectos-y-buenas-pr%C3%A1cticas).\n",
    "    + [2.1 Cómo estructurar nuestro proyecto](#2.1-C%C3%B3mo-estructurar-nuestro-proyecto).\n",
    "    + [2.2 Leer código en Python](#2.2-Leer-c%C3%B3digo-en-Python).\n",
    "    + [2.3 Documentar nuestro proyecto](#2.3-Documentar-nuestro-proyecto).\n",
    "    + [2.4 Buenas prácticas para *testing* en Python](#2.4-Buenas-pr%C3%A1cticas-para-testing-en-Python).\n",
    "* [3. Referencias](#3-Referencias)."
   ]
  },
  {
   "cell_type": "markdown",
   "metadata": {
    "colab_type": "text",
    "id": "eEA1iz5fpRB5"
   },
   "source": [
    "# 1. Sintaxis y normas de estilo en Python"
   ]
  },
  {
   "cell_type": "markdown",
   "metadata": {
    "colab_type": "text",
    "id": "iyQjfM5zpSpW"
   },
   "source": [
    "A la hora de escribir nuestros programas en Python, debemos tener en cuenta una serie de normas a seguir. Algunas de estas normas son obligatorias (no seguirlas provocará un **error de sintaxis**), mientras que otras son convenciones adoptadas por los programadores para hacer su código más legible. En esta sección realizaremos una pequeña introducción a las normas de estilo que debemos seguir a la hora de realizar un programa en Python."
   ]
  },
  {
   "cell_type": "markdown",
   "metadata": {
    "colab_type": "text",
    "id": "20a0PTo-qMuQ"
   },
   "source": [
    "## 1.1 Normas de estilo obligatorias"
   ]
  },
  {
   "cell_type": "markdown",
   "metadata": {
    "colab_type": "text",
    "id": "9Lk9O2qpqiqR"
   },
   "source": [
    "Todo lenguaje de programación tiene una serie de reglas o normas de sintaxis que el programador debe seguir para que la máquina sea capaz de entender lo que éste escribe en *alto nivel*. Las normas básicas de sintaxis son las siguientes.\n"
   ]
  },
  {
   "cell_type": "markdown",
   "metadata": {
    "colab_type": "text",
    "id": "DRWFLFOo4E3l"
   },
   "source": [
    "### 1.1.1 Indentación"
   ]
  },
  {
   "cell_type": "markdown",
   "metadata": {
    "colab_type": "text",
    "id": "LWJT3FYe4KlH"
   },
   "source": [
    "En Python, a diferencia de otros lenguajes como Java o C++, no se utiliza ningún caracter especial (como <font color=red>{}</font>) o estructuras de bloque (<font color=red>begin...end</font>) para delimitar bloques de código. En su lugar, se utiliza lo que se conoce como _indentación_. Esta indentación consiste en una serie de espacios / tabulaciones que indican que una línea de código se encuentra dentro / fuera de un bloque. Hay que tener en cuenta que:\n",
    "\n",
    "+ Normalmente, se establece un total de **4 espacios** o **1 tabulación** para indicar que un fragmento de código se encuentra dentro de un bloque. \n",
    "\n",
    "+ Es importante **no mezclar espacios y tabulaciones** en la indentación de un código. Algunos entornos de desarrollo avisan de esto en forma de _Warning_, mientras que otros directamente lo toman como un error y no siguen ejecutando código si detectan inconsistencias de este tipo. Esto depende del intérprete que utilicemos.\n",
    "\n",
    "+ Una mala indentación conlleva **errores en tiempo de ejecución** o **errores del comportamiento del programa**. Indentar de forma incorrecta nuestro código implica que el flujo de ejecución varíe, llegando a **resultados incoherentes o inesperados** (si el programa no falla antes de ofrecer resultados.)"
   ]
  },
  {
   "cell_type": "code",
   "execution_count": 0,
   "metadata": {
    "colab": {
     "base_uri": "https://localhost:8080/",
     "height": 151
    },
    "colab_type": "code",
    "executionInfo": {
     "elapsed": 1349,
     "status": "error",
     "timestamp": 1567621803733,
     "user": {
      "displayName": "Sergio Pérez",
      "photoUrl": "https://lh3.googleusercontent.com/a-/AAuE7mBia_ftYQFVx7tvJ9QQXxniIoT1hlQjXEpzvr7v=s64",
      "userId": "18309425196412218035"
     },
     "user_tz": -120
    },
    "id": "HN5OwdPW6VKN",
    "outputId": "e6ae94dd-6c34-4e09-9681-95a1d36d363f"
   },
   "outputs": [
    {
     "ename": "IndentationError",
     "evalue": "ignored",
     "output_type": "error",
     "traceback": [
      "\u001b[0;36m  File \u001b[0;32m\"<ipython-input-1-22e80ccbd0f8>\"\u001b[0;36m, line \u001b[0;32m4\u001b[0m\n\u001b[0;31m    print (\"Hace calor!\")\u001b[0m\n\u001b[0m        ^\u001b[0m\n\u001b[0;31mIndentationError\u001b[0m\u001b[0;31m:\u001b[0m expected an indented block\n"
     ]
    }
   ],
   "source": [
    "#Ejemplo de código mal indentado finalizado con error\n",
    "\n",
    "temperatura = 21.0\n",
    "if (temperatura >= 20.0):\n",
    "print (\"Hace calor!\")\n",
    "\n"
   ]
  },
  {
   "cell_type": "code",
   "execution_count": 0,
   "metadata": {
    "colab": {},
    "colab_type": "code",
    "id": "Et669-fOBH25"
   },
   "outputs": [],
   "source": [
    "#Ejemplo de código bien indentado finalizado sin errores\n",
    "\n",
    "temperatura = 21.0\n",
    "if (temperatura >= 20.0):\n",
    "    print (\"Hace calor!\")"
   ]
  },
  {
   "cell_type": "code",
   "execution_count": 0,
   "metadata": {
    "colab": {},
    "colab_type": "code",
    "id": "WQgZZAWxBRB5"
   },
   "outputs": [],
   "source": [
    "#Ejemplo de código que finaliza con resultados incoherentes debido a una mala \n",
    "#indentación\n",
    "\n",
    "temperatura = 28.0\n",
    "\n",
    "if(temperatura < 25.0):\n",
    "    temperatura = temperatura + 1;\n",
    "print(\"La temperatura es inferior a 25 grados: \"+str(temperatura)+\"ºC\")\n",
    "print(\"La temperatura es superior a 25 grados: \"+str(temperatura)+\"ºC\")"
   ]
  },
  {
   "cell_type": "code",
   "execution_count": 0,
   "metadata": {
    "colab": {},
    "colab_type": "code",
    "id": "GjP-ETkTCL90"
   },
   "outputs": [],
   "source": [
    "#Ejemplo de código que finaliza con resultados incoherentes debido a una mala \n",
    "#indentación\n",
    "\n",
    "temperatura = 28.0\n",
    "\n",
    "if(temperatura < 25.0):\n",
    "    temperatura = temperatura + 1;\n",
    "    print(\"La temperatura es inferior a 25 grados: \"+str(temperatura)+\"ºC\")\n",
    "print(\"La temperatura es superior a 25 grados: \"+str(temperatura)+\"ºC\")"
   ]
  },
  {
   "cell_type": "markdown",
   "metadata": {
    "colab_type": "text",
    "id": "fZ-aIrsHC72-"
   },
   "source": [
    "### 1.1.2 Comentarios"
   ]
  },
  {
   "cell_type": "markdown",
   "metadata": {
    "colab_type": "text",
    "id": "LglT2GHmC_uR"
   },
   "source": [
    "Una buena práctica a la hora de desarrollar cualquier código es **comentar** el mismo, para que la siguiente persona que lea nuestro programa o necesite trabajar sobre él pueda comprenderlo más fácilmente. En Python, los comentarios se colocan **detrás de una almohadilla** (#) si queremos escribir comentarios en una sola línea, o entre **dos secuencias** de **tres comillas simples** (' ' ') si queremos comentarios multilínea.\n",
    "\n",
    "Todo fragmento de código que esté en forma de comentario será **ignorado por el intérprete** a la hora de la ejecución."
   ]
  },
  {
   "cell_type": "code",
   "execution_count": 0,
   "metadata": {
    "colab": {},
    "colab_type": "code",
    "id": "RKg3j5FQEWrd"
   },
   "outputs": [],
   "source": [
    "#Este es un ejemplo de comentario de una sola línea\n",
    "\n",
    "'''\n",
    "Este es un comentario multilínea\n",
    "en el que podemos\n",
    "escribir tantas líneas como quera-\n",
    "mos\n",
    "'''"
   ]
  },
  {
   "cell_type": "code",
   "execution_count": 0,
   "metadata": {
    "colab": {},
    "colab_type": "code",
    "id": "V1sAJ6JcElHK"
   },
   "outputs": [],
   "source": [
    "temperatura = 51.0 #Temperatura inicial\n",
    "if(temperatura > 50.0): #Si la temp. supera los 50 grados, el calor es extremo!\n",
    "    print (\"Se recomienda no salir de casa. La temperatura es de\",temperatura, \"grados\")"
   ]
  },
  {
   "cell_type": "markdown",
   "metadata": {
    "colab_type": "text",
    "id": "NOqycAFmGekj"
   },
   "source": [
    "A la hora de escribir **comentarios multilínea**, debemos vigilar también su indentación para evitar errores."
   ]
  },
  {
   "cell_type": "code",
   "execution_count": 0,
   "metadata": {
    "colab": {},
    "colab_type": "code",
    "id": "gLgSRjuoGVQr"
   },
   "outputs": [],
   "source": [
    "#Ejemplo de código que arroja un error de indentación al colocar erróneamente \n",
    "#un comentario multilínea\n",
    "\n",
    "temperatura = 51.0 #Temperatura inicial\n",
    "if(temperatura > 50.0): #Si la temp. supera los 50 grados, el calor es extremo!\n",
    "'''\n",
    "A la hora de escribir comentarios multilínea\n",
    "hay que tener cuidado también con la indentación\n",
    "'''\n",
    "    print (\"Se recomienda no salir de casa. La temperatura es de\",temperatura,\"grados\") "
   ]
  },
  {
   "cell_type": "code",
   "execution_count": 0,
   "metadata": {
    "colab": {},
    "colab_type": "code",
    "id": "OmFVznv4FCLg"
   },
   "outputs": [],
   "source": [
    "#Ejemplo de código que no arroja errores, pese a que la indentación no es la \n",
    "#correcta\n",
    "\n",
    "temperatura = 51.0 #Temperatura inicial\n",
    "if(temperatura > 50.0): #Si la temp. supera los 50 grados, el calor es extremo!\n",
    "#Con los comentarios de una sola línea esto no pasa\n",
    "#Aunque pongamos varios seguidos\n",
    "    print (\"Se recomienda no salir de casa. La temperatura es de\",temperatura,\"grados\")"
   ]
  },
  {
   "cell_type": "markdown",
   "metadata": {
    "colab_type": "text",
    "id": "m0bEvPw2H0iQ"
   },
   "source": [
    "### 1.1.3 Nombres de variables, métodos, funciones...\n"
   ]
  },
  {
   "cell_type": "markdown",
   "metadata": {
    "colab_type": "text",
    "id": "mxabKrrdH5xL"
   },
   "source": [
    "Cuando codificamos en cualquier lenguaje de programación, normalmente necesitaremos utilizar variables que almacenen un valor, de modo que podamos operar con ellas, modificarlas, etc. A la hora de nombrar una variable, debemos seguir una serie de normas:\n",
    "\n",
    "+ Los nombres de variables comienzan por una letra (<font color=red> A-Z</font> o <font color=red>a-z</font>) o con un guión bajo (<font color=red>_</font>), seguido de **cero o más** letras, guiones bajos, o dígitos (<font color =red>0-9</font>). **Una variable nunca puede comenzar por un número, un guión u otro caracter especial**.\n",
    "\n",
    "+ En Python, al igual que en otros lenguajes, la sintaxis es *Case sensitive* lo que quiere decir que las **mayúsculas y minúsculas representan símbolos diferentes**. De este modo, la variable *A* y la variable *a* no representarán lo mismo en memoria.\n",
    "\n",
    "+ **No se puede utilizar** como nombre de variable una **palabra reservada** en Python. Las palabras reservadas son aquellas que tienen un significado especial para el lenguaje.\n"
   ]
  },
  {
   "cell_type": "code",
   "execution_count": 0,
   "metadata": {
    "colab": {},
    "colab_type": "code",
    "id": "FK9FJR1fWBcu"
   },
   "outputs": [],
   "source": [
    "import keyword\n",
    "keyword.kwlist"
   ]
  },
  {
   "cell_type": "markdown",
   "metadata": {
    "colab_type": "text",
    "id": "3ztP_4Y3aygA"
   },
   "source": [
    "## 1.2 Normas de estilo recomendadas"
   ]
  },
  {
   "cell_type": "markdown",
   "metadata": {
    "colab_type": "text",
    "id": "qfj_Mh4Za7Zb"
   },
   "source": [
    "Una vez revisadas las normas de sintaxis más básicas del lenguaje (y que debemos cumplir para conseguir una correcta ejecución del programa), vamos a ver una serie de normas que **no son obligatorias** pero sí **muy recomendables** para lograr una mejor lectura del código, tanto para nosotros como programadores como para un futuro desarrollador que tenga que continuar o modificar nuestro trabajo.\n",
    "\n",
    "Las **principales normas de estilo** en programación con Python se resumen en el [**documento PEP 8**](http://docs.python-guide.org/en/latest/writing/style/#pep-8), de obligada lectura para todo programador en este lengauje. De hecho, la práctica totalidad de IDEs para desarrollo en Python (incluyendo Spyder, PyCharm o Eclipse) contienen rutinas para comprobar automáticamente si nuestro código está cumpliendo estas normas de estilo, avisándonos en caso contrario.\n",
    "\n",
    "A continuación exponemos las más importantes, pero **se recomienda encarecidamente** la lectura del [resumen de las principales normas de estilo y expresiones idiomáticas en Python](http://docs.python-guide.org/en/latest/writing/style/), incluido en la guía de K. Reitz, para conocerlas más en detalle."
   ]
  },
  {
   "cell_type": "markdown",
   "metadata": {
    "colab_type": "text",
    "id": "1N--18bjbXkB"
   },
   "source": [
    "### 1.2.1 Nombres de variables"
   ]
  },
  {
   "cell_type": "markdown",
   "metadata": {
    "colab_type": "text",
    "id": "UCERxe4Ebim_"
   },
   "source": [
    "Los identificadores que escojamos para nuestras variables deberían cumplir los siguientes requisitos para facilitar el desarrollo:\n",
    "\n",
    "+ **Utilizar identificadores descriptivos**. Por ejemplo, si deseamos almacenar el valor de la temperatura, es mejor que identifiquemos nuestra variable con ese nombre, y no con *t* o *temp*\n",
    "+ **Separar con guiones bajos (\\_) los identificadores de varias palabras**. Si tenemos una variable a la que queremos dar un nombre conformado por varias palabras, como por ejemplo, *datostemperaturaenero*, deberíamos separar cada una de las palabras por guiones bajos, es decir, deberíamos identificar nuestra variable como *datos_temperatura_enero* para hacerla más legible. Otra posibilidad es utilizar la escritura conocida como *camelCase*, que consiste en escribir en mayúscula la primera letra de cada palabra a excepción de la inicial, aunque esta es una práctica menos habitual. En el ejemplo anterior, el nombre equivalente para nuestra variable en formato *camelCase* sería *datosTemperaturaEnero*.\n"
   ]
  },
  {
   "cell_type": "markdown",
   "metadata": {
    "colab_type": "text",
    "id": "9GH5dCs9uNpj"
   },
   "source": [
    "### 1.2.2 Longitud de las líneas de código"
   ]
  },
  {
   "cell_type": "markdown",
   "metadata": {
    "colab_type": "text",
    "id": "Sipqpe4zeuOS"
   },
   "source": [
    "A pesar de que Python permite escribir líneas tan largas como queramos, existe una convención entre programadores que especifica que una línea no debe superar los 80 caracteres. Esto es así porque existen dispositivos cuya resolución impide una buena lectura del código en líneas más extensas que esta medida. En nuestro caso, no nos vamos a detener en contar las columnas o caracteres que llevamos escritos. Sin embargo, los entornos de desarrollo (IDE) como PyCharm cuentan con una línea que indica el ancho límite que hayamos especificado.\n",
    "\n",
    "![Configuración del ancho de columna](https://i.stack.imgur.com/tQVsX.png)\n",
    "\n",
    "![Ejemplo ancho de columna en PyCharm](https://intellij-support.jetbrains.com/hc/user_images/efLGC4Q5Alm4zzFq2nVbGA.png)"
   ]
  },
  {
   "cell_type": "markdown",
   "metadata": {
    "colab_type": "text",
    "id": "uqbpiUGYuS7E"
   },
   "source": [
    "### 1.2.3 Una sola sentencia por línea\n"
   ]
  },
  {
   "cell_type": "markdown",
   "metadata": {
    "colab_type": "text",
    "id": "xVHC0rz6vaEl"
   },
   "source": [
    "Quizá una de las recomendaciones de estilo que más chocan con los hábitos de muchos programadores en otros lenguajes (como C o C++) es la de incluir solo una sentencia en cada línea:\n",
    "\n",
    "```python\n",
    "print 'one'\n",
    "print 'two'\n",
    "\n",
    "if x == 1:\n",
    "    print 'one'\n",
    "\n",
    "cond1 = <complex comparison>\n",
    "cond2 = <other complex comparison>\n",
    "if cond1 and cond2:\n",
    "    # do something\n",
    "```\n",
    "\n",
    "En particular, el ejemplo de la primera sentencia `if` suele escribirse en una sola línea en muchos lenguajes y, aunque en Python también es correcto sintácticamente, no se considera muy adecuado respecto a la legibilidad del código resultante."
   ]
  },
  {
   "cell_type": "markdown",
   "metadata": {
    "colab_type": "text",
    "id": "LtMyyBoSvoRw"
   },
   "source": [
    "### 1.2.4 Usuarios responsables: control de elementos \"privados\""
   ]
  },
  {
   "cell_type": "markdown",
   "metadata": {
    "colab_type": "text",
    "id": "nBRs3sw_vrNY"
   },
   "source": [
    "Al contrario que en otros lenguajes de programación, en Python no existe un control estricto sobre la visibilidad de un atributo fuera del contexto en el que está definido. De hecho, este (entre otros) es uno de los argumentos más utilizados por bastantes responsables de sistemas en producción de la industria para limitar la adopción de Python en este tipo de entornos (el otro argumento de peso, muy probablemente, será el tipado dinámico).\n",
    "\n",
    "El hecho es que en Python dicho control no existe, y por tanto los programadores deben comportarse como usuarios responsables, evitando acceder a los métodos, atributos o variables de clases o paquetes que se hayan marcado para uso privado.\n",
    "\n",
    "La **convención para identificar elementos privados** consiste en **anteponer el caracter '\\_' (guión bajo o underscore)** al nombre de la variable, atributo o método en cuestión, tal y como [indica el tutorial oficial de Python](https://docs.python.org/3.5/tutorial/classes.html#tut-private).\n",
    "\n",
    "```python\n",
    "\n",
    "_private_var = \"Esta es una variable privada\"\n",
    "\n",
    "_private_method(arg1, arg2):\n",
    "    \"\"\"\n",
    "    Este es un ejemplo de método privado\n",
    "    \"\"\"\n",
    "    return 0\n",
    "\n",
    "```"
   ]
  },
  {
   "cell_type": "markdown",
   "metadata": {
    "colab_type": "text",
    "id": "qHw2Jo5hwlaR"
   },
   "source": [
    "### 1.2.5 Expresiones idiomáticas\n",
    "\n",
    "Ciertas expresiones propias del lenguaje Python permiten efectuar operaciones sofisticadas a la vez que se mantiene la claridad del código generado.\n",
    "\n",
    "En particular, además de repasar los  [ejemplos del manual](http://docs.python-guide.org/en/latest/writing/style/#idioms) de K. Reitz, se recomienda consultar detenidamente el documento [Code Like a Pythonista: Idiomatic Python](http://python.net/~goodger/projects/pycon/2007/idiomatic/handout.html), creado por David Goodger, que contiene abundantes ejemplos sobre cómo programar bien en Python, siguiendo las principales normas de estilo.\n",
    "\n",
    "A continuación se presentan algunos ejemplos:\n",
    "\n",
    "```python\n",
    "# El código debe ocupar como máximo 80 columnas de ancho\n",
    "# para romper líneas, usar continuación de línea dentro de paréntesis,\n",
    "# llaves o corchetes\n",
    "my_long_text = (\"En 1972, cuatro de los mejores hombres que \"\n",
    "                \"formaban un comando de élite fueron encarcelados\"\n",
    "                \"por un delito que no habían cometido...\")\n",
    "```\n",
    "\n",
    "```python\n",
    "# Utilizamos enumerate() para recorrer los elementos de una lista,\n",
    "# manteniendo también información sobre el valor del índice\n",
    "for index, item in enumerate(some_list):\n",
    "    # do something with index and item\n",
    "```"
   ]
  },
  {
   "cell_type": "code",
   "execution_count": 0,
   "metadata": {
    "colab": {},
    "colab_type": "code",
    "id": "MCiAmLVAwwQE"
   },
   "outputs": [],
   "source": [
    "# Ignorar valores que no necesitamos, mediante la variable '__'\n",
    "# En este ejemplo, el punto entre el nombre del archivo y su extensión no es útil,\n",
    "# y se puede descartar\n",
    "filename = 'foobar.txt'\n",
    "basename, __, ext = filename.rpartition('.')\n",
    "print(basename)\n",
    "print(ext)"
   ]
  },
  {
   "cell_type": "code",
   "execution_count": 0,
   "metadata": {
    "colab": {},
    "colab_type": "code",
    "id": "MrcB6_eEwyrK"
   },
   "outputs": [],
   "source": [
    "# Creación de una lista de listas\n",
    "four_lists = [[i] for i in range(4)]\n",
    "four_lists"
   ]
  },
  {
   "cell_type": "code",
   "execution_count": 0,
   "metadata": {
    "colab": {},
    "colab_type": "code",
    "id": "xjTJpSFrw3Xl"
   },
   "outputs": [],
   "source": [
    "# Intercambiar el valor de dos variables\n",
    "a = 'Spam'\n",
    "b = 'Eggs'\n",
    "\n",
    "print(a, b)\n",
    "\n",
    "a, b = b, a\n",
    "\n",
    "print(a, b)"
   ]
  },
  {
   "cell_type": "markdown",
   "metadata": {
    "colab_type": "text",
    "id": "XLLLjmcynybR"
   },
   "source": [
    "# 2. Desarrollo, organización de proyectos y buenas prácticas"
   ]
  },
  {
   "cell_type": "markdown",
   "metadata": {
    "colab_type": "text",
    "id": "veSaaTjdn5KM"
   },
   "source": [
    "Después de introducir algunas buenas prácticas de desarrollo que faciliten tanto el desarrollo y mantenimiento de nuestros proyectos como su uso y reutilización por parte de otros miembros de nuestro equipo o de otros desarrolladores, vamos a ofrecer algunos consejos útiles sobre el desarrollo y la organización de nuestros proyectos de programación científica en Python. \n",
    "\n",
    "Gran parte del contenido de esta sesión está basada en la guía [The Hitchhiker's Guide to Python](http://docs.python-guide.org/en/latest/), creada por Kenneth Reitz y ahora también disponible como libro editado por O'Reilly [Reitz, 2016], con contenido adicional. El libro de O'Reilly está disponible en Safari, en formato electrónico."
   ]
  },
  {
   "cell_type": "markdown",
   "metadata": {
    "colab_type": "text",
    "id": "hyip5ZpUoSgy"
   },
   "source": [
    "## 2.1 Cómo estructurar nuestro proyecto"
   ]
  },
  {
   "cell_type": "markdown",
   "metadata": {
    "colab_type": "text",
    "id": "TRSk_ka5oUqS"
   },
   "source": [
    "Es importante que, aunque nuestro proyecto no nazca con grandes pretensiones, sigamos buenos hábitos de organización y pongamos en práctica ciertas pautas a la hora de estructurar nuestro repositorio de código. Como el propio Reitz sugiere, esto no solo facilitará nuestra propia labor de mantenimiento del proyecto, sino que además facilitará la tarea de otros desarrolladores que deseen echar un vistazo a nuestro proyecto para evaluar si puede ser útil para ellos.\n",
    "\n",
    "La [estructura sugerida por Reitz](http://docs.python-guide.org/en/latest/writing/structure/#structure-of-the-repository), y que podemos consultar navegando por este [repositorio de ejmplo en GitHub](https://github.com/kennethreitz/samplemod) es la siguiente:\n",
    "\n",
    "<pre>\n",
    "README.rst\n",
    "LICENSE\n",
    "setup.py\n",
    "requirements.txt\n",
    "sample/__init__.py\n",
    "sample/core.py\n",
    "sample/helpers.py\n",
    "docs/conf.py\n",
    "docs/index.rst\n",
    "tests/test_basic.py\n",
    "tests/test_advanced.py\n",
    "</pre>"
   ]
  },
  {
   "cell_type": "markdown",
   "metadata": {
    "colab_type": "text",
    "id": "-yWUk2fgokSH"
   },
   "source": [
    "### README\n",
    "\n",
    "El archivo `README.rst` (que también puede escribirse con sintaxis *Markdown* para ser `README.md`) actúa como presentación resumida de nuestro proyecto. En él se suele definir:\n",
    "\n",
    "* Cuál es el **propósito** de la aplicación o librería.\n",
    "* Principales **características** y posibles ventajas que proporciona sobre otras alternativas disponibles.\n",
    "* Si tiene alguna **dependencia externa** de gran importancia.\n",
    "* Ejemplos de uso.\n",
    "* Punteros al resto de la documentación."
   ]
  },
  {
   "cell_type": "markdown",
   "metadata": {
    "colab_type": "text",
    "id": "b7mrkfxzoljV"
   },
   "source": [
    "### LICENSE\n",
    "\n",
    "Es un archivo importante, ya que debe contener una copia completa de la licencia bajo la cual está distribuido el proyecto. Podemos elegir muchos tipos de licencias, incluyendo varios tipos de licencias de software libre (tipo BSD, MIT, ASL, Mozilla License, GPLv2 o GPLv3, etc.).\n",
    "\n",
    "Un detalle importante a tener en cuenta es que en caso de no especificar ningún archivo de licencia en nuestro repositorio de código, por defecto se asume **que dicho código está publicado bajo copyright exclusivo del autor**, y por lo tanto *no es software libre* y no se puede reutilizar, modificar o redistribuir, en principio, sin permiso expreso del autor o autores del mismo."
   ]
  },
  {
   "cell_type": "markdown",
   "metadata": {
    "colab_type": "text",
    "id": "aBJpmYI8pCRk"
   },
   "source": [
    "### `setup.py`\n",
    "\n",
    "En Python, el módulo estándar `setuptools` contiene herramientas que permiten configurar automáticamente el proceso de instalación de nuestro programa escrito en Python en cualquier máquina y en diferentes arquitecturas. El cuerpo principal del archivo `setup.py` es la función `setup()` que contiene tanto los datos descriptivos del programa como la información sobre dependencias que se deben satisfacer antes de que el programa se instale, para que pueda funcionar correctamente.\n",
    "\n",
    "El contenido de [`setup.py` en el repositorio de ejemplo](https://github.com/kennethreitz/samplemod/blob/master/setup.py) de K. Reitz ilustra un ejemplo sencillo de archivo de instalación:"
   ]
  },
  {
   "cell_type": "markdown",
   "metadata": {
    "colab_type": "text",
    "id": "-MFL7VYnpUNX"
   },
   "source": [
    "```python\n",
    "# -*- coding: utf-8 -*-\n",
    "\n",
    "from setuptools import setup, find_packages\n",
    "\n",
    "\n",
    "with open('README.rst') as f:\n",
    "    readme = f.read()\n",
    "\n",
    "with open('LICENSE') as f:\n",
    "    license = f.read()\n",
    "\n",
    "setup(\n",
    "    name='sample',\n",
    "    version='0.0.1',\n",
    "    description='Sample package for Python-Guide.org',\n",
    "    long_description=readme,\n",
    "    author='Kenneth Reitz',\n",
    "    author_email='me@kennethreitz.com',\n",
    "    url='https://github.com/kennethreitz/samplemod',\n",
    "    license=license,\n",
    "    packages=find_packages(exclude=('tests', 'docs'))\n",
    ")\n",
    "```"
   ]
  },
  {
   "cell_type": "markdown",
   "metadata": {
    "colab_type": "text",
    "id": "PV_KCffGpWul"
   },
   "source": [
    "Adicionalmente, la [Python Packaging User Guide](https://packaging.python.org/distributing/#setup-args) incluye también abundante información al respecto, así como [otro proyecto de ejemplo más completo](https://github.com/pypa/sampleproject), para que podamos fijarnos al construir nuestro propio archivo `setup.py`. Siguiendo los consejos de esta guía lograremos tener una aplicación o biblioteca que podremos publicar en el Python Package Index (PyPI), para que cualquier usuario de Python pueda descubrirla y utilizarla."
   ]
  },
  {
   "cell_type": "markdown",
   "metadata": {
    "colab_type": "text",
    "id": "B0-ZcgPrpk9Y"
   },
   "source": [
    "### `requirements.txt` (o `environment.yml`)\n",
    "\n",
    "Una de los posibles **argumentos del método `setup`**, en el archivo `setup.py`, es `install_requires`. Este argumento toma una lista con los nombres de las **dependencias de software** que deben ser satisfechas antes de instalar el programa, para que funcione correctamente. Se especifica como una lista Python (veremos listas y otra estructuras de datos en la próxima sesión), con los nombres de los módulos requeridos.\n",
    "\n",
    "```python\n",
    "install_requires=[\n",
    "    'A',\n",
    "    'B>=2.1'\n",
    "]\n",
    "```\n",
    "\n",
    "En este ejemplo, se especifica que es necesario tener instalados los módulos o aplicaciones Python `A` (cualquier versión) y `B` (obligatoriamente una versión igual o superior a la 2.1) antes de poder instalar con éxito la aplicación desarrollada por nosotros.\n",
    "\n",
    "Sin embargo, también es posible **indicar las dependencias de software en otro archivo aparte**, mediante un [archivo de requisitos](https://pip.pypa.io/en/latest/user_guide/#requirements-files). En ese caso, el archivo se suele denominar `requirements.txt`, se ubica en el directorio raíz de nuestro repositorio y se pasa como argumento al programa de instalación de paquetes Python `pip`:\n",
    "\n",
    "```bash\n",
    "pip install -r requirements.txt\n",
    "```\n",
    "\n"
   ]
  },
  {
   "cell_type": "markdown",
   "metadata": {
    "colab_type": "text",
    "id": "dHUNEbWrp-BM"
   },
   "source": [
    "Por último, una tercera opción para gestionar la instalación de las dependencias software que nuestro proyecto necesita es utilizar la funcionalidad que ofrece **Anaconda**, y en particular la herramienta **`conda-env`** para **crear y replicar entornos virtuales** de ejecución que son una réplica exacta del nuestro.\n",
    "\n",
    "Podemos ver un [ejemplo en la documentación de `conda-env`](https://github.com/conda/conda-env). Siplemente usando el comando `export` podemos generar un **archivo `environment.yml`** con la lista de módulos y librerías instalados en nuestro entorno virtual. Cualquier otro desarrollador puede entonces usar ese archivo para recrear una copia exacta de nuestro entorno, usando el argumento `-f` o `--file` al crear el entorno."
   ]
  },
  {
   "cell_type": "markdown",
   "metadata": {
    "colab_type": "text",
    "id": "Op3XFoY8qvzs"
   },
   "source": [
    "### El módulo Python\n",
    "\n",
    "En el [proyecto de ejemplo](https://github.com/kennethreitz/samplemod) de K. Reitz, el módulo principal de la aplicación se llama `sample` y su código reside en un directorio con el mismo nombre. Nuestra recomendación, en la línea de lo comentado por Reitz, es evitar poner nuestro código dentro de directorios como `src` o `python`, que en este lenguaje son innecesarios y generan ambigüedad (o cuanto menos cierta confusión)."
   ]
  },
  {
   "cell_type": "markdown",
   "metadata": {
    "colab_type": "text",
    "id": "dnrwiCnBqzZO"
   },
   "source": [
    "El directorio `sample` en este caso contiene un par de archivos, pero pueden ser muchos más. De hecho, en caso de que nuestra aplicación crezca mucho y, por ejemplo, tengamos colecciones de funciones u otros servicios a los que llaman otras partes de nuestro código, es conveniente estructurar nuestra aplicación creando [**paquetes Python**](http://docs.python-guide.org/en/latest/writing/structure/#packages), que no son más que módulos dentro de otros directorios que podemos importar en nuestro código. De esta forma, el código de nuestro programa estará mucho más organizado y será más legible (y fácil de mantener)."
   ]
  },
  {
   "cell_type": "markdown",
   "metadata": {
    "colab_type": "text",
    "id": "fU0zcYnUs7Z7"
   },
   "source": [
    "### Archivos de documentación (`./docs`)"
   ]
  },
  {
   "cell_type": "markdown",
   "metadata": {
    "colab_type": "text",
    "id": "kv3IJRGAtDJd"
   },
   "source": [
    "Los archivos que permiten generar la documentación para nuestro proyecto deben residir en un directorio denominado `docs`, ubicado en el directorio raíz de nuestro proyecto. Más adelante, daremos algunas pautas útiles sobre posibles métodos para generar (y actualizar automáticamente) la documentación de nuestro proyecto Python."
   ]
  },
  {
   "cell_type": "markdown",
   "metadata": {
    "colab_type": "text",
    "id": "hEj0Si5ItKqZ"
   },
   "source": [
    "### Archivos de pruebas (`./tests`)"
   ]
  },
  {
   "cell_type": "markdown",
   "metadata": {
    "colab_type": "text",
    "id": "8o0xf9cntMwh"
   },
   "source": [
    "Análogamente al caso de la documentación, los archivos con pruebas unitarias y de integración de nuestro código deben residir en un directorio `tests`, en el directorio raíz de nuestro proyecto.\n",
    "\n",
    "Conviene [seguir las indicaciones que proporciona Reitz](http://docs.python-guide.org/en/latest/writing/structure/#test-suite) sobre la creación de un contexto local para que nuestros archivos de pruebas puedan importar el módulo principal de la aplicación sin necesidad de que esta se instale en el sistema."
   ]
  },
  {
   "cell_type": "markdown",
   "metadata": {
    "colab_type": "text",
    "id": "BviC0eqCdnDZ"
   },
   "source": [
    "## 2.2 Leer código en Python"
   ]
  },
  {
   "cell_type": "markdown",
   "metadata": {
    "colab_type": "text",
    "id": "i6_Mj38mdo3y"
   },
   "source": [
    "La mejor forma de aprender bien a programar en Python es [leer una gran cantidad de código](http://docs.python-guide.org/en/latest/writing/reading/), a ser posible de proyectos que sigan buenas prácticas y ofrezcan buenos ejemplos.\n",
    "\n",
    "En el [vídeo que ha creado Eric Holk](https://www.youtube.com/watch?v=Jc8M9-LoEuo) se puede comprobar cuál es el patron visual de lectura que un programador típico de Python sigue a la hora de leer el código."
   ]
  },
  {
   "cell_type": "markdown",
   "metadata": {
    "colab_type": "text",
    "id": "GRtJoAg2dzIa"
   },
   "source": [
    "## 2.3 Documentar nuestro proyecto"
   ]
  },
  {
   "cell_type": "markdown",
   "metadata": {
    "colab_type": "text",
    "id": "UfVhUByVd0wu"
   },
   "source": [
    "La documentación es una de las partes más importantes de cualquier proyecto de programación. Consta esencialmente de dos fuentes de información:\n",
    "\n",
    "* Las **páginas de documentación**, que proporcionan un manual de uso o una guía para el programador o posibles colaboradores.\n",
    "* La **documentación de código** en línea, dentro de los archivos de código fuente, que ofrece información sobre cómo se ha implementado el proyecto."
   ]
  },
  {
   "cell_type": "markdown",
   "metadata": {
    "colab_type": "text",
    "id": "QaX1DRDad6hZ"
   },
   "source": [
    "### Páginas de documentación\n",
    "\n",
    "Respecto a las páginas de documentación del proyecto, la herramienta más utilizada en Python para este fin es [**Sphinx**](http://sphinx.pocoo.org/), que además permite publicar posteriormente la documentación en un servicio gratuito llamado <https://readthedocs.org/>.\n",
    "\n",
    "La sintáxis que utiliza Sphinx se denomina [**reStructuredText**](http://sphinx.pocoo.org/rest.html). En esencia, es un lenguaje de marcado muy similar a markdown, pero con más opciones."
   ]
  },
  {
   "cell_type": "markdown",
   "metadata": {
    "colab_type": "text",
    "id": "Q9TYRyCNeF26"
   },
   "source": [
    "### Documentación de código en línea\n",
    "\n",
    "Incluir documentación para nuestro propio código es esencial para guiar a cualquier programador que quiera ver en detalle qué hacemos y cómo lo hacemos, e incluso para nosotros mismos si retomamos un proyecto después de mucho tiempo.\n",
    "\n",
    "El [documento PEP 257](https://www.python.org/dev/peps/pep-0257/) ofrece una guía bastante extensa y completa sobre la creación de ***docstrings***, es decir, documentación en línea para nuestro código que luego se mostrará al generar la documentación del mismo.\n",
    "\n",
    "Existen [dos grandes guías de estilo](http://sphinxcontrib-napoleon.readthedocs.io/en/latest/index.html#google-vs-numpy) para escribir *docstrings* en Python:\n",
    "\n",
    "* La [guía de estilo de Google](http://google.github.io/styleguide/pyguide.html?showone=Comments#Comments).\n",
    "* La [guía de estilo de la documentación de NumPy](https://github.com/numpy/numpy/blob/master/doc/HOWTO_DOCUMENT.rst.txt) (y resto de bibliotecas científicas de Python).\n",
    "\n",
    "En ciencia de datos, suele ser bastante habitual (quizá por proximidad de la aplicación o hábito de uso) utilizar la lista de **recomendaciones de estilo de NumPy**. Sin embargo, podemos seguir cualquiera de las dos, siempre que seamos consistentes en nuestra elección.\n",
    "\n",
    "```python\n",
    "def function_with_types_in_docstring(param1, param2):\n",
    "    \"\"\"Example function with types documented in the docstring.\n",
    "\n",
    "    `PEP 484`_ type annotations are supported. If attribute, parameter, and\n",
    "    return types are annotated according to `PEP 484`_, they do not need to be\n",
    "    included in the docstring:\n",
    "\n",
    "    Parameters\n",
    "    ----------\n",
    "    param1 : int\n",
    "        The first parameter.\n",
    "    param2 : str\n",
    "        The second parameter.\n",
    "\n",
    "    Returns\n",
    "    -------\n",
    "    bool\n",
    "        True if successful, False otherwise.\n",
    "\n",
    "    .. _PEP 484:\n",
    "        https://www.python.org/dev/peps/pep-0484/\n",
    "\n",
    "    \"\"\"\n",
    "```\n",
    "\n",
    "* [Ejemplos de *docstrings* según el estilo Google](http://sphinxcontrib-napoleon.readthedocs.io/en/latest/example_google.html#example-google).\n",
    "* [Ejemplos de *docstrings* según el estilo NumPy](http://sphinxcontrib-napoleon.readthedocs.io/en/latest/example_numpy.html)."
   ]
  },
  {
   "cell_type": "markdown",
   "metadata": {
    "colab_type": "text",
    "id": "IvHEDEbMefIM"
   },
   "source": [
    "## 2.4 Buenas prácticas para *testing* en Python\n",
    "\n",
    "Es importante desarrollar el hábito de incluir pruebas unitarias y de integración en nuestro código, para facilitar la detección de errores conforme vamos añadiendo nuevas funciones a nuestros proyectos.\n",
    "\n",
    "Los **test unitarios** están pensados para probar pequeñas porciones de código de nuestro proyecto, asegurándose que se ejecutan correctamente y sin provocar efectos secundarios. Como norma general, debemos tratar de implementar tests que se ejecuten rápidamente y sin consumir demasiados recursos.\n",
    "\n",
    "Los alumnos interesados en ampliar sus conocimientos sobre testing en Python pueden consultar [Percival, 2014], disponible de forma gratuita en la web (*early release*), así como en Safari."
   ]
  },
  {
   "cell_type": "markdown",
   "metadata": {
    "colab_type": "text",
    "id": "L5A796WSe0LJ"
   },
   "source": [
    "### `unittest`\n",
    "\n",
    "Este es el módulo original integrado en Python para desarrollo de tests unitarios en nuestros programas. Un ejemplo simple sería el siguiente:\n",
    "\n",
    "```python\n",
    "import unittest\n",
    "\n",
    "def fun(x):\n",
    "    return x + 1\n",
    "\n",
    "class MyTest(unittest.TestCase):\n",
    "    def test(self):\n",
    "        self.assertEqual(fun(3), 4)\n",
    "```"
   ]
  },
  {
   "cell_type": "markdown",
   "metadata": {
    "colab_type": "text",
    "id": "CQL2gp0Se6Nr"
   },
   "source": [
    "### `doctest`\n",
    "\n",
    "Este módulo es un poco más sofisticado, y permite declarar porciones de texto similares a un intérprete de Python en la zona de *docstring*, que pasa a ejecutar para comprobar si el resultado es idéntico al documentado.\n",
    "\n",
    "```python\n",
    "def square(x):\n",
    "    \"\"\"Return the square of x.\n",
    "\n",
    "    >>> square(2)\n",
    "    4\n",
    "    >>> square(-2)\n",
    "    4\n",
    "    \"\"\"\n",
    "\n",
    "    return x * x\n",
    "\n",
    "if __name__ == '__main__':\n",
    "    import doctest\n",
    "    doctest.testmod()\n",
    "```"
   ]
  },
  {
   "cell_type": "markdown",
   "metadata": {
    "colab_type": "text",
    "id": "bGOm5VMSfJUc"
   },
   "source": [
    "### `nose`\n",
    "\n",
    "La herramienta más popular y avanzada en la actualidad para implementar tests de código en Python es probablemente [**nose**](https://nose.readthedocs.io/en/latest/) (\"nose is nicer testing for Python\")."
   ]
  },
  {
   "cell_type": "markdown",
   "metadata": {
    "colab_type": "text",
    "id": "P60aI6d4fR6Z"
   },
   "source": [
    "# 3. Referencias"
   ]
  },
  {
   "cell_type": "markdown",
   "metadata": {
    "colab_type": "text",
    "id": "0PhaYxvsfWrL"
   },
   "source": [
    "* [Reitz, 2016] Reitz, K. and Schlusser, *The Hitchhiker's Guide to Python: Best Practices for Development*. O'Reilly Media, Sep. 2013.\n",
    "* [Reitz, 2015] Reitz, K. *The Hitchhiker's Guide to Python*. Disponible online: <http://docs.python-guide.org/en/latest/>\n",
    "* [Percival, 2014] Percival, H.J.W. *Test-Driven Development with Python*. O'Reilly Media, Jun. 2014. Disponible online: <http://chimera.labs.oreilly.com/books/1234000000754/index.html>\n",
    "* [Lubanovic, 2014] Lubanovic, B. *Introducing Python*. O'Reilly Media, Nov. 2014.\n",
    "* [Ramalho, 2015] Ramalho, L. *Fluent Python*. O'Reilly Media, Jul. 2015.\n",
    "* [Lubanovic, 2015] Bill Lubanovic, *Introducing Python. Modern Computing in Simple Packages*. O'Reilly Media, Feb. 2015.\n",
    "* [McKinney, 2017] Wes McKinney, *Python for Data Analysis: Data Wrangling with Pandas, NumPy, and IPython*. O'Reilly Media, Oct. 2017."
   ]
  }
 ],
 "metadata": {
  "colab": {
   "collapsed_sections": [
    "ozmmHDzhWi3v",
    "eEA1iz5fpRB5"
   ],
   "name": "Sesion_1.ipynb",
   "provenance": []
  },
  "kernelspec": {
   "display_name": "Python 3",
   "language": "python",
   "name": "python3"
  },
  "language_info": {
   "codemirror_mode": {
    "name": "ipython",
    "version": 3
   },
   "file_extension": ".py",
   "mimetype": "text/x-python",
   "name": "python",
   "nbconvert_exporter": "python",
   "pygments_lexer": "ipython3",
   "version": "3.7.3"
  }
 },
 "nbformat": 4,
 "nbformat_minor": 1
}
