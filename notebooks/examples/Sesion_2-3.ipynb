{
 "cells": [
  {
   "cell_type": "markdown",
   "metadata": {
    "colab_type": "text",
    "id": "ozmmHDzhWi3v"
   },
   "source": [
    "# Programación científica en Python: Tipos de datos. Listas, tuplas, diccionarios. Estructuras condicionales y bucles."
   ]
  },
  {
   "cell_type": "markdown",
   "metadata": {
    "colab_type": "text",
    "id": "trlaxg73WsvD"
   },
   "source": [
    "## Contenidos"
   ]
  },
  {
   "cell_type": "markdown",
   "metadata": {
    "colab_type": "text",
    "id": "ARBBSIwVW8ON"
   },
   "source": [
    "* [1. Tipos de datos](#1.-Tipos-de-datos).\n",
    "    + [1.1 Jerarquía de tipos](#1.1-Jerarquía-de-tipos).\n",
    "    + [1.2 Variables y constantes](#1.2-Indexación-de-elementos).\n",
    "    + [1.3 Operadores](#1.3-Operadores).\n",
    "    + [1.4 Tipos básicos: números, booleanos y cadenas de caracteres](#1.4-Tipos-básicos:-números,-booleanos-y-cadenas-de-caracteres).\n",
    "* [2. Estructuras condicionales y bucles](#2.-Estructuras-condicionales-y-bucles)\n",
    "* [3. Listas](#2.-Listas).\n",
    "    + [3.1 Construcción de una lista](#3.1-Construcción-de-una-lista).\n",
    "    + [3.2 Indexación de elementos](#3.2-Indexación-de-elementos).\n",
    "    + [3.3 Métodos de listas](#3.3-Métodos-de-listas).\n",
    "* [4. Tuplas](#4.-Tuplas).\n",
    "    + [4.1 Construcción de una tupla](#4.1-CosntruciC3%B3n-de-una-tupla).\n",
    "    + [4.2 Indexación de elementos](#4.2-IndexaciC3%B3n-de-elementos).\n",
    "    + [4.3 Métodos de tuplas](#4.3-Mtodos-de-tuplas).\n",
    "* [5. Diccionarios](#4.-Diccionarios).\n",
    "    + [5.1 Construcción de un diccionario](#5.1-ConstrucciC3%B3n-de-un-diccionario).\n",
    "    + [5.2 Indexación de elementos](#5.2-IndexaciC3%B3n-de-elementos).\n",
    "    + [5.3 Operaciones con diccionarios](#5.3-Operaciones-con-diccionarios).\n",
    "* [6. Collections](#6.-Collections).\n",
    "* [7. Referencias](#7.-Referencias)."
   ]
  },
  {
   "cell_type": "markdown",
   "metadata": {
    "colab_type": "text",
    "id": "zbMswEEb9cVS"
   },
   "source": [
    "# 1. Tipos de datos"
   ]
  },
  {
   "cell_type": "markdown",
   "metadata": {
    "colab_type": "text",
    "id": "R1Fwk3sG9vwG"
   },
   "source": [
    "En todo lenguaje de programación de alto nivel existen diferentes **tipos de datos** que el lenguaje utilizará para realizar operaciones mediante el uso de **operadores**. En la sesión de hoy veremos qué tipos de datos existen en Python y cuáles son los operadores asociados a los tipos de datos, además de iniciarnos en las estructuras condicionales y los bucles, herramientas que nos servirán para controlar el flujo de ejecución de nuestro programa."
   ]
  },
  {
   "cell_type": "markdown",
   "metadata": {
    "colab_type": "text",
    "id": "9BKcBR5lDCxe"
   },
   "source": [
    "## 1.1 Jerarquía de tipos"
   ]
  },
  {
   "cell_type": "markdown",
   "metadata": {
    "colab_type": "text",
    "id": "M6NB4sj3DGE2"
   },
   "source": [
    "Dentro de los tipos de datos que podemos encontrar en el lenguaje, podemos encontrar una distincion entre dos tipos: \n",
    "\n",
    "* Tipos **mutables**: son aquellos cuyo contenido o valor **puede cambiar en tiempo de ejecución**.\n",
    "* Tipos **inmutables**: son aquellos cuyo contenido o valor **no puede cambiar en tiempo de ejecucución**.\n",
    "\n",
    "En la siguiente tabla resumen encontramos los nombres de los tipos de datos, su categoría y una pequeña descripción:\n",
    "\n",
    "| Categoría | Tipo  | Descripción |\n",
    "|------|------|------ |\n",
    "|  Números inmutables  | int| Nº entero |\n",
    "| | long | Nº entero de mayor rango\n",
    "| | float | Nº de coma flotante |\n",
    "| | complex | Nº complejo |\n",
    "| | bool | Booleano (True o False)\n",
    "|Secuencias inmutables|str | String o cadena de caracteres |\n",
    "| | unicode | Cadena de caracteres Unicode |\n",
    "| | tuple | Tupla |\n",
    "| | xrange | Rango inmutable |\n",
    "| Secuencias mutables | list | Lista de objetos |\n",
    "| | range | Rango mutable |\n",
    "| Mapas | dict | Diccionario (Clave, Valor) |\n",
    "| Conjuntos mutables | set | Conjunto mutable |\n",
    "| Conjuntos inmutables | frozenset | Conjunto inmutable |\n",
    "\n"
   ]
  },
  {
   "cell_type": "markdown",
   "metadata": {
    "colab_type": "text",
    "id": "hgvhGnLZL5OT"
   },
   "source": [
    "## 1.2 Variables y constantes"
   ]
  },
  {
   "cell_type": "markdown",
   "metadata": {
    "colab_type": "text",
    "id": "vqIttbhTL8xP"
   },
   "source": [
    "A la hora de programar, necesitamos objetos que nos permitan almacenar la información y los datos de los distintos tipos. Los objetos que nos proporcionan los lenguajes de programación son determinadas zonas de la memoria del ordenador a las que llamamos **variables**. Algunas de estas variables no cambiarán su valor a lo largo de todo el programa, por lo que se conocen como **constantes**. \n",
    "\n",
    "Cada variable tiene un **nombre único** llamado ***identificador***. Podemos pensar en las variables como *contenedores* que contienen *datos* que pueden ser modificados durante el programa.\n",
    "\n",
    "### Alcance de las variables\n",
    "\n",
    "Las variables en Python son **locales por defecto**. Esto quiere decir que las variables definidas en un bloque de código (una **función**) sólo existen en el contexto de esa función (dentro de la misma) pero no fuera. Por ejemplo:"
   ]
  },
  {
   "cell_type": "code",
   "execution_count": 1,
   "metadata": {
    "colab": {},
    "colab_type": "code",
    "id": "z1t3qjr_kXCY"
   },
   "outputs": [
    {
     "name": "stdout",
     "output_type": "stream",
     "text": [
      "5\n"
     ]
    },
    {
     "ename": "NameError",
     "evalue": "name 'b' is not defined",
     "output_type": "error",
     "traceback": [
      "\u001b[0;31m---------------------------------------------------------------------------\u001b[0m",
      "\u001b[0;31mNameError\u001b[0m                                 Traceback (most recent call last)",
      "\u001b[0;32m<ipython-input-1-62069b8999ac>\u001b[0m in \u001b[0;36m<module>\u001b[0;34m\u001b[0m\n\u001b[1;32m      4\u001b[0m   \u001b[0mprint\u001b[0m\u001b[0;34m(\u001b[0m\u001b[0ma\u001b[0m\u001b[0;34m+\u001b[0m\u001b[0mb\u001b[0m\u001b[0;34m)\u001b[0m\u001b[0;34m\u001b[0m\u001b[0;34m\u001b[0m\u001b[0m\n\u001b[1;32m      5\u001b[0m \u001b[0msuma\u001b[0m\u001b[0;34m(\u001b[0m\u001b[0;34m)\u001b[0m\u001b[0;34m\u001b[0m\u001b[0;34m\u001b[0m\u001b[0m\n\u001b[0;32m----> 6\u001b[0;31m \u001b[0mprint\u001b[0m\u001b[0;34m(\u001b[0m\u001b[0ma\u001b[0m\u001b[0;34m+\u001b[0m\u001b[0mb\u001b[0m\u001b[0;34m)\u001b[0m\u001b[0;34m\u001b[0m\u001b[0;34m\u001b[0m\u001b[0m\n\u001b[0m",
      "\u001b[0;31mNameError\u001b[0m: name 'b' is not defined"
     ]
    }
   ],
   "source": [
    "a = 3\n",
    "def suma():\n",
    "  b = 2\n",
    "  print(a+b)\n",
    "suma()\n",
    "print(a+b)"
   ]
  },
  {
   "cell_type": "code",
   "execution_count": 2,
   "metadata": {
    "colab": {
     "base_uri": "https://localhost:8080/",
     "height": 34
    },
    "colab_type": "code",
    "id": "l8KYaVNLlYu5",
    "outputId": "ee4a1e9a-434f-42ef-aa1f-6476d5195bbe"
   },
   "outputs": [
    {
     "name": "stdout",
     "output_type": "stream",
     "text": [
      "2\n"
     ]
    },
    {
     "ename": "NameError",
     "evalue": "name 'z' is not defined",
     "output_type": "error",
     "traceback": [
      "\u001b[0;31m---------------------------------------------------------------------------\u001b[0m",
      "\u001b[0;31mNameError\u001b[0m                                 Traceback (most recent call last)",
      "\u001b[0;32m<ipython-input-2-3d08b6798741>\u001b[0m in \u001b[0;36m<module>\u001b[0;34m\u001b[0m\n\u001b[1;32m      5\u001b[0m \u001b[0;34m\u001b[0m\u001b[0m\n\u001b[1;32m      6\u001b[0m \u001b[0msubrutina\u001b[0m\u001b[0;34m(\u001b[0m\u001b[0;34m)\u001b[0m\u001b[0;34m\u001b[0m\u001b[0;34m\u001b[0m\u001b[0m\n\u001b[0;32m----> 7\u001b[0;31m \u001b[0mprint\u001b[0m\u001b[0;34m(\u001b[0m\u001b[0mz\u001b[0m\u001b[0;34m)\u001b[0m\u001b[0;34m\u001b[0m\u001b[0;34m\u001b[0m\u001b[0m\n\u001b[0m",
      "\u001b[0;31mNameError\u001b[0m: name 'z' is not defined"
     ]
    }
   ],
   "source": [
    "def subrutina():\n",
    "    z = 2\n",
    "    print(z)\n",
    "    return\n",
    "\n",
    "subrutina()\n",
    "print(z)"
   ]
  },
  {
   "cell_type": "markdown",
   "metadata": {
    "colab_type": "text",
    "id": "6zle7Qhka32N"
   },
   "source": [
    "En el primer ejemplo, la variable a es lo que se llama una variable global. Las variables globales son accesibles desde cualquier función, su alcance es, como su nombre indica, global. Dentro del paradigma orientado a objetos, no se recomienda el uso de variables globales en el código salvo que sea estrictamente necesario o conveniente."
   ]
  },
  {
   "cell_type": "markdown",
   "metadata": {
    "colab_type": "text",
    "id": "ue2aalixbjs3"
   },
   "source": [
    "### Constantes"
   ]
  },
  {
   "cell_type": "markdown",
   "metadata": {
    "colab_type": "text",
    "id": "4NDUr4J1bm9K"
   },
   "source": [
    "Las constantes son un tipo de variable que no altera su valor asociado en ningún momento a lo largo de nuestro código. El valor del número Pi es un ejemplo claro de valor constante. En Python, según la convención de nombres, los identificadores de las constantes irán siempre en MAYÚSCULAS y separadas mediante un guión bajo si constan de dos o más palabras."
   ]
  },
  {
   "cell_type": "code",
   "execution_count": 0,
   "metadata": {
    "colab": {},
    "colab_type": "code",
    "id": "lseZ41qrcq1s"
   },
   "outputs": [],
   "source": [
    "PI = 3.14159\n",
    "def areaCirculo(radio):\n",
    "  print(\"El área del círculo de radio\",radio,\"es: \"+str(PI*radio*radio))\n",
    "\n",
    "def perimetroCirculo(radio):\n",
    "  print(\"El perímetro del círculo de radio\",radio,\"es: \"+str(2*PI*radio))\n",
    "\n",
    "areaCirculo(10)\n",
    "perimetroCirculo(10)"
   ]
  },
  {
   "cell_type": "markdown",
   "metadata": {
    "colab_type": "text",
    "id": "CkEDyUludrey"
   },
   "source": [
    "## 1.3 Operadores"
   ]
  },
  {
   "cell_type": "markdown",
   "metadata": {
    "colab_type": "text",
    "id": "_puBfXsKeXaJ"
   },
   "source": [
    "En Python existen distintos tipos de operadores que permiten realizar diferentes operaciones sobre los elementos de nuestro programa: asignar un valor a una variable, modificarlo o comparar variables entre sí. En esta sección veremos los distintos operadores existentes en Python y cómo funcionan."
   ]
  },
  {
   "cell_type": "markdown",
   "metadata": {
    "colab_type": "text",
    "id": "yE5wJ7sEfJqO"
   },
   "source": [
    "### Operadores aritméticos"
   ]
  },
  {
   "cell_type": "markdown",
   "metadata": {
    "colab_type": "text",
    "id": "5MrEEz4DfMP8"
   },
   "source": [
    "Los operadores aritméticos son aquellos que nos permiten, como su nombre indica, realizar operaciones aritméticas con números (o variables cuyo contenido son números). Los operadores aritméticos existentes en Python son los siguientes:\n",
    "* Operador suma (+): Suma valores numéricos o concatena dos cadenas de caracteres"
   ]
  },
  {
   "cell_type": "code",
   "execution_count": 0,
   "metadata": {
    "colab": {},
    "colab_type": "code",
    "id": "HZ2-HwrWgDbw"
   },
   "outputs": [],
   "source": [
    "print(4 + 5)\n",
    "print(\"Hola\"+\", ¿qué tal?\")"
   ]
  },
  {
   "cell_type": "markdown",
   "metadata": {
    "colab_type": "text",
    "id": "UdHvA9MmgPox"
   },
   "source": [
    "* Operador resta (-): Resta valores numéricos o les asigna un valor negativo"
   ]
  },
  {
   "cell_type": "code",
   "execution_count": 0,
   "metadata": {
    "colab": {},
    "colab_type": "code",
    "id": "2A61NIeIgdsn"
   },
   "outputs": [],
   "source": [
    "print(4 - 5)\n",
    "print(-10)"
   ]
  },
  {
   "cell_type": "markdown",
   "metadata": {
    "colab_type": "text",
    "id": "Hm9S3GH0gkln"
   },
   "source": [
    "* Operador multiplicación(*): Multiplica valores numéricos"
   ]
  },
  {
   "cell_type": "code",
   "execution_count": 0,
   "metadata": {
    "colab": {},
    "colab_type": "code",
    "id": "VnjwQyy3g5hK"
   },
   "outputs": [],
   "source": [
    "print(4 * 5)"
   ]
  },
  {
   "cell_type": "markdown",
   "metadata": {
    "colab_type": "text",
    "id": "Iqbq2rjWg7T-"
   },
   "source": [
    "* Operador de exponenciación (**): Calcula el valor de la potencia que tiene como base el número a la izquierda del operador y como exponente el número a la derecha\n",
    "\n"
   ]
  },
  {
   "cell_type": "code",
   "execution_count": 0,
   "metadata": {
    "colab": {},
    "colab_type": "code",
    "id": "LVa_y5e-hN0F"
   },
   "outputs": [],
   "source": [
    "print (2**3)"
   ]
  },
  {
   "cell_type": "markdown",
   "metadata": {
    "colab_type": "text",
    "id": "rrqc5lcZhXab"
   },
   "source": [
    "* Operador de división (/): Divide valores numéricos, dando como resultado un número **real** (*float* en Python). **OJO** Esto es así en Python 3.X. En Python 2.X, el resultado **siempre es un entero** salvo que uno de los operandos sea un número decimal."
   ]
  },
  {
   "cell_type": "code",
   "execution_count": 0,
   "metadata": {
    "colab": {},
    "colab_type": "code",
    "id": "SD3-q1aphqTC"
   },
   "outputs": [],
   "source": [
    "print(4 / 2)\n",
    "print(7 / 3)\n",
    "\n",
    "#result = 4 / 2\n",
    "#type(result)"
   ]
  },
  {
   "cell_type": "markdown",
   "metadata": {
    "colab_type": "text",
    "id": "Or3i6fjxr8a1"
   },
   "source": [
    "* Operador de división entera (//): Realiza la división entera de dos valores numéricos, dando como resultado la parte entera de la división, siendo este resultado también de tipo **entero** (*int* en Python)"
   ]
  },
  {
   "cell_type": "code",
   "execution_count": 0,
   "metadata": {
    "colab": {},
    "colab_type": "code",
    "id": "AqKBTa5IsTQC"
   },
   "outputs": [],
   "source": [
    "print(4 // 2)\n",
    "print(7 // 3)\n",
    "\n",
    "#result = 7//3\n",
    "#type(result)"
   ]
  },
  {
   "cell_type": "markdown",
   "metadata": {
    "colab_type": "text",
    "id": "yr6Y0HndtH4e"
   },
   "source": [
    "* Operador de módulo (%): Devuelve el resto de la división de dos valores numéricos"
   ]
  },
  {
   "cell_type": "code",
   "execution_count": 0,
   "metadata": {
    "colab": {},
    "colab_type": "code",
    "id": "1-DoT6JxtPh5"
   },
   "outputs": [],
   "source": [
    "print(7%2)\n",
    "print(4%2)"
   ]
  },
  {
   "cell_type": "markdown",
   "metadata": {
    "colab_type": "text",
    "id": "c-vUCxRptjAh"
   },
   "source": [
    "#### Precedencia de operadores aritméticos"
   ]
  },
  {
   "cell_type": "markdown",
   "metadata": {
    "colab_type": "text",
    "id": "twbvSPSZtl3D"
   },
   "source": [
    "El orden de preferencia de ejecución de los operadores aritméticos en Python es el siguiente:\n",
    "1. Exponente: **\n",
    "2. Negación: -\n",
    "3. Multiplicación, División, División entera y Módulo: *, /, //, %\n",
    "4. Suma, Resta: +,-\n",
    "\n",
    "Este es el orden establecido en el lenguaje. Sin embargo, como sucede en el lenguaje matemático, podemos romper la precedencia de operadores mediante el uso de paréntesis."
   ]
  },
  {
   "cell_type": "code",
   "execution_count": 0,
   "metadata": {
    "colab": {},
    "colab_type": "code",
    "id": "4QO4cZ4IuCuK"
   },
   "outputs": [],
   "source": [
    "operacion_1 = 2**3-2\n",
    "print(operacion_1)\n",
    "\n",
    "operacion_2 = 2**(3-2)\n",
    "print(operacion_2)"
   ]
  },
  {
   "cell_type": "markdown",
   "metadata": {
    "colab_type": "text",
    "id": "xiOGHrGauW9H"
   },
   "source": [
    "### Operadores de asignación"
   ]
  },
  {
   "cell_type": "markdown",
   "metadata": {
    "colab_type": "text",
    "id": "haV2d4r7ueDp"
   },
   "source": [
    "En Python existe todo un grupo de operadores los cuales permiten, básicamente, asignar valor a una variable. Esta asignación se realiza mediante el operador igual (=), pero no es el único operador de asignación que existe. A continuación listamos los distintos operadores de asignación y su propósito:\n",
    "* Operador de asignación (=): Asigna el valor de la derecha al identificador de la izquierda\n"
   ]
  },
  {
   "cell_type": "code",
   "execution_count": 0,
   "metadata": {
    "colab": {},
    "colab_type": "code",
    "id": "0zJcUeZ8yaNM"
   },
   "outputs": [],
   "source": [
    "a = 10\n",
    "print(a)"
   ]
  },
  {
   "cell_type": "markdown",
   "metadata": {
    "colab_type": "text",
    "id": "fhw0-1Maybo-"
   },
   "source": [
    "* Operador de adición y asignación (+=): Este operador asigna el valor de la derecha sumado al valor que tuviese la variable de la izquierda, modificando el contenido de la variable en cuestión."
   ]
  },
  {
   "cell_type": "code",
   "execution_count": 0,
   "metadata": {
    "colab": {},
    "colab_type": "code",
    "id": "a6S7AGTnyrVU"
   },
   "outputs": [],
   "source": [
    "a = 10\n",
    "print(a)\n",
    "a +=5\n",
    "print(a)"
   ]
  },
  {
   "cell_type": "markdown",
   "metadata": {
    "colab_type": "text",
    "id": "9Qm8ueY8y1dm"
   },
   "source": [
    "El uso de este operador da el mismo resultado que obtendríamos si realizásemos una asignación a la variable sumando el valor deseado:\n"
   ]
  },
  {
   "cell_type": "code",
   "execution_count": 0,
   "metadata": {
    "colab": {},
    "colab_type": "code",
    "id": "ePxBZ2xQzE9q"
   },
   "outputs": [],
   "source": [
    "a = 10\n",
    "print(a)\n",
    "a = a + 5\n",
    "print(a)"
   ]
  },
  {
   "cell_type": "markdown",
   "metadata": {
    "colab_type": "text",
    "id": "Kf0gm6L5zOJk"
   },
   "source": [
    "* Operador de substracción y asignación (-=): Este operador asigna el valor de la derecha restado al valor que tuviese la variable de la izquierda, modificando el contenido de la variable en cuestión."
   ]
  },
  {
   "cell_type": "code",
   "execution_count": 0,
   "metadata": {
    "colab": {},
    "colab_type": "code",
    "id": "r9VjezUHzW5g"
   },
   "outputs": [],
   "source": [
    "a = 10\n",
    "print(a)\n",
    "a -=5\n",
    "print(a)"
   ]
  },
  {
   "cell_type": "markdown",
   "metadata": {
    "colab_type": "text",
    "id": "H35l5H0Fzcf0"
   },
   "source": [
    "El uso de este operador da el mismo resultado que obtendríamos si realizásemos una asignación a la variable restando el valor deseado:"
   ]
  },
  {
   "cell_type": "code",
   "execution_count": 0,
   "metadata": {
    "colab": {},
    "colab_type": "code",
    "id": "jmmMCJWVzfu9"
   },
   "outputs": [],
   "source": [
    "a = 10\n",
    "print(a)\n",
    "a = a - 5\n",
    "print(a)"
   ]
  },
  {
   "cell_type": "markdown",
   "metadata": {
    "colab_type": "text",
    "id": "-nQomuV0zjOC"
   },
   "source": [
    "* Operador de multiplicación y asignación (*=): Este operador asigna el valor de la derecha multiplicado al valor que tuviese la variable de la izquierda, modificando el contenido de la variable en cuestión."
   ]
  },
  {
   "cell_type": "code",
   "execution_count": 0,
   "metadata": {
    "colab": {},
    "colab_type": "code",
    "id": "dwUshzHMxbZl"
   },
   "outputs": [],
   "source": [
    "a = 10\n",
    "print(a)\n",
    "a *=5\n",
    "print(a)"
   ]
  },
  {
   "cell_type": "markdown",
   "metadata": {
    "colab_type": "text",
    "id": "Cxoo8c9DxoAE"
   },
   "source": [
    "El uso de este operador da el mismo resultado que obtendríamos si realizásemos una asignación a la variable multiplicando el valor deseado:"
   ]
  },
  {
   "cell_type": "code",
   "execution_count": 0,
   "metadata": {
    "colab": {},
    "colab_type": "code",
    "id": "CQ7KJ2uzxsfc"
   },
   "outputs": [],
   "source": [
    "a = 10\n",
    "print(a)\n",
    "a = a * 5\n",
    "print(a)"
   ]
  },
  {
   "cell_type": "markdown",
   "metadata": {
    "colab_type": "text",
    "id": "lUiIV0wpzvrB"
   },
   "source": [
    "* Operador de división y asignación (/=): Este operador divide el contenido de la variable de la izquierda entre el valor de la derecha, modificando el contenido de la variable en cuestión."
   ]
  },
  {
   "cell_type": "code",
   "execution_count": 0,
   "metadata": {
    "colab": {},
    "colab_type": "code",
    "id": "btly7Phkyg-p"
   },
   "outputs": [],
   "source": [
    "a = 10\n",
    "print(a)\n",
    "a /=5\n",
    "print(a)"
   ]
  },
  {
   "cell_type": "markdown",
   "metadata": {
    "colab_type": "text",
    "id": "XKLgEgnLyIie"
   },
   "source": [
    "El uso de este operador da el mismo resultado que obtendríamos si realizásemos una asignación a la variable dividiendo el valor deseado:"
   ]
  },
  {
   "cell_type": "code",
   "execution_count": 0,
   "metadata": {
    "colab": {},
    "colab_type": "code",
    "id": "XeAkdu5pyj_F"
   },
   "outputs": [],
   "source": [
    "a = 10\n",
    "print(a)\n",
    "a = a/5\n",
    "print(a)"
   ]
  },
  {
   "cell_type": "markdown",
   "metadata": {
    "colab_type": "text",
    "id": "sOVrm9Bm0MI-"
   },
   "source": [
    "* Operador de división entera y asignación (//=): Este operador divide el contenido de la variable de la izquierda entre el valor de la derecha, modificando el contenido de la variable en cuestión, almacenando en la misma variable el valor entero de la división (sin decimales)."
   ]
  },
  {
   "cell_type": "code",
   "execution_count": 0,
   "metadata": {
    "colab": {},
    "colab_type": "code",
    "id": "2f5jZDh-yn0x"
   },
   "outputs": [],
   "source": [
    "a = 10\n",
    "print(a)\n",
    "a //=5\n",
    "print(a)"
   ]
  },
  {
   "cell_type": "markdown",
   "metadata": {
    "colab_type": "text",
    "id": "9OWNP2pTyMx2"
   },
   "source": [
    "El uso de este operador da el mismo resultado que obtendríamos si realizásemos una asignación a la variable haciendo la división entera con el valor deseado:"
   ]
  },
  {
   "cell_type": "code",
   "execution_count": 0,
   "metadata": {
    "colab": {},
    "colab_type": "code",
    "id": "vIRkiHB-yrDT"
   },
   "outputs": [],
   "source": [
    "a = 10\n",
    "print(a)\n",
    "a = a // 5\n",
    "print(a)"
   ]
  },
  {
   "cell_type": "markdown",
   "metadata": {
    "colab_type": "text",
    "id": "aAGjOOrk0VOr"
   },
   "source": [
    "* Operador de exponenciación y asignación (**=): Este operador realiza la potencia del contenido de la variable de la izquierda elevado al de la derecha."
   ]
  },
  {
   "cell_type": "code",
   "execution_count": 0,
   "metadata": {
    "colab": {},
    "colab_type": "code",
    "id": "GW2SG3ahyvAR"
   },
   "outputs": [],
   "source": [
    "a = 10\n",
    "print(a)\n",
    "a **=5\n",
    "print(a)"
   ]
  },
  {
   "cell_type": "markdown",
   "metadata": {
    "colab_type": "text",
    "id": "ieIKJwG7yTHE"
   },
   "source": [
    "El uso de este operador da el mismo resultado que obtendríamos si realizásemos una asignación a la variable elevándola al valor deseado:"
   ]
  },
  {
   "cell_type": "code",
   "execution_count": 0,
   "metadata": {
    "colab": {},
    "colab_type": "code",
    "id": "qC5sJGKiyytx"
   },
   "outputs": [],
   "source": [
    "a = 10\n",
    "print(a)\n",
    "a = a**5\n",
    "print(a)"
   ]
  },
  {
   "cell_type": "markdown",
   "metadata": {
    "colab_type": "text",
    "id": "K2L4SL3q034j"
   },
   "source": [
    "* Operador de módulo y asignación (%=): Este operador realiza la división del contenido de la variable de la izquierda entre el de la derecha, almacenando el resto de la división."
   ]
  },
  {
   "cell_type": "code",
   "execution_count": 0,
   "metadata": {
    "colab": {},
    "colab_type": "code",
    "id": "4begkdzzy3YP"
   },
   "outputs": [],
   "source": [
    "a = 10\n",
    "print(a)\n",
    "a %=5\n",
    "print(a)"
   ]
  },
  {
   "cell_type": "markdown",
   "metadata": {
    "colab_type": "text",
    "id": "rEJCSUsoyZUk"
   },
   "source": [
    "El uso de este operador da el mismo resultado que obtendríamos si realizásemos una asignación a la variable realizándo la operación de módulo sobre el valor deseado:"
   ]
  },
  {
   "cell_type": "code",
   "execution_count": 0,
   "metadata": {
    "colab": {},
    "colab_type": "code",
    "id": "2eZZQDwazKY5"
   },
   "outputs": [],
   "source": [
    "a = 10\n",
    "print(a)\n",
    "a = a % 5\n",
    "print(a)"
   ]
  },
  {
   "cell_type": "markdown",
   "metadata": {
    "colab_type": "text",
    "id": "Hr6SA6gdzro5"
   },
   "source": [
    "### Operadores relacionales"
   ]
  },
  {
   "cell_type": "markdown",
   "metadata": {
    "colab_type": "text",
    "id": "xKD4pAeXztpW"
   },
   "source": [
    "A la hora de realizar comparaciones en Python, ya sea para discernir si un número es igual a otro, si son distintos, si una cadena de caracteres es la esperada, si el tipo de dato de una variable es el que esperamos, etc. utilizamos lo que se conoce como operadores relacionales. El resultado de estas comparaciones son siempre valores **booleanos** (*True* o *False*. Lo veremos más en detalle a continuación). Los operadores relacionales que existen son los siguientes:\n",
    "\n",
    "* Operador de igualdad (==): Evalúa que los valores comparados sean iguales. Se puede utilizar sobre varios tipos de datos."
   ]
  },
  {
   "cell_type": "code",
   "execution_count": 1,
   "metadata": {
    "colab": {
     "base_uri": "https://localhost:8080/",
     "height": 119
    },
    "colab_type": "code",
    "id": "vsCxdBSF0Qyy",
    "outputId": "5de5ee26-f42c-4302-c0f6-3049ad3a05ff"
   },
   "outputs": [
    {
     "name": "stdout",
     "output_type": "stream",
     "text": [
      "False\n",
      "True\n",
      "False\n",
      "True\n",
      "False\n",
      "True\n"
     ]
    }
   ],
   "source": [
    "print(5==3)\n",
    "print(3==3)\n",
    "print(\"Las cadenas no son números\"==4)\n",
    "print(\"Hola\"==\"Hola\")\n",
    "print(\"Hola\"==\"hola\")\n",
    "print(type(\"Cadena\")== str)"
   ]
  },
  {
   "cell_type": "markdown",
   "metadata": {
    "colab_type": "text",
    "id": "LDlZv0jl2DMs"
   },
   "source": [
    "* Operador de desigualdad (!=): Evalúa que los valores comparados sean distintos. Al igual que el comparador de igualdad, se puede utilizar sobre varios tipos de datos."
   ]
  },
  {
   "cell_type": "code",
   "execution_count": 0,
   "metadata": {
    "colab": {},
    "colab_type": "code",
    "id": "w67dwCxS2POQ"
   },
   "outputs": [],
   "source": [
    "print(5!=3)\n",
    "print(3!=3)\n",
    "print(\"Las cadenas no son números\"!=4)\n",
    "print(\"Hola\"!=\"Hola\")\n",
    "print(\"Hola\"!=\"hola\")\n",
    "print(type(\"Cadena\")!= str)"
   ]
  },
  {
   "cell_type": "markdown",
   "metadata": {
    "colab_type": "text",
    "id": "mMOMqxn42VWo"
   },
   "source": [
    "* Operador menor que (<): Evalúa que el valor del lado izquierdo del operador sea **estrictamente menor** que el derecho. Este operador también se puede utilizar sobre varios tipos de datos, pero dependiendo de los tipos que comparemos la comparación realizada significará una cosa u otra.\n",
    "  * Si comparamos **dos números**, el funcionamiento será el esperado. Si el número de la izquierda es menor que el de la derecha, devuelve *True*. En caso contrario se devuelve *False*.\n",
    "  * Si comparamos dos **cadenas de caracteres**, se realizará la comparación del orden alfabético.\n",
    "  * Si comparamos dos **caracteres simples**, se comparará su posición en el alfabeto (o lo que es lo mismo, su valor numérico en la [tabla ASCII](https://ascii.cl/es/))"
   ]
  },
  {
   "cell_type": "code",
   "execution_count": 4,
   "metadata": {
    "colab": {
     "base_uri": "https://localhost:8080/",
     "height": 102
    },
    "colab_type": "code",
    "id": "IEDGzc2O2naa",
    "outputId": "16d89bac-1035-4786-b076-3657063313a7"
   },
   "outputs": [
    {
     "name": "stdout",
     "output_type": "stream",
     "text": [
      "False\n",
      "True\n",
      "False\n",
      "True\n",
      "True\n"
     ]
    }
   ],
   "source": [
    "print(5 < 4)\n",
    "print(3 < 5)\n",
    "print(\"Abeja\" < \"Conejo\")\n",
    "print('c' < 'z')\n",
    "print('Z' < 'a') #Ojo con esto"
   ]
  },
  {
   "cell_type": "markdown",
   "metadata": {
    "colab_type": "text",
    "id": "xpUvJ57c4woS"
   },
   "source": [
    "* Operador mayor que (>): Evalúa que el valor del lado izquierdo del operador sea **estrictamente mayor** que el derecho. Este operador se comporta igual que el menor que respecto a los tipos de datos."
   ]
  },
  {
   "cell_type": "code",
   "execution_count": 0,
   "metadata": {
    "colab": {},
    "colab_type": "code",
    "id": "z89TV2V45CxH"
   },
   "outputs": [],
   "source": [
    "print(5 > 4)\n",
    "print(3 > 5)\n",
    "print(\"Zangano\" > \"Zorro\")\n",
    "print('c' > 'z')\n",
    "print('Z' > 'a') #Ojo con esto"
   ]
  },
  {
   "cell_type": "markdown",
   "metadata": {
    "colab_type": "text",
    "id": "1AFYinj95FES"
   },
   "source": [
    "* Operador menor o igual que (<=): Evalúa que el valor izquierdo del operador sea **menor o igual** que el lado derecho. "
   ]
  },
  {
   "cell_type": "code",
   "execution_count": 0,
   "metadata": {
    "colab": {},
    "colab_type": "code",
    "id": "AKig4GkK5PAa"
   },
   "outputs": [],
   "source": [
    "print(5 <= 4)\n",
    "print(3 <= 5)\n",
    "print(5 <= 5)\n",
    "print(\"Cerilla\" <= \"Mechero\")\n",
    "print('c' <= 'z')\n",
    "print('Z' <= 'a') #Ojo con esto"
   ]
  },
  {
   "cell_type": "markdown",
   "metadata": {
    "colab_type": "text",
    "id": "88Sl8ler59aK"
   },
   "source": [
    "* Operador mayor o igual que (>=): Evalúa que el valor izquierdo del operador sea **mayor o igual** que el lado derecho."
   ]
  },
  {
   "cell_type": "code",
   "execution_count": 0,
   "metadata": {
    "colab": {},
    "colab_type": "code",
    "id": "W2p_Yla76dlX"
   },
   "outputs": [],
   "source": [
    "print(5 >= 4)\n",
    "print(3 >= 5)\n",
    "print(\"Arbusto\" >= \"Arboleda\")\n",
    "print('c' >= 'z')\n",
    "print('Z' >= 'a') #Ojo con esto"
   ]
  },
  {
   "cell_type": "markdown",
   "metadata": {
    "colab_type": "text",
    "id": "vFVWYeuG6350"
   },
   "source": [
    "## 1.4 Tipos de datos básicos: números, booleanos y cadenas de caracteres"
   ]
  },
  {
   "cell_type": "markdown",
   "metadata": {
    "colab_type": "text",
    "id": "XDHDfdW47htt"
   },
   "source": [
    "En esta sección veremos los tipos básicos del lenguaje Python antes de introducirnos en el mundo de las listas, las tuplas y los diccionarios. Analizaremos los tipos numéricos, los booleanos y los caracteres y cadenas de caracteres."
   ]
  },
  {
   "cell_type": "markdown",
   "metadata": {
    "colab_type": "text",
    "id": "dYUL-qtS7wCp"
   },
   "source": [
    "### 1.4.1 Tipo números\n",
    "\n",
    "Los tipos de datos numéricos se crean mediante literales numéricos y son el tipo devuelto como resultado de operaciones aritméticas. Los objetos numéricos son inmutables: una vez creados, su valor nunca cambia (esto no quiere decir que no podamos modificar el valor numérico asociado a una variable, ojo).\n",
    "\n",
    "Los números en cualquier lenguaje de programación están sujetos a las limitaciones de representación de la máquina en que se ejecutan los programas. Por ello, dentro del tipo numérico distinguimos varios subtipos. En Python se distinguen básicamente cuatro tipos numéricos distintos: \n",
    "\n",
    "|  Clase  |   Tipo   |                       Notas                       |          Ejemplo          |\n",
    "|:-------:|:--------:|:-------------------------------------------------:|:-------------------------:|\n",
    "| int     | Numérico |          Número entero de precisión fija          |             42            |\n",
    "| long    | Numérico |        Número entero de precisión variable        | 42L ó 456966786151987643L |\n",
    "| float   | Numérico | Número de coma flotante de doble precisión        | 3.14151927                |\n",
    "| complex | Numérico | Número complejo (parte real y parte imaginaria j) | (4.9 + 5j)                |\n",
    "\n",
    "### Números enteros\n",
    "Los números enteros son aquellos que no tienen parte decimal, tanto positivos como negativos e inluyendo el 0. En Python pueden representarse mediante el tipo int o el tipo long. La única diferencia a alto nivel es que el tipo *long* permite almacenar números de tamaño mayor. Se aconseja no utilizar el tipo long salvo estricta necesidad, dado que dependiendo del entorno en que se ejecuten, el programa podría fallar si el sistema no dispone de suficiente memoria para su representación.\n",
    "\n",
    "### Números enteros long\n",
    "Este tipo de dato permite almacenar números de cualquier precisión, estando esta limitada por la memoria disponible en la máquina. Al asignar un número a una variable ésta pasará a tener tipo int, a menos que el número sea tan grande como para requerir el uso del tipo long.\n",
    "\n",
    "También podemos indicar a Python el que un número se represente en memoria como long añadiendo una *L* al final:\n",
    "\n",
    "```python\n",
    "entero_long = 23L\n",
    "```\n",
    "También podemos representar números en base octal anteponiendo un cero (0) al número asociado a la variable:\n",
    "```python\n",
    "# 027 en octal = 23 en base 10\n",
    "entero_octal = 027\n",
    "```\n",
    "O bien en hexadecimal, anteponiendo 0x:\n",
    "```python\n",
    "# 0x17 en hexadecimal = 23 en base 10\n",
    "entero_hexadecimal = 0x17\n",
    "```\n",
    "### Números de coma flotante\n",
    "\n",
    "Los números reales se representan en python mediante el tipo float. En concreto, en Python se sigue el estándar IEEE754 para representar los números reales: 1 bit para el signo, 11 para el exponente y 52 para la mantisa. El problema de los números flotantes es que tienen problemas de precisión. Por eso, para el ámbito de la ciencia de datos, en el que se requieren una serie de cálculos precisos, se desarrolló un tipo Decimal que veremos más adelante en la asignatura. De momento, sabed que un número real se puede representar en Python tanto en forma regular como en notación científica:\n",
    "```python\n",
    "real = 0.2703\n",
    "real_notacion_cientifica = 0.1e-3\n",
    "```\n",
    "\n",
    "### Números complejos\n",
    "En caso de necesitar alguna vez números complejos en nuestro proyecto, Python ofrece el tipo de dato complex para representarlos, tanto con su parte real como imaginaria. Se representan como si los escribiésemos en papel:"
   ]
  },
  {
   "cell_type": "code",
   "execution_count": 0,
   "metadata": {
    "colab": {},
    "colab_type": "code",
    "id": "XbLZho7GJ9CZ"
   },
   "outputs": [],
   "source": [
    "complejo = 4.5 + 2.3j\n",
    "print(complejo)\n",
    "print(complejo.real)\n",
    "print(complejo.imag)"
   ]
  },
  {
   "cell_type": "markdown",
   "metadata": {
    "colab_type": "text",
    "id": "fKpKYr2xKKQ1"
   },
   "source": [
    "### 1.4.2 Tipo booleano\n",
    "\n",
    "El tipo booleano es el que nos permite representar los valores lógicos de Verdadero (*True*) y Falso (*False*). Estos valores son especialmente interesantes en las expresiones condicionales y los bucles, como veremos en la siguiente sección del día de hoy. Es importante saber que hay varias formas de representar estos valores mediante distintos tipos de datos en el contexto de las operaciones booleanas y en las sentencias de control de flujo. Los siguientes valores serán interpretados como ```False``` en memoria:\n",
    "* ```False````\n",
    "* *None*\n",
    "* El número cero en todos los tipos numéricos\n",
    "* Cadena de caracteres vacía\n",
    "* Tuplas, listas, diccionarios y conjuntos vacíos\n",
    "\n",
    "Todos los demás valores por defecto se interpretan a ```True```. El operador lógico *not* invierte un valor booleano (si es *True*, entonces *not True* representará False, y al contrario). Veremos con más detalle los operadores lógicos cuando veamos estructuras condicionales y bucles.\n",
    "\n",
    "### 1.4.3 Cadenas de caracteres\n",
    "En Python las cadenas de caracteres se representan mediante el uso de comillas simples (') o dobles(\"). En Python 3.X todas las cadenas se representan por defecto en Unicode (soportan tildes, ñ,...). En Python 2.X debemos anteponer una u a las variables que queramos representar como unicode.\n",
    "```python\n",
    "#Python 2.X\n",
    "cadena_unicode = u'Esta cadena tiene una ñ'\n",
    "\n",
    "#Python 3.X\n",
    "cadena_unicode = \"Esta cadena tiene una ñ, pero en Python 3 no hace falta indicarlo\"\n",
    "```\n",
    "\n",
    "Existen una serie de caracteres especiales que podemos utilizar dentro de nuestras cadenas para realizar acciones como introducir un salto de línea, una tabulación... Además, podría ocurrir que queramos entrecomillar una palabra dentro de una cadena de texto, pero Python lo interpretaría como la voluntad de cerrar la cadena en lugar de entrecomillar una palabra de la misma. Por ello se utiliza lo que se conoce como **caracter de escape**. En Python, al igual que en otros muchos lenguajes de programación, el caracter de escape es la barra invertida (\\\\). A continuación se presenta una tabla con las secuencias de escape más comunes:\n",
    "\n",
    "| Secuencia de escape |           Significado          |\n",
    "|:-------------------:|:------------------------------:|\n",
    "| \\\\\\                  | Backslash o barra invertida(\\\\) |\n",
    "| \\\\'                  |        Comilla simple(')       |\n",
    "| \\\\\"                  | Comillas dobles (\")            |\n",
    "| \\n                  | Salto de línea                 |\n",
    "| \\r                  | Retorno de carro               |\n",
    "| \\v                  | Tabulación vertical            |\n",
    "| \\t                  | Tabulación horizontal          |\n",
    "\n",
    "También es posible encerrar una cadena entre triples comillas (simples o dobles), de forma que el texto puede escribirse en varias líneas y cuando se imprima se respetarán estos saltos de línea sin necesidad de recurrir a los caracteres espcapados.\n"
   ]
  },
  {
   "cell_type": "code",
   "execution_count": 0,
   "metadata": {
    "colab": {},
    "colab_type": "code",
    "id": "UvTFVdtXVY-N"
   },
   "outputs": [],
   "source": [
    "cadena_escapada = \"Esto es una cadena\\nescapada\\r\\n\"\n",
    "print(cadena_escapada)\n",
    "cadena_sin_escapar = \"\"\"Y esto una \n",
    "cadena sin escapar entre tres\n",
    "comillas dobles\"\"\"\n",
    "print(cadena_sin_escapar)"
   ]
  },
  {
   "cell_type": "markdown",
   "metadata": {
    "colab_type": "text",
    "id": "2nHBBqiPV27y"
   },
   "source": [
    "### Operaciones con cadenas\n",
    "\n",
    "Las cadenas de caracteres admiten en Python el uso de operadores aritméticos. Los más comunes son:\n",
    "\n",
    "* El operador suma (+) que sirve para concatenar cadenas:"
   ]
  },
  {
   "cell_type": "code",
   "execution_count": 0,
   "metadata": {
    "colab": {},
    "colab_type": "code",
    "id": "-ud8tqHXWF83"
   },
   "outputs": [],
   "source": [
    "a = \"Cadena1\"\n",
    "b = \"Cadena2\"\n",
    "\n",
    "print(a+b)"
   ]
  },
  {
   "cell_type": "markdown",
   "metadata": {
    "colab_type": "text",
    "id": "u3eCTQOZXVcv"
   },
   "source": [
    "* El operador multiplicación (*) que sirve para repetir la cadena N veces:"
   ]
  },
  {
   "cell_type": "code",
   "execution_count": 0,
   "metadata": {
    "colab": {
     "base_uri": "https://localhost:8080/",
     "height": 34
    },
    "colab_type": "code",
    "id": "21qwY8RlXc3n",
    "outputId": "795a6486-ef48-4f72-f249-365d2eeb5a6d"
   },
   "outputs": [
    {
     "name": "stdout",
     "output_type": "stream",
     "text": [
      "CincoCincoCincoCincoCinco\n"
     ]
    }
   ],
   "source": [
    "cinco = \"Cinco\"\n",
    "print(cinco * 5)"
   ]
  },
  {
   "cell_type": "markdown",
   "metadata": {
    "colab_type": "text",
    "id": "DTrbRYJZXlDX"
   },
   "source": [
    "### Formateo de cadenas\n",
    "El lenguaje Python soporta múltiples formas de formatear (dar formato) a una cadena de caracteres. Esto sirve, básicamente, para introducir en el contenido de una variable en una cadena que queremos imprimir, sin necesidad de romper la cadena. Las formas que ofrece Python para formatear cadenas son las siguientes:\n",
    "\n"
   ]
  },
  {
   "cell_type": "markdown",
   "metadata": {
    "colab_type": "text",
    "id": "Bwduh2xCb7_5"
   },
   "source": [
    "* Utilizando el operador de módulo (%). Si utilizamos este operador, lo que haremos será indicar mediante el mismo y un caracter el tipo de dato que se va a imprimir."
   ]
  },
  {
   "cell_type": "code",
   "execution_count": 0,
   "metadata": {
    "colab": {},
    "colab_type": "code",
    "id": "ePNWGyVQZm2b"
   },
   "outputs": [],
   "source": [
    "calculo_a_realizar = \"raíz cadrada de 5\"\n",
    "resultado = 5**0.5\n",
    "print(\"El resultado de la %s es %f\"% (calculo_a_realizar, resultado)) "
   ]
  },
  {
   "cell_type": "markdown",
   "metadata": {
    "colab_type": "text",
    "id": "UvUZqh4-dRoQ"
   },
   "source": [
    "Además, se puede controlar el formato de la salida. Por ejemplo, podemos obtener la salida con sólo 4 decimales:"
   ]
  },
  {
   "cell_type": "code",
   "execution_count": 0,
   "metadata": {
    "colab": {},
    "colab_type": "code",
    "id": "_QM_FRi6dWk4"
   },
   "outputs": [],
   "source": [
    "calculo_a_realizar = \"raíz cadrada de 5\"\n",
    "resultado = 5**0.5\n",
    "print(\"El resultado de la %s es %.4f\"% (calculo_a_realizar, resultado)) "
   ]
  },
  {
   "cell_type": "markdown",
   "metadata": {
    "colab_type": "text",
    "id": "Phv8G-OicbeA"
   },
   "source": [
    " Los caracteres que determinan un tipo de objeto a formatear son: \n",
    " \n",
    "  * %c: caracter simple\n",
    "  * %s: cadena de caracteres\n",
    "  * %d: número entero\n",
    "  * %f: número de coma flotante\n",
    "  * %o: número en representación octal\n",
    "  * %x: número en representación hexadecimal\n",
    "\n"
   ]
  },
  {
   "cell_type": "markdown",
   "metadata": {
    "colab_type": "text",
    "id": "9EshaXANdG8E"
   },
   "source": [
    "* Utilizando el método ```format()```. Este método nos devuelve una versión formateada de una cadena, utilizando las sustituciones de argumentos. Estas sustituciones se identifican colocándolas entre llaves (\\{ \\}) dentro de la cadena de caracteres. Estos elementos se sustituyen en el orden en el que aparecen como argumentos en la función ```format()```, contándose a partir de 0."
   ]
  },
  {
   "cell_type": "code",
   "execution_count": 0,
   "metadata": {
    "colab": {},
    "colab_type": "code",
    "id": "ZcXYLgzGeL3P"
   },
   "outputs": [],
   "source": [
    "calculo_a_realizar = \"raíz cadrada de 5\"\n",
    "resultado = 5**0.5\n",
    "print(\"El resultado de la {} es {}\".format(calculo_a_realizar, resultado))"
   ]
  },
  {
   "cell_type": "markdown",
   "metadata": {
    "colab_type": "text",
    "id": "mfs9L7sDeb2A"
   },
   "source": [
    "También podemos indicar el argumento que queremos imprimir indicando su posición en la lista de argumentos pasados a la función, empezando desde 0."
   ]
  },
  {
   "cell_type": "code",
   "execution_count": 0,
   "metadata": {
    "colab": {},
    "colab_type": "code",
    "id": "9M8CmR47enbu"
   },
   "outputs": [],
   "source": [
    "calculo_a_realizar = \"raíz cadrada de 5\"\n",
    "resultado = 5**0.5\n",
    "print(\"El resultado de la {0} es {1}\".format(calculo_a_realizar, resultado))\n",
    "print(\"{1} es el resultado de la {0}\".format(calculo_a_realizar, resultado))"
   ]
  },
  {
   "cell_type": "markdown",
   "metadata": {
    "colab_type": "text",
    "id": "f_xyBZEje4KY"
   },
   "source": [
    "Otra forma de referenciar los objetos que queremos formatear es asignándoles un identificador y luego pasar ese identificador como argumento al método format, indicando a qué valor (o variable) está asociado."
   ]
  },
  {
   "cell_type": "code",
   "execution_count": 0,
   "metadata": {
    "colab": {},
    "colab_type": "code",
    "id": "bmsRMOOefJbO"
   },
   "outputs": [],
   "source": [
    "calculo_a_realizar = \"raíz cadrada de 5\"\n",
    "print(\"El resultado de la {operacion} es {resultado}\".format(operacion=calculo_a_realizar, resultado=5**0.5))"
   ]
  },
  {
   "cell_type": "markdown",
   "metadata": {
    "colab_type": "text",
    "id": "00sHsPgcm2f0"
   },
   "source": [
    "Existen varias funciones asociadas a las cadenas de caracteres. Ahora no vamos a entrar en detalle, pero está bien conocerlas por su utilidad.\n",
    "\n",
    "* Función ```len(cadena)```: Devuelve la longitud de la cadena que se le pasa como argumento (incluyendo espacios)"
   ]
  },
  {
   "cell_type": "code",
   "execution_count": 0,
   "metadata": {
    "colab": {
     "base_uri": "https://localhost:8080/",
     "height": 34
    },
    "colab_type": "code",
    "id": "kcfU1tS3nWKl",
    "outputId": "3f9eeb7c-e9c3-46f5-b124-92d261af4197"
   },
   "outputs": [
    {
     "name": "stdout",
     "output_type": "stream",
     "text": [
      "40\n"
     ]
    }
   ],
   "source": [
    "print(len(\"Esta cadena tiene una longitud de 47 caracteres\"))"
   ]
  },
  {
   "cell_type": "markdown",
   "metadata": {
    "colab_type": "text",
    "id": "ZUHMZQK-n92P"
   },
   "source": [
    "* Función str(variable): Sirve para convertir a tipo cadena otros tipos de datos, por ejemplo para imprimirlos por pantalla cuando no utilizamos formateo"
   ]
  },
  {
   "cell_type": "code",
   "execution_count": 0,
   "metadata": {
    "colab": {},
    "colab_type": "code",
    "id": "sTVKdlUKnr-8"
   },
   "outputs": [],
   "source": [
    "var_num = 84\n",
    "print(\"Voy a imprimir la variable var_num: \"+str(var_num))"
   ]
  },
  {
   "cell_type": "markdown",
   "metadata": {
    "colab_type": "text",
    "id": "lJqzf09a1Jo1"
   },
   "source": [
    "### Indexación de cadenas\n",
    "Podemos acceder a la posición de un caracter en una cadena mediante indexación. Los índices en una cadena (y también en una lista, como veremos más adelante) **comienzan en 0** y terminan en **`len(cadena)-1`**. Esto se entiende mejor con un ejemplo:"
   ]
  },
  {
   "cell_type": "code",
   "execution_count": 0,
   "metadata": {
    "colab": {},
    "colab_type": "code",
    "id": "8b9ZSkz02_qL"
   },
   "outputs": [],
   "source": [
    "cadena = \"El caracter en el tercer índice de esta cadena es 'c'\"\n",
    "cadena[3]\n",
    "print(\"El último caracter de la cadena es\", cadena[len(cadena)-1])"
   ]
  },
  {
   "cell_type": "markdown",
   "metadata": {
    "colab_type": "text",
    "id": "hADYu9oc8ogo"
   },
   "source": [
    "Existen distintas formas de manejar los índices en Python. Se resumen en:\n",
    "\n",
    "* Acceso habitual: simplemente indicamos el índice al que queremos acceder, como hemos visto en el ejemplo anterior\n",
    "* Acceso con índices negativos: mediante el uso de índices negativos podemos acceder a los elementos de una cadena de forma inversa (es decir, desde el último elemento hasta el primero. Si utilizamos este modo de acceso, debemos saber que los índices comienzan en **-1** (el último elemento de la cadena) y van hasta **`-len(cadena)`** (el primer elemento de la cadena). \n"
   ]
  },
  {
   "cell_type": "code",
   "execution_count": 0,
   "metadata": {
    "colab": {},
    "colab_type": "code",
    "id": "_zpIEqAQ_J-W"
   },
   "outputs": [],
   "source": [
    "cadena = \"Hola\"\n",
    "print(cadena[0])\n",
    "print(cadena[-len(cadena)])\n",
    "\n",
    "print(cadena[len(cadena)-1])\n",
    "print(cadena[-1])"
   ]
  },
  {
   "cell_type": "markdown",
   "metadata": {
    "colab_type": "text",
    "id": "Gku9fOaY_Kjo"
   },
   "source": [
    "* Acceso a través de sublistas (o subcadenas): para acceder a una subcadena (o a un subconjunto de elementos de una lista), podemos utilizar un tipo de indexación especial que nos indica el rango de elementos que queremos escoger, siendo el límite inferior cerrado y el límite superior abierto (es decir, un rango del tipo [n1, n2)). Veamos unos cuantos ejemplos:\n",
    "\n"
   ]
  },
  {
   "cell_type": "code",
   "execution_count": 0,
   "metadata": {
    "colab": {},
    "colab_type": "code",
    "id": "qO7ehfgG_LYZ"
   },
   "outputs": [],
   "source": [
    "cadena = \"Esta es una cadena no demasiado larga\"\n",
    "#Accedemos a los caracteres 1, 2, 3 y 4\n",
    "print(cadena[1:5])\n",
    "\n",
    "#Accedemos al caracter 1\n",
    "print(cadena[1:2])\n",
    "\n",
    "#Si el límite inferior y superior son iguales, se devuelve una cadena vacía\n",
    "print(cadena[1:1])\n",
    "\n",
    "#Si no establecemos límite inferior, se cogen todos los caracteres hasta el límite superior (no incluido)\n",
    "print(cadena[:5])\n",
    "\n",
    "#Si no establecemos límite superior, se cogen todos los caracteres desde el límite inferior (incluido)\n",
    "print(cadena[5:])\n",
    "\n",
    "#Si no establecemos límite superior ni límite inferior, se devuelve la cadena completa\n",
    "print(cadena[:])"
   ]
  },
  {
   "cell_type": "markdown",
   "metadata": {
    "colab_type": "text",
    "id": "vO4zP5YpXZt9"
   },
   "source": [
    "Por último, podemos indicar cuántas posiciones de diferencia debe haber entre un caracter y el siguiente incluído en la subcadena extraída:"
   ]
  },
  {
   "cell_type": "code",
   "execution_count": 0,
   "metadata": {
    "colab": {},
    "colab_type": "code",
    "id": "L1l1jQNyXjS6"
   },
   "outputs": [],
   "source": [
    "#Desde el caracter en la posición 1, vamos accediendo al caracter que se encuentra en el índice + 2 posiciones\n",
    "print(cadena[1::2])\n",
    "\n",
    "#Desde el caracter inicial, vamos accediendo al caracter que se encuentra en el índice + 2 posiciones\n",
    "print(cadena[::2])"
   ]
  },
  {
   "cell_type": "markdown",
   "metadata": {
    "colab_type": "text",
    "id": "g6D9ti7Qtrqo"
   },
   "source": [
    "# 2. Estructuras condicionales y bucles\n"
   ]
  },
  {
   "cell_type": "markdown",
   "metadata": {
    "colab_type": "text",
    "id": "XMj_rAmlozRq"
   },
   "source": [
    "\n",
    "Hasta ahora hemos visto los distintos tipos de datos que existen en Python (a pesar de que Python es un lenguaje **no tipado**, los valores que maneja siguen representándose en memoria como un tipo de dato), sus particularidades, operadores, etc.\n",
    "\n",
    "Pero a la hora de programar necesitamos definir un flujo de ejecución y explicar a nuestro programa qué pasos debe seguir para lograr el objetivo propuesto. En definitiva, debemos desarrollar **un algoritmo**. Para ello, habrá ocasiones en las que queramos que nuestro programa actúe de una forma u otra en función de cierta condición, o que repita una serie de acciones mediante se cumpla una condición, etc.\n",
    "\n",
    "Para conseguir esto, los lenguajes de programación suelen proporcionar lo que se conoce como **estructuras de control de flujo** o estructuras **condicionales** y lo que llamamos **bucles** o **loops**. En esta sección veremos qué tipos de estructuras de control y bucles existen y cómo se utilizan.\n",
    "\n"
   ]
  },
  {
   "cell_type": "markdown",
   "metadata": {
    "colab_type": "text",
    "id": "39rXkbxltP2e"
   },
   "source": [
    "### 2.1 Estructuras condicionales: Condicional If\n",
    "\n",
    "La sentencia condicional ```if``` se utiliza para decidir si nuestro código realiza una acción o no, dependiendo de si se cumple o no una condición lógica. Recordemos que una condición lógica es una expresión que se evalua a un valor booleano ```True``` o ```False```. En caso de que la evaluación de como resultado ```True``` se ejecuta el bloque de código bajo el ```if```, mientras que si el resultado de la condición es ```False```, no se ejecutará. La sentencia ```if``` puede ir acompañada de las sentencias ```elif``` y ```else```. Para entenderlo mejor vamos a ver un fragmento de código que utiliza esta estructura completa:"
   ]
  },
  {
   "cell_type": "code",
   "execution_count": 0,
   "metadata": {
    "colab": {},
    "colab_type": "code",
    "id": "Z9bBtcCIvCkO"
   },
   "outputs": [],
   "source": [
    "numero = 5\n",
    "\n",
    "if numero < 0:\n",
    "    numero = 0\n",
    "    print('El número ingresado es negativo cambiado a cero.\\n')\n",
    "elif numero == 0:\n",
    "    print('El número ingresado es 0.\\n')\n",
    "elif numero == 1:\n",
    "    print('El número ingresado es 1.\\n')\n",
    "else:\n",
    "    print('El número ingresado es mayor que uno.\\n')"
   ]
  },
  {
   "cell_type": "markdown",
   "metadata": {
    "colab_type": "text",
    "id": "-mHClEuSvUx9"
   },
   "source": [
    "En este fragmento de código se comprueba si un número es menor que cero. Si esta comprobación devuelve ```False``` (como sucede en este caso) el flujo del programa continúa por la rama ```elif```. En caso de que la condición comprobada en la rama ```elif``` también devuelva ```False```, continua evaluando. Finalmente, si ninguna condición se cumple el flujo del programa acaba entrando por la rama ```else```. En resumidas cuentas:\n",
    "\n",
    "* Sentencia if: significa \"Si se cumple esta condición, se ejecuta este bloque\"\n",
    "* Sentencia elif: significa \"de lo contrario, si se cumple esta condición, se ejecuta este bloque\"\n",
    "* Sentencia else: significa \"de lo contrario, se ejecuta este bloque\".\n",
    "\n",
    "Se asume, por tanto, que si queremos que se realicen una serie de comprobaciones y tomar un flujo de ejecución u otro en función de las mismas, utilizaremos sentencias if/elif/else.\n",
    "\n",
    "Un aspecto a tener en cuenta es que en Python no podemos finalizar un bloque de comprobaciones con una sentencia ```elif```. También son importantes **la indentación** y la **sintaxis**. La sintaxis de una sentencia if es la que sigue:\n",
    "\n",
    "```python\n",
    "if condicion:\n",
    "  bloque a ejecutar si se cumple la condición\n",
    "[elif condicion:]\n",
    "[else:]\n",
    "```\n",
    "Respecto a la indentación, como comentamos en la primera sesión, debe respetar las tabulaciones. Un bloque de código asociado a una rama del condicional irá tabulado a la derecha.\n",
    "\n",
    "### Operadores usables en sentencias if\n",
    "Además de los operadores booleanos que ya conocemos (==, !=, <, >, <=, >=), en las expresiones condicionales podemos utilizar otros operadores que nos pueden resultar de utilidad, especialmente cuando tratemos con estructuras de datos como listas (las veremos en el siguiente bloque). Estos operadores son:\n",
    "\n",
    "* Operador in: Sirve para comprobar si existe un determinado dato (el del lado izquierdo) en una colección (la del lado derecho)."
   ]
  },
  {
   "cell_type": "code",
   "execution_count": 0,
   "metadata": {
    "colab": {},
    "colab_type": "code",
    "id": "TazBsFRI50Vh"
   },
   "outputs": [],
   "source": [
    "lista = [1, 3, 5]\n",
    "if(2 in lista):\n",
    "  print(\"2 está en la lista\")\n",
    "else:\n",
    "  print(\"2 no está en la lista\")"
   ]
  },
  {
   "cell_type": "markdown",
   "metadata": {
    "colab_type": "text",
    "id": "0HaYAdJv6Se8"
   },
   "source": [
    "* Operador not in: Sirve para comprobar si **no existe** un determinado dato (el del lado izquierdo) en una colección (la del lado derecho)."
   ]
  },
  {
   "cell_type": "code",
   "execution_count": 0,
   "metadata": {
    "colab": {},
    "colab_type": "code",
    "id": "cWc0a5ec7Fc0"
   },
   "outputs": [],
   "source": [
    "lista = [1, 3, 5]\n",
    "if(2 not in lista):\n",
    "  print(\"2 NO está en la lista\")\n",
    "else:\n",
    "  print(\"2 está en la lista\")"
   ]
  },
  {
   "cell_type": "markdown",
   "metadata": {
    "colab_type": "text",
    "id": "J-l720_f7QHM"
   },
   "source": [
    "* Operador is: Es un operador que comprueba la identidad de un objeto, es decir, comprueba si el objeto del lado izquierdo de la comparación se corresponde con el objeto del lado derecho."
   ]
  },
  {
   "cell_type": "code",
   "execution_count": 0,
   "metadata": {
    "colab": {},
    "colab_type": "code",
    "id": "PVx4-9zm7eLr"
   },
   "outputs": [],
   "source": [
    "if (1 is 1):\n",
    "  print(\"1 es 1\")\n",
    "\n",
    "if (1 is 1.):\n",
    "  print(\"1 es 1.\")\n",
    "else:\n",
    "  print(\"1 NO es 1.\")"
   ]
  },
  {
   "cell_type": "markdown",
   "metadata": {
    "colab_type": "text",
    "id": "nlWDtNHx8WrX"
   },
   "source": [
    "Además de estos operadores, existen lo que se conocen como operadores lógicos para realizar **operaciones lógicas** u **operaciones booleanas**. Aunque existen más, las más utilizadas son las operaciones **and** y **or**. El resultado de estas operaciones es bastante simple de entender:\n",
    "\n",
    "* El operador and comprueba si tanto una condición (lado izquierdo) como otra (lado derecho) se cumplen. Ambas condiciones deben cumplirse para entrar a ejecutar el bloque indicado.\n",
    "* El operador or comprueba si una condición u otra se cumplen. Que se cumpla una de las condiciones es suficiente para ejecutar el bloque indicado.\n",
    "* El operador not simplemente invierte un valor lógico: not True es igual a False y not False es igual a True.\n",
    "\n",
    "Las operaciones lógicas ofrecen resultados binarios (True o False) basándose en lo que se conoce como **tablas de verdad**. Las tablas de verdad de los operadores and y or son las siguientes:\n",
    "\n",
    "|  Op 1 |  AND  | Op 2  |\n",
    "|:-----:|:-----:|-------|\n",
    "| TRUE  | **TRUE** | TRUE  |\n",
    "| TRUE  | **FALSE** | FALSE |\n",
    "| FALSE | **FALSE** | TRUE |\n",
    "| FALSE | **FALSE** | FALSE  |\n",
    "  \n",
    "    \n",
    "\n",
    "|  Op 1 |  OR  | Op 2  |\n",
    "|:-----:|:-----:|-------|\n",
    "| TRUE  | **TRUE** | TRUE  |\n",
    "| TRUE  | **TRUE** | FALSE |\n",
    "| FALSE | **TRUE** | TRUE |\n",
    "| FALSE | **FALSE** | FALSE  |\n",
    "\n"
   ]
  },
  {
   "cell_type": "markdown",
   "metadata": {
    "colab_type": "text",
    "id": "V2L1iwuUBTY2"
   },
   "source": [
    "### 2.2 Bucles: while\n",
    "\n",
    "  Cuando queremos realizar una tarea que sabemos que se va a tener que hacer exactamente igual (restar un número, sumarlo, recorrer un conjunto de datos hasta el final...), podemos evitar tener que escribir una línea de código por cada dato sobre el que queramos realizar esta tarea si utilizamos los mecanismos que el lenguaje nos ofrece: los bucles. En este apartado hablaremos del bucle **while**. Este bucle nos permite realizar múltiples iteraciones de un mismo bloque de código basándonos en el resultado de una expresión lógica, que puede tener como resultado un valor ```True``` o ```False```. Mientras la condición se evalúe a ```True``` el bucle se seguirá ejecutando. Es importante destacar que **es el programador** el encargado de modificar las variables de condición que harán que un bucle while se detenga. Si no estamos atentos, podemos acabar encerrados en un **bucle infinito** que impida que nuestro programa termine, dado que el bucle tampoco termina, con consecuencias tanto para el programa como para la máquina donde se ejecuta (podría acabar llenándose la memoria y la máquina se reiniciará o activará otro mecanismo de protección). Veamos un ejemplo de uso del bucle while:"
   ]
  },
  {
   "cell_type": "code",
   "execution_count": 0,
   "metadata": {
    "colab": {},
    "colab_type": "code",
    "id": "QMwyfqjeDDjx"
   },
   "outputs": [],
   "source": [
    "suma = 0\n",
    "num_inicial = 1\n",
    "\n",
    "while suma <=10:\n",
    "  suma += num_inicial\n",
    "  num_inicial +=1\n",
    "print(\"La suma es\",suma)"
   ]
  },
  {
   "cell_type": "markdown",
   "metadata": {
    "colab_type": "text",
    "id": "7LRT79i1EU6h"
   },
   "source": [
    "En este ejemplo podemos ver que la variable que controla la salida del bucle es **suma**. Se va iterando por el bucle **mientras** se cumpla la condición de que la variable **suma** sea menor o igual que 10. En el momento en el que esta condición deja de cumplirse, se sale del bucle y se continúa ejecutando el código (en este caso, la impresión por pantalla del contenido de la variable).\n",
    "\n",
    "### while + else\n",
    "En Python existe la posibilidad de combinar la estructura while con una sentencia else, al igual que sucedía con la sentencia if. Este nombre es un poco erróneo, dado que el bloque else se ejecutará siempre que la expresión condicional que gobierna el bucle while sea evaluada a False (cosa que debería ocurrir **siempre**, para que podamos salir del bucle, salvo que interrumpamos la ejecución con una sentencia auxiliar)."
   ]
  },
  {
   "cell_type": "code",
   "execution_count": 0,
   "metadata": {
    "colab": {},
    "colab_type": "code",
    "id": "erN293vCF-LH"
   },
   "outputs": [],
   "source": [
    "suma = 0\n",
    "num_inicial = 1\n",
    "\n",
    "while suma <=10:\n",
    "  suma += num_inicial\n",
    "  num_inicial +=1\n",
    "else:\n",
    "  print(\"La suma es\",suma)"
   ]
  },
  {
   "cell_type": "markdown",
   "metadata": {
    "colab_type": "text",
    "id": "Tk7fyJeFGypI"
   },
   "source": [
    "### Sentencias auxiliares\n",
    "Existen algunas sentencias auxiliares que nos permiten modificar el flujo de ejecución de un bucle while. Son las siguientes:\n",
    "\n",
    "* break: esta sentencia nos permite interrumpir los ciclos aunque la condición que gobierna el bucle siga siendo evaluada a True. "
   ]
  },
  {
   "cell_type": "code",
   "execution_count": 0,
   "metadata": {
    "colab": {},
    "colab_type": "code",
    "id": "eLFls1paGm4k"
   },
   "outputs": [],
   "source": [
    "suma = 0\n",
    "num_inicial = 1\n",
    "\n",
    "while suma <=10:\n",
    "  suma += num_inicial\n",
    "  num_inicial +=1\n",
    "  if suma==3:\n",
    "    break\n",
    "else:\n",
    "  print(\"La suma es\", suma)\n",
    "\n",
    "print(\"La suma es\", suma)"
   ]
  },
  {
   "cell_type": "markdown",
   "metadata": {
    "colab_type": "text",
    "id": "4RJOKv-7HRS4"
   },
   "source": [
    "* continue: Esta sentencia hace que se regrese a la primera línea del bloque de código del interior del bucle, aunque la anterior ejecución no haya terminado."
   ]
  },
  {
   "cell_type": "code",
   "execution_count": 0,
   "metadata": {
    "colab": {},
    "colab_type": "code",
    "id": "I7r0tSduHgNl"
   },
   "outputs": [],
   "source": [
    "variable = 10\n",
    "\n",
    "while variable > 0:              \n",
    "   variable = variable -1\n",
    "   if variable == 5:\n",
    "      continue\n",
    "   print('Actual valor de variable:', variable)"
   ]
  },
  {
   "cell_type": "markdown",
   "metadata": {
    "colab_type": "text",
    "id": "R-xjfZOqHr_X"
   },
   "source": [
    "### 2.3 Bucles: for\n",
    "Al contrario de lo que sucede en la mayoría de lenguajes de programación, en Python los bucles for no están pensados para iterar sobre una progresión aritmética o darle al usuario la posibilidad de elegir la condición de parada y el modo de iteración, sino que están pensados para iterar sobre **items de una secuencia** (una lista, una cadena de caracteres...) en el orden en el que aparecen en la secuencia. Sin embargo, aunque no podemos elegir el modo de iteración, podemos generar una lista con lo que deseemos. Esto lo conseguiremos a través de la función range(). Esta función genera una lista en tiempo de ejecución (no es visible para el programador ni debe declararla) con el contenido en números que le indiquemos. Por ejemplo, si queremos que una sentencia se ejecute 5 veces, podemos provocar este comportamiento con un bucle for de la siguiente manera:\n"
   ]
  },
  {
   "cell_type": "code",
   "execution_count": 0,
   "metadata": {
    "colab": {
     "base_uri": "https://localhost:8080/",
     "height": 102
    },
    "colab_type": "code",
    "id": "60cvnRFtJz16",
    "outputId": "b022aeec-e0e6-40f7-8e60-830d02ad526f"
   },
   "outputs": [
    {
     "name": "stdout",
     "output_type": "stream",
     "text": [
      "El valor de la variable i en este momento es  0\n",
      "El valor de la variable i en este momento es  1\n",
      "El valor de la variable i en este momento es  2\n",
      "El valor de la variable i en este momento es  3\n",
      "El valor de la variable i en este momento es  4\n"
     ]
    }
   ],
   "source": [
    "for i in range(5):\n",
    "  print(\"El valor de la variable i en este momento es \",i)"
   ]
  },
  {
   "cell_type": "markdown",
   "metadata": {
    "colab_type": "text",
    "id": "PCjUb0L1J8ZN"
   },
   "source": [
    "Debemos tener en cuenta que la función range() genera las series de números empezando por el 0 y acabando en N-1. Si queremos indicar a Python otro método de iteración (por ejemplo, ir sumando a la variable de control 2 unidades en lugar de una), le indicaremos a la función range el inicio de la lista de números, el límite superior de la lista (recordemos que empezamos en 0, así que se llegará al elemento N-1) y en cuánto queremos incrementar las unidades entre los números."
   ]
  },
  {
   "cell_type": "code",
   "execution_count": 0,
   "metadata": {
    "colab": {
     "base_uri": "https://localhost:8080/",
     "height": 102
    },
    "colab_type": "code",
    "id": "oK-crIL2KDjs",
    "outputId": "6277af58-45a0-4b41-eb16-e693a6a0ee0b"
   },
   "outputs": [
    {
     "name": "stdout",
     "output_type": "stream",
     "text": [
      "0\n",
      "2\n",
      "4\n",
      "6\n",
      "8\n"
     ]
    }
   ],
   "source": [
    "for i in range(0, 10, 2):\n",
    "  print(i)"
   ]
  },
  {
   "cell_type": "markdown",
   "metadata": {
    "colab_type": "text",
    "id": "tOeVTX1hK2hl"
   },
   "source": [
    "Volveremos sobre los bucles for cuando hayamos visto listas, tuplas, diccionarios y conjuntos para analizar más en detalle su utilidad como iteradores. De momento, podemos pensar en los bucles while y for como sigue:\n",
    "\n",
    "* Si **no conocemos** a priori el número de iteraciones que debemos realizar para nuestra tarea, pero conocemos **la condición de parada**, utilizaremos un bucle while.\n",
    "* Si **conocemos** a priori el número de iteraciones que debemos realizar para nuestra tarea, utilizaremos un for indicando mediante la función range() el número de iteraciones que se realizarán."
   ]
  },
  {
   "cell_type": "markdown",
   "metadata": {
    "colab_type": "text",
    "id": "eEA1iz5fpRB5"
   },
   "source": [
    "# 3. Listas "
   ]
  },
  {
   "cell_type": "markdown",
   "metadata": {
    "colab_type": "text",
    "id": "iyQjfM5zpSpW"
   },
   "source": [
    "Cuando leemos los datos de alguna fuente externa a nuestro programa (un dataset, un fichero, una web...) debemos cargar la información en memoria, de modo que nuestro código disponga de estos datos en todo momento, los pueda modificar, consultar o eliminar según convenga, sin alterar el conjunto de datos original. En algunos casos, la utilización de variables es suficiente para almacenar la información necesaria, pero este no suele ser el caso. "
   ]
  },
  {
   "cell_type": "markdown",
   "metadata": {
    "colab_type": "text",
    "id": "uUqh3Uibvh2f"
   },
   "source": [
    "Las listas son **contenedores de objetos** de Python que pueden contener cero o más elementos. A diferencia de las cadenas, los elementos pueden ser **heterogéneos** (de diferentes tipos). Implementan **secuencias mutables** de objetos, es decir, las listas recuerdan el orden de los objetos que se incluyen en ella, y podemos expandir o contraer el tamaño de la lista, añadiendo nuevos elementos o extrayendo elementos ya existentes."
   ]
  },
  {
   "cell_type": "markdown",
   "metadata": {
    "colab_type": "text",
    "id": "20a0PTo-qMuQ"
   },
   "source": [
    "## 3.1 Construcción de listas"
   ]
  },
  {
   "cell_type": "markdown",
   "metadata": {
    "colab_type": "text",
    "id": "9Lk9O2qpqiqR"
   },
   "source": [
    "Para construir una lista en Python, podemos declararla directamente junto con su contenido utilizando corchetes ([ ]), pudiendo crear una lista vacía, y separando los elementos que componen la lista por comas (,)."
   ]
  },
  {
   "cell_type": "code",
   "execution_count": 0,
   "metadata": {
    "colab": {},
    "colab_type": "code",
    "id": "7WIDHvLPwkno"
   },
   "outputs": [],
   "source": [
    "lista_vacia = []\n",
    "dias_semana = [\"Lunes\", \"Martes\", \"Miércoles\", \"Jueves\", \"Viernes\"]\n",
    "dias_semana"
   ]
  },
  {
   "cell_type": "markdown",
   "metadata": {
    "colab_type": "text",
    "id": "AOjjeuviw3r8"
   },
   "source": [
    "Como indicábamos al principio, las listas pueden contener datos de diferentes tipos (**son heterogéneas**)."
   ]
  },
  {
   "cell_type": "code",
   "execution_count": 0,
   "metadata": {
    "colab": {},
    "colab_type": "code",
    "id": "ZVKTx-RKw-jD"
   },
   "outputs": [],
   "source": [
    "info_alumno = [\"Sergio\", \"Pérez\", \"Peló\", 24, \"00000000A\"]\n",
    "info_alumno"
   ]
  },
  {
   "cell_type": "markdown",
   "metadata": {
    "colab_type": "text",
    "id": "iOkrw3mGxWCY"
   },
   "source": [
    "También es posible la creación de una lista de listas"
   ]
  },
  {
   "cell_type": "code",
   "execution_count": 0,
   "metadata": {
    "colab": {},
    "colab_type": "code",
    "id": "ULBFCFyaxlOf"
   },
   "outputs": [],
   "source": [
    "lista_alumnos = [[\"Sergio\", \"Pérez\", \"Peló\", 24, \"00000000A\"],\n",
    "                 [\"Juan David\", \"Quintana\", \"Pérez\", 33, \"00000001B\"],\n",
    "                 [\"Aitor\", \"Menta\", \"Fuerte\", 23, \"00000002C\"]]\n",
    "lista_alumnos"
   ]
  },
  {
   "cell_type": "markdown",
   "metadata": {
    "colab_type": "text",
    "id": "7ztgUhc6y-G1"
   },
   "source": [
    "Un aviso sobre la **impresión en Jupyter del contenido de una lista**. Si intentamos imprimir el contenido de una lista en Jupyter y la **longitud de la información** mostrada en pantalla **supera los 80 caracteres**, el kernel de IPython (utilizado por Jupyter) seleccionará hacer un *pretty print* de la lista, mostrando cada elemento en una línea diferente. Supuestamente, en muchos casos esta funcionalidad mejora la legibilidad de la salida cuando imprimos secuencias largas. Sin embargo, en algunos casos el resultado es el contrario. Por tanto, si queremos omitir esta característica e imprimir siempre las listas de Python \"horizontalmente\", debemos hacerlo llamando siempre explícitamente a la función `print()`."
   ]
  },
  {
   "cell_type": "markdown",
   "metadata": {
    "colab_type": "text",
    "id": "yC2apBGtzOr7"
   },
   "source": [
    "Python ofrece la posibilidad de crear una lista a partir de otro objeto Python, siempre y cuando sea un **objeto iterable**. En estas ocasiones, la notación basada en corchetes no es adecuada. En su lugar, se utiliza otro método, similar a los métodos de casting utilizados para realizar la conversión de tipos (int(), float(),...), para convertir un objeto iterable en una lista. Es la función `list()`."
   ]
  },
  {
   "cell_type": "code",
   "execution_count": 0,
   "metadata": {
    "colab": {},
    "colab_type": "code",
    "id": "oXdgUzCm0ZvL"
   },
   "outputs": [],
   "source": [
    "print(list(\"Cadena en forma de lista\"))\n",
    "\n",
    "print(list((False, 1, 2, 3, \"cuatro\", 5.0)))"
   ]
  },
  {
   "cell_type": "markdown",
   "metadata": {
    "colab_type": "text",
    "id": "DRWFLFOo4E3l"
   },
   "source": [
    "## 3.2 Indexación de elementos"
   ]
  },
  {
   "cell_type": "markdown",
   "metadata": {
    "colab_type": "text",
    "id": "LWJT3FYe4KlH"
   },
   "source": [
    "Igual que vimos en las cadenas de caracteres, también es posible acceder a elementos individuales de una lista o a un conjunto de elementos utilizando la misma sintáxis."
   ]
  },
  {
   "cell_type": "code",
   "execution_count": 0,
   "metadata": {
    "colab": {},
    "colab_type": "code",
    "id": "HN5OwdPW6VKN"
   },
   "outputs": [],
   "source": [
    "lista_compra = [\"Pan\", \"Leche\", \"Huevos\", \"Aceite\", \"Carne\", \"Fruta\", \"Pescado\"]\n",
    "\n",
    "#Accedemos a los elementos 1, 2, 3 y 4\n",
    "print(lista_compra[1:5])\n",
    "\n",
    "#Accedemos al elemento 1\n",
    "print(lista_compra[1:2])\n",
    "\n",
    "#Si el límite inferior y superior son iguales, se devuelve una lista vacía\n",
    "print(lista_compra[1:1])\n",
    "\n",
    "#Si no establecemos límite inferior, se cogen todos los elementos hasta el límite superior (no incluido)\n",
    "print(lista_compra[:5])\n",
    "\n",
    "#Si no establecemos límite superior, se cogen todos los elementos desde el límite inferior (incluido)\n",
    "print(lista_compra[5:])\n",
    "\n",
    "#Si no establecemos límite superior ni límite inferior, se devuelve la cadena completa\n",
    "print(lista_compra[:])\n",
    "\n",
    "#Si queremos acceder a un elemento concreto de una lista contenida dentro de otra lista, utilizaremos dos índices.\n",
    "#Por ejemplo, para acceder al nombre del segundo alumno de la lista de alumnos anterior:\n",
    "\n",
    "lista_alumnos = [[\"Sergio\", \"Pérez\", \"Peló\", 24, \"00000000A\"],\n",
    "                 [\"Juan David\", \"Quintana\", \"Pérez\", 33, \"00000001B\"],\n",
    "                 [\"Aitor\", \"Menta\", \"Fuerte\", 23, \"00000002C\"]]\n",
    "lista_alumnos[1][0]\n",
    "\n",
    "\n"
   ]
  },
  {
   "cell_type": "markdown",
   "metadata": {
    "colab_type": "text",
    "id": "vzcxdj0gFsZQ"
   },
   "source": [
    "Recordemos que las listas son elementos **mutables**, es decir, podemos modificar su contenido. Esto lo hacemos accediendo al elemento que queremos modificar a través de su índice y asignándole el nuevo valor."
   ]
  },
  {
   "cell_type": "code",
   "execution_count": 0,
   "metadata": {
    "colab": {},
    "colab_type": "code",
    "id": "Cv6BSg8mF3oZ"
   },
   "outputs": [],
   "source": [
    "lista_alumnos = [[\"Sergio\", \"Pérez\", \"Peló\", 24, \"00000000A\"],\n",
    "                 [\"Juan David\", \"Quintana\", \"Pérez\", 33, \"00000001B\"],\n",
    "                 [\"Aitor\", \"Menta\", \"Fuerte\", 23, \"00000002C\"]]\n",
    "print(\"Antes de modificar el valor\")\n",
    "print(lista_alumnos[0][3])\n",
    "lista_alumnos[0][3] = 25\n",
    "print(\"Después de modificar el valor\")\n",
    "lista_alumnos[0][3]"
   ]
  },
  {
   "cell_type": "markdown",
   "metadata": {
    "colab_type": "text",
    "id": "MZO-8h65XeI0"
   },
   "source": [
    "También se puede acceder a cada elemento de una lista mediante un bucle:"
   ]
  },
  {
   "cell_type": "code",
   "execution_count": 0,
   "metadata": {
    "colab": {},
    "colab_type": "code",
    "id": "pCQNLjV1Xgh_"
   },
   "outputs": [],
   "source": [
    "for element in lista_compra:\n",
    "  print(element)"
   ]
  },
  {
   "cell_type": "markdown",
   "metadata": {
    "colab_type": "text",
    "id": "fZ-aIrsHC72-"
   },
   "source": [
    "## 3.3 Métodos de listas"
   ]
  },
  {
   "cell_type": "markdown",
   "metadata": {
    "colab_type": "text",
    "id": "LglT2GHmC_uR"
   },
   "source": [
    "Una lista implementa tanto las [operaciones comunes de secuencias](https://docs.python.org/3/library/stdtypes.html#common-sequence-operations), como las [operaciones específicas para secuencias mutables](https://docs.python.org/3/library/stdtypes.html#mutable-sequence-types). \n",
    "\n",
    "Las operaciones comunes de secuencias son las que hemos visto con anterioridad (``in``, ``not in``, ``+``, ``*``, ...). Las operaciones específicas para secuencias mutables se presentan a continuación:\n",
    "\n"
   ]
  },
  {
   "cell_type": "code",
   "execution_count": 0,
   "metadata": {
    "colab": {},
    "colab_type": "code",
    "id": "RKg3j5FQEWrd"
   },
   "outputs": [],
   "source": [
    "# append(): añade un nuevo elemento al final de la lista\n",
    "lista_alumnos = [[\"Sergio\", \"Pérez\", \"Peló\", 24, \"00000000A\"],\n",
    "                 [\"Juan David\", \"Quintana\", \"Pérez\", 33, \"00000001B\"],\n",
    "                 [\"Aitor\", \"Menta\", \"Fuerte\", 23, \"00000002C\"]]\n",
    "nuevo_estudiante = [\"Marcos\", \"De la Puerta\", 'Blanco', 22, '00000003D']\n",
    "lista_alumnos.append(nuevo_estudiante)\n",
    "lista_alumnos"
   ]
  },
  {
   "cell_type": "code",
   "execution_count": 0,
   "metadata": {
    "colab": {},
    "colab_type": "code",
    "id": "V1sAJ6JcElHK"
   },
   "outputs": [],
   "source": [
    "# extend(): une dos listas. Se puede conseguir el mismo resultado utilizando el operador común +\n",
    "lista1 = [1, 2, 3, 4]\n",
    "lista2 = [5, 6, 7, 8]\n",
    "lista1.extend(lista2)\n",
    "lista1"
   ]
  },
  {
   "cell_type": "code",
   "execution_count": 0,
   "metadata": {
    "colab": {},
    "colab_type": "code",
    "id": "U3mipdJoKJ6r"
   },
   "outputs": [],
   "source": [
    "# insert(): nos permite insertar un elemento en el índice u offset indicado\n",
    "lista1.insert(4 , 'nuevo elemento')\n",
    "lista1"
   ]
  },
  {
   "cell_type": "code",
   "execution_count": 0,
   "metadata": {
    "colab": {},
    "colab_type": "code",
    "id": "dNp4aRsUKd2N"
   },
   "outputs": [],
   "source": [
    "# remove(): elimina el elemento que se indica (se indica el elemento, no el offset)\n",
    "lista1.remove('nuevo elemento')\n",
    "lista1"
   ]
  },
  {
   "cell_type": "code",
   "execution_count": 0,
   "metadata": {
    "colab": {},
    "colab_type": "code",
    "id": "wSeDXjvyKgKr"
   },
   "outputs": [],
   "source": [
    "# pop(): devuelve y elimina el elemento que se encuentra en el índice u offset indicado. Si no se indica ningún offset\n",
    "# identifica que el índice u offset es -1, es decir, el último elemento de la lista.\n",
    "elemento = lista1.pop()\n",
    "print(lista1)\n",
    "print(\"El elemento borrado es: \", elemento)"
   ]
  },
  {
   "cell_type": "code",
   "execution_count": 0,
   "metadata": {
    "colab": {},
    "colab_type": "code",
    "id": "qXLDA82JKqnc"
   },
   "outputs": [],
   "source": [
    "# index(): devuelve el offset en el que se encuentra el elemento indicado\n",
    "lista_alumnos = [[\"Sergio\", \"Pérez\", \"Peló\", 24, \"00000000A\"],\n",
    "                 [\"Juan David\", \"Quintana\", \"Pérez\", 33, \"00000001B\"],\n",
    "                 [\"Aitor\", \"Menta\", \"Fuerte\", 23, \"00000002C\"]]\n",
    "#Error:\n",
    "print(lista_alumnos.index(\"Pérez\"))\n",
    "\n",
    "#Consulta bien formada:\n",
    "print(lista_alumnos[0].index(\"Pérez\"))\n",
    "\n",
    "#Ejemplo lista simple\n",
    "lista_compra = [\"Pan\", \"Leche\", \"Huevos\"]\n",
    "lista_compra.index(\"Pan\")"
   ]
  },
  {
   "cell_type": "code",
   "execution_count": 0,
   "metadata": {
    "colab": {},
    "colab_type": "code",
    "id": "pzBiNMjwLf8u"
   },
   "outputs": [],
   "source": [
    "# Podemos utilizar el operador in para averiguar si un elemento está en una lista.\n",
    "# El resultado será un valor booleano\n",
    "1 in lista1"
   ]
  },
  {
   "cell_type": "code",
   "execution_count": 0,
   "metadata": {
    "colab": {},
    "colab_type": "code",
    "id": "53D3ieKYLrPw"
   },
   "outputs": [],
   "source": [
    "# count(): cuenta las veces que aparece un determinado elemento en una lista\n",
    "lista1.count(2)"
   ]
  },
  {
   "cell_type": "code",
   "execution_count": 0,
   "metadata": {
    "colab": {},
    "colab_type": "code",
    "id": "nmSXG-idLxPy"
   },
   "outputs": [],
   "source": [
    "# len(): nos devuelve el número de elementos que hay en una lista\n",
    "len(lista1)"
   ]
  },
  {
   "cell_type": "code",
   "execution_count": 0,
   "metadata": {
    "colab": {},
    "colab_type": "code",
    "id": "gKmfiXOVL4bk"
   },
   "outputs": [],
   "source": [
    "# min(): nos devuelve el menor elemento de una lista\n",
    "print(\"Menor: \", min(lista1))\n",
    "# max(): nos devuelve el mayor elemento de una lista\n",
    "print(\"Mayor: \", max(lista1))"
   ]
  },
  {
   "cell_type": "code",
   "execution_count": 0,
   "metadata": {
    "colab": {},
    "colab_type": "code",
    "id": "Xa-XyiI9L656"
   },
   "outputs": [],
   "source": [
    "# sort(): ordenación de los elementos de una lista de menor a mayor\n",
    "lista2 = [4, 5, 7, 2, 4, 6]\n",
    "lista2.sort()\n",
    "print(\"Ordenación creciente: \", lista2)\n",
    "# ordenación de mayor a menor\n",
    "lista2.sort(reverse=True)\n",
    "print(\"Ordenación decreciente: \", lista2)"
   ]
  },
  {
   "cell_type": "code",
   "execution_count": 0,
   "metadata": {
    "colab": {},
    "colab_type": "code",
    "id": "nP5KfbPXMCYI"
   },
   "outputs": [],
   "source": [
    "# zip(): une por parejas los elementos de dos listas, tuplas o cualquier otra secuencia para crear una\n",
    "# lista de tuplas de la misma longitud que la más corta\n",
    "list1 = [1, 2, 3, 4]\n",
    "list2 = [\"uno\", \"dos\", \"tres\"]\n",
    "\n",
    "# Si imprimimos directamente zipped, imprime una dirección de memoria, ya que el resultado es un iterador\n",
    "# Para verlo en formato lista tenemos que convertirlo a lista\n",
    "zipped = zip(list1, list2)\n",
    "print(list(zipped))"
   ]
  },
  {
   "cell_type": "markdown",
   "metadata": {
    "colab_type": "text",
    "id": "NOqycAFmGekj"
   },
   "source": [
    "# 4. Tuplas"
   ]
  },
  {
   "cell_type": "markdown",
   "metadata": {
    "colab_type": "text",
    "id": "RCuOogiiMbIA"
   },
   "source": [
    "Al igual que las listas, las tuplas son **contenedores de objetos** de Python, que pueden almacenar objetos **heterogéneos** (de diferentes tipos). Sin embargo, a diferencia de las listas, las tuplas son **inmutables**, lo que significa que no podemos añadir, eliminar o cambiar una vez que la tupla está definida. Por tanto, podemos entender una tupla como una lista constante."
   ]
  },
  {
   "cell_type": "markdown",
   "metadata": {
    "colab_type": "text",
    "id": "EWGr8UA-NBbQ"
   },
   "source": [
    "## 4.1 Construcción de una tupla"
   ]
  },
  {
   "cell_type": "markdown",
   "metadata": {
    "colab_type": "text",
    "id": "neBLdCcvNpHc"
   },
   "source": [
    "La forma más sencilla de constuir una tupla es indicando los elementos que la forman separados por comas y entre paréntesis."
   ]
  },
  {
   "cell_type": "code",
   "execution_count": 0,
   "metadata": {
    "colab": {},
    "colab_type": "code",
    "id": "gLgSRjuoGVQr"
   },
   "outputs": [],
   "source": [
    "# Tupla vacía\n",
    "tupla_vacia = ()\n",
    "# Tupla de varios elementos\n",
    "tupla_nombres = ('Sergio', 'Juan David', 'Aitor', 'Marcos')\n",
    "tupla_nombres"
   ]
  },
  {
   "cell_type": "markdown",
   "metadata": {
    "colab_type": "text",
    "id": "SaeSLd9ISPt3"
   },
   "source": [
    "Podemos convertir una lista en una tupla mediante la función ```tuple()```."
   ]
  },
  {
   "cell_type": "code",
   "execution_count": 0,
   "metadata": {
    "colab": {},
    "colab_type": "code",
    "id": "OmFVznv4FCLg"
   },
   "outputs": [],
   "source": [
    "# Tupla a partir de una lista\n",
    "nuevo_estudiante = [\"Marcos\", \"De la Puerta\", \"Blanco\", 22, \"000000004D\"]\n",
    "info_tuple = tuple(nuevo_estudiante)\n",
    "info_tuple"
   ]
  },
  {
   "cell_type": "markdown",
   "metadata": {
    "colab_type": "text",
    "id": "JP0gJsaaSucn"
   },
   "source": [
    "También podemos convertir las cadenas de texto a tuplas"
   ]
  },
  {
   "cell_type": "code",
   "execution_count": 0,
   "metadata": {
    "colab": {},
    "colab_type": "code",
    "id": "-8ZCytj_S5ez"
   },
   "outputs": [],
   "source": [
    "cadena = \"Hola\"\n",
    "tupla_cadena = tuple(cadena)\n",
    "tupla_cadena"
   ]
  },
  {
   "cell_type": "markdown",
   "metadata": {
    "colab_type": "text",
    "id": "MQamu8WdWVOd"
   },
   "source": [
    "Además, podemos construir tuplas a partir de otras concatenándolas mediante el operador ```+````."
   ]
  },
  {
   "cell_type": "code",
   "execution_count": 0,
   "metadata": {
    "colab": {},
    "colab_type": "code",
    "id": "IPVMTu3HWbBP"
   },
   "outputs": [],
   "source": [
    "# Tupla a partir de otras tuplas (concatenación)\n",
    "tupla_1 = (\"Hola\", 'a', \"todos\")\n",
    "tupla_2 = ('y', 'a', \"todas\")\n",
    "nueva_tupla = tupla_1 + tupla_2\n",
    "nueva_tupla"
   ]
  },
  {
   "cell_type": "markdown",
   "metadata": {
    "colab_type": "text",
    "id": "3O_CR-Y-WvQP"
   },
   "source": [
    "## 4.2 Indexación de elementos"
   ]
  },
  {
   "cell_type": "markdown",
   "metadata": {
    "colab_type": "text",
    "id": "x_FWuJ1AW1F4"
   },
   "source": [
    "El mecanismo para acceder a un elemento o a una subsección (*slicing*) de una tupla es exactamente igual al visto para cadenas de caracteres y listas. Algunos ejemplos son:"
   ]
  },
  {
   "cell_type": "code",
   "execution_count": 0,
   "metadata": {
    "colab": {},
    "colab_type": "code",
    "id": "hcm32npUXDH3"
   },
   "outputs": [],
   "source": [
    "#Acceso al primer elemento de la tupla\n",
    "info_tuple[0]"
   ]
  },
  {
   "cell_type": "code",
   "execution_count": 0,
   "metadata": {
    "colab": {},
    "colab_type": "code",
    "id": "1BKtyU9TZGvu"
   },
   "outputs": [],
   "source": [
    "#Acceso a todos los elementos hasta la posición 2 (no incluida)\n",
    "info_tuple[:2]"
   ]
  },
  {
   "cell_type": "code",
   "execution_count": 0,
   "metadata": {
    "colab": {},
    "colab_type": "code",
    "id": "3QCdGKdRZXZT"
   },
   "outputs": [],
   "source": [
    "#Acceso al penúltimo elemento de la tupla\n",
    "info_tuple[-2]"
   ]
  },
  {
   "cell_type": "code",
   "execution_count": 0,
   "metadata": {
    "colab": {},
    "colab_type": "code",
    "id": "p10CAwrFZb70"
   },
   "outputs": [],
   "source": [
    "#Acceso a todos los elementos de la tupla saltando de 2 en 2\n",
    "info_tuple[::2]"
   ]
  },
  {
   "cell_type": "code",
   "execution_count": 0,
   "metadata": {
    "colab": {},
    "colab_type": "code",
    "id": "GcRFNtgvXtgq"
   },
   "outputs": [],
   "source": [
    "#Acceso a todos los elementos de la tupla utilizando un bucle for\n",
    "for i in info_tuple:\n",
    "  print(i)"
   ]
  },
  {
   "cell_type": "markdown",
   "metadata": {
    "colab_type": "text",
    "id": "m0bEvPw2H0iQ"
   },
   "source": [
    "## 4.3 Métodos de tuplas\n"
   ]
  },
  {
   "cell_type": "markdown",
   "metadata": {
    "colab_type": "text",
    "id": "mxabKrrdH5xL"
   },
   "source": [
    "Los métodos para tuplas son muy similares a los de listas y comparten varias de sus funciones y métodos integrados. A saber:"
   ]
  },
  {
   "cell_type": "code",
   "execution_count": 0,
   "metadata": {
    "colab": {},
    "colab_type": "code",
    "id": "FK9FJR1fWBcu"
   },
   "outputs": [],
   "source": [
    "# count(): cuenta el número de apariciones de un elemento, al igual que en listas\n",
    "tupla = ('Juan', 'Pedro', 'Luis', 'Arturo', 'Pedro', 'Luis')\n",
    "tupla.count('Luis')"
   ]
  },
  {
   "cell_type": "code",
   "execution_count": 0,
   "metadata": {
    "colab": {},
    "colab_type": "code",
    "id": "WRRQ2qwScT5B"
   },
   "outputs": [],
   "source": [
    "# index(): devuelve el índice u offset en el que se encuentra el elemento indicado, al igual que en listas\n",
    "tupla.index('Juan')"
   ]
  },
  {
   "cell_type": "code",
   "execution_count": 0,
   "metadata": {
    "colab": {},
    "colab_type": "code",
    "id": "vlEeOJyFcawk"
   },
   "outputs": [],
   "source": [
    "# len(): devuelve el númeto de elementos que hay en la tupla, al igual que en listas\n",
    "len(tupla)"
   ]
  },
  {
   "cell_type": "code",
   "execution_count": 0,
   "metadata": {
    "colab": {},
    "colab_type": "code",
    "id": "Chtl0CF_cm14"
   },
   "outputs": [],
   "source": [
    "tupla2 = (3, 5, 2, 1, 99, 102)\n",
    "# min(): devuelve el menor elemento de una tupla\n",
    "print(\"Menor elemento: \",tupla2.min())\n",
    "# max(): devuelve el mayor elemento de una tupla\n",
    "print(\"Mayor elemento:\", tupla2.max())"
   ]
  },
  {
   "cell_type": "markdown",
   "metadata": {
    "colab_type": "text",
    "id": "3ztP_4Y3aygA"
   },
   "source": [
    "# 5. Diccionarios"
   ]
  },
  {
   "cell_type": "markdown",
   "metadata": {
    "colab_type": "text",
    "id": "qfj_Mh4Za7Zb"
   },
   "source": [
    "Los diccionarios son **contenedores de datos heterogéneos** similares a las listas, pero los elementos son almacenados **sin orden**. A cada elemento se le asocia una clave que suele ser una cadena de caracteres, pero puede ser cualquier tipo de Python: boolean, integer, float, tuple y otros. Los diccionarios son mutables, por lo que se pueden añadir, eliminar y modificar elementos."
   ]
  },
  {
   "cell_type": "markdown",
   "metadata": {
    "colab_type": "text",
    "id": "1N--18bjbXkB"
   },
   "source": [
    "## 5.1 Construcción de un diccionario"
   ]
  },
  {
   "cell_type": "markdown",
   "metadata": {
    "colab_type": "text",
    "id": "UCERxe4Ebim_"
   },
   "source": [
    "Para construir un diccionario utilizamos el símbolo de llave ({}). Entre estas llaves se indican las parejas *clave:valor* separadas por comas."
   ]
  },
  {
   "cell_type": "code",
   "execution_count": 0,
   "metadata": {
    "colab": {},
    "colab_type": "code",
    "id": "2S-z6svDezlA"
   },
   "outputs": [],
   "source": [
    "diccionario_vacio = {}\n",
    "diccionario_fecha = {'dia':28, 'mes':'Septiembre', año:'2019'}\n",
    "print(diccionario_fecha)"
   ]
  },
  {
   "cell_type": "markdown",
   "metadata": {
    "colab_type": "text",
    "id": "4wZUC1wsfHnK"
   },
   "source": [
    "Al igual que sucede en listas y tuplas, se pueden convertir a diccionarios **las colecciones de parejas** (cadenas de caracteres, tuplas, listas...)"
   ]
  },
  {
   "cell_type": "code",
   "execution_count": 0,
   "metadata": {
    "colab": {},
    "colab_type": "code",
    "id": "md8HxKwRfT83"
   },
   "outputs": [],
   "source": [
    "#Diccionario a partir de una lista de listas\n",
    "lista = [['a','b'],['c','d'],['e', 'f']]\n",
    "dict_from_list = dict(lista)\n",
    "dict_from_list"
   ]
  },
  {
   "cell_type": "markdown",
   "metadata": {
    "colab_type": "text",
    "id": "gwLKBr1ofyaK"
   },
   "source": [
    "El **orden** en el que se almacenan los elementos de un diccionario es **irrelevante**, lo que realmente importa es la clave que se asigna a cada uno de esos valores. Es importante saber que en un diccionario **no puede haber claves duplicadas**. Si introducimos un valor asociado a la misma clave, el valor que estuviese almacenado anteriormente quedará sobrescrito."
   ]
  },
  {
   "cell_type": "code",
   "execution_count": 0,
   "metadata": {
    "colab": {},
    "colab_type": "code",
    "id": "vf8E568egQA_"
   },
   "outputs": [],
   "source": [
    "# Diccinario a partir de una tupla\n",
    "tupla1 = ('ab','cd','ef','gh')\n",
    "diccionario = dict(tupla1)\n",
    "diccionario"
   ]
  },
  {
   "cell_type": "markdown",
   "metadata": {
    "colab_type": "text",
    "id": "9GH5dCs9uNpj"
   },
   "source": [
    "## 5.2 Indexación de elementos"
   ]
  },
  {
   "cell_type": "markdown",
   "metadata": {
    "colab_type": "text",
    "id": "Sipqpe4zeuOS"
   },
   "source": [
    "En diccionarios, podemos acceder a cualquier elemento a través de su **clave** y utilizando **corchetes**:"
   ]
  },
  {
   "cell_type": "code",
   "execution_count": 0,
   "metadata": {
    "colab": {},
    "colab_type": "code",
    "id": "d6GyiSbFiy3j"
   },
   "outputs": [],
   "source": [
    "diccionario['a']"
   ]
  },
  {
   "cell_type": "markdown",
   "metadata": {
    "colab_type": "text",
    "id": "c5JyWFrXi2hg"
   },
   "source": [
    "Si la clave no existe en el diccionario indicado, saltará una excepción:"
   ]
  },
  {
   "cell_type": "code",
   "execution_count": 0,
   "metadata": {
    "colab": {},
    "colab_type": "code",
    "id": "z-EIHMiji8YU"
   },
   "outputs": [],
   "source": [
    "diccionario['f']"
   ]
  },
  {
   "cell_type": "markdown",
   "metadata": {
    "colab_type": "text",
    "id": "afwMG5HXi-rl"
   },
   "source": [
    "Podemos librarnos de esta excepción si utilizamos la función ```get()``` para acceder a un valor asociado a una clave, ya que sólo devuelve el elemento si la clave especificada existe."
   ]
  },
  {
   "cell_type": "code",
   "execution_count": 0,
   "metadata": {
    "colab": {},
    "colab_type": "code",
    "id": "BvnZPRjRjJpb"
   },
   "outputs": [],
   "source": [
    "diccionario.get('c')"
   ]
  },
  {
   "cell_type": "code",
   "execution_count": 0,
   "metadata": {
    "colab": {},
    "colab_type": "code",
    "id": "gvjf-OYBjMi6"
   },
   "outputs": [],
   "source": [
    "diccionario.get('f')"
   ]
  },
  {
   "cell_type": "markdown",
   "metadata": {
    "colab_type": "text",
    "id": "x3fbi0ZLjU7L"
   },
   "source": [
    "A diferencia de lo que ocurre en tuplas y listas, en diccionarios no podemos seleccionar un subconjunto de elementos (el *slicing* no está permitido)."
   ]
  },
  {
   "cell_type": "code",
   "execution_count": 0,
   "metadata": {
    "colab": {},
    "colab_type": "code",
    "id": "kD4hAoqTjdMq"
   },
   "outputs": [],
   "source": [
    "diccionario['a':'e']"
   ]
  },
  {
   "cell_type": "markdown",
   "metadata": {
    "colab_type": "text",
    "id": "1PmrSmcdZAIk"
   },
   "source": [
    "También podemos recorrer los valores de un diccionario utilizando un bucle."
   ]
  },
  {
   "cell_type": "code",
   "execution_count": 0,
   "metadata": {
    "colab": {},
    "colab_type": "code",
    "id": "lORv5fm5ZDyx"
   },
   "outputs": [],
   "source": [
    "for value in diccionario:\n",
    "  print(value, diccionario[value])\n",
    "\n",
    "#Otra forma, utilizando el método items()\n",
    "for key,value in diccionario.items():\n",
    "  print(key, value)"
   ]
  },
  {
   "cell_type": "markdown",
   "metadata": {
    "colab_type": "text",
    "id": "uqbpiUGYuS7E"
   },
   "source": [
    "## 5.3 Operaciones con diccionarios"
   ]
  },
  {
   "cell_type": "markdown",
   "metadata": {
    "colab_type": "text",
    "id": "xVHC0rz6vaEl"
   },
   "source": [
    "Existen varias operaciones que podemos realizar sobre los diccionarios. A continuación se listan estas operaciones:"
   ]
  },
  {
   "cell_type": "code",
   "execution_count": 0,
   "metadata": {
    "colab": {},
    "colab_type": "code",
    "id": "29A-23bqkkds"
   },
   "outputs": [],
   "source": [
    "ciudades_nombres = {'Spain': 'Pablo', 'Italy': 'Andrea', 'France': 'Pierre', 'Germany': 'Christoph'}\n",
    "print(ciudades_nombres)\n",
    "#Añadir un elemento a un diccionario\n",
    "#Para hacer esto, simplemente indicamos entre corchetes la nueva clave (o una ya existente) y se especifica el valor asociado a dicha clave.\n",
    "# IMPORTANTE: SI LA CLAVE QUE INDICAMOS YA EXISTÍA EN EL DICCIONARIO,\n",
    "# EL VALOR ASOCIADO SE SUSTITUIRÁ POR EL NUEVO INDICADO\n",
    "\n",
    "ciudades_nombres['Greece'] = 'Alesandro'\n",
    "print(ciudades_nombres)\n",
    "#Sustituimos el valor asociado a la clave\n",
    "ciudades_nombres['Greece'] = 'Cicero'\n",
    "print(ciudades_nombres)"
   ]
  },
  {
   "cell_type": "code",
   "execution_count": 0,
   "metadata": {
    "colab": {},
    "colab_type": "code",
    "id": "4W5brYFPnESI"
   },
   "outputs": [],
   "source": [
    "#El método update() copia el contenido de un diccionario en otro.\n",
    "otros = {'Portugal':'Anna'}\n",
    "ciudades_nombres.update(otros)\n",
    "print(ciudades_nombres)\n",
    "\n",
    "#Si hay alguna clave repetida, sustituye el valor\n",
    "primer_dict = {'a':1, 'b':2}\n",
    "segundo_dict = {'b':'otracosa'}\n",
    "primer_dict.update(segundo_dict)\n",
    "print(primer_dict)"
   ]
  },
  {
   "cell_type": "code",
   "execution_count": 0,
   "metadata": {
    "colab": {},
    "colab_type": "code",
    "id": "-vNfi4oX39-B"
   },
   "outputs": [],
   "source": [
    "# del: permite eliminar un elemento del diccionario indicando su clave\n",
    "del ciudades_nombres['Portugal']\n",
    "ciudades_nombres\n",
    "\n",
    "# Para eliminar todos los elementos de un diccionario utilizaremos la función clear()\n",
    "\n",
    "#ciudades_nombres.clear()"
   ]
  },
  {
   "cell_type": "code",
   "execution_count": 0,
   "metadata": {
    "colab": {},
    "colab_type": "code",
    "id": "x2sa7TYo4U5V"
   },
   "outputs": [],
   "source": [
    "# Utilizando el operador in podemos saber si existe una determinada clave en un diccionario\n",
    "'Portugal' in ciudades_nombres"
   ]
  },
  {
   "cell_type": "code",
   "execution_count": 0,
   "metadata": {
    "colab": {},
    "colab_type": "code",
    "id": "KUnYUmrr4cYM"
   },
   "outputs": [],
   "source": [
    "# El metodo keys() nos devuelve todas las claves dentro de un diccionario. En Python 3, esta función devuelve un dict_keys.\n",
    "#Podemos convertirlo a lista, por ejemplo, utilizando la función list().\n",
    "\n",
    "señales = {'verde':'avanzar', 'naranja':'avanza más rápido', 'rojo':'sonríe a la cámara'}\n",
    "señales.keys()\n",
    "\n",
    "#list(señales.keys())"
   ]
  },
  {
   "cell_type": "code",
   "execution_count": 0,
   "metadata": {
    "colab": {},
    "colab_type": "code",
    "id": "hkUR3i8C43h0"
   },
   "outputs": [],
   "source": [
    "# El método values() nos devuelve todos los valores del diccionario en un dict_values\n",
    "señales.values()"
   ]
  },
  {
   "cell_type": "code",
   "execution_count": 0,
   "metadata": {
    "colab": {},
    "colab_type": "code",
    "id": "Agz3376W4Uzx"
   },
   "outputs": [],
   "source": [
    "# La función items(): devuelve todas las parejas clave:valor en un dict_items\n",
    "señales.items()"
   ]
  },
  {
   "cell_type": "markdown",
   "metadata": {
    "colab_type": "text",
    "id": "LtMyyBoSvoRw"
   },
   "source": [
    "# 6. Collections"
   ]
  },
  {
   "cell_type": "markdown",
   "metadata": {
    "colab_type": "text",
    "id": "nBRs3sw_vrNY"
   },
   "source": [
    "Las colecciones en Python son contenedores que se utilizan para almacenar colecciones de datos, por ejemplo, listas, diccionarios, tuplas, etc. Estas son colecciones incorporadas (*built-in*). Se han desarrollado varios módulos que proporcionan estructuras de datos adicionales para almacenar colecciones de datos. Uno de estos módulos es el módulo *Collections* de Python.\n",
    "\n",
    "Este módulo se introdujo en Python para mejorar las funcionalidades de los contenedores de colecciones incorporados. El módulo *Collections* se introdujo por primera vez en su versión 2.4. Nosotros nos basamos en su última versión estable (versión 3.7).\n",
    "\n",
    "En concreto, analizaremos 5 estructuras de datos de este módulo:\n",
    "* Counter\n",
    "* OrderedDict\n",
    "* deque\n",
    "* ChainMap\n",
    "* namedtuple()"
   ]
  },
  {
   "cell_type": "markdown",
   "metadata": {
    "colab_type": "text",
    "id": "qHw2Jo5hwlaR"
   },
   "source": [
    "## 6.1 Counter"
   ]
  },
  {
   "cell_type": "markdown",
   "metadata": {
    "colab_type": "text",
    "id": "gPc3nuXr8QQi"
   },
   "source": [
    "*Counter* es una subclase del objeto diccionario. La función Counter() en el módulo *Collections* toma un iterable o un mapa (elementos *clave:valor*) como argumento y devuelve un diccionario. En este diccionario, la clave es un elemento en el iterable o el mapa y el valor es el número de veces que ese elemento existe en el iterable o el mapeo.\n",
    "\n",
    "Debemos importar la clase Counter antes de poder crear una instancia de counter."
   ]
  },
  {
   "cell_type": "code",
   "execution_count": 0,
   "metadata": {
    "colab": {},
    "colab_type": "code",
    "id": "MCiAmLVAwwQE"
   },
   "outputs": [],
   "source": [
    "from collections import Counter"
   ]
  },
  {
   "cell_type": "markdown",
   "metadata": {
    "colab_type": "text",
    "id": "tQqh-0VRBByk"
   },
   "source": [
    "### Creación de un objeto Counter\n",
    "Hay varias maneras de crear objetos del tipo Counter. La forma más sencilla es usar la función Counter() sin argumentos."
   ]
  },
  {
   "cell_type": "code",
   "execution_count": 0,
   "metadata": {
    "colab": {},
    "colab_type": "code",
    "id": "MrcB6_eEwyrK"
   },
   "outputs": [],
   "source": [
    "cnt = Counter()"
   ]
  },
  {
   "cell_type": "markdown",
   "metadata": {
    "colab_type": "text",
    "id": "19hN2nZIBa0S"
   },
   "source": [
    "Podemos pasar una colección iterable (p.e, una lista) a la función Counter() para crear un objeto contador."
   ]
  },
  {
   "cell_type": "code",
   "execution_count": 0,
   "metadata": {
    "colab": {},
    "colab_type": "code",
    "id": "wF7XND5CBkPT"
   },
   "outputs": [],
   "source": [
    "lista =[1,2,3,4,1,2,6,7,3,8,1]\n",
    "Counter(lista)"
   ]
  },
  {
   "cell_type": "markdown",
   "metadata": {
    "colab_type": "text",
    "id": "lqkAnKjKBsVA"
   },
   "source": [
    "Finalmente, la función Counter() puede tomar un diccionario como argumento. En este diccionario, el valor de una clave debe ser el \"conteo\" de esa clave."
   ]
  },
  {
   "cell_type": "code",
   "execution_count": 0,
   "metadata": {
    "colab": {},
    "colab_type": "code",
    "id": "xjTJpSFrw3Xl"
   },
   "outputs": [],
   "source": [
    "#Counter inicializado como un mapa que contiene el número de repeticiones de 1 y 2\n",
    "Counter({1:3,2:4})"
   ]
  },
  {
   "cell_type": "markdown",
   "metadata": {
    "colab_type": "text",
    "id": "i4tcV3YBB9Sn"
   },
   "source": [
    "### Indexación de los elementos de un objeto Counter\n",
    "Puede acceder a cualquier elemento del contador con su tecla como se muestra a continuación:"
   ]
  },
  {
   "cell_type": "code",
   "execution_count": 0,
   "metadata": {
    "colab": {},
    "colab_type": "code",
    "id": "AxCsCpv9CGXx"
   },
   "outputs": [],
   "source": [
    "lista =[1,2,3,4,1,2,6,7,3,8,1]\n",
    "cnt = Counter(lista)\n",
    "print(cnt[1])"
   ]
  },
  {
   "cell_type": "markdown",
   "metadata": {
    "colab_type": "text",
    "id": "5j_JDRSmCMqL"
   },
   "source": [
    "En los ejemplos anteriores, cnt es un objeto de la clase Counter, que es una subclase de diccionario. Así que tiene todos los métodos de la clase diccionario.\n",
    "\n",
    "Aparte de estas funciones, Counter tiene tres funciones adicionales:\n",
    "\n",
    "* elements()\n",
    "* most_commons([n])\n",
    "* substract([interable-o-mapa])\n",
    "\n",
    "### La función element()\n",
    "\n",
    "Esta función nos permite obtener los elementos de un objeto Counter. Devuelve una lista que contiene todos los elementos del objeto Counter. Veamos un ejemplo:"
   ]
  },
  {
   "cell_type": "code",
   "execution_count": 2,
   "metadata": {
    "colab": {},
    "colab_type": "code",
    "id": "1jE7ROiQEHWY"
   },
   "outputs": [
    {
     "name": "stdout",
     "output_type": "stream",
     "text": [
      "[1, 1, 1, 2, 2, 2, 2]\n"
     ]
    }
   ],
   "source": [
    "from collections import Counter\n",
    "\n",
    "cnt = Counter({1:3,2:4})\n",
    "print(list(cnt.elements()))"
   ]
  },
  {
   "cell_type": "markdown",
   "metadata": {
    "colab_type": "text",
    "id": "iVvfPFbgEMO8"
   },
   "source": [
    "Aquí creamos un objeto Counter con un diccionario como argumento. En este objeto Counter, la cuenta de 1 es 3 y la cuenta de 2 es 4. La función elements( se llama usando el objeto cnt que devuelve un iterador que se pasa como argumento a la lista.\n",
    "\n",
    "El iterador repite 3 veces 1 devolviendo tres '1's, y repite cuatro veces 2 devolviendo cuatro '2's a la lista. Finalmente, la lista se imprime utilizando la función de impresión.\n",
    "\n",
    "###La función most_common()\n",
    "\n",
    "La función Counter() devuelve un diccionario que **no está ordenado**. Podemos ordenarlo en función del número de recuentos de cada elemento utilizando la función most_common() del objeto Counter."
   ]
  },
  {
   "cell_type": "code",
   "execution_count": 0,
   "metadata": {
    "colab": {},
    "colab_type": "code",
    "id": "h6wTUeUbEqeo"
   },
   "outputs": [],
   "source": [
    "list = [1,2,3,4,1,2,6,7,3,8,1]\n",
    "cnt = Counter(list)\n",
    "print(cnt.most_common())"
   ]
  },
  {
   "cell_type": "markdown",
   "metadata": {
    "colab_type": "text",
    "id": "OwBuqDnjFLP7"
   },
   "source": [
    "Como podemos ver, la función most_common devuelve una lista, que se ordena de forma descendente según el número de elementos. 1 tiene una cuenta de tres, por lo tanto es el primer elemento de la lista.\n",
    "\n",
    "### La función substract()\n",
    "\n",
    "La función substract() toma un iterable (p.e, una lista) o un mapa (diccionario) como argumento y reduce el conteo de elementos usando ese argumento (al valor asociado a esa clave se le sustrae la cantidad indicada por el valor)."
   ]
  },
  {
   "cell_type": "code",
   "execution_count": 0,
   "metadata": {
    "colab": {},
    "colab_type": "code",
    "id": "jmLiwCq-FrcX"
   },
   "outputs": [],
   "source": [
    "cnt = Counter({1:3,2:4})\n",
    "deduct = {1:1, 2:2}\n",
    "cnt.subtract(deduct)\n",
    "print(cnt)"
   ]
  },
  {
   "cell_type": "markdown",
   "metadata": {
    "colab_type": "text",
    "id": "dk_6tt9FGId3"
   },
   "source": [
    "Como podemos ver, el objeto cnt que creamos primero, tiene una cuenta de 3 para '1' y una cuenta de 4 para '2'. El diccionario de deducción tiene el valor '1' para la clave '1' y el valor '2' para la clave '2'. La función substract() reduce entonces 1 unidad de la clave '1' y 2 unidades de la clave '2'."
   ]
  },
  {
   "cell_type": "markdown",
   "metadata": {
    "colab_type": "text",
    "id": "qH4vhcwLGXgR"
   },
   "source": [
    "## 6.2 OrderedDict\n",
    "OrderedDict es un diccionario en el cual las claves mantienen el orden en el que se insertan, lo que significa que si cambia el valor de una clave más tarde, no cambiará la posición de la misma.\n",
    "\n",
    "### Importar OrderedDict\n",
    "\n",
    "Al igual que sucede con Counter, debemos importar OrderedDict antes de poder utilizarlo en nuestro programa \n"
   ]
  },
  {
   "cell_type": "code",
   "execution_count": 0,
   "metadata": {
    "colab": {},
    "colab_type": "code",
    "id": "UXW0gQUWWcCW"
   },
   "outputs": [],
   "source": [
    "from collections import OrderedDict"
   ]
  },
  {
   "cell_type": "markdown",
   "metadata": {
    "colab_type": "text",
    "id": "BQKch2ptWgeR"
   },
   "source": [
    "### Creación de un objeto OrderedDict\n",
    "Podemos crear un objeto OrderedDict con el constructor OrderedDict(). En el siguiente código, creamos un OrderedDict sin ningún argumento. Después de eso, se insertan algunos elementos en él."
   ]
  },
  {
   "cell_type": "code",
   "execution_count": 0,
   "metadata": {
    "colab": {},
    "colab_type": "code",
    "id": "_m9NfJnaWtLu"
   },
   "outputs": [],
   "source": [
    "od = OrderedDict()\n",
    "od['a'] = 1\n",
    "od['b'] = 2\n",
    "od['c'] = 3\n",
    "print(od)"
   ]
  },
  {
   "cell_type": "markdown",
   "metadata": {
    "colab_type": "text",
    "id": "gT0jndPDWzES"
   },
   "source": [
    "También se puede acceder a cada elemento mediante un bucle:"
   ]
  },
  {
   "cell_type": "code",
   "execution_count": 0,
   "metadata": {
    "colab": {},
    "colab_type": "code",
    "id": "FQp8DUo4XEKK"
   },
   "outputs": [],
   "source": [
    "for key, value in od.items():\n",
    "    print(key, value)"
   ]
  },
  {
   "cell_type": "markdown",
   "metadata": {
    "colab_type": "text",
    "id": "s-oJKciVZqm_"
   },
   "source": [
    "El siguiente ejemplo es un caso de uso interesante de OrderedDict junto con Counter. Aquí, creamos un Counter a partir de una lista e insertamos un elemento en un OrderedDict basado en su número.\n",
    "\n",
    "La letra que aparece con más frecuencia se insertará como primera clave y la letra que aparece con menos frecuencia se insertará como última clave."
   ]
  },
  {
   "cell_type": "code",
   "execution_count": 0,
   "metadata": {
    "colab": {},
    "colab_type": "code",
    "id": "oMPQyQx4Z4Cj"
   },
   "outputs": [],
   "source": [
    "list = [\"a\",\"c\",\"c\",\"a\",\"b\",\"a\",\"a\",\"b\",\"c\"]\n",
    "cnt = Counter(list)\n",
    "od = OrderedDict(cnt.most_common())\n",
    "for key, value in od.items():\n",
    "    print(key, value)"
   ]
  },
  {
   "cell_type": "markdown",
   "metadata": {
    "colab_type": "text",
    "id": "tbufrenFaVoC"
   },
   "source": [
    "## 6.3 deque\n",
    "Deque es una lista optimizada para insertar y quitar elementos.\n",
    "\n",
    "### Importar deque\n",
    "\n",
    "Como con todas las estructuras de datos del módulo Collections, debemos importar la clase deque desde el módulo antes de usarla.\n"
   ]
  },
  {
   "cell_type": "code",
   "execution_count": 0,
   "metadata": {
    "colab": {},
    "colab_type": "code",
    "id": "17UXJxWGa2Zh"
   },
   "outputs": [],
   "source": [
    "from collections import deque"
   ]
  },
  {
   "cell_type": "markdown",
   "metadata": {
    "colab_type": "text",
    "id": "Mbp7Lpy8a53e"
   },
   "source": [
    "### Creación de una deque\n",
    "\n",
    "Podemos crear una deque con el constructor deque(). Para ello, debemos pasar una lista como argumento."
   ]
  },
  {
   "cell_type": "code",
   "execution_count": 0,
   "metadata": {
    "colab": {},
    "colab_type": "code",
    "id": "4QRHRg6za_x2"
   },
   "outputs": [],
   "source": [
    "list = [\"a\",\"b\",\"c\"]\n",
    "deq = deque(list)\n",
    "print(deq)"
   ]
  },
  {
   "cell_type": "markdown",
   "metadata": {
    "colab_type": "text",
    "id": "qrbDsSUzbEIY"
   },
   "source": [
    "### Inserción de elementos en una deque\n",
    "Podemos insertar un elemento en el objeto deque *deq* que hemos creado en cualquiera de los extremos. Para añadir un elemento a la derecha de la deque, debemos usar el método ```append()```.\n",
    "\n",
    "Si queremos añadir un elemento al inicio de la deque, tenemos que usar el método ```appendleft()```."
   ]
  },
  {
   "cell_type": "code",
   "execution_count": 0,
   "metadata": {
    "colab": {},
    "colab_type": "code",
    "id": "Wi0FFFRVbnV5"
   },
   "outputs": [],
   "source": [
    "deq.append(\"d\")\n",
    "deq.appendleft(\"e\")\n",
    "print(deq)deque"
   ]
  },
  {
   "cell_type": "markdown",
   "metadata": {
    "colab_type": "text",
    "id": "UDGo16Ltbn87"
   },
   "source": [
    "Podemos ver que d se añade al final de deq y e se añade al comienzo de deq\n",
    "\n",
    "### Eliminación de elementos del deque\n",
    "\n",
    "Eliminar elementos es similar a la inserción de elementos. Podemos eliminar un elemento de la misma forma en que lo hace con los elementos insertados. Para eliminar un elemento del extremo derecho, utilizamos la función ```pop()``` y para eliminar un elemento del lado izquierdo, ```popleft()```.\n"
   ]
  },
  {
   "cell_type": "code",
   "execution_count": 0,
   "metadata": {
    "colab": {},
    "colab_type": "code",
    "id": "fyFeCEntf2R8"
   },
   "outputs": [],
   "source": [
    "deq.pop()\n",
    "deq.popleft()\n",
    "print(deq)"
   ]
  },
  {
   "cell_type": "markdown",
   "metadata": {
    "colab_type": "text",
    "id": "sI69HZqsf5XV"
   },
   "source": [
    "### Vaciar un deque\n",
    "\n",
    "Si deseamos eliminar todos los elementos de una deque, podemos utilizar la función ```clear()```."
   ]
  },
  {
   "cell_type": "code",
   "execution_count": 0,
   "metadata": {
    "colab": {},
    "colab_type": "code",
    "id": "4f-f7Hb4gH5d"
   },
   "outputs": [],
   "source": [
    "list = [\"a\",\"b\",\"c\"]\n",
    "deq = deque(list)\n",
    "print(deq)\n",
    "print(deq.clear())"
   ]
  },
  {
   "cell_type": "markdown",
   "metadata": {
    "colab_type": "text",
    "id": "61c2I1eYgLPi"
   },
   "source": [
    "Como se puede ver en la salida, al principio hay una cola con tres elementos. Una vez que aplicamos la función ```clear()```, la deque se borra y la salida es ```None```.\n",
    "\n",
    "### Contar elementos en un deque\n",
    "\n",
    "Si queremos saber el recuento de un elemento específico, podemos utilizar la función ```count(elemento)```."
   ]
  },
  {
   "cell_type": "code",
   "execution_count": 0,
   "metadata": {
    "colab": {},
    "colab_type": "code",
    "id": "5uyqRQkrgr9_"
   },
   "outputs": [],
   "source": [
    "list = [\"a\",\"b\",\"c\"]\n",
    "deq = deque(list)\n",
    "print(deq.count(\"a\"))"
   ]
  },
  {
   "cell_type": "markdown",
   "metadata": {
    "colab_type": "text",
    "id": "06b8RgXtgvZf"
   },
   "source": [
    "## 6.4 ChainMap\n",
    "ChainMap se utiliza para combinar varios diccionarios. Devuelve una lista de diccionarios.\n",
    "\n",
    "###Importar ChainMap\n",
    "\n",
    "Como siempre, debemos importar ChainMap desde el módulo Collections antes de utilizarlo."
   ]
  },
  {
   "cell_type": "code",
   "execution_count": 0,
   "metadata": {
    "colab": {},
    "colab_type": "code",
    "id": "7Oa1tslShXqY"
   },
   "outputs": [],
   "source": [
    "from collections import ChainMap"
   ]
  },
  {
   "cell_type": "markdown",
   "metadata": {
    "colab_type": "text",
    "id": "GweketzhhZf7"
   },
   "source": [
    "### Crear un ChainMap\n",
    "\n",
    "Para crear un chainmap podemos usar el constructor ChainMap(). Tenemos que pasar los diccionarios que vamos a combinar como un conjunto de argumentos.\n"
   ]
  },
  {
   "cell_type": "code",
   "execution_count": 0,
   "metadata": {
    "colab": {},
    "colab_type": "code",
    "id": "7S8xNku-hggz"
   },
   "outputs": [],
   "source": [
    "dic1 = { 'a' : 1, 'b' : 2 }\n",
    "dic2 = { 'c' : 3, 'b' : 4 }\n",
    "chain_map = ChainMap(dic1, dic2)\n",
    "print(chain_map.maps)"
   ]
  },
  {
   "cell_type": "markdown",
   "metadata": {
    "colab_type": "text",
    "id": "TTKav0LWhtHJ"
   },
   "source": [
    "Podemos acceder a los valores de los ChainMaps por nombre de clave.\n"
   ]
  },
  {
   "cell_type": "code",
   "execution_count": 0,
   "metadata": {
    "colab": {},
    "colab_type": "code",
    "id": "wWnvUySMhy8U"
   },
   "outputs": [],
   "source": [
    "print(chain_map['a'])"
   ]
  },
  {
   "cell_type": "markdown",
   "metadata": {
    "colab_type": "text",
    "id": "7yErt39lh_cC"
   },
   "source": [
    "Otro punto importante es que ChainMap actualiza sus valores cuando se actualizan sus diccionarios asociados. Por ejemplo, si cambia el valor de 'c' en dic2 a '5', el cambio también se extenderá al ChainMap.\n"
   ]
  },
  {
   "cell_type": "code",
   "execution_count": 0,
   "metadata": {
    "colab": {},
    "colab_type": "code",
    "id": "6Jbw6fVHiLm5"
   },
   "outputs": [],
   "source": [
    "dic2['c'] = 5\n",
    "print(chain_map.maps)"
   ]
  },
  {
   "cell_type": "markdown",
   "metadata": {
    "colab_type": "text",
    "id": "NUN4kFYCiOBv"
   },
   "source": [
    "### Obtener claves y valores de ChainMap\n",
    "\n",
    "Podemos acceder a las claves de una función ChainMap con la función ```keys()```. Del mismo modo, se puede acceder a los valores de los elementos con la función ```values()```, como se muestra a continuación:"
   ]
  },
  {
   "cell_type": "code",
   "execution_count": 0,
   "metadata": {
    "colab": {},
    "colab_type": "code",
    "id": "qasUik7cicT2"
   },
   "outputs": [],
   "source": [
    "dic1 = { `a' : 1, `b' : 2 }\n",
    "dic2 = { `c' : 3, `b' : 4 }\n",
    "chain_map = ChainMap(dic1, dic2)\n",
    "print(list(chain_map.keys()))\n",
    "print(list(chain_map.values()))"
   ]
  },
  {
   "cell_type": "markdown",
   "metadata": {
    "colab_type": "text",
    "id": "Pv014LnQijSL"
   },
   "source": [
    "Observamos que el valor de la clave 'b' en la salida es el valor de la clave 'b' en dic1. Como norma general, cuando una clave aparece en más de un diccionario asociado, ChainMap toma el valor de esa clave del primer diccionario en el que la encuentre.\n",
    "\n",
    "### Agregar un nuevo diccionario a ChainMap\n",
    "\n",
    "Si deseamos añadir un nuevo diccionario a un ChainMap existente, utilizamos la función ```new_child()```. Esto crea un nuevo ChainMap con el nuevo diccionario añadido."
   ]
  },
  {
   "cell_type": "code",
   "execution_count": 0,
   "metadata": {
    "colab": {},
    "colab_type": "code",
    "id": "hN5pZ0Lai9dU"
   },
   "outputs": [],
   "source": [
    "dic3 = {'e' : 5, 'f' : 6}\n",
    "new_chain_map = chain_map.new_child(dic3)\n",
    "print(new_chain_map)"
   ]
  },
  {
   "cell_type": "markdown",
   "metadata": {
    "colab_type": "text",
    "id": "MHs0ltlLjQGD"
   },
   "source": [
    "Como podemos ver, el nuevo chainmap se añade al principio de la lista ChainMap"
   ]
  },
  {
   "cell_type": "markdown",
   "metadata": {
    "colab_type": "text",
    "id": "7-cC-AhMjsZA"
   },
   "source": [
    "## 6.5 NamedTuple\n",
    "Dentro del paquete `collections` nos encontramos con **namedtuple**, otra de las facilidadeds que ofrece Python para trabajar con contenedores de datos. Las namedtuple nos permiten **agrupar datos de distintos tipos bajo un mismo nombre**. Al igual que las tuplas, se trata de objetos **inmutables**. Lo que diferencia a una estructura `namedtuple` de una `tuple` es simplemente que a una `namedtuple` le damos un nombre. Es decir, mediante una `namedtuple` podemos definir **nuestro propio tipo de dato**, que puede estar formado por varias partes, siendo cada una de esas partes objetos de distintos tipos como: int, float, string, tuple, list...\n",
    "\n",
    "### Importar NamedTuple\n",
    "\n",
    "Como siempre, para poder utilizar una NamedTuple debemos importarla del módulo ```Collections```."
   ]
  },
  {
   "cell_type": "code",
   "execution_count": 0,
   "metadata": {
    "colab": {},
    "colab_type": "code",
    "id": "Be6ywnAHk05d"
   },
   "outputs": [],
   "source": [
    "from collections import namedtuple"
   ]
  },
  {
   "cell_type": "markdown",
   "metadata": {
    "colab_type": "text",
    "id": "oLRUN9WClHSi"
   },
   "source": [
    "### Creación de namedtuple\n",
    "\n",
    "La sintaxis para definir una `namedtuple` es:\n",
    "```python\n",
    "nombre = namedtuple('externo','campo1,campo2,…,campon')\n",
    "```\n",
    "\n",
    "Por ejemplo, si en nuestra aplicación vamos a trabajar con puntos del plano coordenado, nos interesará definir un nuevo tipo de dato denominado *Punto* que almacenará las coordenadas (x, y). "
   ]
  },
  {
   "cell_type": "code",
   "execution_count": 0,
   "metadata": {
    "colab": {},
    "colab_type": "code",
    "id": "m6lxkcPRlaCp"
   },
   "outputs": [],
   "source": [
    "from collections import namedtuple\n",
    "tPunto = namedtuple('Punto','x,y')\n",
    "tPunto"
   ]
  },
  {
   "cell_type": "markdown",
   "metadata": {
    "colab_type": "text",
    "id": "s01jAL5mlWdX"
   },
   "source": [
    "El acceso a los campos de una namedtuple se realiza mediante la notación del  .  o del mismo modo que hacemos con las tuplas y las listas:"
   ]
  },
  {
   "cell_type": "code",
   "execution_count": 0,
   "metadata": {
    "colab": {},
    "colab_type": "code",
    "id": "8sWaf0uzljcq"
   },
   "outputs": [],
   "source": [
    "punto =tPunto(11.0,22.0)\n",
    "print('Accedo al elemento por nombre', punto.x)\n",
    "print('Imprimo el registro de una sola vez', punto)\n",
    "print('Accedo al elemento por posición',punto[0])"
   ]
  },
  {
   "cell_type": "markdown",
   "metadata": {
    "colab_type": "text",
    "id": "qQ3VFnf_lnsi"
   },
   "source": [
    "Al igual que con las tuplas, una namedtuple es un elemento iterable, por tanto, podemos recorrer todos sus campos con un bucle:"
   ]
  },
  {
   "cell_type": "code",
   "execution_count": 0,
   "metadata": {
    "colab": {},
    "colab_type": "code",
    "id": "8dTF-xEblttZ"
   },
   "outputs": [],
   "source": [
    "for coordenada in punto:\n",
    "    print(coordenada)"
   ]
  },
  {
   "cell_type": "markdown",
   "metadata": {
    "colab_type": "text",
    "id": "zq489yt0l5yF"
   },
   "source": [
    "Las funciones y métodos vistos en tuplas también se pueden aplicar aquí: **len(s), min(s), max(s), s.index(), s.count()**. Si queremos buscar un elemento en una namedtuple también podemos utilizar el operador **in**."
   ]
  },
  {
   "cell_type": "markdown",
   "metadata": {
    "colab_type": "text",
    "id": "P60aI6d4fR6Z"
   },
   "source": [
    "# 7. Referencias\n",
    "* [Lubanovic, 2015] Bill Lubanovic, *Introducing Python. Modern Computing in Simple Packages*. O'Reilly Media, Feb. 2015.\n",
    "* [McKinney, 2017] Wes McKinney, *Python for Data Analysis: Data Wrangling with Pandas, NumPy, and IPython*. O'Reilly Media, Oct. 2017.\n",
    "* [Python Collection Module Documentation](https://docs.python.org/3.7/library/collections.html)"
   ]
  },
  {
   "cell_type": "markdown",
   "metadata": {
    "colab_type": "text",
    "id": "0PhaYxvsfWrL"
   },
   "source": [
    "* [Reitz, 2016] Reitz, K. and Schlusser, *The Hitchhiker's Guide to Python: Best Practices for Development*. O'Reilly Media, Sep. 2013.\n",
    "* [Reitz, 2015] Reitz, K. *The Hitchhiker's Guide to Python*. Disponible online: <http://docs.python-guide.org/en/latest/>\n",
    "* [Percival, 2014] Percival, H.J.W. *Test-Driven Development with Python*. O'Reilly Media, Jun. 2014. Disponible online: <http://chimera.labs.oreilly.com/books/1234000000754/index.html>\n",
    "* [Lubanovic, 2014] Lubanovic, B. *Introducing Python*. O'Reilly Media, Nov. 2014.\n",
    "* [Ramalho, 2015] Ramalho, L. *Fluent Python*. O'Reilly Media, Jul. 2015.\n",
    "* [Lubanovic, 2015] Bill Lubanovic, *Introducing Python. Modern Computing in Simple Packages*. O'Reilly Media, Feb. 2015.\n",
    "* [McKinney, 2017] Wes McKinney, *Python for Data Analysis: Data Wrangling with Pandas, NumPy, and IPython*. O'Reilly Media, Oct. 2017."
   ]
  },
  {
   "cell_type": "markdown",
   "metadata": {
    "colab_type": "text",
    "id": "Ow07zKwIEGfc"
   },
   "source": []
  }
 ],
 "metadata": {
  "colab": {
   "collapsed_sections": [
    "g6D9ti7Qtrqo",
    "eEA1iz5fpRB5",
    "fZ-aIrsHC72-",
    "NOqycAFmGekj",
    "3ztP_4Y3aygA",
    "LtMyyBoSvoRw"
   ],
   "name": "Sesion_2.ipynb",
   "provenance": []
  },
  "kernelspec": {
   "display_name": "Python 3",
   "language": "python",
   "name": "python3"
  },
  "language_info": {
   "codemirror_mode": {
    "name": "ipython",
    "version": 3
   },
   "file_extension": ".py",
   "mimetype": "text/x-python",
   "name": "python",
   "nbconvert_exporter": "python",
   "pygments_lexer": "ipython3",
   "version": "3.7.3"
  }
 },
 "nbformat": 4,
 "nbformat_minor": 1
}
