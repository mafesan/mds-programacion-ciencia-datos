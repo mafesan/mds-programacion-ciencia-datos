{
 "cells": [
  {
   "cell_type": "markdown",
   "metadata": {},
   "source": [
    "# Ejercicios Programación científica en Python: Numpy"
   ]
  },
  {
   "cell_type": "code",
   "execution_count": 7,
   "metadata": {},
   "outputs": [],
   "source": [
    "# Importamos las librerias que vamos a usar en este NoteBook:\n",
    "import numpy as np\n",
    "# Para las representaciones gráficas de los ejercicios 5 y 6.\n",
    "%matplotlib inline\n",
    "import matplotlib.pyplot as plt"
   ]
  },
  {
   "cell_type": "markdown",
   "metadata": {},
   "source": [
    "**Ejer 1.** A partir del array que se muestra a continuación, generar un nuevo array que contenga la 2º y 4º fila.\n",
    "\n",
    "`[[1,  6, 11],\n",
    " [2,  7, 12],\n",
    " [3,  8, 13],\n",
    " [4,  9, 14],\n",
    " [5, 10, 15]]`"
   ]
  },
  {
   "cell_type": "code",
   "execution_count": 8,
   "metadata": {},
   "outputs": [
    {
     "name": "stdout",
     "output_type": "stream",
     "text": [
      "[[ 2  7 12]\n",
      " [ 4  9 14]]\n"
     ]
    }
   ],
   "source": [
    "mi_array = np.array([[1,  6, 11],\n",
    "                     [2,  7, 12],\n",
    "                     [3,  8, 13],\n",
    "                     [4,  9, 14],\n",
    "                     [5, 10, 15]])\n",
    "nuevo_array = mi_array[[1,3], :]\n",
    "print(nuevo_array)"
   ]
  },
  {
   "cell_type": "markdown",
   "metadata": {},
   "source": [
    "**Ejer 2**. Divide cada columna del array `a` elemento a elemento de acuerdo con el contenido del array `b`:"
   ]
  },
  {
   "cell_type": "code",
   "execution_count": 9,
   "metadata": {},
   "outputs": [
    {
     "name": "stdout",
     "output_type": "stream",
     "text": [
      "[[ 0  1  2  3  4]\n",
      " [ 5  6  7  8  9]\n",
      " [10 11 12 13 14]\n",
      " [15 16 17 18 19]\n",
      " [20 21 22 23 24]]\n",
      "[ 1.  5. 10. 15. 20.]\n"
     ]
    }
   ],
   "source": [
    "a = np.arange(25).reshape(5, 5)\n",
    "b = np.array([1., 5, 10, 15, 20])\n",
    "print(a)\n",
    "print(b)"
   ]
  },
  {
   "cell_type": "code",
   "execution_count": 10,
   "metadata": {},
   "outputs": [
    {
     "name": "stdout",
     "output_type": "stream",
     "text": [
      "[50.         11.          6.          4.33333333  3.5       ]\n"
     ]
    }
   ],
   "source": [
    "# Suma por dimensiones: eje vertical\n",
    "a_sum = a.sum(axis=0, dtype=np.float)\n",
    "result = a_sum/b\n",
    "print(result)"
   ]
  },
  {
   "cell_type": "markdown",
   "metadata": {},
   "source": [
    "**Ejer 3**. Genera un array de dimensión 10 x 3 con números aleatorios en el intervalo [0, 1]. Para cada fila elije el número más cercano a 0.5. Haz uso de la indexación elegante para seleccionar los elementos."
   ]
  },
  {
   "cell_type": "code",
   "execution_count": 11,
   "metadata": {},
   "outputs": [
    {
     "name": "stdout",
     "output_type": "stream",
     "text": [
      "[[0.5507979  0.70814782 0.29090474]\n",
      " [0.51082761 0.89294695 0.89629309]\n",
      " [0.12558531 0.20724288 0.0514672 ]\n",
      " [0.44080984 0.02987621 0.45683322]\n",
      " [0.64914405 0.27848728 0.6762549 ]\n",
      " [0.59086282 0.02398188 0.55885409]\n",
      " [0.25925245 0.4151012  0.28352508]\n",
      " [0.69313792 0.44045372 0.15686774]\n",
      " [0.54464902 0.78031476 0.30636353]\n",
      " [0.22195788 0.38797126 0.93638365]] \r\n",
      "\n",
      "[0 0 1 2 0 2 1 1 0 1]\n"
     ]
    }
   ],
   "source": [
    "np.random.seed(3)  # Fijamos semilla\n",
    "rand_array = np.random.rand(30).reshape(10, 3)\n",
    "print(rand_array, '\\r\\n')\n",
    "\n",
    "value = 0.5\n",
    "idx = np.abs(rand_array - value).argmin(axis=1)\n",
    "print(idx)\n",
    "\n",
    "# Expected: [0, 0, 1, 2, 0, 2, 1, 1, 0, 1]\n",
    "\n"
   ]
  },
  {
   "cell_type": "markdown",
   "metadata": {},
   "source": [
    "**Ejer 4**. Construye una tabla, como la que se muestra en la figura, que agrupa las tablas de multiplicar del 1 al 10, utilizando expresiones generadoras y la biblioteca NumPy. En las columnas está representado el multiplicando y en las filas el multiplicador, de modo que cada celda contiene el valor de multiplicando * multiplicador.\n",
    "![No se muestra la imagen](data/Tabla_multiplicar.png)"
   ]
  },
  {
   "cell_type": "code",
   "execution_count": 12,
   "metadata": {},
   "outputs": [
    {
     "name": "stdout",
     "output_type": "stream",
     "text": [
      "[ 1  2  3  4  5  6  7  8  9 10]\n",
      "[ 2  4  6  8 10 12 14 16 18 20]\n",
      "[ 3  6  9 12 15 18 21 24 27 30]\n",
      "[ 4  8 12 16 20 24 28 32 36 40]\n",
      "[ 5 10 15 20 25 30 35 40 45 50]\n",
      "[ 6 12 18 24 30 36 42 48 54 60]\n",
      "[ 7 14 21 28 35 42 49 56 63 70]\n",
      "[ 8 16 24 32 40 48 56 64 72 80]\n",
      "[ 9 18 27 36 45 54 63 72 81 90]\n",
      "[ 10  20  30  40  50  60  70  80  90 100]\n",
      "\r\n",
      "\n",
      "[[              1  94191431323984  94188632801308 139711330536000\n",
      "   94188632801282               1               4     -4294967268\n",
      "  139712053313184     -4294967295]\n",
      " [              0     34359738372              25  94191431324024\n",
      "  139712098437640  94188632801281     34359738372               0\n",
      "                0               2]\n",
      " [ 94191431324288  94191431324344               2  94191431324168\n",
      "   94191431324208              17  94191405352256     -4294967279\n",
      "   94191405351968    103079215108]\n",
      " [             17  94191405352256 139710991171600  94191431324064\n",
      "     120259084292  94188632801304 139711330622856               1\n",
      "   94191431323968    103079215108]\n",
      " [139712099470952  94191431324248  94188632801308 139712099173128\n",
      "   94188632801281  94191431323952    167503724548 139712058282368\n",
      "   94191431324304              16]\n",
      " [ 94191431324064  94191431324104  94191431324120     34359738372\n",
      "                6  94191431323968  94191431324360 139712053313184\n",
      "                1               0]\n",
      " [              4               1  94191431323952 139712058276640\n",
      "                1     68719476738               2  94191431324536\n",
      "   94191431324576               0]\n",
      " [              0              17  94191405351968               0\n",
      "                0    111669149698              17  94191405352288\n",
      "                0               0]\n",
      " [   120259084290              16  94191431324456  94191431324496\n",
      "   94191431324520     68719476738               6  94191431324360\n",
      "   94191431324616               0]\n",
      " [              0 139711771196390               2               1\n",
      "   94191431324728              28 139711330536000               2\n",
      "  139711771196393               4]]\n"
     ]
    }
   ],
   "source": [
    "multiplicando = np.arange(1,11)\n",
    "multiplicador = np.arange(1,11)\n",
    "\n",
    "tabla = np.empty(shape=(10, 10), dtype=int)\n",
    "for num in multiplicando:\n",
    "    mult_row = np.multiply(num, multiplicador)\n",
    "    print(mult_row)\n",
    "    np.append(tabla, [mult_row], axis=0)\n",
    "    \n",
    "print('\\r\\n')\n",
    "print(tabla)"
   ]
  },
  {
   "cell_type": "markdown",
   "metadata": {},
   "source": [
    "**Ejer 5**. El dataset *president_heights.csv* recoge información sobre la estatura de los presidentes de US. Sabiendo que la información que se almacena en cada columna es:\n",
    "\n",
    "* name: nombre del presidente (2º columna)\n",
    "* height(cm): altura (3º columna)\n",
    "\n",
    "A partir de la lectura de este dataset en un array de NumPy mediante la función *genfromtxt()* ([puede consultar aquí la documentación](https://docs.scipy.org/doc/numpy/reference/generated/numpy.genfromtxt.html)), conteste a las siguientes preguntas:\n",
    "\n",
    "* Calcule la media de las alturas\n",
    "* Calcule la desviación estandar de las alturas\n",
    "* Calcule la mediana\n",
    "* Muestre la altura mínima y la máxima\n",
    "* Muestre las alturas ordenadas de menor a mayor\n",
    "* Represente en un histograma la distribución de alturas de los presidentes de US. Sugerencia: utilice la función plt.hist(), ([puede consultar aquí la documentación](https://matplotlib.org/api/pyplot_api.html))."
   ]
  },
  {
   "cell_type": "code",
   "execution_count": 52,
   "metadata": {},
   "outputs": [],
   "source": [
    "datos = np.genfromtxt('data/president_heights.csv', delimiter=',')"
   ]
  },
  {
   "cell_type": "code",
   "execution_count": 53,
   "metadata": {},
   "outputs": [
    {
     "data": {
      "text/plain": [
       "array([189., 170., 189., 163., 183., 171., 185., 168., 173., 183., 173.,\n",
       "       173., 175., 178., 183., 193., 178., 173., 174., 183., 183., 168.,\n",
       "       170., 178., 182., 180., 183., 178., 182., 188., 175., 179., 183.,\n",
       "       193., 182., 183., 177., 185., 188., 188., 182., 185.])"
      ]
     },
     "execution_count": 53,
     "metadata": {},
     "output_type": "execute_result"
    }
   ],
   "source": [
    "alturas = datos[:,2]\n",
    "alturas = alturas[1:]\n",
    "alturas"
   ]
  },
  {
   "cell_type": "code",
   "execution_count": 55,
   "metadata": {},
   "outputs": [
    {
     "name": "stdout",
     "output_type": "stream",
     "text": [
      "Media:  179.73809523809524\n",
      "Desviación típica:  6.931843442745892\n",
      "Mediana:  182.0\n"
     ]
    }
   ],
   "source": [
    "print(\"Media: \", alturas.mean())\n",
    "print(\"Desviación típica: \", alturas.std())"
   ]
  },
  {
   "cell_type": "code",
   "execution_count": null,
   "metadata": {},
   "outputs": [],
   "source": [
    "print(\"Mediana: \", np.median(alturas))"
   ]
  },
  {
   "cell_type": "code",
   "execution_count": 57,
   "metadata": {},
   "outputs": [
    {
     "name": "stdout",
     "output_type": "stream",
     "text": [
      "Altura mínima:  163.0\n",
      "Altura máxima:  193.0\n"
     ]
    }
   ],
   "source": [
    "print(\"Altura mínima: \", np.min(alturas))\n",
    "print(\"Altura máxima: \", np.max(alturas))"
   ]
  },
  {
   "cell_type": "code",
   "execution_count": 56,
   "metadata": {},
   "outputs": [
    {
     "name": "stdout",
     "output_type": "stream",
     "text": [
      "[163. 168. 168. 170. 170. 171. 173. 173. 173. 173. 174. 175. 175. 177.\n",
      " 178. 178. 178. 178. 179. 180. 182. 182. 182. 182. 183. 183. 183. 183.\n",
      " 183. 183. 183. 183. 185. 185. 185. 188. 188. 188. 189. 189. 193. 193.]\n"
     ]
    }
   ],
   "source": [
    "# Alturas ordenadas de menor a mayor\n",
    "sorted_alturas = np.sort(alturas)\n",
    "print(sorted_alturas)"
   ]
  },
  {
   "cell_type": "code",
   "execution_count": 6,
   "metadata": {},
   "outputs": [
    {
     "data": {
      "text/plain": [
       "<matplotlib.text.Text at 0x10a86137978>"
      ]
     },
     "execution_count": 6,
     "metadata": {},
     "output_type": "execute_result"
    },
    {
     "data": {
      "image/png": "[encoded data removed]",
      "text/plain": [
       "<matplotlib.figure.Figure at 0x10a860daba8>"
      ]
     },
     "metadata": {},
     "output_type": "display_data"
    }
   ],
   "source": [
    "plt.hist(alturas)\n",
    "plt.title(\"Distribución de alturas de los presidentes de EE.UU\")\n",
    "plt.xlabel(\"altura (cm)\")\n",
    "plt.ylabel(\"valor\")"
   ]
  },
  {
   "cell_type": "markdown",
   "metadata": {},
   "source": [
    "**Ejer 6**. El dataset *populations.txt* contiene información sobre la población de liebres, linces y zanahorias en el norte de Canadá durante 20 años. A partir de estos datos ([documentación de la función que se usa para la lectura del fichero](https://docs.scipy.org/doc/numpy/reference/generated/numpy.loadtxt.html)), calcula y muestra por pantalla:\n",
    "\n",
    "* La media y la desviación estandar de cada especie.\n",
    "* ¿En qué año se dió la mayor población de cada especie? \n",
    "* ¿Qué especie tuvo la mayor población en cada año? (Sugerencia: utilizar argsort & indexación elegante)\n",
    "* Los dos años en los que cada especie tuvo la menor población. (Sugerencia: utiizar argsort & indexación elegante)"
   ]
  },
  {
   "cell_type": "code",
   "execution_count": 66,
   "metadata": {},
   "outputs": [
    {
     "data": {
      "text/plain": [
       "<matplotlib.legend.Legend at 0x143e8df7848>"
      ]
     },
     "execution_count": 66,
     "metadata": {},
     "output_type": "execute_result"
    },
    {
     "data": {
      "image/png": "[encoded data removed]",
      "text/plain": [
       "<Figure size 432x288 with 1 Axes>"
      ]
     },
     "metadata": {
      "needs_background": "light"
     },
     "output_type": "display_data"
    }
   ],
   "source": [
    "datos_popul = np.loadtxt('data/populations.txt')\n",
    "año, liebres, linces, zanahorias = datos_popul.T  # separamos las columnas en variables\n",
    "\n",
    "plt.axes([0.2, 0.1, 0.5, 0.8]) \n",
    "plt.plot(año, liebres, año, linces, año, zanahorias) \n",
    "plt.legend(('Liebre', 'Lince', 'Zanahoria'), loc=(1.05, 0.5))"
   ]
  },
  {
   "cell_type": "code",
   "execution_count": 68,
   "metadata": {},
   "outputs": [
    {
     "name": "stdout",
     "output_type": "stream",
     "text": [
      "Media:  34080.95238095238\n",
      "Desviación típica:  20897.906458089667\n",
      "Media:  20166.666666666668\n",
      "Desviación típica:  16254.591536908763\n",
      "Media:  42400.0\n",
      "Desviación típica:  3322.5062255844787\n"
     ]
    }
   ],
   "source": [
    "especies = np.array([liebres, linces, zanahorias])\n",
    "for especie in especies:\n",
    "    print(\"Media: \", especie.mean())\n",
    "    print(\"Desviación típica: \", especie.std())"
   ]
  },
  {
   "cell_type": "code",
   "execution_count": 71,
   "metadata": {},
   "outputs": [
    {
     "name": "stdout",
     "output_type": "stream",
     "text": [
      "[[ 1900. 30000.  4000. 48300.]\n",
      " [ 1901. 47200.  6100. 48200.]\n",
      " [ 1902. 70200.  9800. 41500.]\n",
      " [ 1903. 77400. 35200. 38200.]\n",
      " [ 1904. 36300. 59400. 40600.]\n",
      " [ 1905. 20600. 41700. 39800.]\n",
      " [ 1906. 18100. 19000. 38600.]\n",
      " [ 1907. 21400. 13000. 42300.]\n",
      " [ 1908. 22000.  8300. 44500.]\n",
      " [ 1909. 25400.  9100. 42100.]\n",
      " [ 1910. 27100.  7400. 46000.]\n",
      " [ 1911. 40300.  8000. 46800.]\n",
      " [ 1912. 57000. 12300. 43800.]\n",
      " [ 1913. 76600. 19500. 40900.]\n",
      " [ 1914. 52300. 45700. 39400.]\n",
      " [ 1915. 19500. 51100. 39000.]\n",
      " [ 1916. 11200. 29700. 36700.]\n",
      " [ 1917.  7600. 15800. 41800.]\n",
      " [ 1918. 14600.  9700. 43300.]\n",
      " [ 1919. 16200. 10100. 41300.]\n",
      " [ 1920. 24700.  8600. 47300.]]\n",
      "77400.0\n"
     ]
    }
   ],
   "source": [
    "print(datos_popul)\n",
    "print(np.max(datos_popul[:, 1]))"
   ]
  },
  {
   "cell_type": "markdown",
   "metadata": {},
   "source": [
    "**Ejer 7**. El dataset *airquality.csv* contiene información sobre la calidad del aire de una determinada ciudad para todos los día de los meses comprendidos desde mayo hasta septiembre. Sabiendo que las variables que contiene dicho archivo son:\n",
    "\n",
    "* Ozone: medidas de ozono (2º columna)\n",
    "* Solar.R: medidas de radiación solar (3º columna)\n",
    "* Wind: medidas de viento (4º columna)\n",
    "* Temp: medidas de temperatura (5º columna)\n",
    "* Month: meses (6º columna)\n",
    "* Day: días (7º columna)\n",
    "\n",
    "Conteste a las siguientes preguntas:\n",
    "\n",
    "* Calcula la media de ozono durante esos meses. ¿El resultado obtenido era el esperado? ¿Encuentras alguna explicación que justifique el valor obtenido?\n",
    "* Calcula la media de radiación solar durante esos meses. ¿El resultado obtenido era el esperado? ¿Encuentras alguna explicación que justifique el valor obtenido?\n",
    "* Calcula la media de viento durante esos meses.\n",
    "* Calcula la media de temperatura durante esos meses.\n",
    "* Identifica el mes más caluroso.\n",
    "* Identifica el mes y día que hizo menos viento."
   ]
  },
  {
   "cell_type": "code",
   "execution_count": null,
   "metadata": {
    "collapsed": true,
    "jupyter": {
     "outputs_hidden": true
    }
   },
   "outputs": [],
   "source": []
  }
 ],
 "metadata": {
  "kernelspec": {
   "display_name": "Python 3",
   "language": "python",
   "name": "python3"
  },
  "language_info": {
   "codemirror_mode": {
    "name": "ipython",
    "version": 3
   },
   "file_extension": ".py",
   "mimetype": "text/x-python",
   "name": "python",
   "nbconvert_exporter": "python",
   "pygments_lexer": "ipython3",
   "version": "3.7.3"
  }
 },
 "nbformat": 4,
 "nbformat_minor": 4
}
