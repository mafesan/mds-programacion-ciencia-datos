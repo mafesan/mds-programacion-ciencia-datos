{
 "cells": [
  {
   "cell_type": "markdown",
   "metadata": {
    "colab_type": "text",
    "id": "7RAK7MecPDMH"
   },
   "source": [
    "# Ejercicios Programación científica en Python: Contenedores"
   ]
  },
  {
   "cell_type": "markdown",
   "metadata": {
    "colab_type": "text",
    "id": "X37gvPIxPDMK"
   },
   "source": [
    "**Ejer 1**. Crea una lista que contenga los años desde el año de tu nacimiento hasta cinco años después. Por ejemplo, si tu año de nacimiento fue 1980, la lista será: \n",
    "\n",
    "years_list = [1980, 1981, 1982, 1983, 1984, 1985]\n",
    "\n",
    "Muestra por pantalla el año fue tu tercer cumpleaños. ¿En qué año, de los que tiene la lista, fue tu último cumpleaños?"
   ]
  },
  {
   "cell_type": "code",
   "execution_count": 3,
   "metadata": {
    "colab": {},
    "colab_type": "code",
    "id": "QYlbcLrFPDML"
   },
   "outputs": [
    {
     "name": "stdout",
     "output_type": "stream",
     "text": [
      "[1993, 1994, 1995, 1996, 1997, 1998]\n",
      "Third birthday: 1996\n",
      "Last birthday: 1998\n"
     ]
    }
   ],
   "source": [
    "years_list = list(range(1993, 1999))\n",
    "third_birthday = years_list[3]\n",
    "last_birthday = years_list[-1]\n",
    "print(years_list)\n",
    "print('Third birthday: {}'.format(str(third_birthday)))\n",
    "print('Last birthday: {}'.format(str(last_birthday)))"
   ]
  },
  {
   "cell_type": "markdown",
   "metadata": {
    "colab_type": "text",
    "id": "1yJnhMYyPDMS"
   },
   "source": [
    "**Ejer 2**. Implementa una lista que contenga los siguientes elementos: mozzarella, cinderella, salmonella.\n",
    "+ Pon la primera letra en mayúsculas (método ```capitalize()```)de los elementos que se refieran a nombres de personas e imprime la lista por pantalla. ¿Ha cambiado el elemento en la lista?\n",
    "\n",
    "+ Pon en mayúsculas aquellos elementos que se refieran a quesos (método ```upper()```) e imprime la lista por pantalla.\n",
    "\n",
    "+ Elimina el elemento que hace referencia a una enfermedad e imprime la lista por pantalla."
   ]
  },
  {
   "cell_type": "code",
   "execution_count": 8,
   "metadata": {
    "colab": {},
    "colab_type": "code",
    "id": "XATtoiooPDMT"
   },
   "outputs": [
    {
     "name": "stdout",
     "output_type": "stream",
     "text": [
      "['mozzarella', 'Cinderella', 'salmonella']\n",
      "['MOZZARELLA', 'Cinderella', 'salmonella']\n",
      "['MOZZARELLA', 'Cinderella']\n"
     ]
    }
   ],
   "source": [
    "my_list = ['mozzarella', 'cinderella', 'salmonella']\n",
    "\n",
    "my_list[1] = my_list[1].capitalize()\n",
    "print(my_list)\n",
    "\n",
    "my_list[0] = my_list[0].upper()\n",
    "print(my_list)\n",
    "\n",
    "my_list.pop(2)\n",
    "print(my_list)"
   ]
  },
  {
   "cell_type": "markdown",
   "metadata": {
    "colab_type": "text",
    "id": "mVKF7AjUPDMX"
   },
   "source": [
    "**Ejer 3**. Crea una lista con los elementos: Groucho, Chico y Harpo. Pon en minúsculas el último elemento, inviértelo y luego ponlo todo en mayúsculas."
   ]
  },
  {
   "cell_type": "code",
   "execution_count": 14,
   "metadata": {
    "colab": {},
    "colab_type": "code",
    "id": "PzgHvYIGPDMY"
   },
   "outputs": [
    {
     "name": "stdout",
     "output_type": "stream",
     "text": [
      "harpo\n",
      "opraH\n",
      "OPRAH\n"
     ]
    }
   ],
   "source": [
    "marx_brothers = ['Groucho', 'Chico', 'Harpo']\n",
    "\n",
    "last_element = marx_brothers[-1]\n",
    "print(last_element.lower())\n",
    "\n",
    "last_reversed = last_element[::-1]\n",
    "print(last_reversed)\n",
    "print(last_reversed.upper())\n",
    "\n"
   ]
  },
  {
   "cell_type": "markdown",
   "metadata": {
    "colab_type": "text",
    "id": "Z-G-f6ysPDMa"
   },
   "source": [
    "**Ejer 4**. Haz un diccionario Inglés-Francés que se llame e2f y muéstralo por pantalla. Puedes utilizar algunas de las siguientes traducciones: dog es chien, cat es chat, walrus es morse.\n",
    "+ Imprime por pantalla la traducción en Frances de walrus.\n",
    "+ Haz un diccionario Francés-Inglés denominado f2e a partir de e2f. Utiliza el método items.\n",
    "+ Usando f2e, imprime la traducción en Inglés de chien."
   ]
  },
  {
   "cell_type": "code",
   "execution_count": 1,
   "metadata": {
    "colab": {},
    "colab_type": "code",
    "id": "fVHFXt0QPDMb"
   },
   "outputs": [
    {
     "name": "stdout",
     "output_type": "stream",
     "text": [
      "dog\n"
     ]
    }
   ],
   "source": [
    "e2f = {'dog': 'chien', 'cat': 'chat', 'walrus': 'morse'}\n",
    "\n",
    "f2e = {}\n",
    "for (key, value) in e2f.items():\n",
    "    f2e[value] = key\n",
    "    \n",
    "print(f2e['chien'])"
   ]
  },
  {
   "cell_type": "markdown",
   "metadata": {
    "colab_type": "text",
    "id": "_015Iz26PDMd"
   },
   "source": [
    "**Ejer 5**. Haz un diccionario multinivel denominado life. Utiliza estos nombres para las claves: animals, plants, other. La clave animals hará referencia a otro diccionario con las claves: cats, octopi, emus. La clave cats hará referencia a una lista de strings con los valores: Henri, Grumpy y Lucy. El resto de claves harán referencia a diccionarios vacíos.\n",
    "\n",
    "+ Imprime las claves del nivel más alto de life.\n",
    "+ Imprime las claves de ```life['animals']```.\n",
    "+ Imprime los valores de ```life['animals']['cats']```."
   ]
  },
  {
   "cell_type": "code",
   "execution_count": 2,
   "metadata": {
    "colab": {},
    "colab_type": "code",
    "id": "_v7XOVcdPDMe"
   },
   "outputs": [
    {
     "name": "stdout",
     "output_type": "stream",
     "text": [
      "dict_keys(['animals', 'plants', 'other'])\n",
      "dict_keys(['cats', 'octopi', 'emus'])\n",
      "Henri\n",
      "Grumpy\n",
      "Lucy\n"
     ]
    }
   ],
   "source": [
    "life = {'animals': {'cats': ['Henri', 'Grumpy', 'Lucy'], 'octopi': {}, 'emus': {}}, 'plants': {}, 'other': {}}\n",
    "\n",
    "print(life.keys())\n",
    "print(life['animals'].keys())\n",
    "for value in life['animals']['cats']:\n",
    "    print(value)"
   ]
  },
  {
   "cell_type": "markdown",
   "metadata": {
    "colab_type": "text",
    "id": "uYmb2WH1PDMg"
   },
   "source": [
    "**Ejer 6**. Implementa una lista que contenga los siguientes nombres de personas: Ana, Pedro, Juan, Jesús, Álvaro, María, Marta, Ana, Marcos, Pedro, Álvaro, Marta, Jesús, Juan, Noemí, Alejandro, Paula, María y Ana.\n",
    "+ ¿Cuántos nombres hay en la lista?\n",
    "+ ¿Cuántas veces aparece el nombre de Ana? ¿Y el de Jesús?\n",
    "+ A partir de la lista dada constuir otra que no contenga nombres repetidos"
   ]
  },
  {
   "cell_type": "code",
   "execution_count": 23,
   "metadata": {
    "colab": {},
    "colab_type": "code",
    "id": "CMQfOOhGPDMh"
   },
   "outputs": [
    {
     "name": "stdout",
     "output_type": "stream",
     "text": [
      "Hay 19 nombres en la lista.\n",
      "Ana aparece 3 veces y Jesús aparece 2 veces.\n",
      "['Ana', 'Pedro', 'Juan', 'Jesús', 'Álvaro', 'María', 'Marta', 'Marcos', 'Noemí', 'Alejandro', 'Paula']\n"
     ]
    }
   ],
   "source": [
    "from collections import Counter\n",
    "\n",
    "nombres = ['Ana', 'Pedro', 'Juan', 'Jesús', 'Álvaro', 'María', 'Marta', 'Ana', 'Marcos', 'Pedro', 'Álvaro',\n",
    "           'Marta', 'Jesús', 'Juan', 'Noemí', 'Alejandro', 'Paula', 'María', 'Ana']\n",
    "\n",
    "count_nombres = Counter(nombres)\n",
    "\n",
    "print('Hay {} nombres en la lista.'.format(len(nombres)))\n",
    "print('Ana aparece {} veces y Jesús aparece {} veces.'.format(count_nombres['Ana'], count_nombres['Jesús']))\n",
    "print(list(count_nombres.keys()))\n",
    "\n"
   ]
  },
  {
   "cell_type": "code",
   "execution_count": null,
   "metadata": {},
   "outputs": [],
   "source": []
  },
  {
   "cell_type": "code",
   "execution_count": null,
   "metadata": {},
   "outputs": [],
   "source": []
  },
  {
   "cell_type": "code",
   "execution_count": null,
   "metadata": {},
   "outputs": [],
   "source": []
  }
 ],
 "metadata": {
  "colab": {
   "name": "Sesion_2_Ejercicios.ipynb",
   "provenance": []
  },
  "kernelspec": {
   "display_name": "Python 3",
   "language": "python",
   "name": "python3"
  },
  "language_info": {
   "codemirror_mode": {
    "name": "ipython",
    "version": 3
   },
   "file_extension": ".py",
   "mimetype": "text/x-python",
   "name": "python",
   "nbconvert_exporter": "python",
   "pygments_lexer": "ipython3",
   "version": "3.7.3"
  }
 },
 "nbformat": 4,
 "nbformat_minor": 1
}
